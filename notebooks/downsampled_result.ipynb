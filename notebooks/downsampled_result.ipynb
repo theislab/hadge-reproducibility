{
 "cells": [
  {
   "cell_type": "code",
   "execution_count": 1,
   "id": "e8aa4682",
   "metadata": {
    "vscode": {
     "languageId": "r"
    }
   },
   "outputs": [
    {
     "name": "stderr",
     "output_type": "stream",
     "text": [
      "\n",
      "Attache Paket: 'dplyr'\n",
      "\n",
      "\n",
      "Die folgenden Objekte sind maskiert von 'package:plyr':\n",
      "\n",
      "    arrange, count, desc, failwith, id, mutate, rename, summarise,\n",
      "    summarize\n",
      "\n",
      "\n",
      "Die folgenden Objekte sind maskiert von 'package:data.table':\n",
      "\n",
      "    between, first, last\n",
      "\n",
      "\n",
      "Die folgenden Objekte sind maskiert von 'package:stats':\n",
      "\n",
      "    filter, lag\n",
      "\n",
      "\n",
      "Die folgenden Objekte sind maskiert von 'package:base':\n",
      "\n",
      "    intersect, setdiff, setequal, union\n",
      "\n",
      "\n",
      "Lade n\"otiges Paket: SeuratObject\n",
      "\n",
      "Lade n\"otiges Paket: sp\n",
      "\n",
      "'SeuratObject' was built under R 4.3.1 but the current version is\n",
      "4.3.2; it is recomended that you reinstall 'SeuratObject' as the ABI\n",
      "for R may have changed\n",
      "\n",
      "'SeuratObject' was built with package 'Matrix' 1.6.3 but the current\n",
      "version is 1.6.4; it is recomended that you reinstall 'SeuratObject' as\n",
      "the ABI for 'Matrix' may have changed\n",
      "\n",
      "\n",
      "Attache Paket: 'SeuratObject'\n",
      "\n",
      "\n",
      "Das folgende Objekt ist maskiert 'package:base':\n",
      "\n",
      "    intersect\n",
      "\n",
      "\n"
     ]
    }
   ],
   "source": [
    "library(data.table)\n",
    "library(plyr)\n",
    "library(dplyr)\n",
    "library(Seurat)\n",
    "library(ggplot2)\n",
    "library(repr)\n",
    "library(stringr)\n"
   ]
  },
  {
   "cell_type": "code",
   "execution_count": 2,
   "id": "7091962e",
   "metadata": {
    "vscode": {
     "languageId": "r"
    }
   },
   "outputs": [
    {
     "name": "stderr",
     "output_type": "stream",
     "text": [
      "Registering fonts with R\n",
      "\n",
      "Scanning ttf files in /Library/Fonts ...\n",
      "\n",
      "Extracting .afm files from .ttf files...\n",
      "\n",
      "/System/Library/Fonts/Supplemental/Arial Unicode.ttf\n",
      " : ArialUnicodeMS already registered in fonts database. Skipping.\n",
      "\n",
      "/Library/Fonts/FontsFree-Net-MYRIADPRO-REGULAR.ttf\n",
      " : MyriadPro-Regular already registered in fonts database. Skipping.\n",
      "\n",
      "Found FontName for 0 fonts.\n",
      "\n",
      "Scanning afm files in /Library/Frameworks/R.framework/Versions/4.3-arm64/Resources/library/extrafontdb/metrics\n",
      "\n",
      "Arial Unicode MS already registered with pdfFont().\n",
      "\n",
      "Myriad Pro already registered with pdfFont().\n",
      "\n",
      "Arial Unicode MS already registered with postscriptFont().\n",
      "\n",
      "Myriad Pro already registered with postscriptFont().\n",
      "\n"
     ]
    },
    {
     "data": {
      "text/html": [
       "<style>\n",
       ".list-inline {list-style: none; margin:0; padding: 0}\n",
       ".list-inline>li {display: inline-block}\n",
       ".list-inline>li:not(:last-child)::after {content: \"\\00b7\"; padding: 0 .5ex}\n",
       "</style>\n",
       "<ol class=list-inline><li>'Arial Unicode MS'</li><li>'Myriad Pro'</li></ol>\n"
      ],
      "text/latex": [
       "\\begin{enumerate*}\n",
       "\\item 'Arial Unicode MS'\n",
       "\\item 'Myriad Pro'\n",
       "\\end{enumerate*}\n"
      ],
      "text/markdown": [
       "1. 'Arial Unicode MS'\n",
       "2. 'Myriad Pro'\n",
       "\n",
       "\n"
      ],
      "text/plain": [
       "[1] \"Arial Unicode MS\" \"Myriad Pro\"      "
      ]
     },
     "metadata": {},
     "output_type": "display_data"
    }
   ],
   "source": [
    "library(extrafont)\n",
    "font_import(paths = \"/Library/Fonts\", prompt = FALSE)\n",
    "loadfonts()\n",
    "fonts()\n"
   ]
  },
  {
   "cell_type": "code",
   "execution_count": 3,
   "id": "1a4a6971",
   "metadata": {
    "vscode": {
     "languageId": "r"
    }
   },
   "outputs": [],
   "source": [
    "plot_theme <- function() {\n",
    "    theme_bw() + theme(\n",
    "        panel.border = element_blank(),\n",
    "        panel.grid.major = element_blank(),\n",
    "        panel.grid.minor = element_blank(),\n",
    "        text = element_text(size = 24, family = \"Myriad Pro\"),\n",
    "        axis.text = element_text(size = 26),\n",
    "        axis.text.x = element_text(vjust = 0.5, angle = 45),\n",
    "        axis.title = element_text(size = 30),\n",
    "        legend.text = element_text(size = 24),\n",
    "        legend.title = element_text(size = 26),\n",
    "        legend.key.size = unit(0.8, \"cm\"),\n",
    "        plot.title = element_text(size = 30, hjust = 0.5),\n",
    "        axis.line = element_line(linewidth = 0.7, colour = \"black\"),\n",
    "        plot.margin = margin(\n",
    "            t = 1,\n",
    "            b = 0.1,\n",
    "            r = 0.3,\n",
    "            l = 0.6,\n",
    "            \"cm\"\n",
    "        )\n",
    "    )\n",
    "}\n",
    "options(repr.plot.width = 10, repr.plot.height = 9)\n"
   ]
  },
  {
   "cell_type": "code",
   "execution_count": 4,
   "metadata": {
    "vscode": {
     "languageId": "r"
    }
   },
   "outputs": [],
   "source": [
    "prepare_df_for_plot <- function(assignment) {\n",
    "    compare <- fread(assignment, na.strings = \"\")\n",
    "    summary_compare <- melt(\n",
    "        compare,\n",
    "        id.vars = \"Barcode\",\n",
    "        variable.name = \"Dataset\",\n",
    "        value.name = \"Assignment\"\n",
    "    )\n",
    "    summary_compare <- na.omit(summary_compare)\n",
    "    summary_compare <- as.data.frame(table(summary_compare[, -1]))\n",
    "    colnames(summary_compare)[3] <- \"Count\"\n",
    "    summary_compare <-\n",
    "        summary_compare[order(summary_compare$Assignment, decreasing = T), ]\n",
    "    summary_compare$Percentage <- 0\n",
    "    summary_compare$Dataset <-\n",
    "        gsub(\" Dataset\", \"\", summary_compare$Dataset)\n",
    "    summary_compare$Dataset <-\n",
    "        factor(summary_compare$Dataset, levels = c(\"Full\", paste0(\"Hash45\", 1:6, \" Downsampled\")))\n",
    "    summary_compare <- summary_compare %>%\n",
    "        group_by(Dataset) %>%\n",
    "        mutate(Percentage = round(Count / sum(Count) * 100, 2))\n",
    "    summary_compare_cumsum <-\n",
    "        ddply(summary_compare,\n",
    "            \"Dataset\",\n",
    "            transform,\n",
    "            label_ypos = cumsum(Percentage) - 0.5 * Percentage\n",
    "        )\n",
    "    summary_compare_cumsum <-\n",
    "        summary_compare_cumsum[summary_compare_cumsum$Count != 0, ]\n",
    "    summary_compare_cumsum\n",
    "}\n"
   ]
  },
  {
   "cell_type": "code",
   "execution_count": 5,
   "id": "aff52bfd",
   "metadata": {
    "vscode": {
     "languageId": "r"
    }
   },
   "outputs": [
    {
     "data": {
      "text/html": [
       "<style>\n",
       ".list-inline {list-style: none; margin:0; padding: 0}\n",
       ".list-inline>li {display: inline-block}\n",
       ".list-inline>li:not(:last-child)::after {content: \"\\00b7\"; padding: 0 .5ex}\n",
       "</style>\n",
       "<ol class=list-inline><li>'downsample_30_run1/downsampled_compare_freemuxlet_all.csv'</li><li>'downsample_30_run1/downsampled_compare_scsplit_all.csv'</li><li>'downsample_30_run1/downsampled_compare_souporcell_all.csv'</li><li>'downsample_30_run1/downsampled_compare_vireo_all.csv'</li><li>'downsample_30_run2/downsampled_compare_freemuxlet_all.csv'</li><li>'downsample_30_run2/downsampled_compare_scsplit_all.csv'</li><li>'downsample_30_run2/downsampled_compare_souporcell_all.csv'</li><li>'downsample_30_run2/downsampled_compare_vireo_all.csv'</li><li>'downsample_30_run3/downsampled_compare_freemuxlet_all.csv'</li><li>'downsample_30_run3/downsampled_compare_scsplit_all.csv'</li><li>'downsample_30_run3/downsampled_compare_souporcell_all.csv'</li><li>'downsample_30_run3/downsampled_compare_vireo_all.csv'</li><li>'downsample_50_run1/downsampled_compare_freemuxlet_all.csv'</li><li>'downsample_50_run1/downsampled_compare_scsplit_all.csv'</li><li>'downsample_50_run1/downsampled_compare_souporcell_all.csv'</li><li>'downsample_50_run1/downsampled_compare_vireo_all.csv'</li><li>'downsample_50_run2/downsampled_compare_freemuxlet_all.csv'</li><li>'downsample_50_run2/downsampled_compare_scsplit_all.csv'</li><li>'downsample_50_run2/downsampled_compare_souporcell_all.csv'</li><li>'downsample_50_run2/downsampled_compare_vireo_all.csv'</li><li>'downsample_50_run3/downsampled_compare_freemuxlet_all.csv'</li><li>'downsample_50_run3/downsampled_compare_scsplit_all.csv'</li><li>'downsample_50_run3/downsampled_compare_souporcell_all.csv'</li><li>'downsample_50_run3/downsampled_compare_vireo_all.csv'</li></ol>\n"
      ],
      "text/latex": [
       "\\begin{enumerate*}\n",
       "\\item 'downsample\\_30\\_run1/downsampled\\_compare\\_freemuxlet\\_all.csv'\n",
       "\\item 'downsample\\_30\\_run1/downsampled\\_compare\\_scsplit\\_all.csv'\n",
       "\\item 'downsample\\_30\\_run1/downsampled\\_compare\\_souporcell\\_all.csv'\n",
       "\\item 'downsample\\_30\\_run1/downsampled\\_compare\\_vireo\\_all.csv'\n",
       "\\item 'downsample\\_30\\_run2/downsampled\\_compare\\_freemuxlet\\_all.csv'\n",
       "\\item 'downsample\\_30\\_run2/downsampled\\_compare\\_scsplit\\_all.csv'\n",
       "\\item 'downsample\\_30\\_run2/downsampled\\_compare\\_souporcell\\_all.csv'\n",
       "\\item 'downsample\\_30\\_run2/downsampled\\_compare\\_vireo\\_all.csv'\n",
       "\\item 'downsample\\_30\\_run3/downsampled\\_compare\\_freemuxlet\\_all.csv'\n",
       "\\item 'downsample\\_30\\_run3/downsampled\\_compare\\_scsplit\\_all.csv'\n",
       "\\item 'downsample\\_30\\_run3/downsampled\\_compare\\_souporcell\\_all.csv'\n",
       "\\item 'downsample\\_30\\_run3/downsampled\\_compare\\_vireo\\_all.csv'\n",
       "\\item 'downsample\\_50\\_run1/downsampled\\_compare\\_freemuxlet\\_all.csv'\n",
       "\\item 'downsample\\_50\\_run1/downsampled\\_compare\\_scsplit\\_all.csv'\n",
       "\\item 'downsample\\_50\\_run1/downsampled\\_compare\\_souporcell\\_all.csv'\n",
       "\\item 'downsample\\_50\\_run1/downsampled\\_compare\\_vireo\\_all.csv'\n",
       "\\item 'downsample\\_50\\_run2/downsampled\\_compare\\_freemuxlet\\_all.csv'\n",
       "\\item 'downsample\\_50\\_run2/downsampled\\_compare\\_scsplit\\_all.csv'\n",
       "\\item 'downsample\\_50\\_run2/downsampled\\_compare\\_souporcell\\_all.csv'\n",
       "\\item 'downsample\\_50\\_run2/downsampled\\_compare\\_vireo\\_all.csv'\n",
       "\\item 'downsample\\_50\\_run3/downsampled\\_compare\\_freemuxlet\\_all.csv'\n",
       "\\item 'downsample\\_50\\_run3/downsampled\\_compare\\_scsplit\\_all.csv'\n",
       "\\item 'downsample\\_50\\_run3/downsampled\\_compare\\_souporcell\\_all.csv'\n",
       "\\item 'downsample\\_50\\_run3/downsampled\\_compare\\_vireo\\_all.csv'\n",
       "\\end{enumerate*}\n"
      ],
      "text/markdown": [
       "1. 'downsample_30_run1/downsampled_compare_freemuxlet_all.csv'\n",
       "2. 'downsample_30_run1/downsampled_compare_scsplit_all.csv'\n",
       "3. 'downsample_30_run1/downsampled_compare_souporcell_all.csv'\n",
       "4. 'downsample_30_run1/downsampled_compare_vireo_all.csv'\n",
       "5. 'downsample_30_run2/downsampled_compare_freemuxlet_all.csv'\n",
       "6. 'downsample_30_run2/downsampled_compare_scsplit_all.csv'\n",
       "7. 'downsample_30_run2/downsampled_compare_souporcell_all.csv'\n",
       "8. 'downsample_30_run2/downsampled_compare_vireo_all.csv'\n",
       "9. 'downsample_30_run3/downsampled_compare_freemuxlet_all.csv'\n",
       "10. 'downsample_30_run3/downsampled_compare_scsplit_all.csv'\n",
       "11. 'downsample_30_run3/downsampled_compare_souporcell_all.csv'\n",
       "12. 'downsample_30_run3/downsampled_compare_vireo_all.csv'\n",
       "13. 'downsample_50_run1/downsampled_compare_freemuxlet_all.csv'\n",
       "14. 'downsample_50_run1/downsampled_compare_scsplit_all.csv'\n",
       "15. 'downsample_50_run1/downsampled_compare_souporcell_all.csv'\n",
       "16. 'downsample_50_run1/downsampled_compare_vireo_all.csv'\n",
       "17. 'downsample_50_run2/downsampled_compare_freemuxlet_all.csv'\n",
       "18. 'downsample_50_run2/downsampled_compare_scsplit_all.csv'\n",
       "19. 'downsample_50_run2/downsampled_compare_souporcell_all.csv'\n",
       "20. 'downsample_50_run2/downsampled_compare_vireo_all.csv'\n",
       "21. 'downsample_50_run3/downsampled_compare_freemuxlet_all.csv'\n",
       "22. 'downsample_50_run3/downsampled_compare_scsplit_all.csv'\n",
       "23. 'downsample_50_run3/downsampled_compare_souporcell_all.csv'\n",
       "24. 'downsample_50_run3/downsampled_compare_vireo_all.csv'\n",
       "\n",
       "\n"
      ],
      "text/plain": [
       " [1] \"downsample_30_run1/downsampled_compare_freemuxlet_all.csv\"\n",
       " [2] \"downsample_30_run1/downsampled_compare_scsplit_all.csv\"   \n",
       " [3] \"downsample_30_run1/downsampled_compare_souporcell_all.csv\"\n",
       " [4] \"downsample_30_run1/downsampled_compare_vireo_all.csv\"     \n",
       " [5] \"downsample_30_run2/downsampled_compare_freemuxlet_all.csv\"\n",
       " [6] \"downsample_30_run2/downsampled_compare_scsplit_all.csv\"   \n",
       " [7] \"downsample_30_run2/downsampled_compare_souporcell_all.csv\"\n",
       " [8] \"downsample_30_run2/downsampled_compare_vireo_all.csv\"     \n",
       " [9] \"downsample_30_run3/downsampled_compare_freemuxlet_all.csv\"\n",
       "[10] \"downsample_30_run3/downsampled_compare_scsplit_all.csv\"   \n",
       "[11] \"downsample_30_run3/downsampled_compare_souporcell_all.csv\"\n",
       "[12] \"downsample_30_run3/downsampled_compare_vireo_all.csv\"     \n",
       "[13] \"downsample_50_run1/downsampled_compare_freemuxlet_all.csv\"\n",
       "[14] \"downsample_50_run1/downsampled_compare_scsplit_all.csv\"   \n",
       "[15] \"downsample_50_run1/downsampled_compare_souporcell_all.csv\"\n",
       "[16] \"downsample_50_run1/downsampled_compare_vireo_all.csv\"     \n",
       "[17] \"downsample_50_run2/downsampled_compare_freemuxlet_all.csv\"\n",
       "[18] \"downsample_50_run2/downsampled_compare_scsplit_all.csv\"   \n",
       "[19] \"downsample_50_run2/downsampled_compare_souporcell_all.csv\"\n",
       "[20] \"downsample_50_run2/downsampled_compare_vireo_all.csv\"     \n",
       "[21] \"downsample_50_run3/downsampled_compare_freemuxlet_all.csv\"\n",
       "[22] \"downsample_50_run3/downsampled_compare_scsplit_all.csv\"   \n",
       "[23] \"downsample_50_run3/downsampled_compare_souporcell_all.csv\"\n",
       "[24] \"downsample_50_run3/downsampled_compare_vireo_all.csv\"     "
      ]
     },
     "metadata": {},
     "output_type": "display_data"
    }
   ],
   "source": [
    "downsampled_assignment <- list.files(\n",
    "    path = \"../data\",\n",
    "    pattern = \"downsampled_compare_*\",\n",
    "    all.files = TRUE,\n",
    "    recursive = TRUE\n",
    ")\n",
    "downsampled_assignment\n"
   ]
  },
  {
   "cell_type": "code",
   "execution_count": 6,
   "id": "a388d639",
   "metadata": {
    "vscode": {
     "languageId": "r"
    }
   },
   "outputs": [
    {
     "name": "stdout",
     "output_type": "stream",
     "text": [
      "[1] \"compare_hash451_run1_pct3\"\n",
      "[1] \"compare_hash452_run1_pct3\"\n",
      "[1] \"compare_hash453_run1_pct3\"\n",
      "[1] \"compare_hash454_run1_pct3\"\n",
      "[1] \"compare_hash455_run1_pct3\"\n",
      "[1] \"compare_hash456_run1_pct3\"\n",
      "[1] \"compare_hash451_run1_pct5\"\n",
      "[1] \"compare_hash452_run1_pct5\"\n",
      "[1] \"compare_hash453_run1_pct5\"\n",
      "[1] \"compare_hash454_run1_pct5\"\n",
      "[1] \"compare_hash455_run1_pct5\"\n",
      "[1] \"compare_hash456_run1_pct5\"\n",
      "[1] \"compare_hash451_run2_pct3\"\n",
      "[1] \"compare_hash452_run2_pct3\"\n",
      "[1] \"compare_hash453_run2_pct3\"\n",
      "[1] \"compare_hash454_run2_pct3\"\n",
      "[1] \"compare_hash455_run2_pct3\"\n",
      "[1] \"compare_hash456_run2_pct3\"\n",
      "[1] \"compare_hash451_run2_pct5\"\n",
      "[1] \"compare_hash452_run2_pct5\"\n",
      "[1] \"compare_hash453_run2_pct5\"\n",
      "[1] \"compare_hash454_run2_pct5\"\n",
      "[1] \"compare_hash455_run2_pct5\"\n",
      "[1] \"compare_hash456_run2_pct5\"\n",
      "[1] \"compare_hash451_run3_pct3\"\n",
      "[1] \"compare_hash452_run3_pct3\"\n",
      "[1] \"compare_hash453_run3_pct3\"\n",
      "[1] \"compare_hash454_run3_pct3\"\n",
      "[1] \"compare_hash455_run3_pct3\"\n",
      "[1] \"compare_hash456_run3_pct3\"\n",
      "[1] \"compare_hash451_run3_pct5\"\n",
      "[1] \"compare_hash452_run3_pct5\"\n",
      "[1] \"compare_hash453_run3_pct5\"\n",
      "[1] \"compare_hash454_run3_pct5\"\n",
      "[1] \"compare_hash455_run3_pct5\"\n",
      "[1] \"compare_hash456_run3_pct5\"\n"
     ]
    }
   ],
   "source": [
    "for (run in 1:3) {\n",
    "  for (downsample_pct in c(3, 5)) {\n",
    "    for (i in 1:6) {\n",
    "      downsampled_assignment <- list.files(\n",
    "        path = paste0(\"../data/downsample_\", downsample_pct, \"0_run\", run),\n",
    "        pattern = \"downsampled_compare_*\",\n",
    "        all.files = TRUE,\n",
    "        recursive = TRUE\n",
    "      )\n",
    "      downsampled_assignment\n",
    "      dir <- paste0(\"../data/downsample_\", downsample_pct, \"0_run\", run, \"/hash45\", i)\n",
    "      downsampled_barcodes <-\n",
    "        fread(\n",
    "          paste0(\n",
    "            dir, \"/downsampled_Hash45\", i,\n",
    "            \"_TotalSeqA_0.\", downsample_pct, \"_seed\", run, \".tsv\"\n",
    "          ),\n",
    "          header = FALSE\n",
    "        )$V1\n",
    "      df_list <- lapply(downsampled_assignment, function(f) {\n",
    "        x <-\n",
    "          read.csv(paste0(\"../data/downsample_\", downsample_pct, \"0_run\", run, \"/\", f), na.strings = \"\")[, c(1, 2, i + 2)]\n",
    "        colnames(x)[3] <- gsub(\"downsampled_compare_\", \"\", f)\n",
    "        colnames(x)[3] <- gsub(\"_all.csv\", \"\", colnames(x)[3])\n",
    "        colnames(x)[3] <- gsub(\"/\", \"_\", colnames(x)[3])\n",
    "        return(x)\n",
    "      })\n",
    "      compare <- do.call(cbind, df_list)\n",
    "      compare <- compare[, !duplicated(colnames(compare))]\n",
    "      compare <- compare[compare$Barcode %in% downsampled_barcodes, ]\n",
    "      assign(paste0(\"compare_hash45\", i, \"_run\", run, \"_pct\", downsample_pct), compare)\n",
    "      print(paste0(\"compare_hash45\", i, \"_run\", run, \"_pct\", downsample_pct))\n",
    "    }\n",
    "  }\n",
    "}\n"
   ]
  },
  {
   "cell_type": "code",
   "execution_count": 7,
   "id": "4a88d38d",
   "metadata": {
    "vscode": {
     "languageId": "r"
    }
   },
   "outputs": [
    {
     "name": "stderr",
     "output_type": "stream",
     "text": [
      "Warning message in melt(comparison_results, id.vars = \"Barcode\", measure.vars = 3:6, :\n",
      "\"The melt generic in data.table has been passed a data.frame and will attempt to redirect to the relevant reshape2 method; please note that reshape2 is deprecated, and this redirection is now deprecated as well. To continue using melt methods from reshape2 while both libraries are attached, e.g. melt.list, you can prepend the namespace like reshape2::melt(comparison_results). In the next version, this warning will become an error.\"\n",
      "Warning message in melt(comparison_results, id.vars = \"Barcode\", measure.vars = 3:6, :\n",
      "\"The melt generic in data.table has been passed a data.frame and will attempt to redirect to the relevant reshape2 method; please note that reshape2 is deprecated, and this redirection is now deprecated as well. To continue using melt methods from reshape2 while both libraries are attached, e.g. melt.list, you can prepend the namespace like reshape2::melt(comparison_results). In the next version, this warning will become an error.\"\n",
      "Warning message in melt(comparison_results, id.vars = \"Barcode\", measure.vars = 3:6, :\n",
      "\"The melt generic in data.table has been passed a data.frame and will attempt to redirect to the relevant reshape2 method; please note that reshape2 is deprecated, and this redirection is now deprecated as well. To continue using melt methods from reshape2 while both libraries are attached, e.g. melt.list, you can prepend the namespace like reshape2::melt(comparison_results). In the next version, this warning will become an error.\"\n",
      "Warning message in melt(comparison_results, id.vars = \"Barcode\", measure.vars = 3:6, :\n",
      "\"The melt generic in data.table has been passed a data.frame and will attempt to redirect to the relevant reshape2 method; please note that reshape2 is deprecated, and this redirection is now deprecated as well. To continue using melt methods from reshape2 while both libraries are attached, e.g. melt.list, you can prepend the namespace like reshape2::melt(comparison_results). In the next version, this warning will become an error.\"\n",
      "Warning message in melt(comparison_results, id.vars = \"Barcode\", measure.vars = 3:6, :\n",
      "\"The melt generic in data.table has been passed a data.frame and will attempt to redirect to the relevant reshape2 method; please note that reshape2 is deprecated, and this redirection is now deprecated as well. To continue using melt methods from reshape2 while both libraries are attached, e.g. melt.list, you can prepend the namespace like reshape2::melt(comparison_results). In the next version, this warning will become an error.\"\n",
      "Warning message in melt(comparison_results, id.vars = \"Barcode\", measure.vars = 3:6, :\n",
      "\"The melt generic in data.table has been passed a data.frame and will attempt to redirect to the relevant reshape2 method; please note that reshape2 is deprecated, and this redirection is now deprecated as well. To continue using melt methods from reshape2 while both libraries are attached, e.g. melt.list, you can prepend the namespace like reshape2::melt(comparison_results). In the next version, this warning will become an error.\"\n",
      "Warning message in melt(comparison_results, id.vars = \"Barcode\", measure.vars = 3:6, :\n",
      "\"The melt generic in data.table has been passed a data.frame and will attempt to redirect to the relevant reshape2 method; please note that reshape2 is deprecated, and this redirection is now deprecated as well. To continue using melt methods from reshape2 while both libraries are attached, e.g. melt.list, you can prepend the namespace like reshape2::melt(comparison_results). In the next version, this warning will become an error.\"\n",
      "Warning message in melt(comparison_results, id.vars = \"Barcode\", measure.vars = 3:6, :\n",
      "\"The melt generic in data.table has been passed a data.frame and will attempt to redirect to the relevant reshape2 method; please note that reshape2 is deprecated, and this redirection is now deprecated as well. To continue using melt methods from reshape2 while both libraries are attached, e.g. melt.list, you can prepend the namespace like reshape2::melt(comparison_results). In the next version, this warning will become an error.\"\n",
      "Warning message in melt(comparison_results, id.vars = \"Barcode\", measure.vars = 3:6, :\n",
      "\"The melt generic in data.table has been passed a data.frame and will attempt to redirect to the relevant reshape2 method; please note that reshape2 is deprecated, and this redirection is now deprecated as well. To continue using melt methods from reshape2 while both libraries are attached, e.g. melt.list, you can prepend the namespace like reshape2::melt(comparison_results). In the next version, this warning will become an error.\"\n",
      "Warning message in melt(comparison_results, id.vars = \"Barcode\", measure.vars = 3:6, :\n",
      "\"The melt generic in data.table has been passed a data.frame and will attempt to redirect to the relevant reshape2 method; please note that reshape2 is deprecated, and this redirection is now deprecated as well. To continue using melt methods from reshape2 while both libraries are attached, e.g. melt.list, you can prepend the namespace like reshape2::melt(comparison_results). In the next version, this warning will become an error.\"\n",
      "Warning message in melt(comparison_results, id.vars = \"Barcode\", measure.vars = 3:6, :\n",
      "\"The melt generic in data.table has been passed a data.frame and will attempt to redirect to the relevant reshape2 method; please note that reshape2 is deprecated, and this redirection is now deprecated as well. To continue using melt methods from reshape2 while both libraries are attached, e.g. melt.list, you can prepend the namespace like reshape2::melt(comparison_results). In the next version, this warning will become an error.\"\n",
      "Warning message in melt(comparison_results, id.vars = \"Barcode\", measure.vars = 3:6, :\n",
      "\"The melt generic in data.table has been passed a data.frame and will attempt to redirect to the relevant reshape2 method; please note that reshape2 is deprecated, and this redirection is now deprecated as well. To continue using melt methods from reshape2 while both libraries are attached, e.g. melt.list, you can prepend the namespace like reshape2::melt(comparison_results). In the next version, this warning will become an error.\"\n",
      "Warning message in melt(comparison_results, id.vars = \"Barcode\", measure.vars = 3:6, :\n",
      "\"The melt generic in data.table has been passed a data.frame and will attempt to redirect to the relevant reshape2 method; please note that reshape2 is deprecated, and this redirection is now deprecated as well. To continue using melt methods from reshape2 while both libraries are attached, e.g. melt.list, you can prepend the namespace like reshape2::melt(comparison_results). In the next version, this warning will become an error.\"\n",
      "Warning message in melt(comparison_results, id.vars = \"Barcode\", measure.vars = 3:6, :\n",
      "\"The melt generic in data.table has been passed a data.frame and will attempt to redirect to the relevant reshape2 method; please note that reshape2 is deprecated, and this redirection is now deprecated as well. To continue using melt methods from reshape2 while both libraries are attached, e.g. melt.list, you can prepend the namespace like reshape2::melt(comparison_results). In the next version, this warning will become an error.\"\n",
      "Warning message in melt(comparison_results, id.vars = \"Barcode\", measure.vars = 3:6, :\n",
      "\"The melt generic in data.table has been passed a data.frame and will attempt to redirect to the relevant reshape2 method; please note that reshape2 is deprecated, and this redirection is now deprecated as well. To continue using melt methods from reshape2 while both libraries are attached, e.g. melt.list, you can prepend the namespace like reshape2::melt(comparison_results). In the next version, this warning will become an error.\"\n",
      "Warning message in melt(comparison_results, id.vars = \"Barcode\", measure.vars = 3:6, :\n",
      "\"The melt generic in data.table has been passed a data.frame and will attempt to redirect to the relevant reshape2 method; please note that reshape2 is deprecated, and this redirection is now deprecated as well. To continue using melt methods from reshape2 while both libraries are attached, e.g. melt.list, you can prepend the namespace like reshape2::melt(comparison_results). In the next version, this warning will become an error.\"\n",
      "Warning message in melt(comparison_results, id.vars = \"Barcode\", measure.vars = 3:6, :\n",
      "\"The melt generic in data.table has been passed a data.frame and will attempt to redirect to the relevant reshape2 method; please note that reshape2 is deprecated, and this redirection is now deprecated as well. To continue using melt methods from reshape2 while both libraries are attached, e.g. melt.list, you can prepend the namespace like reshape2::melt(comparison_results). In the next version, this warning will become an error.\"\n",
      "Warning message in melt(comparison_results, id.vars = \"Barcode\", measure.vars = 3:6, :\n",
      "\"The melt generic in data.table has been passed a data.frame and will attempt to redirect to the relevant reshape2 method; please note that reshape2 is deprecated, and this redirection is now deprecated as well. To continue using melt methods from reshape2 while both libraries are attached, e.g. melt.list, you can prepend the namespace like reshape2::melt(comparison_results). In the next version, this warning will become an error.\"\n",
      "Warning message in melt(comparison_results, id.vars = \"Barcode\", measure.vars = 3:6, :\n",
      "\"The melt generic in data.table has been passed a data.frame and will attempt to redirect to the relevant reshape2 method; please note that reshape2 is deprecated, and this redirection is now deprecated as well. To continue using melt methods from reshape2 while both libraries are attached, e.g. melt.list, you can prepend the namespace like reshape2::melt(comparison_results). In the next version, this warning will become an error.\"\n",
      "Warning message in melt(comparison_results, id.vars = \"Barcode\", measure.vars = 3:6, :\n",
      "\"The melt generic in data.table has been passed a data.frame and will attempt to redirect to the relevant reshape2 method; please note that reshape2 is deprecated, and this redirection is now deprecated as well. To continue using melt methods from reshape2 while both libraries are attached, e.g. melt.list, you can prepend the namespace like reshape2::melt(comparison_results). In the next version, this warning will become an error.\"\n",
      "Warning message in melt(comparison_results, id.vars = \"Barcode\", measure.vars = 3:6, :\n",
      "\"The melt generic in data.table has been passed a data.frame and will attempt to redirect to the relevant reshape2 method; please note that reshape2 is deprecated, and this redirection is now deprecated as well. To continue using melt methods from reshape2 while both libraries are attached, e.g. melt.list, you can prepend the namespace like reshape2::melt(comparison_results). In the next version, this warning will become an error.\"\n",
      "Warning message in melt(comparison_results, id.vars = \"Barcode\", measure.vars = 3:6, :\n",
      "\"The melt generic in data.table has been passed a data.frame and will attempt to redirect to the relevant reshape2 method; please note that reshape2 is deprecated, and this redirection is now deprecated as well. To continue using melt methods from reshape2 while both libraries are attached, e.g. melt.list, you can prepend the namespace like reshape2::melt(comparison_results). In the next version, this warning will become an error.\"\n",
      "Warning message in melt(comparison_results, id.vars = \"Barcode\", measure.vars = 3:6, :\n",
      "\"The melt generic in data.table has been passed a data.frame and will attempt to redirect to the relevant reshape2 method; please note that reshape2 is deprecated, and this redirection is now deprecated as well. To continue using melt methods from reshape2 while both libraries are attached, e.g. melt.list, you can prepend the namespace like reshape2::melt(comparison_results). In the next version, this warning will become an error.\"\n",
      "Warning message in melt(comparison_results, id.vars = \"Barcode\", measure.vars = 3:6, :\n",
      "\"The melt generic in data.table has been passed a data.frame and will attempt to redirect to the relevant reshape2 method; please note that reshape2 is deprecated, and this redirection is now deprecated as well. To continue using melt methods from reshape2 while both libraries are attached, e.g. melt.list, you can prepend the namespace like reshape2::melt(comparison_results). In the next version, this warning will become an error.\"\n",
      "Warning message in melt(comparison_results, id.vars = \"Barcode\", measure.vars = 3:6, :\n",
      "\"The melt generic in data.table has been passed a data.frame and will attempt to redirect to the relevant reshape2 method; please note that reshape2 is deprecated, and this redirection is now deprecated as well. To continue using melt methods from reshape2 while both libraries are attached, e.g. melt.list, you can prepend the namespace like reshape2::melt(comparison_results). In the next version, this warning will become an error.\"\n",
      "Warning message in melt(comparison_results, id.vars = \"Barcode\", measure.vars = 3:6, :\n",
      "\"The melt generic in data.table has been passed a data.frame and will attempt to redirect to the relevant reshape2 method; please note that reshape2 is deprecated, and this redirection is now deprecated as well. To continue using melt methods from reshape2 while both libraries are attached, e.g. melt.list, you can prepend the namespace like reshape2::melt(comparison_results). In the next version, this warning will become an error.\"\n",
      "Warning message in melt(comparison_results, id.vars = \"Barcode\", measure.vars = 3:6, :\n",
      "\"The melt generic in data.table has been passed a data.frame and will attempt to redirect to the relevant reshape2 method; please note that reshape2 is deprecated, and this redirection is now deprecated as well. To continue using melt methods from reshape2 while both libraries are attached, e.g. melt.list, you can prepend the namespace like reshape2::melt(comparison_results). In the next version, this warning will become an error.\"\n",
      "Warning message in melt(comparison_results, id.vars = \"Barcode\", measure.vars = 3:6, :\n",
      "\"The melt generic in data.table has been passed a data.frame and will attempt to redirect to the relevant reshape2 method; please note that reshape2 is deprecated, and this redirection is now deprecated as well. To continue using melt methods from reshape2 while both libraries are attached, e.g. melt.list, you can prepend the namespace like reshape2::melt(comparison_results). In the next version, this warning will become an error.\"\n",
      "Warning message in melt(comparison_results, id.vars = \"Barcode\", measure.vars = 3:6, :\n",
      "\"The melt generic in data.table has been passed a data.frame and will attempt to redirect to the relevant reshape2 method; please note that reshape2 is deprecated, and this redirection is now deprecated as well. To continue using melt methods from reshape2 while both libraries are attached, e.g. melt.list, you can prepend the namespace like reshape2::melt(comparison_results). In the next version, this warning will become an error.\"\n",
      "Warning message in melt(comparison_results, id.vars = \"Barcode\", measure.vars = 3:6, :\n",
      "\"The melt generic in data.table has been passed a data.frame and will attempt to redirect to the relevant reshape2 method; please note that reshape2 is deprecated, and this redirection is now deprecated as well. To continue using melt methods from reshape2 while both libraries are attached, e.g. melt.list, you can prepend the namespace like reshape2::melt(comparison_results). In the next version, this warning will become an error.\"\n",
      "Warning message in melt(comparison_results, id.vars = \"Barcode\", measure.vars = 3:6, :\n",
      "\"The melt generic in data.table has been passed a data.frame and will attempt to redirect to the relevant reshape2 method; please note that reshape2 is deprecated, and this redirection is now deprecated as well. To continue using melt methods from reshape2 while both libraries are attached, e.g. melt.list, you can prepend the namespace like reshape2::melt(comparison_results). In the next version, this warning will become an error.\"\n",
      "Warning message in melt(comparison_results, id.vars = \"Barcode\", measure.vars = 3:6, :\n",
      "\"The melt generic in data.table has been passed a data.frame and will attempt to redirect to the relevant reshape2 method; please note that reshape2 is deprecated, and this redirection is now deprecated as well. To continue using melt methods from reshape2 while both libraries are attached, e.g. melt.list, you can prepend the namespace like reshape2::melt(comparison_results). In the next version, this warning will become an error.\"\n",
      "Warning message in melt(comparison_results, id.vars = \"Barcode\", measure.vars = 3:6, :\n",
      "\"The melt generic in data.table has been passed a data.frame and will attempt to redirect to the relevant reshape2 method; please note that reshape2 is deprecated, and this redirection is now deprecated as well. To continue using melt methods from reshape2 while both libraries are attached, e.g. melt.list, you can prepend the namespace like reshape2::melt(comparison_results). In the next version, this warning will become an error.\"\n",
      "Warning message in melt(comparison_results, id.vars = \"Barcode\", measure.vars = 3:6, :\n",
      "\"The melt generic in data.table has been passed a data.frame and will attempt to redirect to the relevant reshape2 method; please note that reshape2 is deprecated, and this redirection is now deprecated as well. To continue using melt methods from reshape2 while both libraries are attached, e.g. melt.list, you can prepend the namespace like reshape2::melt(comparison_results). In the next version, this warning will become an error.\"\n",
      "Warning message in melt(comparison_results, id.vars = \"Barcode\", measure.vars = 3:6, :\n",
      "\"The melt generic in data.table has been passed a data.frame and will attempt to redirect to the relevant reshape2 method; please note that reshape2 is deprecated, and this redirection is now deprecated as well. To continue using melt methods from reshape2 while both libraries are attached, e.g. melt.list, you can prepend the namespace like reshape2::melt(comparison_results). In the next version, this warning will become an error.\"\n",
      "Warning message in melt(comparison_results, id.vars = \"Barcode\", measure.vars = 3:6, :\n",
      "\"The melt generic in data.table has been passed a data.frame and will attempt to redirect to the relevant reshape2 method; please note that reshape2 is deprecated, and this redirection is now deprecated as well. To continue using melt methods from reshape2 while both libraries are attached, e.g. melt.list, you can prepend the namespace like reshape2::melt(comparison_results). In the next version, this warning will become an error.\"\n"
     ]
    }
   ],
   "source": [
    "for (run in 1:3) {\n",
    "  for (downsample_pct in c(3, 5)) {\n",
    "    for (i in 1:6) {\n",
    "      dir <- paste0(\"../data/downsample_\", downsample_pct, \"0_run\", run)\n",
    "      compare <- get(paste0(\"compare_hash45\", i, \"_run\", run, \"_pct\", downsample_pct))\n",
    "      compare <-\n",
    "        compare[!compare$Full %in% c(\"negative\", \"doublet\"), ]\n",
    "      selected_columns <- compare[, 3:6]\n",
    "      comparison_results <-\n",
    "        sapply(selected_columns, function(col) {\n",
    "          col == compare$Full\n",
    "        })\n",
    "      comparison_results <-\n",
    "        cbind(compare[, c(\"Barcode\", \"Full\")], comparison_results)\n",
    "      comparison_results[is.na(comparison_results)] <- FALSE\n",
    "      assign(paste0(\"compare_mismatch_hash45\", i, \"_run\", run, \"_pct\", downsample_pct), comparison_results)\n",
    "\n",
    "      long_df <- melt(\n",
    "        comparison_results,\n",
    "        id.vars = \"Barcode\",\n",
    "        measure.vars = 3:6,\n",
    "        variable.name = \"Method\",\n",
    "        value.name = \"Match\"\n",
    "      )\n",
    "      match_table <- as.data.frame(table(long_df$Method, long_df$Match))\n",
    "      colnames(match_table) <- c(\"Method\", \"Assignment\", \"Count\")\n",
    "      match_table$Assignment <- ifelse(match_table$Assignment == TRUE, \"Match\", \"Mismatch\")\n",
    "\n",
    "      total_counts <- aggregate(Count ~ Method, data = match_table, sum)\n",
    "      match_table <-\n",
    "        merge(match_table,\n",
    "          total_counts,\n",
    "          by = \"Method\",\n",
    "          suffixes = c(\"\", \"_Total\")\n",
    "        )\n",
    "\n",
    "      match_table$Method <- str_to_title(match_table$Method)\n",
    "\n",
    "      match_table$Percentage <-\n",
    "        round((match_table$Count / match_table$Count_Total) * 100, 2)\n",
    "\n",
    "      write.csv(match_table, paste0(dir, \"/mismatch_tb_hash45\", i, \".csv\"))\n",
    "\n",
    "      match_table <-\n",
    "        ddply(match_table,\n",
    "          \"Method\",\n",
    "          transform,\n",
    "          label_ypos = cumsum(Percentage) - 0.5 * Percentage\n",
    "        )\n",
    "      if (i %% 3 != 0) {\n",
    "        match_table$label_ypos <- match_table$label_ypos + 5\n",
    "      }\n",
    "      assign(paste0(\"match_table_hash45\", i, \"_run\", run, \"_pct\", downsample_pct), match_table)\n",
    "    }\n",
    "  }\n",
    "}\n"
   ]
  },
  {
   "cell_type": "code",
   "execution_count": 8,
   "id": "dcabdb75",
   "metadata": {
    "vscode": {
     "languageId": "r"
    }
   },
   "outputs": [],
   "source": [
    "mismatch_30_run1 <- list.files(\n",
    "    path = \"../data/downsample_30_run1\",\n",
    "    pattern = \"mismatch_tb_*\",\n",
    "    all.files = TRUE,\n",
    "    full.names = TRUE\n",
    ")\n",
    "mismatch_30_run2 <- list.files(\n",
    "    path = \"../data/downsample_30_run2\",\n",
    "    pattern = \"mismatch_tb_*\",\n",
    "    all.files = TRUE,\n",
    "    full.names = TRUE\n",
    ")\n",
    "mismatch_30_run3 <- list.files(\n",
    "    path = \"../data/downsample_30_run3\",\n",
    "    pattern = \"mismatch_tb_*\",\n",
    "    all.files = TRUE,\n",
    "    full.names = TRUE\n",
    ")\n",
    "mismatch_50_run1 <- list.files(\n",
    "    path = \"../data/downsample_50_run1\",\n",
    "    pattern = \"mismatch_tb_*\",\n",
    "    all.files = TRUE,\n",
    "    full.names = TRUE\n",
    ")\n",
    "mismatch_50_run2 <- list.files(\n",
    "    path = \"../data/downsample_50_run2\",\n",
    "    pattern = \"mismatch_tb_*\",\n",
    "    all.files = TRUE,\n",
    "    full.names = TRUE\n",
    ")\n",
    "mismatch_50_run3 <- list.files(\n",
    "    path = \"../data/downsample_50_run3\",\n",
    "    pattern = \"mismatch_tb_*\",\n",
    "    all.files = TRUE,\n",
    "    full.names = TRUE\n",
    ")\n"
   ]
  },
  {
   "cell_type": "code",
   "execution_count": 9,
   "id": "10fd950b",
   "metadata": {
    "vscode": {
     "languageId": "r"
    }
   },
   "outputs": [
    {
     "data": {
      "text/html": [
       "<table class=\"dataframe\">\n",
       "<caption>A data.table: 24 x 7</caption>\n",
       "<thead>\n",
       "\t<tr><th scope=col>V1</th><th scope=col>Method</th><th scope=col>Assignment</th><th scope=col>Count</th><th scope=col>Count_Total</th><th scope=col>Percentage</th><th scope=col>downsampled</th></tr>\n",
       "\t<tr><th scope=col>&lt;int&gt;</th><th scope=col>&lt;chr&gt;</th><th scope=col>&lt;chr&gt;</th><th scope=col>&lt;int&gt;</th><th scope=col>&lt;int&gt;</th><th scope=col>&lt;dbl&gt;</th><th scope=col>&lt;chr&gt;</th></tr>\n",
       "</thead>\n",
       "<tbody>\n",
       "\t<tr><td>2</td><td>Freemuxlet</td><td>Match</td><td>3439</td><td>3532</td><td>97.37</td><td>Hash451</td></tr>\n",
       "\t<tr><td>4</td><td>Scsplit   </td><td>Match</td><td>2461</td><td>3532</td><td>69.68</td><td>Hash451</td></tr>\n",
       "\t<tr><td>6</td><td>Souporcell</td><td>Match</td><td>3416</td><td>3532</td><td>96.72</td><td>Hash451</td></tr>\n",
       "\t<tr><td>8</td><td>Vireo     </td><td>Match</td><td>3485</td><td>3532</td><td>98.67</td><td>Hash451</td></tr>\n",
       "\t<tr><td>2</td><td>Freemuxlet</td><td>Match</td><td>3789</td><td>3881</td><td>97.63</td><td>Hash452</td></tr>\n",
       "\t<tr><td>4</td><td>Scsplit   </td><td>Match</td><td>2546</td><td>3881</td><td>65.60</td><td>Hash452</td></tr>\n",
       "\t<tr><td>6</td><td>Souporcell</td><td>Match</td><td>3780</td><td>3881</td><td>97.40</td><td>Hash452</td></tr>\n",
       "\t<tr><td>8</td><td>Vireo     </td><td>Match</td><td>3826</td><td>3881</td><td>98.58</td><td>Hash452</td></tr>\n",
       "\t<tr><td>2</td><td>Freemuxlet</td><td>Match</td><td>3724</td><td>3813</td><td>97.67</td><td>Hash453</td></tr>\n",
       "\t<tr><td>4</td><td>Scsplit   </td><td>Match</td><td>2335</td><td>3813</td><td>61.24</td><td>Hash453</td></tr>\n",
       "\t<tr><td>6</td><td>Souporcell</td><td>Match</td><td>3723</td><td>3813</td><td>97.64</td><td>Hash453</td></tr>\n",
       "\t<tr><td>8</td><td>Vireo     </td><td>Match</td><td>3760</td><td>3813</td><td>98.61</td><td>Hash453</td></tr>\n",
       "\t<tr><td>2</td><td>Freemuxlet</td><td>Match</td><td>3745</td><td>3841</td><td>97.50</td><td>Hash454</td></tr>\n",
       "\t<tr><td>4</td><td>Scsplit   </td><td>Match</td><td>2677</td><td>3841</td><td>69.70</td><td>Hash454</td></tr>\n",
       "\t<tr><td>6</td><td>Souporcell</td><td>Match</td><td>3749</td><td>3841</td><td>97.60</td><td>Hash454</td></tr>\n",
       "\t<tr><td>8</td><td>Vireo     </td><td>Match</td><td>3792</td><td>3841</td><td>98.72</td><td>Hash454</td></tr>\n",
       "\t<tr><td>2</td><td>Freemuxlet</td><td>Match</td><td>4110</td><td>4206</td><td>97.72</td><td>Hash455</td></tr>\n",
       "\t<tr><td>4</td><td>Scsplit   </td><td>Match</td><td>3363</td><td>4206</td><td>79.96</td><td>Hash455</td></tr>\n",
       "\t<tr><td>6</td><td>Souporcell</td><td>Match</td><td>4103</td><td>4206</td><td>97.55</td><td>Hash455</td></tr>\n",
       "\t<tr><td>8</td><td>Vireo     </td><td>Match</td><td>4105</td><td>4206</td><td>97.60</td><td>Hash455</td></tr>\n",
       "\t<tr><td>2</td><td>Freemuxlet</td><td>Match</td><td>3840</td><td>3926</td><td>97.81</td><td>Hash456</td></tr>\n",
       "\t<tr><td>4</td><td>Scsplit   </td><td>Match</td><td>2943</td><td>3926</td><td>74.96</td><td>Hash456</td></tr>\n",
       "\t<tr><td>6</td><td>Souporcell</td><td>Match</td><td>3831</td><td>3926</td><td>97.58</td><td>Hash456</td></tr>\n",
       "\t<tr><td>8</td><td>Vireo     </td><td>Match</td><td>3884</td><td>3926</td><td>98.93</td><td>Hash456</td></tr>\n",
       "</tbody>\n",
       "</table>\n"
      ],
      "text/latex": [
       "A data.table: 24 x 7\n",
       "\\begin{tabular}{lllllll}\n",
       " V1 & Method & Assignment & Count & Count\\_Total & Percentage & downsampled\\\\\n",
       " <int> & <chr> & <chr> & <int> & <int> & <dbl> & <chr>\\\\\n",
       "\\hline\n",
       "\t 2 & Freemuxlet & Match & 3439 & 3532 & 97.37 & Hash451\\\\\n",
       "\t 4 & Scsplit    & Match & 2461 & 3532 & 69.68 & Hash451\\\\\n",
       "\t 6 & Souporcell & Match & 3416 & 3532 & 96.72 & Hash451\\\\\n",
       "\t 8 & Vireo      & Match & 3485 & 3532 & 98.67 & Hash451\\\\\n",
       "\t 2 & Freemuxlet & Match & 3789 & 3881 & 97.63 & Hash452\\\\\n",
       "\t 4 & Scsplit    & Match & 2546 & 3881 & 65.60 & Hash452\\\\\n",
       "\t 6 & Souporcell & Match & 3780 & 3881 & 97.40 & Hash452\\\\\n",
       "\t 8 & Vireo      & Match & 3826 & 3881 & 98.58 & Hash452\\\\\n",
       "\t 2 & Freemuxlet & Match & 3724 & 3813 & 97.67 & Hash453\\\\\n",
       "\t 4 & Scsplit    & Match & 2335 & 3813 & 61.24 & Hash453\\\\\n",
       "\t 6 & Souporcell & Match & 3723 & 3813 & 97.64 & Hash453\\\\\n",
       "\t 8 & Vireo      & Match & 3760 & 3813 & 98.61 & Hash453\\\\\n",
       "\t 2 & Freemuxlet & Match & 3745 & 3841 & 97.50 & Hash454\\\\\n",
       "\t 4 & Scsplit    & Match & 2677 & 3841 & 69.70 & Hash454\\\\\n",
       "\t 6 & Souporcell & Match & 3749 & 3841 & 97.60 & Hash454\\\\\n",
       "\t 8 & Vireo      & Match & 3792 & 3841 & 98.72 & Hash454\\\\\n",
       "\t 2 & Freemuxlet & Match & 4110 & 4206 & 97.72 & Hash455\\\\\n",
       "\t 4 & Scsplit    & Match & 3363 & 4206 & 79.96 & Hash455\\\\\n",
       "\t 6 & Souporcell & Match & 4103 & 4206 & 97.55 & Hash455\\\\\n",
       "\t 8 & Vireo      & Match & 4105 & 4206 & 97.60 & Hash455\\\\\n",
       "\t 2 & Freemuxlet & Match & 3840 & 3926 & 97.81 & Hash456\\\\\n",
       "\t 4 & Scsplit    & Match & 2943 & 3926 & 74.96 & Hash456\\\\\n",
       "\t 6 & Souporcell & Match & 3831 & 3926 & 97.58 & Hash456\\\\\n",
       "\t 8 & Vireo      & Match & 3884 & 3926 & 98.93 & Hash456\\\\\n",
       "\\end{tabular}\n"
      ],
      "text/markdown": [
       "\n",
       "A data.table: 24 x 7\n",
       "\n",
       "| V1 &lt;int&gt; | Method &lt;chr&gt; | Assignment &lt;chr&gt; | Count &lt;int&gt; | Count_Total &lt;int&gt; | Percentage &lt;dbl&gt; | downsampled &lt;chr&gt; |\n",
       "|---|---|---|---|---|---|---|\n",
       "| 2 | Freemuxlet | Match | 3439 | 3532 | 97.37 | Hash451 |\n",
       "| 4 | Scsplit    | Match | 2461 | 3532 | 69.68 | Hash451 |\n",
       "| 6 | Souporcell | Match | 3416 | 3532 | 96.72 | Hash451 |\n",
       "| 8 | Vireo      | Match | 3485 | 3532 | 98.67 | Hash451 |\n",
       "| 2 | Freemuxlet | Match | 3789 | 3881 | 97.63 | Hash452 |\n",
       "| 4 | Scsplit    | Match | 2546 | 3881 | 65.60 | Hash452 |\n",
       "| 6 | Souporcell | Match | 3780 | 3881 | 97.40 | Hash452 |\n",
       "| 8 | Vireo      | Match | 3826 | 3881 | 98.58 | Hash452 |\n",
       "| 2 | Freemuxlet | Match | 3724 | 3813 | 97.67 | Hash453 |\n",
       "| 4 | Scsplit    | Match | 2335 | 3813 | 61.24 | Hash453 |\n",
       "| 6 | Souporcell | Match | 3723 | 3813 | 97.64 | Hash453 |\n",
       "| 8 | Vireo      | Match | 3760 | 3813 | 98.61 | Hash453 |\n",
       "| 2 | Freemuxlet | Match | 3745 | 3841 | 97.50 | Hash454 |\n",
       "| 4 | Scsplit    | Match | 2677 | 3841 | 69.70 | Hash454 |\n",
       "| 6 | Souporcell | Match | 3749 | 3841 | 97.60 | Hash454 |\n",
       "| 8 | Vireo      | Match | 3792 | 3841 | 98.72 | Hash454 |\n",
       "| 2 | Freemuxlet | Match | 4110 | 4206 | 97.72 | Hash455 |\n",
       "| 4 | Scsplit    | Match | 3363 | 4206 | 79.96 | Hash455 |\n",
       "| 6 | Souporcell | Match | 4103 | 4206 | 97.55 | Hash455 |\n",
       "| 8 | Vireo      | Match | 4105 | 4206 | 97.60 | Hash455 |\n",
       "| 2 | Freemuxlet | Match | 3840 | 3926 | 97.81 | Hash456 |\n",
       "| 4 | Scsplit    | Match | 2943 | 3926 | 74.96 | Hash456 |\n",
       "| 6 | Souporcell | Match | 3831 | 3926 | 97.58 | Hash456 |\n",
       "| 8 | Vireo      | Match | 3884 | 3926 | 98.93 | Hash456 |\n",
       "\n"
      ],
      "text/plain": [
       "   V1 Method     Assignment Count Count_Total Percentage downsampled\n",
       "1  2  Freemuxlet Match      3439  3532        97.37      Hash451    \n",
       "2  4  Scsplit    Match      2461  3532        69.68      Hash451    \n",
       "3  6  Souporcell Match      3416  3532        96.72      Hash451    \n",
       "4  8  Vireo      Match      3485  3532        98.67      Hash451    \n",
       "5  2  Freemuxlet Match      3789  3881        97.63      Hash452    \n",
       "6  4  Scsplit    Match      2546  3881        65.60      Hash452    \n",
       "7  6  Souporcell Match      3780  3881        97.40      Hash452    \n",
       "8  8  Vireo      Match      3826  3881        98.58      Hash452    \n",
       "9  2  Freemuxlet Match      3724  3813        97.67      Hash453    \n",
       "10 4  Scsplit    Match      2335  3813        61.24      Hash453    \n",
       "11 6  Souporcell Match      3723  3813        97.64      Hash453    \n",
       "12 8  Vireo      Match      3760  3813        98.61      Hash453    \n",
       "13 2  Freemuxlet Match      3745  3841        97.50      Hash454    \n",
       "14 4  Scsplit    Match      2677  3841        69.70      Hash454    \n",
       "15 6  Souporcell Match      3749  3841        97.60      Hash454    \n",
       "16 8  Vireo      Match      3792  3841        98.72      Hash454    \n",
       "17 2  Freemuxlet Match      4110  4206        97.72      Hash455    \n",
       "18 4  Scsplit    Match      3363  4206        79.96      Hash455    \n",
       "19 6  Souporcell Match      4103  4206        97.55      Hash455    \n",
       "20 8  Vireo      Match      4105  4206        97.60      Hash455    \n",
       "21 2  Freemuxlet Match      3840  3926        97.81      Hash456    \n",
       "22 4  Scsplit    Match      2943  3926        74.96      Hash456    \n",
       "23 6  Souporcell Match      3831  3926        97.58      Hash456    \n",
       "24 8  Vireo      Match      3884  3926        98.93      Hash456    "
      ]
     },
     "metadata": {},
     "output_type": "display_data"
    }
   ],
   "source": [
    "keys <- paste0(\"Hash45\", 1:6)\n",
    "names(mismatch_30_run1) <- keys\n",
    "run1_30 <- lapply(seq_along(mismatch_30_run1), function(x) {\n",
    "    dt <- fread(mismatch_30_run1[x])\n",
    "    dt <- dt[dt$Assignment == \"Match\", ]\n",
    "    dt$downsampled <- names(mismatch_30_run1)[x]\n",
    "    return(dt)\n",
    "})\n",
    "run1_30 <- rbindlist(run1_30)\n",
    "run1_30\n"
   ]
  },
  {
   "cell_type": "code",
   "execution_count": 10,
   "id": "5f076fff",
   "metadata": {
    "vscode": {
     "languageId": "r"
    }
   },
   "outputs": [
    {
     "data": {
      "text/html": [
       "<table class=\"dataframe\">\n",
       "<caption>A data.table: 24 x 7</caption>\n",
       "<thead>\n",
       "\t<tr><th scope=col>V1</th><th scope=col>Method</th><th scope=col>Assignment</th><th scope=col>Count</th><th scope=col>Count_Total</th><th scope=col>Percentage</th><th scope=col>downsampled</th></tr>\n",
       "\t<tr><th scope=col>&lt;int&gt;</th><th scope=col>&lt;chr&gt;</th><th scope=col>&lt;chr&gt;</th><th scope=col>&lt;int&gt;</th><th scope=col>&lt;int&gt;</th><th scope=col>&lt;dbl&gt;</th><th scope=col>&lt;chr&gt;</th></tr>\n",
       "</thead>\n",
       "<tbody>\n",
       "\t<tr><td>2</td><td>Freemuxlet</td><td>Match</td><td>3446</td><td>3532</td><td>97.57</td><td>Hash451</td></tr>\n",
       "\t<tr><td>4</td><td>Scsplit   </td><td>Match</td><td>2491</td><td>3532</td><td>70.53</td><td>Hash451</td></tr>\n",
       "\t<tr><td>6</td><td>Souporcell</td><td>Match</td><td>3425</td><td>3532</td><td>96.97</td><td>Hash451</td></tr>\n",
       "\t<tr><td>8</td><td>Vireo     </td><td>Match</td><td>3494</td><td>3532</td><td>98.92</td><td>Hash451</td></tr>\n",
       "\t<tr><td>2</td><td>Freemuxlet</td><td>Match</td><td>3794</td><td>3881</td><td>97.76</td><td>Hash452</td></tr>\n",
       "\t<tr><td>4</td><td>Scsplit   </td><td>Match</td><td>2610</td><td>3881</td><td>67.25</td><td>Hash452</td></tr>\n",
       "\t<tr><td>6</td><td>Souporcell</td><td>Match</td><td>3787</td><td>3881</td><td>97.58</td><td>Hash452</td></tr>\n",
       "\t<tr><td>8</td><td>Vireo     </td><td>Match</td><td>3835</td><td>3881</td><td>98.81</td><td>Hash452</td></tr>\n",
       "\t<tr><td>2</td><td>Freemuxlet</td><td>Match</td><td>3731</td><td>3813</td><td>97.85</td><td>Hash453</td></tr>\n",
       "\t<tr><td>4</td><td>Scsplit   </td><td>Match</td><td>3063</td><td>3813</td><td>80.33</td><td>Hash453</td></tr>\n",
       "\t<tr><td>6</td><td>Souporcell</td><td>Match</td><td>3712</td><td>3813</td><td>97.35</td><td>Hash453</td></tr>\n",
       "\t<tr><td>8</td><td>Vireo     </td><td>Match</td><td>3765</td><td>3813</td><td>98.74</td><td>Hash453</td></tr>\n",
       "\t<tr><td>2</td><td>Freemuxlet</td><td>Match</td><td>3746</td><td>3841</td><td>97.53</td><td>Hash454</td></tr>\n",
       "\t<tr><td>4</td><td>Scsplit   </td><td>Match</td><td>2503</td><td>3841</td><td>65.17</td><td>Hash454</td></tr>\n",
       "\t<tr><td>6</td><td>Souporcell</td><td>Match</td><td>3736</td><td>3841</td><td>97.27</td><td>Hash454</td></tr>\n",
       "\t<tr><td>8</td><td>Vireo     </td><td>Match</td><td>3784</td><td>3841</td><td>98.52</td><td>Hash454</td></tr>\n",
       "\t<tr><td>2</td><td>Freemuxlet</td><td>Match</td><td>4116</td><td>4206</td><td>97.86</td><td>Hash455</td></tr>\n",
       "\t<tr><td>4</td><td>Scsplit   </td><td>Match</td><td>3168</td><td>4206</td><td>75.32</td><td>Hash455</td></tr>\n",
       "\t<tr><td>6</td><td>Souporcell</td><td>Match</td><td>4109</td><td>4206</td><td>97.69</td><td>Hash455</td></tr>\n",
       "\t<tr><td>8</td><td>Vireo     </td><td>Match</td><td>4146</td><td>4206</td><td>98.57</td><td>Hash455</td></tr>\n",
       "\t<tr><td>2</td><td>Freemuxlet</td><td>Match</td><td>3842</td><td>3926</td><td>97.86</td><td>Hash456</td></tr>\n",
       "\t<tr><td>4</td><td>Scsplit   </td><td>Match</td><td>3152</td><td>3926</td><td>80.29</td><td>Hash456</td></tr>\n",
       "\t<tr><td>6</td><td>Souporcell</td><td>Match</td><td>3822</td><td>3926</td><td>97.35</td><td>Hash456</td></tr>\n",
       "\t<tr><td>8</td><td>Vireo     </td><td>Match</td><td>3881</td><td>3926</td><td>98.85</td><td>Hash456</td></tr>\n",
       "</tbody>\n",
       "</table>\n"
      ],
      "text/latex": [
       "A data.table: 24 x 7\n",
       "\\begin{tabular}{lllllll}\n",
       " V1 & Method & Assignment & Count & Count\\_Total & Percentage & downsampled\\\\\n",
       " <int> & <chr> & <chr> & <int> & <int> & <dbl> & <chr>\\\\\n",
       "\\hline\n",
       "\t 2 & Freemuxlet & Match & 3446 & 3532 & 97.57 & Hash451\\\\\n",
       "\t 4 & Scsplit    & Match & 2491 & 3532 & 70.53 & Hash451\\\\\n",
       "\t 6 & Souporcell & Match & 3425 & 3532 & 96.97 & Hash451\\\\\n",
       "\t 8 & Vireo      & Match & 3494 & 3532 & 98.92 & Hash451\\\\\n",
       "\t 2 & Freemuxlet & Match & 3794 & 3881 & 97.76 & Hash452\\\\\n",
       "\t 4 & Scsplit    & Match & 2610 & 3881 & 67.25 & Hash452\\\\\n",
       "\t 6 & Souporcell & Match & 3787 & 3881 & 97.58 & Hash452\\\\\n",
       "\t 8 & Vireo      & Match & 3835 & 3881 & 98.81 & Hash452\\\\\n",
       "\t 2 & Freemuxlet & Match & 3731 & 3813 & 97.85 & Hash453\\\\\n",
       "\t 4 & Scsplit    & Match & 3063 & 3813 & 80.33 & Hash453\\\\\n",
       "\t 6 & Souporcell & Match & 3712 & 3813 & 97.35 & Hash453\\\\\n",
       "\t 8 & Vireo      & Match & 3765 & 3813 & 98.74 & Hash453\\\\\n",
       "\t 2 & Freemuxlet & Match & 3746 & 3841 & 97.53 & Hash454\\\\\n",
       "\t 4 & Scsplit    & Match & 2503 & 3841 & 65.17 & Hash454\\\\\n",
       "\t 6 & Souporcell & Match & 3736 & 3841 & 97.27 & Hash454\\\\\n",
       "\t 8 & Vireo      & Match & 3784 & 3841 & 98.52 & Hash454\\\\\n",
       "\t 2 & Freemuxlet & Match & 4116 & 4206 & 97.86 & Hash455\\\\\n",
       "\t 4 & Scsplit    & Match & 3168 & 4206 & 75.32 & Hash455\\\\\n",
       "\t 6 & Souporcell & Match & 4109 & 4206 & 97.69 & Hash455\\\\\n",
       "\t 8 & Vireo      & Match & 4146 & 4206 & 98.57 & Hash455\\\\\n",
       "\t 2 & Freemuxlet & Match & 3842 & 3926 & 97.86 & Hash456\\\\\n",
       "\t 4 & Scsplit    & Match & 3152 & 3926 & 80.29 & Hash456\\\\\n",
       "\t 6 & Souporcell & Match & 3822 & 3926 & 97.35 & Hash456\\\\\n",
       "\t 8 & Vireo      & Match & 3881 & 3926 & 98.85 & Hash456\\\\\n",
       "\\end{tabular}\n"
      ],
      "text/markdown": [
       "\n",
       "A data.table: 24 x 7\n",
       "\n",
       "| V1 &lt;int&gt; | Method &lt;chr&gt; | Assignment &lt;chr&gt; | Count &lt;int&gt; | Count_Total &lt;int&gt; | Percentage &lt;dbl&gt; | downsampled &lt;chr&gt; |\n",
       "|---|---|---|---|---|---|---|\n",
       "| 2 | Freemuxlet | Match | 3446 | 3532 | 97.57 | Hash451 |\n",
       "| 4 | Scsplit    | Match | 2491 | 3532 | 70.53 | Hash451 |\n",
       "| 6 | Souporcell | Match | 3425 | 3532 | 96.97 | Hash451 |\n",
       "| 8 | Vireo      | Match | 3494 | 3532 | 98.92 | Hash451 |\n",
       "| 2 | Freemuxlet | Match | 3794 | 3881 | 97.76 | Hash452 |\n",
       "| 4 | Scsplit    | Match | 2610 | 3881 | 67.25 | Hash452 |\n",
       "| 6 | Souporcell | Match | 3787 | 3881 | 97.58 | Hash452 |\n",
       "| 8 | Vireo      | Match | 3835 | 3881 | 98.81 | Hash452 |\n",
       "| 2 | Freemuxlet | Match | 3731 | 3813 | 97.85 | Hash453 |\n",
       "| 4 | Scsplit    | Match | 3063 | 3813 | 80.33 | Hash453 |\n",
       "| 6 | Souporcell | Match | 3712 | 3813 | 97.35 | Hash453 |\n",
       "| 8 | Vireo      | Match | 3765 | 3813 | 98.74 | Hash453 |\n",
       "| 2 | Freemuxlet | Match | 3746 | 3841 | 97.53 | Hash454 |\n",
       "| 4 | Scsplit    | Match | 2503 | 3841 | 65.17 | Hash454 |\n",
       "| 6 | Souporcell | Match | 3736 | 3841 | 97.27 | Hash454 |\n",
       "| 8 | Vireo      | Match | 3784 | 3841 | 98.52 | Hash454 |\n",
       "| 2 | Freemuxlet | Match | 4116 | 4206 | 97.86 | Hash455 |\n",
       "| 4 | Scsplit    | Match | 3168 | 4206 | 75.32 | Hash455 |\n",
       "| 6 | Souporcell | Match | 4109 | 4206 | 97.69 | Hash455 |\n",
       "| 8 | Vireo      | Match | 4146 | 4206 | 98.57 | Hash455 |\n",
       "| 2 | Freemuxlet | Match | 3842 | 3926 | 97.86 | Hash456 |\n",
       "| 4 | Scsplit    | Match | 3152 | 3926 | 80.29 | Hash456 |\n",
       "| 6 | Souporcell | Match | 3822 | 3926 | 97.35 | Hash456 |\n",
       "| 8 | Vireo      | Match | 3881 | 3926 | 98.85 | Hash456 |\n",
       "\n"
      ],
      "text/plain": [
       "   V1 Method     Assignment Count Count_Total Percentage downsampled\n",
       "1  2  Freemuxlet Match      3446  3532        97.57      Hash451    \n",
       "2  4  Scsplit    Match      2491  3532        70.53      Hash451    \n",
       "3  6  Souporcell Match      3425  3532        96.97      Hash451    \n",
       "4  8  Vireo      Match      3494  3532        98.92      Hash451    \n",
       "5  2  Freemuxlet Match      3794  3881        97.76      Hash452    \n",
       "6  4  Scsplit    Match      2610  3881        67.25      Hash452    \n",
       "7  6  Souporcell Match      3787  3881        97.58      Hash452    \n",
       "8  8  Vireo      Match      3835  3881        98.81      Hash452    \n",
       "9  2  Freemuxlet Match      3731  3813        97.85      Hash453    \n",
       "10 4  Scsplit    Match      3063  3813        80.33      Hash453    \n",
       "11 6  Souporcell Match      3712  3813        97.35      Hash453    \n",
       "12 8  Vireo      Match      3765  3813        98.74      Hash453    \n",
       "13 2  Freemuxlet Match      3746  3841        97.53      Hash454    \n",
       "14 4  Scsplit    Match      2503  3841        65.17      Hash454    \n",
       "15 6  Souporcell Match      3736  3841        97.27      Hash454    \n",
       "16 8  Vireo      Match      3784  3841        98.52      Hash454    \n",
       "17 2  Freemuxlet Match      4116  4206        97.86      Hash455    \n",
       "18 4  Scsplit    Match      3168  4206        75.32      Hash455    \n",
       "19 6  Souporcell Match      4109  4206        97.69      Hash455    \n",
       "20 8  Vireo      Match      4146  4206        98.57      Hash455    \n",
       "21 2  Freemuxlet Match      3842  3926        97.86      Hash456    \n",
       "22 4  Scsplit    Match      3152  3926        80.29      Hash456    \n",
       "23 6  Souporcell Match      3822  3926        97.35      Hash456    \n",
       "24 8  Vireo      Match      3881  3926        98.85      Hash456    "
      ]
     },
     "metadata": {},
     "output_type": "display_data"
    }
   ],
   "source": [
    "keys <- paste0(\"Hash45\", 1:6)\n",
    "names(mismatch_30_run2) <- keys\n",
    "run2_30 <- lapply(seq_along(mismatch_30_run2), function(x) {\n",
    "    dt <- fread(mismatch_30_run2[x])\n",
    "    dt <- dt[dt$Assignment == \"Match\", ]\n",
    "    dt$downsampled <- names(mismatch_30_run2)[x]\n",
    "    return(dt)\n",
    "})\n",
    "run2_30 <- rbindlist(run2_30)\n",
    "run2_30\n"
   ]
  },
  {
   "cell_type": "code",
   "execution_count": 11,
   "id": "76ff1ded",
   "metadata": {
    "vscode": {
     "languageId": "r"
    }
   },
   "outputs": [
    {
     "data": {
      "text/html": [
       "<table class=\"dataframe\">\n",
       "<caption>A data.table: 24 x 7</caption>\n",
       "<thead>\n",
       "\t<tr><th scope=col>V1</th><th scope=col>Method</th><th scope=col>Assignment</th><th scope=col>Count</th><th scope=col>Count_Total</th><th scope=col>Percentage</th><th scope=col>downsampled</th></tr>\n",
       "\t<tr><th scope=col>&lt;int&gt;</th><th scope=col>&lt;chr&gt;</th><th scope=col>&lt;chr&gt;</th><th scope=col>&lt;int&gt;</th><th scope=col>&lt;int&gt;</th><th scope=col>&lt;dbl&gt;</th><th scope=col>&lt;chr&gt;</th></tr>\n",
       "</thead>\n",
       "<tbody>\n",
       "\t<tr><td>2</td><td>Freemuxlet</td><td>Match</td><td>3442</td><td>3532</td><td>97.45</td><td>Hash451</td></tr>\n",
       "\t<tr><td>4</td><td>Scsplit   </td><td>Match</td><td>2486</td><td>3532</td><td>70.39</td><td>Hash451</td></tr>\n",
       "\t<tr><td>6</td><td>Souporcell</td><td>Match</td><td>3424</td><td>3532</td><td>96.94</td><td>Hash451</td></tr>\n",
       "\t<tr><td>8</td><td>Vireo     </td><td>Match</td><td>3481</td><td>3532</td><td>98.56</td><td>Hash451</td></tr>\n",
       "\t<tr><td>2</td><td>Freemuxlet</td><td>Match</td><td>3793</td><td>3881</td><td>97.73</td><td>Hash452</td></tr>\n",
       "\t<tr><td>4</td><td>Scsplit   </td><td>Match</td><td>2767</td><td>3881</td><td>71.30</td><td>Hash452</td></tr>\n",
       "\t<tr><td>6</td><td>Souporcell</td><td>Match</td><td>3779</td><td>3881</td><td>97.37</td><td>Hash452</td></tr>\n",
       "\t<tr><td>8</td><td>Vireo     </td><td>Match</td><td>3849</td><td>3881</td><td>99.18</td><td>Hash452</td></tr>\n",
       "\t<tr><td>2</td><td>Freemuxlet</td><td>Match</td><td>3731</td><td>3813</td><td>97.85</td><td>Hash453</td></tr>\n",
       "\t<tr><td>4</td><td>Scsplit   </td><td>Match</td><td>2703</td><td>3813</td><td>70.89</td><td>Hash453</td></tr>\n",
       "\t<tr><td>6</td><td>Souporcell</td><td>Match</td><td>3714</td><td>3813</td><td>97.40</td><td>Hash453</td></tr>\n",
       "\t<tr><td>8</td><td>Vireo     </td><td>Match</td><td>3767</td><td>3813</td><td>98.79</td><td>Hash453</td></tr>\n",
       "\t<tr><td>2</td><td>Freemuxlet</td><td>Match</td><td>3742</td><td>3841</td><td>97.42</td><td>Hash454</td></tr>\n",
       "\t<tr><td>4</td><td>Scsplit   </td><td>Match</td><td>2635</td><td>3841</td><td>68.60</td><td>Hash454</td></tr>\n",
       "\t<tr><td>6</td><td>Souporcell</td><td>Match</td><td>3746</td><td>3841</td><td>97.53</td><td>Hash454</td></tr>\n",
       "\t<tr><td>8</td><td>Vireo     </td><td>Match</td><td>3792</td><td>3841</td><td>98.72</td><td>Hash454</td></tr>\n",
       "\t<tr><td>2</td><td>Freemuxlet</td><td>Match</td><td>4113</td><td>4206</td><td>97.79</td><td>Hash455</td></tr>\n",
       "\t<tr><td>4</td><td>Scsplit   </td><td>Match</td><td>3311</td><td>4206</td><td>78.72</td><td>Hash455</td></tr>\n",
       "\t<tr><td>6</td><td>Souporcell</td><td>Match</td><td>4094</td><td>4206</td><td>97.34</td><td>Hash455</td></tr>\n",
       "\t<tr><td>8</td><td>Vireo     </td><td>Match</td><td>4149</td><td>4206</td><td>98.64</td><td>Hash455</td></tr>\n",
       "\t<tr><td>2</td><td>Freemuxlet</td><td>Match</td><td>3835</td><td>3926</td><td>97.68</td><td>Hash456</td></tr>\n",
       "\t<tr><td>4</td><td>Scsplit   </td><td>Match</td><td>2690</td><td>3926</td><td>68.52</td><td>Hash456</td></tr>\n",
       "\t<tr><td>6</td><td>Souporcell</td><td>Match</td><td>3823</td><td>3926</td><td>97.38</td><td>Hash456</td></tr>\n",
       "\t<tr><td>8</td><td>Vireo     </td><td>Match</td><td>3884</td><td>3926</td><td>98.93</td><td>Hash456</td></tr>\n",
       "</tbody>\n",
       "</table>\n"
      ],
      "text/latex": [
       "A data.table: 24 x 7\n",
       "\\begin{tabular}{lllllll}\n",
       " V1 & Method & Assignment & Count & Count\\_Total & Percentage & downsampled\\\\\n",
       " <int> & <chr> & <chr> & <int> & <int> & <dbl> & <chr>\\\\\n",
       "\\hline\n",
       "\t 2 & Freemuxlet & Match & 3442 & 3532 & 97.45 & Hash451\\\\\n",
       "\t 4 & Scsplit    & Match & 2486 & 3532 & 70.39 & Hash451\\\\\n",
       "\t 6 & Souporcell & Match & 3424 & 3532 & 96.94 & Hash451\\\\\n",
       "\t 8 & Vireo      & Match & 3481 & 3532 & 98.56 & Hash451\\\\\n",
       "\t 2 & Freemuxlet & Match & 3793 & 3881 & 97.73 & Hash452\\\\\n",
       "\t 4 & Scsplit    & Match & 2767 & 3881 & 71.30 & Hash452\\\\\n",
       "\t 6 & Souporcell & Match & 3779 & 3881 & 97.37 & Hash452\\\\\n",
       "\t 8 & Vireo      & Match & 3849 & 3881 & 99.18 & Hash452\\\\\n",
       "\t 2 & Freemuxlet & Match & 3731 & 3813 & 97.85 & Hash453\\\\\n",
       "\t 4 & Scsplit    & Match & 2703 & 3813 & 70.89 & Hash453\\\\\n",
       "\t 6 & Souporcell & Match & 3714 & 3813 & 97.40 & Hash453\\\\\n",
       "\t 8 & Vireo      & Match & 3767 & 3813 & 98.79 & Hash453\\\\\n",
       "\t 2 & Freemuxlet & Match & 3742 & 3841 & 97.42 & Hash454\\\\\n",
       "\t 4 & Scsplit    & Match & 2635 & 3841 & 68.60 & Hash454\\\\\n",
       "\t 6 & Souporcell & Match & 3746 & 3841 & 97.53 & Hash454\\\\\n",
       "\t 8 & Vireo      & Match & 3792 & 3841 & 98.72 & Hash454\\\\\n",
       "\t 2 & Freemuxlet & Match & 4113 & 4206 & 97.79 & Hash455\\\\\n",
       "\t 4 & Scsplit    & Match & 3311 & 4206 & 78.72 & Hash455\\\\\n",
       "\t 6 & Souporcell & Match & 4094 & 4206 & 97.34 & Hash455\\\\\n",
       "\t 8 & Vireo      & Match & 4149 & 4206 & 98.64 & Hash455\\\\\n",
       "\t 2 & Freemuxlet & Match & 3835 & 3926 & 97.68 & Hash456\\\\\n",
       "\t 4 & Scsplit    & Match & 2690 & 3926 & 68.52 & Hash456\\\\\n",
       "\t 6 & Souporcell & Match & 3823 & 3926 & 97.38 & Hash456\\\\\n",
       "\t 8 & Vireo      & Match & 3884 & 3926 & 98.93 & Hash456\\\\\n",
       "\\end{tabular}\n"
      ],
      "text/markdown": [
       "\n",
       "A data.table: 24 x 7\n",
       "\n",
       "| V1 &lt;int&gt; | Method &lt;chr&gt; | Assignment &lt;chr&gt; | Count &lt;int&gt; | Count_Total &lt;int&gt; | Percentage &lt;dbl&gt; | downsampled &lt;chr&gt; |\n",
       "|---|---|---|---|---|---|---|\n",
       "| 2 | Freemuxlet | Match | 3442 | 3532 | 97.45 | Hash451 |\n",
       "| 4 | Scsplit    | Match | 2486 | 3532 | 70.39 | Hash451 |\n",
       "| 6 | Souporcell | Match | 3424 | 3532 | 96.94 | Hash451 |\n",
       "| 8 | Vireo      | Match | 3481 | 3532 | 98.56 | Hash451 |\n",
       "| 2 | Freemuxlet | Match | 3793 | 3881 | 97.73 | Hash452 |\n",
       "| 4 | Scsplit    | Match | 2767 | 3881 | 71.30 | Hash452 |\n",
       "| 6 | Souporcell | Match | 3779 | 3881 | 97.37 | Hash452 |\n",
       "| 8 | Vireo      | Match | 3849 | 3881 | 99.18 | Hash452 |\n",
       "| 2 | Freemuxlet | Match | 3731 | 3813 | 97.85 | Hash453 |\n",
       "| 4 | Scsplit    | Match | 2703 | 3813 | 70.89 | Hash453 |\n",
       "| 6 | Souporcell | Match | 3714 | 3813 | 97.40 | Hash453 |\n",
       "| 8 | Vireo      | Match | 3767 | 3813 | 98.79 | Hash453 |\n",
       "| 2 | Freemuxlet | Match | 3742 | 3841 | 97.42 | Hash454 |\n",
       "| 4 | Scsplit    | Match | 2635 | 3841 | 68.60 | Hash454 |\n",
       "| 6 | Souporcell | Match | 3746 | 3841 | 97.53 | Hash454 |\n",
       "| 8 | Vireo      | Match | 3792 | 3841 | 98.72 | Hash454 |\n",
       "| 2 | Freemuxlet | Match | 4113 | 4206 | 97.79 | Hash455 |\n",
       "| 4 | Scsplit    | Match | 3311 | 4206 | 78.72 | Hash455 |\n",
       "| 6 | Souporcell | Match | 4094 | 4206 | 97.34 | Hash455 |\n",
       "| 8 | Vireo      | Match | 4149 | 4206 | 98.64 | Hash455 |\n",
       "| 2 | Freemuxlet | Match | 3835 | 3926 | 97.68 | Hash456 |\n",
       "| 4 | Scsplit    | Match | 2690 | 3926 | 68.52 | Hash456 |\n",
       "| 6 | Souporcell | Match | 3823 | 3926 | 97.38 | Hash456 |\n",
       "| 8 | Vireo      | Match | 3884 | 3926 | 98.93 | Hash456 |\n",
       "\n"
      ],
      "text/plain": [
       "   V1 Method     Assignment Count Count_Total Percentage downsampled\n",
       "1  2  Freemuxlet Match      3442  3532        97.45      Hash451    \n",
       "2  4  Scsplit    Match      2486  3532        70.39      Hash451    \n",
       "3  6  Souporcell Match      3424  3532        96.94      Hash451    \n",
       "4  8  Vireo      Match      3481  3532        98.56      Hash451    \n",
       "5  2  Freemuxlet Match      3793  3881        97.73      Hash452    \n",
       "6  4  Scsplit    Match      2767  3881        71.30      Hash452    \n",
       "7  6  Souporcell Match      3779  3881        97.37      Hash452    \n",
       "8  8  Vireo      Match      3849  3881        99.18      Hash452    \n",
       "9  2  Freemuxlet Match      3731  3813        97.85      Hash453    \n",
       "10 4  Scsplit    Match      2703  3813        70.89      Hash453    \n",
       "11 6  Souporcell Match      3714  3813        97.40      Hash453    \n",
       "12 8  Vireo      Match      3767  3813        98.79      Hash453    \n",
       "13 2  Freemuxlet Match      3742  3841        97.42      Hash454    \n",
       "14 4  Scsplit    Match      2635  3841        68.60      Hash454    \n",
       "15 6  Souporcell Match      3746  3841        97.53      Hash454    \n",
       "16 8  Vireo      Match      3792  3841        98.72      Hash454    \n",
       "17 2  Freemuxlet Match      4113  4206        97.79      Hash455    \n",
       "18 4  Scsplit    Match      3311  4206        78.72      Hash455    \n",
       "19 6  Souporcell Match      4094  4206        97.34      Hash455    \n",
       "20 8  Vireo      Match      4149  4206        98.64      Hash455    \n",
       "21 2  Freemuxlet Match      3835  3926        97.68      Hash456    \n",
       "22 4  Scsplit    Match      2690  3926        68.52      Hash456    \n",
       "23 6  Souporcell Match      3823  3926        97.38      Hash456    \n",
       "24 8  Vireo      Match      3884  3926        98.93      Hash456    "
      ]
     },
     "metadata": {},
     "output_type": "display_data"
    }
   ],
   "source": [
    "keys <- paste0(\"Hash45\", 1:6)\n",
    "names(mismatch_30_run3) <- keys\n",
    "run3_30 <- lapply(seq_along(mismatch_30_run3), function(x) {\n",
    "    dt <- fread(mismatch_30_run3[x])\n",
    "    dt <- dt[dt$Assignment == \"Match\", ]\n",
    "    dt$downsampled <- names(mismatch_30_run3)[x]\n",
    "    return(dt)\n",
    "})\n",
    "run3_30 <- rbindlist(run3_30)\n",
    "run3_30\n"
   ]
  },
  {
   "cell_type": "code",
   "execution_count": 12,
   "id": "0e09625b",
   "metadata": {
    "vscode": {
     "languageId": "r"
    }
   },
   "outputs": [
    {
     "data": {
      "text/html": [
       "<table class=\"dataframe\">\n",
       "<caption>A data.table: 24 x 7</caption>\n",
       "<thead>\n",
       "\t<tr><th scope=col>V1</th><th scope=col>Method</th><th scope=col>Assignment</th><th scope=col>Count</th><th scope=col>Count_Total</th><th scope=col>Percentage</th><th scope=col>downsampled</th></tr>\n",
       "\t<tr><th scope=col>&lt;int&gt;</th><th scope=col>&lt;chr&gt;</th><th scope=col>&lt;chr&gt;</th><th scope=col>&lt;int&gt;</th><th scope=col>&lt;int&gt;</th><th scope=col>&lt;dbl&gt;</th><th scope=col>&lt;chr&gt;</th></tr>\n",
       "</thead>\n",
       "<tbody>\n",
       "\t<tr><td>2</td><td>Freemuxlet</td><td>Match</td><td>3685</td><td>3774</td><td>97.64</td><td>Hash451</td></tr>\n",
       "\t<tr><td>4</td><td>Scsplit   </td><td>Match</td><td>2610</td><td>3774</td><td>69.16</td><td>Hash451</td></tr>\n",
       "\t<tr><td>6</td><td>Souporcell</td><td>Match</td><td>3676</td><td>3774</td><td>97.40</td><td>Hash451</td></tr>\n",
       "\t<tr><td>8</td><td>Vireo     </td><td>Match</td><td>3729</td><td>3774</td><td>98.81</td><td>Hash451</td></tr>\n",
       "\t<tr><td>2</td><td>Freemuxlet</td><td>Match</td><td>3931</td><td>4022</td><td>97.74</td><td>Hash452</td></tr>\n",
       "\t<tr><td>4</td><td>Scsplit   </td><td>Match</td><td>2519</td><td>4022</td><td>62.63</td><td>Hash452</td></tr>\n",
       "\t<tr><td>6</td><td>Souporcell</td><td>Match</td><td>3922</td><td>4022</td><td>97.51</td><td>Hash452</td></tr>\n",
       "\t<tr><td>8</td><td>Vireo     </td><td>Match</td><td>3963</td><td>4022</td><td>98.53</td><td>Hash452</td></tr>\n",
       "\t<tr><td>2</td><td>Freemuxlet</td><td>Match</td><td>3890</td><td>3974</td><td>97.89</td><td>Hash453</td></tr>\n",
       "\t<tr><td>4</td><td>Scsplit   </td><td>Match</td><td>3007</td><td>3974</td><td>75.67</td><td>Hash453</td></tr>\n",
       "\t<tr><td>6</td><td>Souporcell</td><td>Match</td><td>3881</td><td>3974</td><td>97.66</td><td>Hash453</td></tr>\n",
       "\t<tr><td>8</td><td>Vireo     </td><td>Match</td><td>3931</td><td>3974</td><td>98.92</td><td>Hash453</td></tr>\n",
       "\t<tr><td>2</td><td>Freemuxlet</td><td>Match</td><td>3892</td><td>3994</td><td>97.45</td><td>Hash454</td></tr>\n",
       "\t<tr><td>4</td><td>Scsplit   </td><td>Match</td><td>2603</td><td>3994</td><td>65.17</td><td>Hash454</td></tr>\n",
       "\t<tr><td>6</td><td>Souporcell</td><td>Match</td><td>3911</td><td>3994</td><td>97.92</td><td>Hash454</td></tr>\n",
       "\t<tr><td>8</td><td>Vireo     </td><td>Match</td><td>3947</td><td>3994</td><td>98.82</td><td>Hash454</td></tr>\n",
       "\t<tr><td>2</td><td>Freemuxlet</td><td>Match</td><td>4158</td><td>4254</td><td>97.74</td><td>Hash455</td></tr>\n",
       "\t<tr><td>4</td><td>Scsplit   </td><td>Match</td><td>3307</td><td>4254</td><td>77.74</td><td>Hash455</td></tr>\n",
       "\t<tr><td>6</td><td>Souporcell</td><td>Match</td><td>4156</td><td>4254</td><td>97.70</td><td>Hash455</td></tr>\n",
       "\t<tr><td>8</td><td>Vireo     </td><td>Match</td><td>4201</td><td>4254</td><td>98.75</td><td>Hash455</td></tr>\n",
       "\t<tr><td>2</td><td>Freemuxlet</td><td>Match</td><td>3960</td><td>4055</td><td>97.66</td><td>Hash456</td></tr>\n",
       "\t<tr><td>4</td><td>Scsplit   </td><td>Match</td><td>2664</td><td>4055</td><td>65.70</td><td>Hash456</td></tr>\n",
       "\t<tr><td>6</td><td>Souporcell</td><td>Match</td><td>3950</td><td>4055</td><td>97.41</td><td>Hash456</td></tr>\n",
       "\t<tr><td>8</td><td>Vireo     </td><td>Match</td><td>4013</td><td>4055</td><td>98.96</td><td>Hash456</td></tr>\n",
       "</tbody>\n",
       "</table>\n"
      ],
      "text/latex": [
       "A data.table: 24 x 7\n",
       "\\begin{tabular}{lllllll}\n",
       " V1 & Method & Assignment & Count & Count\\_Total & Percentage & downsampled\\\\\n",
       " <int> & <chr> & <chr> & <int> & <int> & <dbl> & <chr>\\\\\n",
       "\\hline\n",
       "\t 2 & Freemuxlet & Match & 3685 & 3774 & 97.64 & Hash451\\\\\n",
       "\t 4 & Scsplit    & Match & 2610 & 3774 & 69.16 & Hash451\\\\\n",
       "\t 6 & Souporcell & Match & 3676 & 3774 & 97.40 & Hash451\\\\\n",
       "\t 8 & Vireo      & Match & 3729 & 3774 & 98.81 & Hash451\\\\\n",
       "\t 2 & Freemuxlet & Match & 3931 & 4022 & 97.74 & Hash452\\\\\n",
       "\t 4 & Scsplit    & Match & 2519 & 4022 & 62.63 & Hash452\\\\\n",
       "\t 6 & Souporcell & Match & 3922 & 4022 & 97.51 & Hash452\\\\\n",
       "\t 8 & Vireo      & Match & 3963 & 4022 & 98.53 & Hash452\\\\\n",
       "\t 2 & Freemuxlet & Match & 3890 & 3974 & 97.89 & Hash453\\\\\n",
       "\t 4 & Scsplit    & Match & 3007 & 3974 & 75.67 & Hash453\\\\\n",
       "\t 6 & Souporcell & Match & 3881 & 3974 & 97.66 & Hash453\\\\\n",
       "\t 8 & Vireo      & Match & 3931 & 3974 & 98.92 & Hash453\\\\\n",
       "\t 2 & Freemuxlet & Match & 3892 & 3994 & 97.45 & Hash454\\\\\n",
       "\t 4 & Scsplit    & Match & 2603 & 3994 & 65.17 & Hash454\\\\\n",
       "\t 6 & Souporcell & Match & 3911 & 3994 & 97.92 & Hash454\\\\\n",
       "\t 8 & Vireo      & Match & 3947 & 3994 & 98.82 & Hash454\\\\\n",
       "\t 2 & Freemuxlet & Match & 4158 & 4254 & 97.74 & Hash455\\\\\n",
       "\t 4 & Scsplit    & Match & 3307 & 4254 & 77.74 & Hash455\\\\\n",
       "\t 6 & Souporcell & Match & 4156 & 4254 & 97.70 & Hash455\\\\\n",
       "\t 8 & Vireo      & Match & 4201 & 4254 & 98.75 & Hash455\\\\\n",
       "\t 2 & Freemuxlet & Match & 3960 & 4055 & 97.66 & Hash456\\\\\n",
       "\t 4 & Scsplit    & Match & 2664 & 4055 & 65.70 & Hash456\\\\\n",
       "\t 6 & Souporcell & Match & 3950 & 4055 & 97.41 & Hash456\\\\\n",
       "\t 8 & Vireo      & Match & 4013 & 4055 & 98.96 & Hash456\\\\\n",
       "\\end{tabular}\n"
      ],
      "text/markdown": [
       "\n",
       "A data.table: 24 x 7\n",
       "\n",
       "| V1 &lt;int&gt; | Method &lt;chr&gt; | Assignment &lt;chr&gt; | Count &lt;int&gt; | Count_Total &lt;int&gt; | Percentage &lt;dbl&gt; | downsampled &lt;chr&gt; |\n",
       "|---|---|---|---|---|---|---|\n",
       "| 2 | Freemuxlet | Match | 3685 | 3774 | 97.64 | Hash451 |\n",
       "| 4 | Scsplit    | Match | 2610 | 3774 | 69.16 | Hash451 |\n",
       "| 6 | Souporcell | Match | 3676 | 3774 | 97.40 | Hash451 |\n",
       "| 8 | Vireo      | Match | 3729 | 3774 | 98.81 | Hash451 |\n",
       "| 2 | Freemuxlet | Match | 3931 | 4022 | 97.74 | Hash452 |\n",
       "| 4 | Scsplit    | Match | 2519 | 4022 | 62.63 | Hash452 |\n",
       "| 6 | Souporcell | Match | 3922 | 4022 | 97.51 | Hash452 |\n",
       "| 8 | Vireo      | Match | 3963 | 4022 | 98.53 | Hash452 |\n",
       "| 2 | Freemuxlet | Match | 3890 | 3974 | 97.89 | Hash453 |\n",
       "| 4 | Scsplit    | Match | 3007 | 3974 | 75.67 | Hash453 |\n",
       "| 6 | Souporcell | Match | 3881 | 3974 | 97.66 | Hash453 |\n",
       "| 8 | Vireo      | Match | 3931 | 3974 | 98.92 | Hash453 |\n",
       "| 2 | Freemuxlet | Match | 3892 | 3994 | 97.45 | Hash454 |\n",
       "| 4 | Scsplit    | Match | 2603 | 3994 | 65.17 | Hash454 |\n",
       "| 6 | Souporcell | Match | 3911 | 3994 | 97.92 | Hash454 |\n",
       "| 8 | Vireo      | Match | 3947 | 3994 | 98.82 | Hash454 |\n",
       "| 2 | Freemuxlet | Match | 4158 | 4254 | 97.74 | Hash455 |\n",
       "| 4 | Scsplit    | Match | 3307 | 4254 | 77.74 | Hash455 |\n",
       "| 6 | Souporcell | Match | 4156 | 4254 | 97.70 | Hash455 |\n",
       "| 8 | Vireo      | Match | 4201 | 4254 | 98.75 | Hash455 |\n",
       "| 2 | Freemuxlet | Match | 3960 | 4055 | 97.66 | Hash456 |\n",
       "| 4 | Scsplit    | Match | 2664 | 4055 | 65.70 | Hash456 |\n",
       "| 6 | Souporcell | Match | 3950 | 4055 | 97.41 | Hash456 |\n",
       "| 8 | Vireo      | Match | 4013 | 4055 | 98.96 | Hash456 |\n",
       "\n"
      ],
      "text/plain": [
       "   V1 Method     Assignment Count Count_Total Percentage downsampled\n",
       "1  2  Freemuxlet Match      3685  3774        97.64      Hash451    \n",
       "2  4  Scsplit    Match      2610  3774        69.16      Hash451    \n",
       "3  6  Souporcell Match      3676  3774        97.40      Hash451    \n",
       "4  8  Vireo      Match      3729  3774        98.81      Hash451    \n",
       "5  2  Freemuxlet Match      3931  4022        97.74      Hash452    \n",
       "6  4  Scsplit    Match      2519  4022        62.63      Hash452    \n",
       "7  6  Souporcell Match      3922  4022        97.51      Hash452    \n",
       "8  8  Vireo      Match      3963  4022        98.53      Hash452    \n",
       "9  2  Freemuxlet Match      3890  3974        97.89      Hash453    \n",
       "10 4  Scsplit    Match      3007  3974        75.67      Hash453    \n",
       "11 6  Souporcell Match      3881  3974        97.66      Hash453    \n",
       "12 8  Vireo      Match      3931  3974        98.92      Hash453    \n",
       "13 2  Freemuxlet Match      3892  3994        97.45      Hash454    \n",
       "14 4  Scsplit    Match      2603  3994        65.17      Hash454    \n",
       "15 6  Souporcell Match      3911  3994        97.92      Hash454    \n",
       "16 8  Vireo      Match      3947  3994        98.82      Hash454    \n",
       "17 2  Freemuxlet Match      4158  4254        97.74      Hash455    \n",
       "18 4  Scsplit    Match      3307  4254        77.74      Hash455    \n",
       "19 6  Souporcell Match      4156  4254        97.70      Hash455    \n",
       "20 8  Vireo      Match      4201  4254        98.75      Hash455    \n",
       "21 2  Freemuxlet Match      3960  4055        97.66      Hash456    \n",
       "22 4  Scsplit    Match      2664  4055        65.70      Hash456    \n",
       "23 6  Souporcell Match      3950  4055        97.41      Hash456    \n",
       "24 8  Vireo      Match      4013  4055        98.96      Hash456    "
      ]
     },
     "metadata": {},
     "output_type": "display_data"
    }
   ],
   "source": [
    "keys <- paste0(\"Hash45\", 1:6)\n",
    "names(mismatch_50_run3) <- keys\n",
    "run3_50 <- lapply(seq_along(mismatch_50_run3), function(x) {\n",
    "    dt <- fread(mismatch_50_run3[x])\n",
    "    dt <- dt[dt$Assignment == \"Match\", ]\n",
    "    dt$downsampled <- names(mismatch_50_run3)[x]\n",
    "    return(dt)\n",
    "})\n",
    "run3_50 <- rbindlist(run3_50)\n",
    "run3_50\n"
   ]
  },
  {
   "cell_type": "code",
   "execution_count": 13,
   "id": "51222d1d",
   "metadata": {
    "vscode": {
     "languageId": "r"
    }
   },
   "outputs": [
    {
     "data": {
      "text/html": [
       "<table class=\"dataframe\">\n",
       "<caption>A data.table: 24 x 7</caption>\n",
       "<thead>\n",
       "\t<tr><th scope=col>V1</th><th scope=col>Method</th><th scope=col>Assignment</th><th scope=col>Count</th><th scope=col>Count_Total</th><th scope=col>Percentage</th><th scope=col>downsampled</th></tr>\n",
       "\t<tr><th scope=col>&lt;int&gt;</th><th scope=col>&lt;chr&gt;</th><th scope=col>&lt;chr&gt;</th><th scope=col>&lt;int&gt;</th><th scope=col>&lt;int&gt;</th><th scope=col>&lt;dbl&gt;</th><th scope=col>&lt;chr&gt;</th></tr>\n",
       "</thead>\n",
       "<tbody>\n",
       "\t<tr><td>2</td><td>Freemuxlet</td><td>Match</td><td>3692</td><td>3774</td><td>97.83</td><td>Hash451</td></tr>\n",
       "\t<tr><td>4</td><td>Scsplit   </td><td>Match</td><td>2505</td><td>3774</td><td>66.38</td><td>Hash451</td></tr>\n",
       "\t<tr><td>6</td><td>Souporcell</td><td>Match</td><td>3678</td><td>3774</td><td>97.46</td><td>Hash451</td></tr>\n",
       "\t<tr><td>8</td><td>Vireo     </td><td>Match</td><td>3732</td><td>3774</td><td>98.89</td><td>Hash451</td></tr>\n",
       "\t<tr><td>2</td><td>Freemuxlet</td><td>Match</td><td>3933</td><td>4022</td><td>97.79</td><td>Hash452</td></tr>\n",
       "\t<tr><td>4</td><td>Scsplit   </td><td>Match</td><td>2755</td><td>4022</td><td>68.50</td><td>Hash452</td></tr>\n",
       "\t<tr><td>6</td><td>Souporcell</td><td>Match</td><td>3925</td><td>4022</td><td>97.59</td><td>Hash452</td></tr>\n",
       "\t<tr><td>8</td><td>Vireo     </td><td>Match</td><td>3989</td><td>4022</td><td>99.18</td><td>Hash452</td></tr>\n",
       "\t<tr><td>2</td><td>Freemuxlet</td><td>Match</td><td>3886</td><td>3974</td><td>97.79</td><td>Hash453</td></tr>\n",
       "\t<tr><td>4</td><td>Scsplit   </td><td>Match</td><td>2966</td><td>3974</td><td>74.64</td><td>Hash453</td></tr>\n",
       "\t<tr><td>6</td><td>Souporcell</td><td>Match</td><td>3879</td><td>3974</td><td>97.61</td><td>Hash453</td></tr>\n",
       "\t<tr><td>8</td><td>Vireo     </td><td>Match</td><td>3935</td><td>3974</td><td>99.02</td><td>Hash453</td></tr>\n",
       "\t<tr><td>2</td><td>Freemuxlet</td><td>Match</td><td>3897</td><td>3994</td><td>97.57</td><td>Hash454</td></tr>\n",
       "\t<tr><td>4</td><td>Scsplit   </td><td>Match</td><td>2709</td><td>3994</td><td>67.83</td><td>Hash454</td></tr>\n",
       "\t<tr><td>6</td><td>Souporcell</td><td>Match</td><td>3902</td><td>3994</td><td>97.70</td><td>Hash454</td></tr>\n",
       "\t<tr><td>8</td><td>Vireo     </td><td>Match</td><td>3950</td><td>3994</td><td>98.90</td><td>Hash454</td></tr>\n",
       "\t<tr><td>2</td><td>Freemuxlet</td><td>Match</td><td>4165</td><td>4254</td><td>97.91</td><td>Hash455</td></tr>\n",
       "\t<tr><td>4</td><td>Scsplit   </td><td>Match</td><td>3342</td><td>4254</td><td>78.56</td><td>Hash455</td></tr>\n",
       "\t<tr><td>6</td><td>Souporcell</td><td>Match</td><td>4157</td><td>4254</td><td>97.72</td><td>Hash455</td></tr>\n",
       "\t<tr><td>8</td><td>Vireo     </td><td>Match</td><td>4197</td><td>4254</td><td>98.66</td><td>Hash455</td></tr>\n",
       "\t<tr><td>2</td><td>Freemuxlet</td><td>Match</td><td>3965</td><td>4055</td><td>97.78</td><td>Hash456</td></tr>\n",
       "\t<tr><td>4</td><td>Scsplit   </td><td>Match</td><td>3436</td><td>4055</td><td>84.73</td><td>Hash456</td></tr>\n",
       "\t<tr><td>6</td><td>Souporcell</td><td>Match</td><td>3954</td><td>4055</td><td>97.51</td><td>Hash456</td></tr>\n",
       "\t<tr><td>8</td><td>Vireo     </td><td>Match</td><td>4017</td><td>4055</td><td>99.06</td><td>Hash456</td></tr>\n",
       "</tbody>\n",
       "</table>\n"
      ],
      "text/latex": [
       "A data.table: 24 x 7\n",
       "\\begin{tabular}{lllllll}\n",
       " V1 & Method & Assignment & Count & Count\\_Total & Percentage & downsampled\\\\\n",
       " <int> & <chr> & <chr> & <int> & <int> & <dbl> & <chr>\\\\\n",
       "\\hline\n",
       "\t 2 & Freemuxlet & Match & 3692 & 3774 & 97.83 & Hash451\\\\\n",
       "\t 4 & Scsplit    & Match & 2505 & 3774 & 66.38 & Hash451\\\\\n",
       "\t 6 & Souporcell & Match & 3678 & 3774 & 97.46 & Hash451\\\\\n",
       "\t 8 & Vireo      & Match & 3732 & 3774 & 98.89 & Hash451\\\\\n",
       "\t 2 & Freemuxlet & Match & 3933 & 4022 & 97.79 & Hash452\\\\\n",
       "\t 4 & Scsplit    & Match & 2755 & 4022 & 68.50 & Hash452\\\\\n",
       "\t 6 & Souporcell & Match & 3925 & 4022 & 97.59 & Hash452\\\\\n",
       "\t 8 & Vireo      & Match & 3989 & 4022 & 99.18 & Hash452\\\\\n",
       "\t 2 & Freemuxlet & Match & 3886 & 3974 & 97.79 & Hash453\\\\\n",
       "\t 4 & Scsplit    & Match & 2966 & 3974 & 74.64 & Hash453\\\\\n",
       "\t 6 & Souporcell & Match & 3879 & 3974 & 97.61 & Hash453\\\\\n",
       "\t 8 & Vireo      & Match & 3935 & 3974 & 99.02 & Hash453\\\\\n",
       "\t 2 & Freemuxlet & Match & 3897 & 3994 & 97.57 & Hash454\\\\\n",
       "\t 4 & Scsplit    & Match & 2709 & 3994 & 67.83 & Hash454\\\\\n",
       "\t 6 & Souporcell & Match & 3902 & 3994 & 97.70 & Hash454\\\\\n",
       "\t 8 & Vireo      & Match & 3950 & 3994 & 98.90 & Hash454\\\\\n",
       "\t 2 & Freemuxlet & Match & 4165 & 4254 & 97.91 & Hash455\\\\\n",
       "\t 4 & Scsplit    & Match & 3342 & 4254 & 78.56 & Hash455\\\\\n",
       "\t 6 & Souporcell & Match & 4157 & 4254 & 97.72 & Hash455\\\\\n",
       "\t 8 & Vireo      & Match & 4197 & 4254 & 98.66 & Hash455\\\\\n",
       "\t 2 & Freemuxlet & Match & 3965 & 4055 & 97.78 & Hash456\\\\\n",
       "\t 4 & Scsplit    & Match & 3436 & 4055 & 84.73 & Hash456\\\\\n",
       "\t 6 & Souporcell & Match & 3954 & 4055 & 97.51 & Hash456\\\\\n",
       "\t 8 & Vireo      & Match & 4017 & 4055 & 99.06 & Hash456\\\\\n",
       "\\end{tabular}\n"
      ],
      "text/markdown": [
       "\n",
       "A data.table: 24 x 7\n",
       "\n",
       "| V1 &lt;int&gt; | Method &lt;chr&gt; | Assignment &lt;chr&gt; | Count &lt;int&gt; | Count_Total &lt;int&gt; | Percentage &lt;dbl&gt; | downsampled &lt;chr&gt; |\n",
       "|---|---|---|---|---|---|---|\n",
       "| 2 | Freemuxlet | Match | 3692 | 3774 | 97.83 | Hash451 |\n",
       "| 4 | Scsplit    | Match | 2505 | 3774 | 66.38 | Hash451 |\n",
       "| 6 | Souporcell | Match | 3678 | 3774 | 97.46 | Hash451 |\n",
       "| 8 | Vireo      | Match | 3732 | 3774 | 98.89 | Hash451 |\n",
       "| 2 | Freemuxlet | Match | 3933 | 4022 | 97.79 | Hash452 |\n",
       "| 4 | Scsplit    | Match | 2755 | 4022 | 68.50 | Hash452 |\n",
       "| 6 | Souporcell | Match | 3925 | 4022 | 97.59 | Hash452 |\n",
       "| 8 | Vireo      | Match | 3989 | 4022 | 99.18 | Hash452 |\n",
       "| 2 | Freemuxlet | Match | 3886 | 3974 | 97.79 | Hash453 |\n",
       "| 4 | Scsplit    | Match | 2966 | 3974 | 74.64 | Hash453 |\n",
       "| 6 | Souporcell | Match | 3879 | 3974 | 97.61 | Hash453 |\n",
       "| 8 | Vireo      | Match | 3935 | 3974 | 99.02 | Hash453 |\n",
       "| 2 | Freemuxlet | Match | 3897 | 3994 | 97.57 | Hash454 |\n",
       "| 4 | Scsplit    | Match | 2709 | 3994 | 67.83 | Hash454 |\n",
       "| 6 | Souporcell | Match | 3902 | 3994 | 97.70 | Hash454 |\n",
       "| 8 | Vireo      | Match | 3950 | 3994 | 98.90 | Hash454 |\n",
       "| 2 | Freemuxlet | Match | 4165 | 4254 | 97.91 | Hash455 |\n",
       "| 4 | Scsplit    | Match | 3342 | 4254 | 78.56 | Hash455 |\n",
       "| 6 | Souporcell | Match | 4157 | 4254 | 97.72 | Hash455 |\n",
       "| 8 | Vireo      | Match | 4197 | 4254 | 98.66 | Hash455 |\n",
       "| 2 | Freemuxlet | Match | 3965 | 4055 | 97.78 | Hash456 |\n",
       "| 4 | Scsplit    | Match | 3436 | 4055 | 84.73 | Hash456 |\n",
       "| 6 | Souporcell | Match | 3954 | 4055 | 97.51 | Hash456 |\n",
       "| 8 | Vireo      | Match | 4017 | 4055 | 99.06 | Hash456 |\n",
       "\n"
      ],
      "text/plain": [
       "   V1 Method     Assignment Count Count_Total Percentage downsampled\n",
       "1  2  Freemuxlet Match      3692  3774        97.83      Hash451    \n",
       "2  4  Scsplit    Match      2505  3774        66.38      Hash451    \n",
       "3  6  Souporcell Match      3678  3774        97.46      Hash451    \n",
       "4  8  Vireo      Match      3732  3774        98.89      Hash451    \n",
       "5  2  Freemuxlet Match      3933  4022        97.79      Hash452    \n",
       "6  4  Scsplit    Match      2755  4022        68.50      Hash452    \n",
       "7  6  Souporcell Match      3925  4022        97.59      Hash452    \n",
       "8  8  Vireo      Match      3989  4022        99.18      Hash452    \n",
       "9  2  Freemuxlet Match      3886  3974        97.79      Hash453    \n",
       "10 4  Scsplit    Match      2966  3974        74.64      Hash453    \n",
       "11 6  Souporcell Match      3879  3974        97.61      Hash453    \n",
       "12 8  Vireo      Match      3935  3974        99.02      Hash453    \n",
       "13 2  Freemuxlet Match      3897  3994        97.57      Hash454    \n",
       "14 4  Scsplit    Match      2709  3994        67.83      Hash454    \n",
       "15 6  Souporcell Match      3902  3994        97.70      Hash454    \n",
       "16 8  Vireo      Match      3950  3994        98.90      Hash454    \n",
       "17 2  Freemuxlet Match      4165  4254        97.91      Hash455    \n",
       "18 4  Scsplit    Match      3342  4254        78.56      Hash455    \n",
       "19 6  Souporcell Match      4157  4254        97.72      Hash455    \n",
       "20 8  Vireo      Match      4197  4254        98.66      Hash455    \n",
       "21 2  Freemuxlet Match      3965  4055        97.78      Hash456    \n",
       "22 4  Scsplit    Match      3436  4055        84.73      Hash456    \n",
       "23 6  Souporcell Match      3954  4055        97.51      Hash456    \n",
       "24 8  Vireo      Match      4017  4055        99.06      Hash456    "
      ]
     },
     "metadata": {},
     "output_type": "display_data"
    }
   ],
   "source": [
    "keys <- paste0(\"Hash45\", 1:6)\n",
    "names(mismatch_50_run2) <- keys\n",
    "run2_50 <- lapply(seq_along(mismatch_50_run2), function(x) {\n",
    "    dt <- fread(mismatch_50_run2[x])\n",
    "    dt <- dt[dt$Assignment == \"Match\", ]\n",
    "    dt$downsampled <- names(mismatch_50_run2)[x]\n",
    "    return(dt)\n",
    "})\n",
    "run2_50 <- rbindlist(run2_50)\n",
    "run2_50\n"
   ]
  },
  {
   "cell_type": "code",
   "execution_count": 14,
   "id": "1cd52bf4",
   "metadata": {
    "vscode": {
     "languageId": "r"
    }
   },
   "outputs": [
    {
     "data": {
      "text/html": [
       "<table class=\"dataframe\">\n",
       "<caption>A data.table: 24 x 7</caption>\n",
       "<thead>\n",
       "\t<tr><th scope=col>V1</th><th scope=col>Method</th><th scope=col>Assignment</th><th scope=col>Count</th><th scope=col>Count_Total</th><th scope=col>Percentage</th><th scope=col>downsampled</th></tr>\n",
       "\t<tr><th scope=col>&lt;int&gt;</th><th scope=col>&lt;chr&gt;</th><th scope=col>&lt;chr&gt;</th><th scope=col>&lt;int&gt;</th><th scope=col>&lt;int&gt;</th><th scope=col>&lt;dbl&gt;</th><th scope=col>&lt;chr&gt;</th></tr>\n",
       "</thead>\n",
       "<tbody>\n",
       "\t<tr><td>2</td><td>Freemuxlet</td><td>Match</td><td>3680</td><td>3774</td><td>97.51</td><td>Hash451</td></tr>\n",
       "\t<tr><td>4</td><td>Scsplit   </td><td>Match</td><td>2569</td><td>3774</td><td>68.07</td><td>Hash451</td></tr>\n",
       "\t<tr><td>6</td><td>Souporcell</td><td>Match</td><td>3667</td><td>3774</td><td>97.16</td><td>Hash451</td></tr>\n",
       "\t<tr><td>8</td><td>Vireo     </td><td>Match</td><td>3737</td><td>3774</td><td>99.02</td><td>Hash451</td></tr>\n",
       "\t<tr><td>2</td><td>Freemuxlet</td><td>Match</td><td>3927</td><td>4022</td><td>97.64</td><td>Hash452</td></tr>\n",
       "\t<tr><td>4</td><td>Scsplit   </td><td>Match</td><td>2933</td><td>4022</td><td>72.92</td><td>Hash452</td></tr>\n",
       "\t<tr><td>6</td><td>Souporcell</td><td>Match</td><td>3921</td><td>4022</td><td>97.49</td><td>Hash452</td></tr>\n",
       "\t<tr><td>8</td><td>Vireo     </td><td>Match</td><td>3984</td><td>4022</td><td>99.06</td><td>Hash452</td></tr>\n",
       "\t<tr><td>2</td><td>Freemuxlet</td><td>Match</td><td>3892</td><td>3974</td><td>97.94</td><td>Hash453</td></tr>\n",
       "\t<tr><td>4</td><td>Scsplit   </td><td>Match</td><td>3072</td><td>3974</td><td>77.30</td><td>Hash453</td></tr>\n",
       "\t<tr><td>6</td><td>Souporcell</td><td>Match</td><td>3880</td><td>3974</td><td>97.63</td><td>Hash453</td></tr>\n",
       "\t<tr><td>8</td><td>Vireo     </td><td>Match</td><td>3935</td><td>3974</td><td>99.02</td><td>Hash453</td></tr>\n",
       "\t<tr><td>2</td><td>Freemuxlet</td><td>Match</td><td>3896</td><td>3994</td><td>97.55</td><td>Hash454</td></tr>\n",
       "\t<tr><td>4</td><td>Scsplit   </td><td>Match</td><td>2698</td><td>3994</td><td>67.55</td><td>Hash454</td></tr>\n",
       "\t<tr><td>6</td><td>Souporcell</td><td>Match</td><td>3907</td><td>3994</td><td>97.82</td><td>Hash454</td></tr>\n",
       "\t<tr><td>8</td><td>Vireo     </td><td>Match</td><td>3954</td><td>3994</td><td>99.00</td><td>Hash454</td></tr>\n",
       "\t<tr><td>2</td><td>Freemuxlet</td><td>Match</td><td>4156</td><td>4254</td><td>97.70</td><td>Hash455</td></tr>\n",
       "\t<tr><td>4</td><td>Scsplit   </td><td>Match</td><td>3332</td><td>4254</td><td>78.33</td><td>Hash455</td></tr>\n",
       "\t<tr><td>6</td><td>Souporcell</td><td>Match</td><td>4155</td><td>4254</td><td>97.67</td><td>Hash455</td></tr>\n",
       "\t<tr><td>8</td><td>Vireo     </td><td>Match</td><td>4208</td><td>4254</td><td>98.92</td><td>Hash455</td></tr>\n",
       "\t<tr><td>2</td><td>Freemuxlet</td><td>Match</td><td>3961</td><td>4055</td><td>97.68</td><td>Hash456</td></tr>\n",
       "\t<tr><td>4</td><td>Scsplit   </td><td>Match</td><td>2885</td><td>4055</td><td>71.15</td><td>Hash456</td></tr>\n",
       "\t<tr><td>6</td><td>Souporcell</td><td>Match</td><td>3952</td><td>4055</td><td>97.46</td><td>Hash456</td></tr>\n",
       "\t<tr><td>8</td><td>Vireo     </td><td>Match</td><td>4010</td><td>4055</td><td>98.89</td><td>Hash456</td></tr>\n",
       "</tbody>\n",
       "</table>\n"
      ],
      "text/latex": [
       "A data.table: 24 x 7\n",
       "\\begin{tabular}{lllllll}\n",
       " V1 & Method & Assignment & Count & Count\\_Total & Percentage & downsampled\\\\\n",
       " <int> & <chr> & <chr> & <int> & <int> & <dbl> & <chr>\\\\\n",
       "\\hline\n",
       "\t 2 & Freemuxlet & Match & 3680 & 3774 & 97.51 & Hash451\\\\\n",
       "\t 4 & Scsplit    & Match & 2569 & 3774 & 68.07 & Hash451\\\\\n",
       "\t 6 & Souporcell & Match & 3667 & 3774 & 97.16 & Hash451\\\\\n",
       "\t 8 & Vireo      & Match & 3737 & 3774 & 99.02 & Hash451\\\\\n",
       "\t 2 & Freemuxlet & Match & 3927 & 4022 & 97.64 & Hash452\\\\\n",
       "\t 4 & Scsplit    & Match & 2933 & 4022 & 72.92 & Hash452\\\\\n",
       "\t 6 & Souporcell & Match & 3921 & 4022 & 97.49 & Hash452\\\\\n",
       "\t 8 & Vireo      & Match & 3984 & 4022 & 99.06 & Hash452\\\\\n",
       "\t 2 & Freemuxlet & Match & 3892 & 3974 & 97.94 & Hash453\\\\\n",
       "\t 4 & Scsplit    & Match & 3072 & 3974 & 77.30 & Hash453\\\\\n",
       "\t 6 & Souporcell & Match & 3880 & 3974 & 97.63 & Hash453\\\\\n",
       "\t 8 & Vireo      & Match & 3935 & 3974 & 99.02 & Hash453\\\\\n",
       "\t 2 & Freemuxlet & Match & 3896 & 3994 & 97.55 & Hash454\\\\\n",
       "\t 4 & Scsplit    & Match & 2698 & 3994 & 67.55 & Hash454\\\\\n",
       "\t 6 & Souporcell & Match & 3907 & 3994 & 97.82 & Hash454\\\\\n",
       "\t 8 & Vireo      & Match & 3954 & 3994 & 99.00 & Hash454\\\\\n",
       "\t 2 & Freemuxlet & Match & 4156 & 4254 & 97.70 & Hash455\\\\\n",
       "\t 4 & Scsplit    & Match & 3332 & 4254 & 78.33 & Hash455\\\\\n",
       "\t 6 & Souporcell & Match & 4155 & 4254 & 97.67 & Hash455\\\\\n",
       "\t 8 & Vireo      & Match & 4208 & 4254 & 98.92 & Hash455\\\\\n",
       "\t 2 & Freemuxlet & Match & 3961 & 4055 & 97.68 & Hash456\\\\\n",
       "\t 4 & Scsplit    & Match & 2885 & 4055 & 71.15 & Hash456\\\\\n",
       "\t 6 & Souporcell & Match & 3952 & 4055 & 97.46 & Hash456\\\\\n",
       "\t 8 & Vireo      & Match & 4010 & 4055 & 98.89 & Hash456\\\\\n",
       "\\end{tabular}\n"
      ],
      "text/markdown": [
       "\n",
       "A data.table: 24 x 7\n",
       "\n",
       "| V1 &lt;int&gt; | Method &lt;chr&gt; | Assignment &lt;chr&gt; | Count &lt;int&gt; | Count_Total &lt;int&gt; | Percentage &lt;dbl&gt; | downsampled &lt;chr&gt; |\n",
       "|---|---|---|---|---|---|---|\n",
       "| 2 | Freemuxlet | Match | 3680 | 3774 | 97.51 | Hash451 |\n",
       "| 4 | Scsplit    | Match | 2569 | 3774 | 68.07 | Hash451 |\n",
       "| 6 | Souporcell | Match | 3667 | 3774 | 97.16 | Hash451 |\n",
       "| 8 | Vireo      | Match | 3737 | 3774 | 99.02 | Hash451 |\n",
       "| 2 | Freemuxlet | Match | 3927 | 4022 | 97.64 | Hash452 |\n",
       "| 4 | Scsplit    | Match | 2933 | 4022 | 72.92 | Hash452 |\n",
       "| 6 | Souporcell | Match | 3921 | 4022 | 97.49 | Hash452 |\n",
       "| 8 | Vireo      | Match | 3984 | 4022 | 99.06 | Hash452 |\n",
       "| 2 | Freemuxlet | Match | 3892 | 3974 | 97.94 | Hash453 |\n",
       "| 4 | Scsplit    | Match | 3072 | 3974 | 77.30 | Hash453 |\n",
       "| 6 | Souporcell | Match | 3880 | 3974 | 97.63 | Hash453 |\n",
       "| 8 | Vireo      | Match | 3935 | 3974 | 99.02 | Hash453 |\n",
       "| 2 | Freemuxlet | Match | 3896 | 3994 | 97.55 | Hash454 |\n",
       "| 4 | Scsplit    | Match | 2698 | 3994 | 67.55 | Hash454 |\n",
       "| 6 | Souporcell | Match | 3907 | 3994 | 97.82 | Hash454 |\n",
       "| 8 | Vireo      | Match | 3954 | 3994 | 99.00 | Hash454 |\n",
       "| 2 | Freemuxlet | Match | 4156 | 4254 | 97.70 | Hash455 |\n",
       "| 4 | Scsplit    | Match | 3332 | 4254 | 78.33 | Hash455 |\n",
       "| 6 | Souporcell | Match | 4155 | 4254 | 97.67 | Hash455 |\n",
       "| 8 | Vireo      | Match | 4208 | 4254 | 98.92 | Hash455 |\n",
       "| 2 | Freemuxlet | Match | 3961 | 4055 | 97.68 | Hash456 |\n",
       "| 4 | Scsplit    | Match | 2885 | 4055 | 71.15 | Hash456 |\n",
       "| 6 | Souporcell | Match | 3952 | 4055 | 97.46 | Hash456 |\n",
       "| 8 | Vireo      | Match | 4010 | 4055 | 98.89 | Hash456 |\n",
       "\n"
      ],
      "text/plain": [
       "   V1 Method     Assignment Count Count_Total Percentage downsampled\n",
       "1  2  Freemuxlet Match      3680  3774        97.51      Hash451    \n",
       "2  4  Scsplit    Match      2569  3774        68.07      Hash451    \n",
       "3  6  Souporcell Match      3667  3774        97.16      Hash451    \n",
       "4  8  Vireo      Match      3737  3774        99.02      Hash451    \n",
       "5  2  Freemuxlet Match      3927  4022        97.64      Hash452    \n",
       "6  4  Scsplit    Match      2933  4022        72.92      Hash452    \n",
       "7  6  Souporcell Match      3921  4022        97.49      Hash452    \n",
       "8  8  Vireo      Match      3984  4022        99.06      Hash452    \n",
       "9  2  Freemuxlet Match      3892  3974        97.94      Hash453    \n",
       "10 4  Scsplit    Match      3072  3974        77.30      Hash453    \n",
       "11 6  Souporcell Match      3880  3974        97.63      Hash453    \n",
       "12 8  Vireo      Match      3935  3974        99.02      Hash453    \n",
       "13 2  Freemuxlet Match      3896  3994        97.55      Hash454    \n",
       "14 4  Scsplit    Match      2698  3994        67.55      Hash454    \n",
       "15 6  Souporcell Match      3907  3994        97.82      Hash454    \n",
       "16 8  Vireo      Match      3954  3994        99.00      Hash454    \n",
       "17 2  Freemuxlet Match      4156  4254        97.70      Hash455    \n",
       "18 4  Scsplit    Match      3332  4254        78.33      Hash455    \n",
       "19 6  Souporcell Match      4155  4254        97.67      Hash455    \n",
       "20 8  Vireo      Match      4208  4254        98.92      Hash455    \n",
       "21 2  Freemuxlet Match      3961  4055        97.68      Hash456    \n",
       "22 4  Scsplit    Match      2885  4055        71.15      Hash456    \n",
       "23 6  Souporcell Match      3952  4055        97.46      Hash456    \n",
       "24 8  Vireo      Match      4010  4055        98.89      Hash456    "
      ]
     },
     "metadata": {},
     "output_type": "display_data"
    }
   ],
   "source": [
    "keys <- paste0(\"Hash45\", 1:6)\n",
    "names(mismatch_50_run1) <- keys\n",
    "run1_50 <- lapply(seq_along(mismatch_50_run1), function(x) {\n",
    "    dt <- fread(mismatch_50_run1[x])\n",
    "    dt <- dt[dt$Assignment == \"Match\", ]\n",
    "    dt$downsampled <- names(mismatch_50_run1)[x]\n",
    "    return(dt)\n",
    "})\n",
    "run1_50 <- rbindlist(run1_50)\n",
    "run1_50\n"
   ]
  },
  {
   "cell_type": "code",
   "execution_count": 15,
   "id": "9302e360",
   "metadata": {
    "vscode": {
     "languageId": "r"
    }
   },
   "outputs": [],
   "source": [
    "run1_50$Run <- 1\n",
    "run1_50$Downsampled_pct <- \"50%\"\n",
    "run2_50$Run <- 2\n",
    "run2_50$Downsampled_pct <- \"50%\"\n",
    "run3_50$Run <- 3\n",
    "run3_50$Downsampled_pct <- \"50%\"\n",
    "run1_30$Run <- 1\n",
    "run1_30$Downsampled_pct <- \"30%\"\n",
    "run2_30$Run <- 2\n",
    "run2_30$Downsampled_pct <- \"30%\"\n",
    "run3_30$Run <- 3\n",
    "run3_30$Downsampled_pct <- \"30%\"\n",
    "all_res <- rbind(run1_50, run2_50, run3_50, run1_30, run2_30, run3_30)\n",
    "all_res$downsampled <- as.factor(all_res$downsampled)\n",
    "all_res$Run <- as.factor(all_res$Run)\n",
    "all_res$Downsampled_pct <- as.factor(all_res$Downsampled_pct)\n",
    "all_res$Method <- gsub(\"Downsample_30_run1_\", \"\", all_res$Method)\n",
    "all_res$Method <- gsub(\"Downsample_30_run2_\", \"\", all_res$Method)\n",
    "all_res$Method <- gsub(\"Downsample_30_run3_\", \"\", all_res$Method)\n",
    "all_res$Method <- gsub(\"Downsample_50_run1_\", \"\", all_res$Method)\n",
    "all_res$Method <- gsub(\"Downsample_50_run2_\", \"\", all_res$Method)\n",
    "all_res$Method <- gsub(\"Downsample_50_run3_\", \"\", all_res$Method)\n"
   ]
  },
  {
   "cell_type": "code",
   "execution_count": 16,
   "id": "ef11b9fd",
   "metadata": {
    "vscode": {
     "languageId": "r"
    }
   },
   "outputs": [
    {
     "data": {
      "image/png": "[encoded data removed]",
      "text/plain": [
       "plot without title"
      ]
     },
     "metadata": {
      "image/png": {
       "height": 240,
       "width": 840
      }
     },
     "output_type": "display_data"
    }
   ],
   "source": [
    "options(repr.plot.width = 14, repr.plot.height = 4)\n",
    "ggplot(all_res, aes(x = downsampled, y = Percentage, color = Downsampled_pct)) +\n",
    "    geom_boxplot() +\n",
    "    theme_bw() +\n",
    "    facet_grid(~Method) +\n",
    "    ylab(\"Match singlet %\") +\n",
    "    scale_color_manual(\n",
    "        values = c(\"#CD534CFF\", \"#0073C2FF\")\n",
    "    ) +\n",
    "    theme(\n",
    "        text = element_text(size = 20, family = \"Myriad Pro\"),\n",
    "        axis.text = element_text(size = 18),\n",
    "        axis.text.x = element_text(vjust = 0.5, angle = 45),\n",
    "        axis.title = element_text(size = 20),\n",
    "        legend.text = element_text(size = 20),\n",
    "        legend.title = element_text(size = 20),\n",
    "        legend.key.size = unit(0.8, \"cm\"),\n",
    "        plot.title = element_text(size = 30, hjust = 0.5)\n",
    "    )\n",
    "ggsave(\"/Users/xichenwu/Downloads/hadge_revise/fig5/downsampled.pdf\", dpi = 300, height = 4, width = 14)\n"
   ]
  },
  {
   "cell_type": "code",
   "execution_count": 17,
   "id": "2e208c8f",
   "metadata": {
    "vscode": {
     "languageId": "r"
    }
   },
   "outputs": [
    {
     "data": {
      "text/html": [
       "<style>\n",
       ".list-inline {list-style: none; margin:0; padding: 0}\n",
       ".list-inline>li {display: inline-block}\n",
       ".list-inline>li:not(:last-child)::after {content: \"\\00b7\"; padding: 0 .5ex}\n",
       "</style>\n",
       "<ol class=list-inline><li>'../data/hashing_downsampling_1/seed_27/hash_summary_30/hashing_assignment_all.csv'</li><li>'../data/hashing_downsampling_1/seed_27/hash_summary_50/hash_summary/hashing_assignment_all.csv'</li><li>'../data/hashing_downsampling_1/seed_27/hash_summary_70/hashing_assignment_all.csv'</li><li>'../data/hashing_downsampling_1/seed_32/hash_summary_30/hashing_assignment_all.csv'</li><li>'../data/hashing_downsampling_1/seed_32/hash_summary_50/hashing_assignment_all.csv'</li><li>'../data/hashing_downsampling_1/seed_32/hash_summary_70/hashing_assignment_all.csv'</li><li>'../data/hashing_downsampling_1/seed_42/hash_summary_30/hashing_assignment_all.csv'</li><li>'../data/hashing_downsampling_1/seed_42/hash_summary_50/hashing_assignment_all.csv'</li><li>'../data/hashing_downsampling_1/seed_42/hash_summary_70/hashing_assignment_all.csv'</li><li>'../data/hashing_downsampling_1/seed_52/hash_summary_30/hashing_assignment_all.csv'</li><li>'../data/hashing_downsampling_1/seed_52/hash_summary_50/hashing_assignment_all.csv'</li><li>'../data/hashing_downsampling_1/seed_52/hash_summary_70/hashing_assignment_all.csv'</li><li>'../data/hashing_downsampling_1/seed_72/hash_summary_30/hashing_assignment_all.csv'</li><li>'../data/hashing_downsampling_1/seed_72/hash_summary_50/hashing_assignment_all.csv'</li><li>'../data/hashing_downsampling_1/seed_72/hash_summary_70/hashing_assignment_all.csv'</li></ol>\n"
      ],
      "text/latex": [
       "\\begin{enumerate*}\n",
       "\\item '../data/hashing\\_downsampling\\_1/seed\\_27/hash\\_summary\\_30/hashing\\_assignment\\_all.csv'\n",
       "\\item '../data/hashing\\_downsampling\\_1/seed\\_27/hash\\_summary\\_50/hash\\_summary/hashing\\_assignment\\_all.csv'\n",
       "\\item '../data/hashing\\_downsampling\\_1/seed\\_27/hash\\_summary\\_70/hashing\\_assignment\\_all.csv'\n",
       "\\item '../data/hashing\\_downsampling\\_1/seed\\_32/hash\\_summary\\_30/hashing\\_assignment\\_all.csv'\n",
       "\\item '../data/hashing\\_downsampling\\_1/seed\\_32/hash\\_summary\\_50/hashing\\_assignment\\_all.csv'\n",
       "\\item '../data/hashing\\_downsampling\\_1/seed\\_32/hash\\_summary\\_70/hashing\\_assignment\\_all.csv'\n",
       "\\item '../data/hashing\\_downsampling\\_1/seed\\_42/hash\\_summary\\_30/hashing\\_assignment\\_all.csv'\n",
       "\\item '../data/hashing\\_downsampling\\_1/seed\\_42/hash\\_summary\\_50/hashing\\_assignment\\_all.csv'\n",
       "\\item '../data/hashing\\_downsampling\\_1/seed\\_42/hash\\_summary\\_70/hashing\\_assignment\\_all.csv'\n",
       "\\item '../data/hashing\\_downsampling\\_1/seed\\_52/hash\\_summary\\_30/hashing\\_assignment\\_all.csv'\n",
       "\\item '../data/hashing\\_downsampling\\_1/seed\\_52/hash\\_summary\\_50/hashing\\_assignment\\_all.csv'\n",
       "\\item '../data/hashing\\_downsampling\\_1/seed\\_52/hash\\_summary\\_70/hashing\\_assignment\\_all.csv'\n",
       "\\item '../data/hashing\\_downsampling\\_1/seed\\_72/hash\\_summary\\_30/hashing\\_assignment\\_all.csv'\n",
       "\\item '../data/hashing\\_downsampling\\_1/seed\\_72/hash\\_summary\\_50/hashing\\_assignment\\_all.csv'\n",
       "\\item '../data/hashing\\_downsampling\\_1/seed\\_72/hash\\_summary\\_70/hashing\\_assignment\\_all.csv'\n",
       "\\end{enumerate*}\n"
      ],
      "text/markdown": [
       "1. '../data/hashing_downsampling_1/seed_27/hash_summary_30/hashing_assignment_all.csv'\n",
       "2. '../data/hashing_downsampling_1/seed_27/hash_summary_50/hash_summary/hashing_assignment_all.csv'\n",
       "3. '../data/hashing_downsampling_1/seed_27/hash_summary_70/hashing_assignment_all.csv'\n",
       "4. '../data/hashing_downsampling_1/seed_32/hash_summary_30/hashing_assignment_all.csv'\n",
       "5. '../data/hashing_downsampling_1/seed_32/hash_summary_50/hashing_assignment_all.csv'\n",
       "6. '../data/hashing_downsampling_1/seed_32/hash_summary_70/hashing_assignment_all.csv'\n",
       "7. '../data/hashing_downsampling_1/seed_42/hash_summary_30/hashing_assignment_all.csv'\n",
       "8. '../data/hashing_downsampling_1/seed_42/hash_summary_50/hashing_assignment_all.csv'\n",
       "9. '../data/hashing_downsampling_1/seed_42/hash_summary_70/hashing_assignment_all.csv'\n",
       "10. '../data/hashing_downsampling_1/seed_52/hash_summary_30/hashing_assignment_all.csv'\n",
       "11. '../data/hashing_downsampling_1/seed_52/hash_summary_50/hashing_assignment_all.csv'\n",
       "12. '../data/hashing_downsampling_1/seed_52/hash_summary_70/hashing_assignment_all.csv'\n",
       "13. '../data/hashing_downsampling_1/seed_72/hash_summary_30/hashing_assignment_all.csv'\n",
       "14. '../data/hashing_downsampling_1/seed_72/hash_summary_50/hashing_assignment_all.csv'\n",
       "15. '../data/hashing_downsampling_1/seed_72/hash_summary_70/hashing_assignment_all.csv'\n",
       "\n",
       "\n"
      ],
      "text/plain": [
       " [1] \"../data/hashing_downsampling_1/seed_27/hash_summary_30/hashing_assignment_all.csv\"             \n",
       " [2] \"../data/hashing_downsampling_1/seed_27/hash_summary_50/hash_summary/hashing_assignment_all.csv\"\n",
       " [3] \"../data/hashing_downsampling_1/seed_27/hash_summary_70/hashing_assignment_all.csv\"             \n",
       " [4] \"../data/hashing_downsampling_1/seed_32/hash_summary_30/hashing_assignment_all.csv\"             \n",
       " [5] \"../data/hashing_downsampling_1/seed_32/hash_summary_50/hashing_assignment_all.csv\"             \n",
       " [6] \"../data/hashing_downsampling_1/seed_32/hash_summary_70/hashing_assignment_all.csv\"             \n",
       " [7] \"../data/hashing_downsampling_1/seed_42/hash_summary_30/hashing_assignment_all.csv\"             \n",
       " [8] \"../data/hashing_downsampling_1/seed_42/hash_summary_50/hashing_assignment_all.csv\"             \n",
       " [9] \"../data/hashing_downsampling_1/seed_42/hash_summary_70/hashing_assignment_all.csv\"             \n",
       "[10] \"../data/hashing_downsampling_1/seed_52/hash_summary_30/hashing_assignment_all.csv\"             \n",
       "[11] \"../data/hashing_downsampling_1/seed_52/hash_summary_50/hashing_assignment_all.csv\"             \n",
       "[12] \"../data/hashing_downsampling_1/seed_52/hash_summary_70/hashing_assignment_all.csv\"             \n",
       "[13] \"../data/hashing_downsampling_1/seed_72/hash_summary_30/hashing_assignment_all.csv\"             \n",
       "[14] \"../data/hashing_downsampling_1/seed_72/hash_summary_50/hashing_assignment_all.csv\"             \n",
       "[15] \"../data/hashing_downsampling_1/seed_72/hash_summary_70/hashing_assignment_all.csv\"             "
      ]
     },
     "metadata": {},
     "output_type": "display_data"
    }
   ],
   "source": [
    "hashing_all <- list.files(\n",
    "    path = \"../data/hashing_downsampling_1\",\n",
    "    pattern = \"hashing_assignment_all.csv\",\n",
    "    all.files = TRUE,\n",
    "    full.names = TRUE,\n",
    "    recursive = TRUE\n",
    ")\n",
    "hashing_all\n"
   ]
  },
  {
   "cell_type": "code",
   "execution_count": 18,
   "id": "6009d5cc",
   "metadata": {
    "vscode": {
     "languageId": "r"
    }
   },
   "outputs": [],
   "source": [
    "df_list <- lapply(hashing_all, function(f) {\n",
    "    x <- read.csv(f, na.strings = \"\")\n",
    "    x_bff <- x %>%\n",
    "        filter(!is.na(\"bff_1\")) %>%\n",
    "        select(Barcode, bff_1)\n",
    "    x <- x %>% select(-bff_1)\n",
    "    x$Barcode <- paste0(x$Barcode, \"-1\")\n",
    "    x <- inner_join(x, x_bff, by = \"Barcode\")\n",
    "    x$seed <- str_extract(f, \"(?<=seed_)[0-9]+\")\n",
    "    x$pct <- str_extract(f, \"(?<=hash_summary_)[0-9]+\")\n",
    "    return(x)\n",
    "})\n",
    "compare <- rbindlist(df_list)\n"
   ]
  },
  {
   "cell_type": "code",
   "execution_count": 19,
   "id": "5a8bc664",
   "metadata": {
    "vscode": {
     "languageId": "r"
    }
   },
   "outputs": [
    {
     "data": {
      "text/html": [
       "<table class=\"dataframe\">\n",
       "<caption>A data.table: 6 x 10</caption>\n",
       "<thead>\n",
       "\t<tr><th scope=col>Barcode</th><th scope=col>hashsolo_1</th><th scope=col>hashedDrops_1</th><th scope=col>htodemux_1</th><th scope=col>multiseq_1</th><th scope=col>gmm_demux_1</th><th scope=col>bff_1</th><th scope=col>seed</th><th scope=col>pct</th><th scope=col>gt</th></tr>\n",
       "\t<tr><th scope=col>&lt;chr&gt;</th><th scope=col>&lt;chr&gt;</th><th scope=col>&lt;chr&gt;</th><th scope=col>&lt;chr&gt;</th><th scope=col>&lt;chr&gt;</th><th scope=col>&lt;chr&gt;</th><th scope=col>&lt;chr&gt;</th><th scope=col>&lt;chr&gt;</th><th scope=col>&lt;chr&gt;</th><th scope=col>&lt;chr&gt;</th></tr>\n",
       "</thead>\n",
       "<tbody>\n",
       "\t<tr><td>CAACCAAGTACACCGC-1</td><td>HTO_1</td><td>1</td><td>HTO-1</td><td>HTO-1</td><td>HTO_1</td><td>HTO_1</td><td>27</td><td>30</td><td>HTO_1</td></tr>\n",
       "\t<tr><td>GAATAAGTCACTGGGC-1</td><td>HTO_4</td><td>4</td><td>HTO-4</td><td>HTO-4</td><td>HTO_4</td><td>HTO_4</td><td>27</td><td>30</td><td>HTO_4</td></tr>\n",
       "\t<tr><td>TTTGGTTCACAGCGTC-1</td><td>HTO_4</td><td>4</td><td>HTO-4</td><td>HTO-4</td><td>HTO_4</td><td>HTO_4</td><td>27</td><td>30</td><td>HTO_4</td></tr>\n",
       "\t<tr><td>TGGTTCCAGTGACTCT-1</td><td>HTO_1</td><td>1</td><td>HTO-1</td><td>HTO-1</td><td>HTO_1</td><td>HTO_1</td><td>27</td><td>30</td><td>HTO_1</td></tr>\n",
       "\t<tr><td>CCGTTCAGTCGCTTTC-1</td><td>HTO_3</td><td>3</td><td>HTO-3</td><td>HTO-3</td><td>HTO_3</td><td>HTO_3</td><td>27</td><td>30</td><td>HTO_3</td></tr>\n",
       "\t<tr><td>CGAGAAGAGGGATGGG-1</td><td>HTO_2</td><td>2</td><td>HTO-2</td><td>HTO-2</td><td>HTO_2</td><td>HTO_2</td><td>27</td><td>30</td><td>HTO_2</td></tr>\n",
       "</tbody>\n",
       "</table>\n"
      ],
      "text/latex": [
       "A data.table: 6 x 10\n",
       "\\begin{tabular}{llllllllll}\n",
       " Barcode & hashsolo\\_1 & hashedDrops\\_1 & htodemux\\_1 & multiseq\\_1 & gmm\\_demux\\_1 & bff\\_1 & seed & pct & gt\\\\\n",
       " <chr> & <chr> & <chr> & <chr> & <chr> & <chr> & <chr> & <chr> & <chr> & <chr>\\\\\n",
       "\\hline\n",
       "\t CAACCAAGTACACCGC-1 & HTO\\_1 & 1 & HTO-1 & HTO-1 & HTO\\_1 & HTO\\_1 & 27 & 30 & HTO\\_1\\\\\n",
       "\t GAATAAGTCACTGGGC-1 & HTO\\_4 & 4 & HTO-4 & HTO-4 & HTO\\_4 & HTO\\_4 & 27 & 30 & HTO\\_4\\\\\n",
       "\t TTTGGTTCACAGCGTC-1 & HTO\\_4 & 4 & HTO-4 & HTO-4 & HTO\\_4 & HTO\\_4 & 27 & 30 & HTO\\_4\\\\\n",
       "\t TGGTTCCAGTGACTCT-1 & HTO\\_1 & 1 & HTO-1 & HTO-1 & HTO\\_1 & HTO\\_1 & 27 & 30 & HTO\\_1\\\\\n",
       "\t CCGTTCAGTCGCTTTC-1 & HTO\\_3 & 3 & HTO-3 & HTO-3 & HTO\\_3 & HTO\\_3 & 27 & 30 & HTO\\_3\\\\\n",
       "\t CGAGAAGAGGGATGGG-1 & HTO\\_2 & 2 & HTO-2 & HTO-2 & HTO\\_2 & HTO\\_2 & 27 & 30 & HTO\\_2\\\\\n",
       "\\end{tabular}\n"
      ],
      "text/markdown": [
       "\n",
       "A data.table: 6 x 10\n",
       "\n",
       "| Barcode &lt;chr&gt; | hashsolo_1 &lt;chr&gt; | hashedDrops_1 &lt;chr&gt; | htodemux_1 &lt;chr&gt; | multiseq_1 &lt;chr&gt; | gmm_demux_1 &lt;chr&gt; | bff_1 &lt;chr&gt; | seed &lt;chr&gt; | pct &lt;chr&gt; | gt &lt;chr&gt; |\n",
       "|---|---|---|---|---|---|---|---|---|---|\n",
       "| CAACCAAGTACACCGC-1 | HTO_1 | 1 | HTO-1 | HTO-1 | HTO_1 | HTO_1 | 27 | 30 | HTO_1 |\n",
       "| GAATAAGTCACTGGGC-1 | HTO_4 | 4 | HTO-4 | HTO-4 | HTO_4 | HTO_4 | 27 | 30 | HTO_4 |\n",
       "| TTTGGTTCACAGCGTC-1 | HTO_4 | 4 | HTO-4 | HTO-4 | HTO_4 | HTO_4 | 27 | 30 | HTO_4 |\n",
       "| TGGTTCCAGTGACTCT-1 | HTO_1 | 1 | HTO-1 | HTO-1 | HTO_1 | HTO_1 | 27 | 30 | HTO_1 |\n",
       "| CCGTTCAGTCGCTTTC-1 | HTO_3 | 3 | HTO-3 | HTO-3 | HTO_3 | HTO_3 | 27 | 30 | HTO_3 |\n",
       "| CGAGAAGAGGGATGGG-1 | HTO_2 | 2 | HTO-2 | HTO-2 | HTO_2 | HTO_2 | 27 | 30 | HTO_2 |\n",
       "\n"
      ],
      "text/plain": [
       "  Barcode            hashsolo_1 hashedDrops_1 htodemux_1 multiseq_1 gmm_demux_1\n",
       "1 CAACCAAGTACACCGC-1 HTO_1      1             HTO-1      HTO-1      HTO_1      \n",
       "2 GAATAAGTCACTGGGC-1 HTO_4      4             HTO-4      HTO-4      HTO_4      \n",
       "3 TTTGGTTCACAGCGTC-1 HTO_4      4             HTO-4      HTO-4      HTO_4      \n",
       "4 TGGTTCCAGTGACTCT-1 HTO_1      1             HTO-1      HTO-1      HTO_1      \n",
       "5 CCGTTCAGTCGCTTTC-1 HTO_3      3             HTO-3      HTO-3      HTO_3      \n",
       "6 CGAGAAGAGGGATGGG-1 HTO_2      2             HTO-2      HTO-2      HTO_2      \n",
       "  bff_1 seed pct gt   \n",
       "1 HTO_1 27   30  HTO_1\n",
       "2 HTO_4 27   30  HTO_4\n",
       "3 HTO_4 27   30  HTO_4\n",
       "4 HTO_1 27   30  HTO_1\n",
       "5 HTO_3 27   30  HTO_3\n",
       "6 HTO_2 27   30  HTO_2"
      ]
     },
     "metadata": {},
     "output_type": "display_data"
    }
   ],
   "source": [
    "gt <- fread(\"../data/hashing_downsampling_1/GMM_assignment.csv\")\n",
    "compare <- inner_join(compare, gt, by = \"Barcode\")\n",
    "colnames(compare)[10] <- \"gt\"\n",
    "head(compare)\n"
   ]
  },
  {
   "cell_type": "code",
   "execution_count": 20,
   "id": "5c700317",
   "metadata": {
    "vscode": {
     "languageId": "r"
    }
   },
   "outputs": [],
   "source": [
    "hashing_res <- compare[!compare$gt %in% c(\"doublet\", \"negative\"), ]\n",
    "hashing_res$hashedDrops_1 <- paste0(\"HTO_\", hashing_res$hashedDrops_1)\n",
    "hashing_res$htodemux_1 <- gsub(\"-\", \"_\", hashing_res$htodemux_1)\n",
    "hashing_res$multiseq_1 <- gsub(\"-\", \"_\", hashing_res$multiseq_1)\n"
   ]
  },
  {
   "cell_type": "code",
   "execution_count": 21,
   "id": "105018ed",
   "metadata": {
    "vscode": {
     "languageId": "r"
    }
   },
   "outputs": [],
   "source": [
    "matching_tb <- hashing_res %>%\n",
    "    mutate(across(-c(Barcode, gt, pct, seed), ~ .x == gt, .names = \"match_{.col}\")) %>%\n",
    "    select(starts_with(\"match\"))\n",
    "matching_tb <- bind_cols(hashing_res[, c(\"Barcode\", \"pct\", \"seed\")], matching_tb)\n"
   ]
  },
  {
   "cell_type": "code",
   "execution_count": 22,
   "id": "4acfbc31",
   "metadata": {
    "vscode": {
     "languageId": "r"
    }
   },
   "outputs": [],
   "source": [
    "matching_tb_tf <- matching_tb %>%\n",
    "    group_by(pct, seed) %>%\n",
    "    summarise(across(starts_with(\"match\"), ~ sum(.x) / length(.x[!is.na(.x)]) * 100), .groups = \"drop\")\n"
   ]
  },
  {
   "cell_type": "code",
   "execution_count": 23,
   "id": "b91b5526",
   "metadata": {
    "vscode": {
     "languageId": "r"
    }
   },
   "outputs": [
    {
     "name": "stderr",
     "output_type": "stream",
     "text": [
      "Warning message in melt(matching_tb_tf, id.vars = c(\"pct\", \"seed\"), variable.name = \"Method\", :\n",
      "\"The melt generic in data.table has been passed a tbl_df and will attempt to redirect to the relevant reshape2 method; please note that reshape2 is deprecated, and this redirection is now deprecated as well. To continue using melt methods from reshape2 while both libraries are attached, e.g. melt.list, you can prepend the namespace like reshape2::melt(matching_tb_tf). In the next version, this warning will become an error.\"\n"
     ]
    }
   ],
   "source": [
    "matching_tb_tf <- melt(matching_tb_tf, id.vars = c(\"pct\", \"seed\"), variable.name = \"Method\", value.name = \"Count\")\n",
    "matching_tb_tf$Method <- gsub(\"match_\", \"\", matching_tb_tf$Method)\n",
    "matching_tb_tf$Method <- gsub(\"_1\", \"\", matching_tb_tf$Method)\n"
   ]
  },
  {
   "cell_type": "code",
   "execution_count": 29,
   "id": "a8728995",
   "metadata": {
    "vscode": {
     "languageId": "r"
    }
   },
   "outputs": [
    {
     "data": {
      "text/html": [
       "<style>\n",
       ".list-inline {list-style: none; margin:0; padding: 0}\n",
       ".list-inline>li {display: inline-block}\n",
       ".list-inline>li:not(:last-child)::after {content: \"\\00b7\"; padding: 0 .5ex}\n",
       "</style>\n",
       "<ol class=list-inline><li>'../data/hashing_downsampling_2/seed_27/hash_summary_30/hashing_assignment_all.csv'</li><li>'../data/hashing_downsampling_2/seed_27/hash_summary_50/hashing_assignment_all.csv'</li><li>'../data/hashing_downsampling_2/seed_27/hash_summary_70/hashing_assignment_all.csv'</li><li>'../data/hashing_downsampling_2/seed_32/hash_summary_30/hashing_assignment_all.csv'</li><li>'../data/hashing_downsampling_2/seed_32/hash_summary_50/hashing_assignment_all.csv'</li><li>'../data/hashing_downsampling_2/seed_32/hash_summary_70/hashing_assignment_all.csv'</li><li>'../data/hashing_downsampling_2/seed_42/hash_summary_30/hashing_assignment_all.csv'</li><li>'../data/hashing_downsampling_2/seed_42/hash_summary_50/hashing_assignment_all.csv'</li><li>'../data/hashing_downsampling_2/seed_42/hash_summary_70/hashing_assignment_all.csv'</li><li>'../data/hashing_downsampling_2/seed_72/hash_summary_30/hashing_assignment_all.csv'</li><li>'../data/hashing_downsampling_2/seed_72/hash_summary_50/hashing_assignment_all.csv'</li><li>'../data/hashing_downsampling_2/seed_72/hash_summary_70/hashing_assignment_all.csv'</li><li>'../data/hashing_downsampling_2/seed_96/hash_summary_30/hashing_assignment_all.csv'</li><li>'../data/hashing_downsampling_2/seed_96/hash_summary_50/hashing_assignment_all.csv'</li><li>'../data/hashing_downsampling_2/seed_96/hash_summary_70/hashing_assignment_all.csv'</li></ol>\n"
      ],
      "text/latex": [
       "\\begin{enumerate*}\n",
       "\\item '../data/hashing\\_downsampling\\_2/seed\\_27/hash\\_summary\\_30/hashing\\_assignment\\_all.csv'\n",
       "\\item '../data/hashing\\_downsampling\\_2/seed\\_27/hash\\_summary\\_50/hashing\\_assignment\\_all.csv'\n",
       "\\item '../data/hashing\\_downsampling\\_2/seed\\_27/hash\\_summary\\_70/hashing\\_assignment\\_all.csv'\n",
       "\\item '../data/hashing\\_downsampling\\_2/seed\\_32/hash\\_summary\\_30/hashing\\_assignment\\_all.csv'\n",
       "\\item '../data/hashing\\_downsampling\\_2/seed\\_32/hash\\_summary\\_50/hashing\\_assignment\\_all.csv'\n",
       "\\item '../data/hashing\\_downsampling\\_2/seed\\_32/hash\\_summary\\_70/hashing\\_assignment\\_all.csv'\n",
       "\\item '../data/hashing\\_downsampling\\_2/seed\\_42/hash\\_summary\\_30/hashing\\_assignment\\_all.csv'\n",
       "\\item '../data/hashing\\_downsampling\\_2/seed\\_42/hash\\_summary\\_50/hashing\\_assignment\\_all.csv'\n",
       "\\item '../data/hashing\\_downsampling\\_2/seed\\_42/hash\\_summary\\_70/hashing\\_assignment\\_all.csv'\n",
       "\\item '../data/hashing\\_downsampling\\_2/seed\\_72/hash\\_summary\\_30/hashing\\_assignment\\_all.csv'\n",
       "\\item '../data/hashing\\_downsampling\\_2/seed\\_72/hash\\_summary\\_50/hashing\\_assignment\\_all.csv'\n",
       "\\item '../data/hashing\\_downsampling\\_2/seed\\_72/hash\\_summary\\_70/hashing\\_assignment\\_all.csv'\n",
       "\\item '../data/hashing\\_downsampling\\_2/seed\\_96/hash\\_summary\\_30/hashing\\_assignment\\_all.csv'\n",
       "\\item '../data/hashing\\_downsampling\\_2/seed\\_96/hash\\_summary\\_50/hashing\\_assignment\\_all.csv'\n",
       "\\item '../data/hashing\\_downsampling\\_2/seed\\_96/hash\\_summary\\_70/hashing\\_assignment\\_all.csv'\n",
       "\\end{enumerate*}\n"
      ],
      "text/markdown": [
       "1. '../data/hashing_downsampling_2/seed_27/hash_summary_30/hashing_assignment_all.csv'\n",
       "2. '../data/hashing_downsampling_2/seed_27/hash_summary_50/hashing_assignment_all.csv'\n",
       "3. '../data/hashing_downsampling_2/seed_27/hash_summary_70/hashing_assignment_all.csv'\n",
       "4. '../data/hashing_downsampling_2/seed_32/hash_summary_30/hashing_assignment_all.csv'\n",
       "5. '../data/hashing_downsampling_2/seed_32/hash_summary_50/hashing_assignment_all.csv'\n",
       "6. '../data/hashing_downsampling_2/seed_32/hash_summary_70/hashing_assignment_all.csv'\n",
       "7. '../data/hashing_downsampling_2/seed_42/hash_summary_30/hashing_assignment_all.csv'\n",
       "8. '../data/hashing_downsampling_2/seed_42/hash_summary_50/hashing_assignment_all.csv'\n",
       "9. '../data/hashing_downsampling_2/seed_42/hash_summary_70/hashing_assignment_all.csv'\n",
       "10. '../data/hashing_downsampling_2/seed_72/hash_summary_30/hashing_assignment_all.csv'\n",
       "11. '../data/hashing_downsampling_2/seed_72/hash_summary_50/hashing_assignment_all.csv'\n",
       "12. '../data/hashing_downsampling_2/seed_72/hash_summary_70/hashing_assignment_all.csv'\n",
       "13. '../data/hashing_downsampling_2/seed_96/hash_summary_30/hashing_assignment_all.csv'\n",
       "14. '../data/hashing_downsampling_2/seed_96/hash_summary_50/hashing_assignment_all.csv'\n",
       "15. '../data/hashing_downsampling_2/seed_96/hash_summary_70/hashing_assignment_all.csv'\n",
       "\n",
       "\n"
      ],
      "text/plain": [
       " [1] \"../data/hashing_downsampling_2/seed_27/hash_summary_30/hashing_assignment_all.csv\"\n",
       " [2] \"../data/hashing_downsampling_2/seed_27/hash_summary_50/hashing_assignment_all.csv\"\n",
       " [3] \"../data/hashing_downsampling_2/seed_27/hash_summary_70/hashing_assignment_all.csv\"\n",
       " [4] \"../data/hashing_downsampling_2/seed_32/hash_summary_30/hashing_assignment_all.csv\"\n",
       " [5] \"../data/hashing_downsampling_2/seed_32/hash_summary_50/hashing_assignment_all.csv\"\n",
       " [6] \"../data/hashing_downsampling_2/seed_32/hash_summary_70/hashing_assignment_all.csv\"\n",
       " [7] \"../data/hashing_downsampling_2/seed_42/hash_summary_30/hashing_assignment_all.csv\"\n",
       " [8] \"../data/hashing_downsampling_2/seed_42/hash_summary_50/hashing_assignment_all.csv\"\n",
       " [9] \"../data/hashing_downsampling_2/seed_42/hash_summary_70/hashing_assignment_all.csv\"\n",
       "[10] \"../data/hashing_downsampling_2/seed_72/hash_summary_30/hashing_assignment_all.csv\"\n",
       "[11] \"../data/hashing_downsampling_2/seed_72/hash_summary_50/hashing_assignment_all.csv\"\n",
       "[12] \"../data/hashing_downsampling_2/seed_72/hash_summary_70/hashing_assignment_all.csv\"\n",
       "[13] \"../data/hashing_downsampling_2/seed_96/hash_summary_30/hashing_assignment_all.csv\"\n",
       "[14] \"../data/hashing_downsampling_2/seed_96/hash_summary_50/hashing_assignment_all.csv\"\n",
       "[15] \"../data/hashing_downsampling_2/seed_96/hash_summary_70/hashing_assignment_all.csv\""
      ]
     },
     "metadata": {},
     "output_type": "display_data"
    }
   ],
   "source": [
    "hashing_all_sample2 <- list.files(\n",
    "    path = \"../data/hashing_downsampling_2\",\n",
    "    pattern = \"hashing_assignment_all.csv\",\n",
    "    all.files = TRUE,\n",
    "    full.names = TRUE,\n",
    "    recursive = TRUE\n",
    ")\n",
    "hashing_all_sample2\n"
   ]
  },
  {
   "cell_type": "code",
   "execution_count": 30,
   "id": "61d04ea9",
   "metadata": {
    "vscode": {
     "languageId": "r"
    }
   },
   "outputs": [],
   "source": [
    "df_list_sample2 <- lapply(hashing_all_sample2, function(f) {\n",
    "    x <- read.csv(f, na.strings = \"\")\n",
    "    x_bff <- x %>%\n",
    "        filter(!is.na(\"bff_1\")) %>%\n",
    "        select(Barcode, bff_1)\n",
    "    x <- x %>% select(-bff_1)\n",
    "    x$Barcode <- paste0(x$Barcode, \"-1\")\n",
    "    x <- inner_join(x, x_bff, by = \"Barcode\")\n",
    "    x$seed <- str_extract(f, \"(?<=seed_)[0-9]+\")\n",
    "    x$pct <- str_extract(f, \"(?<=hash_summary_)[0-9]+\")\n",
    "    return(x)\n",
    "})\n",
    "compare_sample2 <- rbindlist(df_list_sample2)\n"
   ]
  },
  {
   "cell_type": "code",
   "execution_count": 31,
   "id": "c9f2e1f7",
   "metadata": {
    "vscode": {
     "languageId": "r"
    }
   },
   "outputs": [
    {
     "data": {
      "text/html": [
       "<table class=\"dataframe\">\n",
       "<caption>A data.table: 6 x 8</caption>\n",
       "<thead>\n",
       "\t<tr><th scope=col>Barcode</th><th scope=col>hashsolo_1</th><th scope=col>hashedDrops_1</th><th scope=col>demuxem_1</th><th scope=col>bff_1</th><th scope=col>seed</th><th scope=col>pct</th><th scope=col>gt</th></tr>\n",
       "\t<tr><th scope=col>&lt;chr&gt;</th><th scope=col>&lt;chr&gt;</th><th scope=col>&lt;chr&gt;</th><th scope=col>&lt;chr&gt;</th><th scope=col>&lt;chr&gt;</th><th scope=col>&lt;chr&gt;</th><th scope=col>&lt;chr&gt;</th><th scope=col>&lt;chr&gt;</th></tr>\n",
       "</thead>\n",
       "<tbody>\n",
       "\t<tr><td>AGCGTCGTCAGAAATG-1</td><td>negative</td><td>2      </td><td>MS-12  </td><td>MS-12   </td><td>27</td><td>30</td><td>MS-12   </td></tr>\n",
       "\t<tr><td>GTGCTTCGTCTCATCC-1</td><td>negative</td><td>doublet</td><td>MS-12  </td><td>negative</td><td>27</td><td>30</td><td>MS-12   </td></tr>\n",
       "\t<tr><td>CCTTCGAAGGTGATTA-1</td><td>negative</td><td>doublet</td><td>doublet</td><td>negative</td><td>27</td><td>30</td><td>Negative</td></tr>\n",
       "\t<tr><td>CGGGTCAAGTCACGCC-1</td><td>negative</td><td>1      </td><td>MS-11  </td><td>MS-11   </td><td>27</td><td>30</td><td>MS-11   </td></tr>\n",
       "\t<tr><td>AGCATACAGAGACGAA-1</td><td>negative</td><td>2      </td><td>MS-12  </td><td>MS-12   </td><td>27</td><td>30</td><td>MS-12   </td></tr>\n",
       "\t<tr><td>TATTACCTCAGCAACT-1</td><td>negative</td><td>1      </td><td>MS-11  </td><td>MS-11   </td><td>27</td><td>30</td><td>MS-11   </td></tr>\n",
       "</tbody>\n",
       "</table>\n"
      ],
      "text/latex": [
       "A data.table: 6 x 8\n",
       "\\begin{tabular}{llllllll}\n",
       " Barcode & hashsolo\\_1 & hashedDrops\\_1 & demuxem\\_1 & bff\\_1 & seed & pct & gt\\\\\n",
       " <chr> & <chr> & <chr> & <chr> & <chr> & <chr> & <chr> & <chr>\\\\\n",
       "\\hline\n",
       "\t AGCGTCGTCAGAAATG-1 & negative & 2       & MS-12   & MS-12    & 27 & 30 & MS-12   \\\\\n",
       "\t GTGCTTCGTCTCATCC-1 & negative & doublet & MS-12   & negative & 27 & 30 & MS-12   \\\\\n",
       "\t CCTTCGAAGGTGATTA-1 & negative & doublet & doublet & negative & 27 & 30 & Negative\\\\\n",
       "\t CGGGTCAAGTCACGCC-1 & negative & 1       & MS-11   & MS-11    & 27 & 30 & MS-11   \\\\\n",
       "\t AGCATACAGAGACGAA-1 & negative & 2       & MS-12   & MS-12    & 27 & 30 & MS-12   \\\\\n",
       "\t TATTACCTCAGCAACT-1 & negative & 1       & MS-11   & MS-11    & 27 & 30 & MS-11   \\\\\n",
       "\\end{tabular}\n"
      ],
      "text/markdown": [
       "\n",
       "A data.table: 6 x 8\n",
       "\n",
       "| Barcode &lt;chr&gt; | hashsolo_1 &lt;chr&gt; | hashedDrops_1 &lt;chr&gt; | demuxem_1 &lt;chr&gt; | bff_1 &lt;chr&gt; | seed &lt;chr&gt; | pct &lt;chr&gt; | gt &lt;chr&gt; |\n",
       "|---|---|---|---|---|---|---|---|\n",
       "| AGCGTCGTCAGAAATG-1 | negative | 2       | MS-12   | MS-12    | 27 | 30 | MS-12    |\n",
       "| GTGCTTCGTCTCATCC-1 | negative | doublet | MS-12   | negative | 27 | 30 | MS-12    |\n",
       "| CCTTCGAAGGTGATTA-1 | negative | doublet | doublet | negative | 27 | 30 | Negative |\n",
       "| CGGGTCAAGTCACGCC-1 | negative | 1       | MS-11   | MS-11    | 27 | 30 | MS-11    |\n",
       "| AGCATACAGAGACGAA-1 | negative | 2       | MS-12   | MS-12    | 27 | 30 | MS-12    |\n",
       "| TATTACCTCAGCAACT-1 | negative | 1       | MS-11   | MS-11    | 27 | 30 | MS-11    |\n",
       "\n"
      ],
      "text/plain": [
       "  Barcode            hashsolo_1 hashedDrops_1 demuxem_1 bff_1    seed pct\n",
       "1 AGCGTCGTCAGAAATG-1 negative   2             MS-12     MS-12    27   30 \n",
       "2 GTGCTTCGTCTCATCC-1 negative   doublet       MS-12     negative 27   30 \n",
       "3 CCTTCGAAGGTGATTA-1 negative   doublet       doublet   negative 27   30 \n",
       "4 CGGGTCAAGTCACGCC-1 negative   1             MS-11     MS-11    27   30 \n",
       "5 AGCATACAGAGACGAA-1 negative   2             MS-12     MS-12    27   30 \n",
       "6 TATTACCTCAGCAACT-1 negative   1             MS-11     MS-11    27   30 \n",
       "  gt      \n",
       "1 MS-12   \n",
       "2 MS-12   \n",
       "3 Negative\n",
       "4 MS-11   \n",
       "5 MS-12   \n",
       "6 MS-11   "
      ]
     },
     "metadata": {},
     "output_type": "display_data"
    }
   ],
   "source": [
    "gt_sample2 <- fread(\"../data/hashing_downsampling_2/cell_hash_r.csv\")\n",
    "gt_sample2$Barcode <- paste0(gt_sample2$cellbarcode, \"-1\")\n",
    "compare_sample2 <- inner_join(compare_sample2, gt_sample2[, c(\"Barcode\", \"bff_cluster\")], by = \"Barcode\")\n",
    "colnames(compare_sample2)[8] <- \"gt\"\n",
    "head(compare_sample2)\n"
   ]
  },
  {
   "cell_type": "code",
   "execution_count": 32,
   "id": "676cde01",
   "metadata": {
    "vscode": {
     "languageId": "r"
    }
   },
   "outputs": [
    {
     "data": {
      "text/html": [
       "<table class=\"dataframe\">\n",
       "<caption>A tibble: 15 x 3</caption>\n",
       "<thead>\n",
       "\t<tr><th scope=col>pct</th><th scope=col>seed</th><th scope=col>unique_values</th></tr>\n",
       "\t<tr><th scope=col>&lt;chr&gt;</th><th scope=col>&lt;chr&gt;</th><th scope=col>&lt;list&gt;</th></tr>\n",
       "</thead>\n",
       "<tbody>\n",
       "\t<tr><td>30</td><td>27</td><td>2      , doublet, 1      </td></tr>\n",
       "\t<tr><td>30</td><td>32</td><td>2      , doublet, 1      </td></tr>\n",
       "\t<tr><td>30</td><td>42</td><td>2      , doublet, 1      </td></tr>\n",
       "\t<tr><td>30</td><td>72</td><td>2      , doublet, 1      </td></tr>\n",
       "\t<tr><td>30</td><td>96</td><td>doublet, 2      , 1      </td></tr>\n",
       "\t<tr><td>50</td><td>27</td><td>12      , negative, 11      , doublet </td></tr>\n",
       "\t<tr><td>50</td><td>32</td><td>12      , negative, doublet , 11      </td></tr>\n",
       "\t<tr><td>50</td><td>42</td><td>12      , negative, 11      , doublet </td></tr>\n",
       "\t<tr><td>50</td><td>72</td><td>12      , negative, 11      , doublet </td></tr>\n",
       "\t<tr><td>50</td><td>96</td><td>12      , negative, 11      , doublet </td></tr>\n",
       "\t<tr><td>70</td><td>27</td><td>2      , doublet, 1      </td></tr>\n",
       "\t<tr><td>70</td><td>32</td><td>2      , doublet, 1      </td></tr>\n",
       "\t<tr><td>70</td><td>42</td><td>2      , doublet, 1      </td></tr>\n",
       "\t<tr><td>70</td><td>72</td><td>2      , doublet, 1      </td></tr>\n",
       "\t<tr><td>70</td><td>96</td><td>doublet, 2      , 1      </td></tr>\n",
       "</tbody>\n",
       "</table>\n"
      ],
      "text/latex": [
       "A tibble: 15 x 3\n",
       "\\begin{tabular}{lll}\n",
       " pct & seed & unique\\_values\\\\\n",
       " <chr> & <chr> & <list>\\\\\n",
       "\\hline\n",
       "\t 30 & 27 & 2      , doublet, 1      \\\\\n",
       "\t 30 & 32 & 2      , doublet, 1      \\\\\n",
       "\t 30 & 42 & 2      , doublet, 1      \\\\\n",
       "\t 30 & 72 & 2      , doublet, 1      \\\\\n",
       "\t 30 & 96 & doublet, 2      , 1      \\\\\n",
       "\t 50 & 27 & 12      , negative, 11      , doublet \\\\\n",
       "\t 50 & 32 & 12      , negative, doublet , 11      \\\\\n",
       "\t 50 & 42 & 12      , negative, 11      , doublet \\\\\n",
       "\t 50 & 72 & 12      , negative, 11      , doublet \\\\\n",
       "\t 50 & 96 & 12      , negative, 11      , doublet \\\\\n",
       "\t 70 & 27 & 2      , doublet, 1      \\\\\n",
       "\t 70 & 32 & 2      , doublet, 1      \\\\\n",
       "\t 70 & 42 & 2      , doublet, 1      \\\\\n",
       "\t 70 & 72 & 2      , doublet, 1      \\\\\n",
       "\t 70 & 96 & doublet, 2      , 1      \\\\\n",
       "\\end{tabular}\n"
      ],
      "text/markdown": [
       "\n",
       "A tibble: 15 x 3\n",
       "\n",
       "| pct &lt;chr&gt; | seed &lt;chr&gt; | unique_values &lt;list&gt; |\n",
       "|---|---|---|\n",
       "| 30 | 27 | 2      , doublet, 1       |\n",
       "| 30 | 32 | 2      , doublet, 1       |\n",
       "| 30 | 42 | 2      , doublet, 1       |\n",
       "| 30 | 72 | 2      , doublet, 1       |\n",
       "| 30 | 96 | doublet, 2      , 1       |\n",
       "| 50 | 27 | 12      , negative, 11      , doublet  |\n",
       "| 50 | 32 | 12      , negative, doublet , 11       |\n",
       "| 50 | 42 | 12      , negative, 11      , doublet  |\n",
       "| 50 | 72 | 12      , negative, 11      , doublet  |\n",
       "| 50 | 96 | 12      , negative, 11      , doublet  |\n",
       "| 70 | 27 | 2      , doublet, 1       |\n",
       "| 70 | 32 | 2      , doublet, 1       |\n",
       "| 70 | 42 | 2      , doublet, 1       |\n",
       "| 70 | 72 | 2      , doublet, 1       |\n",
       "| 70 | 96 | doublet, 2      , 1       |\n",
       "\n"
      ],
      "text/plain": [
       "   pct seed unique_values                         \n",
       "1  30  27   2      , doublet, 1                   \n",
       "2  30  32   2      , doublet, 1                   \n",
       "3  30  42   2      , doublet, 1                   \n",
       "4  30  72   2      , doublet, 1                   \n",
       "5  30  96   doublet, 2      , 1                   \n",
       "6  50  27   12      , negative, 11      , doublet \n",
       "7  50  32   12      , negative, doublet , 11      \n",
       "8  50  42   12      , negative, 11      , doublet \n",
       "9  50  72   12      , negative, 11      , doublet \n",
       "10 50  96   12      , negative, 11      , doublet \n",
       "11 70  27   2      , doublet, 1                   \n",
       "12 70  32   2      , doublet, 1                   \n",
       "13 70  42   2      , doublet, 1                   \n",
       "14 70  72   2      , doublet, 1                   \n",
       "15 70  96   doublet, 2      , 1                   "
      ]
     },
     "metadata": {},
     "output_type": "display_data"
    }
   ],
   "source": [
    "compare_sample2 %>%\n",
    "    group_by(pct, seed) %>%\n",
    "    summarise(unique_values = list(unique(hashedDrops_1)), .groups = \"drop\")\n"
   ]
  },
  {
   "cell_type": "code",
   "execution_count": 33,
   "id": "6b5834ec",
   "metadata": {
    "vscode": {
     "languageId": "r"
    }
   },
   "outputs": [],
   "source": [
    "compare_sample2$hashsolo_1 <- gsub(\"-GGACCCCA\", \"\", compare_sample2$hashsolo_1)\n",
    "compare_sample2$hashsolo_1 <- gsub(\"-TTAGCCAG\", \"\", compare_sample2$hashsolo_1)\n",
    "\n",
    "compare_sample2$hashedDrops_1 <- gsub(\"-GGACCCCA\", \"\", compare_sample2$hashedDrops_1)\n",
    "compare_sample2$hashedDrops_1 <- gsub(\"-TTAGCCAG\", \"\", compare_sample2$hashedDrops_1)\n",
    "\n",
    "compare_sample2$demuxem_1 <- gsub(\"-GGACCCCA\", \"\", compare_sample2$demuxem_1)\n",
    "compare_sample2$demuxem_1 <- gsub(\"-TTAGCCAG\", \"\", compare_sample2$demuxem_1)\n",
    "\n",
    "compare_sample2$hashedDrops_1[compare_sample2$hashedDrops_1 == \"12\"] <- \"MS-12\"\n",
    "compare_sample2$hashedDrops_1[compare_sample2$hashedDrops_1 == \"11\"] <- \"MS-11\"\n",
    "compare_sample2$hashedDrops_1[compare_sample2$hashedDrops_1 == \"1\"] <- \"MS-11\"\n",
    "compare_sample2$hashedDrops_1[compare_sample2$hashedDrops_1 == \"2\"] <- \"MS-12\"\n"
   ]
  },
  {
   "cell_type": "code",
   "execution_count": 35,
   "id": "0778a2ae",
   "metadata": {
    "vscode": {
     "languageId": "r"
    }
   },
   "outputs": [
    {
     "data": {
      "text/html": [
       "83160"
      ],
      "text/latex": [
       "83160"
      ],
      "text/markdown": [
       "83160"
      ],
      "text/plain": [
       "[1] 83160"
      ]
     },
     "metadata": {},
     "output_type": "display_data"
    },
    {
     "data": {
      "text/html": [
       "<table class=\"dataframe\">\n",
       "<caption>A data.table: 20 x 8</caption>\n",
       "<thead>\n",
       "\t<tr><th scope=col>Barcode</th><th scope=col>hashsolo_1</th><th scope=col>hashedDrops_1</th><th scope=col>demuxem_1</th><th scope=col>bff_1</th><th scope=col>seed</th><th scope=col>pct</th><th scope=col>gt</th></tr>\n",
       "\t<tr><th scope=col>&lt;chr&gt;</th><th scope=col>&lt;chr&gt;</th><th scope=col>&lt;chr&gt;</th><th scope=col>&lt;chr&gt;</th><th scope=col>&lt;chr&gt;</th><th scope=col>&lt;chr&gt;</th><th scope=col>&lt;chr&gt;</th><th scope=col>&lt;chr&gt;</th></tr>\n",
       "</thead>\n",
       "<tbody>\n",
       "\t<tr><td>GCTTCCAAGAGTCGGT-1</td><td>negative</td><td>doublet</td><td>NA</td><td>MS-11   </td><td>27</td><td>30</td><td>MS-11  </td></tr>\n",
       "\t<tr><td>GACAGAGCATGCCTAA-1</td><td>negative</td><td>doublet</td><td>NA</td><td>negative</td><td>27</td><td>30</td><td>Doublet</td></tr>\n",
       "\t<tr><td>CCGTTCATCATGTCTT-1</td><td>negative</td><td>MS-12  </td><td>NA</td><td>MS-12   </td><td>32</td><td>30</td><td>MS-12  </td></tr>\n",
       "\t<tr><td>CATATGGAGGAATCGC-1</td><td>negative</td><td>doublet</td><td>NA</td><td>negative</td><td>32</td><td>30</td><td>MS-11  </td></tr>\n",
       "\t<tr><td>GACAGAGCATGCCTAA-1</td><td>negative</td><td>doublet</td><td>NA</td><td>negative</td><td>32</td><td>30</td><td>Doublet</td></tr>\n",
       "\t<tr><td>CCGTTCATCATGTCTT-1</td><td>negative</td><td>MS-12  </td><td>NA</td><td>MS-12   </td><td>42</td><td>30</td><td>MS-12  </td></tr>\n",
       "\t<tr><td>TACGGTAAGAAGGACA-1</td><td>negative</td><td>doublet</td><td>NA</td><td>negative</td><td>42</td><td>30</td><td>Doublet</td></tr>\n",
       "\t<tr><td>GCGGGTTAGGCTCAGA-1</td><td>negative</td><td>MS-11  </td><td>NA</td><td>MS-11   </td><td>42</td><td>30</td><td>MS-11  </td></tr>\n",
       "\t<tr><td>TGCTGCTGTTGGACCC-1</td><td>negative</td><td>doublet</td><td>NA</td><td>negative</td><td>42</td><td>30</td><td>MS-11  </td></tr>\n",
       "\t<tr><td>AAGCCGCTCTTGACGA-1</td><td>negative</td><td>MS-11  </td><td>NA</td><td>MS-11   </td><td>42</td><td>30</td><td>MS-11  </td></tr>\n",
       "\t<tr><td>GACAGAGCATGCCTAA-1</td><td>negative</td><td>doublet</td><td>NA</td><td>negative</td><td>42</td><td>30</td><td>Doublet</td></tr>\n",
       "\t<tr><td>CTGAAACGTTCGCTAA-1</td><td>negative</td><td>MS-12  </td><td>NA</td><td>MS-12   </td><td>72</td><td>30</td><td>MS-12  </td></tr>\n",
       "\t<tr><td>CATATGGAGGAATCGC-1</td><td>negative</td><td>doublet</td><td>NA</td><td>negative</td><td>72</td><td>30</td><td>MS-11  </td></tr>\n",
       "\t<tr><td>AGCCTAACAAGCCTAT-1</td><td>negative</td><td>MS-12  </td><td>NA</td><td>MS-12   </td><td>72</td><td>30</td><td>MS-12  </td></tr>\n",
       "\t<tr><td>CTGCTGTCAAGGACTG-1</td><td>negative</td><td>doublet</td><td>NA</td><td>negative</td><td>72</td><td>30</td><td>MS-11  </td></tr>\n",
       "\t<tr><td>AAGCCGCTCTTGACGA-1</td><td>negative</td><td>MS-11  </td><td>NA</td><td>MS-11   </td><td>96</td><td>30</td><td>MS-11  </td></tr>\n",
       "\t<tr><td>CTGCTGTCAAGGACTG-1</td><td>negative</td><td>doublet</td><td>NA</td><td>negative</td><td>96</td><td>30</td><td>MS-11  </td></tr>\n",
       "\t<tr><td>TGCTGCTGTTGGACCC-1</td><td>negative</td><td>doublet</td><td>NA</td><td>negative</td><td>96</td><td>30</td><td>MS-11  </td></tr>\n",
       "\t<tr><td>AGCCTAACAAGCCTAT-1</td><td>negative</td><td>MS-12  </td><td>NA</td><td>MS-12   </td><td>96</td><td>30</td><td>MS-12  </td></tr>\n",
       "\t<tr><td>CATATGGAGGAATCGC-1</td><td>negative</td><td>doublet</td><td>NA</td><td>negative</td><td>96</td><td>30</td><td>MS-11  </td></tr>\n",
       "</tbody>\n",
       "</table>\n"
      ],
      "text/latex": [
       "A data.table: 20 x 8\n",
       "\\begin{tabular}{llllllll}\n",
       " Barcode & hashsolo\\_1 & hashedDrops\\_1 & demuxem\\_1 & bff\\_1 & seed & pct & gt\\\\\n",
       " <chr> & <chr> & <chr> & <chr> & <chr> & <chr> & <chr> & <chr>\\\\\n",
       "\\hline\n",
       "\t GCTTCCAAGAGTCGGT-1 & negative & doublet & NA & MS-11    & 27 & 30 & MS-11  \\\\\n",
       "\t GACAGAGCATGCCTAA-1 & negative & doublet & NA & negative & 27 & 30 & Doublet\\\\\n",
       "\t CCGTTCATCATGTCTT-1 & negative & MS-12   & NA & MS-12    & 32 & 30 & MS-12  \\\\\n",
       "\t CATATGGAGGAATCGC-1 & negative & doublet & NA & negative & 32 & 30 & MS-11  \\\\\n",
       "\t GACAGAGCATGCCTAA-1 & negative & doublet & NA & negative & 32 & 30 & Doublet\\\\\n",
       "\t CCGTTCATCATGTCTT-1 & negative & MS-12   & NA & MS-12    & 42 & 30 & MS-12  \\\\\n",
       "\t TACGGTAAGAAGGACA-1 & negative & doublet & NA & negative & 42 & 30 & Doublet\\\\\n",
       "\t GCGGGTTAGGCTCAGA-1 & negative & MS-11   & NA & MS-11    & 42 & 30 & MS-11  \\\\\n",
       "\t TGCTGCTGTTGGACCC-1 & negative & doublet & NA & negative & 42 & 30 & MS-11  \\\\\n",
       "\t AAGCCGCTCTTGACGA-1 & negative & MS-11   & NA & MS-11    & 42 & 30 & MS-11  \\\\\n",
       "\t GACAGAGCATGCCTAA-1 & negative & doublet & NA & negative & 42 & 30 & Doublet\\\\\n",
       "\t CTGAAACGTTCGCTAA-1 & negative & MS-12   & NA & MS-12    & 72 & 30 & MS-12  \\\\\n",
       "\t CATATGGAGGAATCGC-1 & negative & doublet & NA & negative & 72 & 30 & MS-11  \\\\\n",
       "\t AGCCTAACAAGCCTAT-1 & negative & MS-12   & NA & MS-12    & 72 & 30 & MS-12  \\\\\n",
       "\t CTGCTGTCAAGGACTG-1 & negative & doublet & NA & negative & 72 & 30 & MS-11  \\\\\n",
       "\t AAGCCGCTCTTGACGA-1 & negative & MS-11   & NA & MS-11    & 96 & 30 & MS-11  \\\\\n",
       "\t CTGCTGTCAAGGACTG-1 & negative & doublet & NA & negative & 96 & 30 & MS-11  \\\\\n",
       "\t TGCTGCTGTTGGACCC-1 & negative & doublet & NA & negative & 96 & 30 & MS-11  \\\\\n",
       "\t AGCCTAACAAGCCTAT-1 & negative & MS-12   & NA & MS-12    & 96 & 30 & MS-12  \\\\\n",
       "\t CATATGGAGGAATCGC-1 & negative & doublet & NA & negative & 96 & 30 & MS-11  \\\\\n",
       "\\end{tabular}\n"
      ],
      "text/markdown": [
       "\n",
       "A data.table: 20 x 8\n",
       "\n",
       "| Barcode &lt;chr&gt; | hashsolo_1 &lt;chr&gt; | hashedDrops_1 &lt;chr&gt; | demuxem_1 &lt;chr&gt; | bff_1 &lt;chr&gt; | seed &lt;chr&gt; | pct &lt;chr&gt; | gt &lt;chr&gt; |\n",
       "|---|---|---|---|---|---|---|---|\n",
       "| GCTTCCAAGAGTCGGT-1 | negative | doublet | NA | MS-11    | 27 | 30 | MS-11   |\n",
       "| GACAGAGCATGCCTAA-1 | negative | doublet | NA | negative | 27 | 30 | Doublet |\n",
       "| CCGTTCATCATGTCTT-1 | negative | MS-12   | NA | MS-12    | 32 | 30 | MS-12   |\n",
       "| CATATGGAGGAATCGC-1 | negative | doublet | NA | negative | 32 | 30 | MS-11   |\n",
       "| GACAGAGCATGCCTAA-1 | negative | doublet | NA | negative | 32 | 30 | Doublet |\n",
       "| CCGTTCATCATGTCTT-1 | negative | MS-12   | NA | MS-12    | 42 | 30 | MS-12   |\n",
       "| TACGGTAAGAAGGACA-1 | negative | doublet | NA | negative | 42 | 30 | Doublet |\n",
       "| GCGGGTTAGGCTCAGA-1 | negative | MS-11   | NA | MS-11    | 42 | 30 | MS-11   |\n",
       "| TGCTGCTGTTGGACCC-1 | negative | doublet | NA | negative | 42 | 30 | MS-11   |\n",
       "| AAGCCGCTCTTGACGA-1 | negative | MS-11   | NA | MS-11    | 42 | 30 | MS-11   |\n",
       "| GACAGAGCATGCCTAA-1 | negative | doublet | NA | negative | 42 | 30 | Doublet |\n",
       "| CTGAAACGTTCGCTAA-1 | negative | MS-12   | NA | MS-12    | 72 | 30 | MS-12   |\n",
       "| CATATGGAGGAATCGC-1 | negative | doublet | NA | negative | 72 | 30 | MS-11   |\n",
       "| AGCCTAACAAGCCTAT-1 | negative | MS-12   | NA | MS-12    | 72 | 30 | MS-12   |\n",
       "| CTGCTGTCAAGGACTG-1 | negative | doublet | NA | negative | 72 | 30 | MS-11   |\n",
       "| AAGCCGCTCTTGACGA-1 | negative | MS-11   | NA | MS-11    | 96 | 30 | MS-11   |\n",
       "| CTGCTGTCAAGGACTG-1 | negative | doublet | NA | negative | 96 | 30 | MS-11   |\n",
       "| TGCTGCTGTTGGACCC-1 | negative | doublet | NA | negative | 96 | 30 | MS-11   |\n",
       "| AGCCTAACAAGCCTAT-1 | negative | MS-12   | NA | MS-12    | 96 | 30 | MS-12   |\n",
       "| CATATGGAGGAATCGC-1 | negative | doublet | NA | negative | 96 | 30 | MS-11   |\n",
       "\n"
      ],
      "text/plain": [
       "   Barcode            hashsolo_1 hashedDrops_1 demuxem_1 bff_1    seed pct\n",
       "1  GCTTCCAAGAGTCGGT-1 negative   doublet       NA        MS-11    27   30 \n",
       "2  GACAGAGCATGCCTAA-1 negative   doublet       NA        negative 27   30 \n",
       "3  CCGTTCATCATGTCTT-1 negative   MS-12         NA        MS-12    32   30 \n",
       "4  CATATGGAGGAATCGC-1 negative   doublet       NA        negative 32   30 \n",
       "5  GACAGAGCATGCCTAA-1 negative   doublet       NA        negative 32   30 \n",
       "6  CCGTTCATCATGTCTT-1 negative   MS-12         NA        MS-12    42   30 \n",
       "7  TACGGTAAGAAGGACA-1 negative   doublet       NA        negative 42   30 \n",
       "8  GCGGGTTAGGCTCAGA-1 negative   MS-11         NA        MS-11    42   30 \n",
       "9  TGCTGCTGTTGGACCC-1 negative   doublet       NA        negative 42   30 \n",
       "10 AAGCCGCTCTTGACGA-1 negative   MS-11         NA        MS-11    42   30 \n",
       "11 GACAGAGCATGCCTAA-1 negative   doublet       NA        negative 42   30 \n",
       "12 CTGAAACGTTCGCTAA-1 negative   MS-12         NA        MS-12    72   30 \n",
       "13 CATATGGAGGAATCGC-1 negative   doublet       NA        negative 72   30 \n",
       "14 AGCCTAACAAGCCTAT-1 negative   MS-12         NA        MS-12    72   30 \n",
       "15 CTGCTGTCAAGGACTG-1 negative   doublet       NA        negative 72   30 \n",
       "16 AAGCCGCTCTTGACGA-1 negative   MS-11         NA        MS-11    96   30 \n",
       "17 CTGCTGTCAAGGACTG-1 negative   doublet       NA        negative 96   30 \n",
       "18 TGCTGCTGTTGGACCC-1 negative   doublet       NA        negative 96   30 \n",
       "19 AGCCTAACAAGCCTAT-1 negative   MS-12         NA        MS-12    96   30 \n",
       "20 CATATGGAGGAATCGC-1 negative   doublet       NA        negative 96   30 \n",
       "   gt     \n",
       "1  MS-11  \n",
       "2  Doublet\n",
       "3  MS-12  \n",
       "4  MS-11  \n",
       "5  Doublet\n",
       "6  MS-12  \n",
       "7  Doublet\n",
       "8  MS-11  \n",
       "9  MS-11  \n",
       "10 MS-11  \n",
       "11 Doublet\n",
       "12 MS-12  \n",
       "13 MS-11  \n",
       "14 MS-12  \n",
       "15 MS-11  \n",
       "16 MS-11  \n",
       "17 MS-11  \n",
       "18 MS-11  \n",
       "19 MS-12  \n",
       "20 MS-11  "
      ]
     },
     "metadata": {},
     "output_type": "display_data"
    }
   ],
   "source": [
    "hashing_res_2 <- compare_sample2[!compare_sample2$gt %in% c(\"doublet\", \"negative\"), ]\n",
    "nrow(hashing_res_2)\n",
    "hashing_res_2 %>% filter(rowSums(is.na(.)) > 0)\n"
   ]
  },
  {
   "cell_type": "code",
   "execution_count": 36,
   "id": "392ab447",
   "metadata": {
    "vscode": {
     "languageId": "r"
    }
   },
   "outputs": [],
   "source": [
    "matching_tb_2 <- hashing_res_2 %>%\n",
    "    mutate(across(-c(Barcode, gt, pct, seed), ~ .x == gt, .names = \"match_{.col}\")) %>%\n",
    "    select(starts_with(\"match\"))\n",
    "matching_tb_2$match_demuxem_1[is.na(matching_tb_2$match_demuxem_1)] <- FALSE\n",
    "matching_tb_2 <- bind_cols(hashing_res_2[, c(\"Barcode\", \"pct\", \"seed\")], matching_tb_2)\n"
   ]
  },
  {
   "cell_type": "code",
   "execution_count": 38,
   "id": "b75b09d7",
   "metadata": {
    "vscode": {
     "languageId": "r"
    }
   },
   "outputs": [
    {
     "name": "stderr",
     "output_type": "stream",
     "text": [
      "Warning message in melt(matching_tb_tf_2, id.vars = c(\"pct\", \"seed\"), variable.name = \"Method\", :\n",
      "\"The melt generic in data.table has been passed a tbl_df and will attempt to redirect to the relevant reshape2 method; please note that reshape2 is deprecated, and this redirection is now deprecated as well. To continue using melt methods from reshape2 while both libraries are attached, e.g. melt.list, you can prepend the namespace like reshape2::melt(matching_tb_tf_2). In the next version, this warning will become an error.\"\n"
     ]
    }
   ],
   "source": [
    "matching_tb_tf_2 <- matching_tb_2 %>%\n",
    "    group_by(pct, seed) %>%\n",
    "    summarise(across(starts_with(\"match\"), ~ sum(.x) / length(.x[!is.na(.x)]) * 100), .groups = \"drop\")\n",
    "matching_tb_tf_2 <- melt(matching_tb_tf_2, id.vars = c(\"pct\", \"seed\"), variable.name = \"Method\", value.name = \"Count\")\n",
    "matching_tb_tf_2$Method <- gsub(\"match_\", \"\", matching_tb_tf_2$Method)\n",
    "matching_tb_tf_2$Method <- gsub(\"_1\", \"\", matching_tb_tf_2$Method)\n",
    "matching_tb_tf_2 <- matching_tb_tf_2[matching_tb_tf_2$Method == \"demuxem\", ]\n"
   ]
  },
  {
   "cell_type": "code",
   "execution_count": 39,
   "id": "102edca8",
   "metadata": {
    "vscode": {
     "languageId": "r"
    }
   },
   "outputs": [],
   "source": [
    "matching_tb_tf$dataset <- \"PBMC\"\n",
    "matching_tb_tf_2$dataset <- \"CR-438-21\"\n",
    "matching_tb_tf_all <- rbind(matching_tb_tf, matching_tb_tf_2)\n",
    "matching_tb_tf_all$dataset <- factor(matching_tb_tf_all$dataset, levels = c(\"PBMC\", \"CR-438-21\"))\n"
   ]
  },
  {
   "cell_type": "code",
   "execution_count": 41,
   "id": "91e2c7f8",
   "metadata": {
    "vscode": {
     "languageId": "r"
    }
   },
   "outputs": [
    {
     "data": {
      "image/png": "[encoded data removed]",
      "text/plain": [
       "plot without title"
      ]
     },
     "metadata": {
      "image/png": {
       "height": 240,
       "width": 600
      }
     },
     "output_type": "display_data"
    }
   ],
   "source": [
    "options(repr.plot.width = 10, repr.plot.height = 4)\n",
    "ggplot(matching_tb_tf_all, aes(x = Method, y = Count, color = pct)) +\n",
    "    geom_boxplot() +\n",
    "    facet_grid(. ~ dataset, scales = \"free\", space = \"free\") +\n",
    "    theme_bw() +\n",
    "    ylab(\"Match singlet %\") +\n",
    "    scale_color_manual(\n",
    "        values = c(\"#CD534CFF\", \"#0073C2FF\", \"#EFC000FF\")\n",
    "    ) +\n",
    "    theme(\n",
    "        text = element_text(size = 22, family = \"Myriad Pro\"),\n",
    "        axis.text = element_text(size = 18),\n",
    "        axis.text.x = element_text(vjust = 0.5, angle = 45),\n",
    "        axis.title = element_text(size = 24),\n",
    "        legend.text = element_text(size = 24),\n",
    "        legend.title = element_text(size = 26),\n",
    "        legend.key.size = unit(0.8, \"cm\"),\n",
    "        plot.title = element_text(size = 30, hjust = 0.5)\n",
    "    )\n"
   ]
  }
 ],
 "metadata": {
  "kernelspec": {
   "display_name": "R",
   "language": "R",
   "name": "ir"
  },
  "language_info": {
   "codemirror_mode": "r",
   "file_extension": ".r",
   "mimetype": "text/x-r-source",
   "name": "R",
   "pygments_lexer": "r",
   "version": "4.3.2"
  }
 },
 "nbformat": 4,
 "nbformat_minor": 5
}
