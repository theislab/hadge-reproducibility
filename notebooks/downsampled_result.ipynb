{
 "cells": [
  {
   "cell_type": "code",
   "execution_count": 1,
   "id": "e8aa4682",
   "metadata": {
    "vscode": {
     "languageId": "r"
    }
   },
   "outputs": [
    {
     "name": "stderr",
     "output_type": "stream",
     "text": [
      "\n",
      "Attache Paket: 'dplyr'\n",
      "\n",
      "\n",
      "Die folgenden Objekte sind maskiert von 'package:plyr':\n",
      "\n",
      "    arrange, count, desc, failwith, id, mutate, rename, summarise,\n",
      "    summarize\n",
      "\n",
      "\n",
      "Die folgenden Objekte sind maskiert von 'package:data.table':\n",
      "\n",
      "    between, first, last\n",
      "\n",
      "\n",
      "Die folgenden Objekte sind maskiert von 'package:stats':\n",
      "\n",
      "    filter, lag\n",
      "\n",
      "\n",
      "Die folgenden Objekte sind maskiert von 'package:base':\n",
      "\n",
      "    intersect, setdiff, setequal, union\n",
      "\n",
      "\n",
      "Lade n\"otiges Paket: SeuratObject\n",
      "\n",
      "Lade n\"otiges Paket: sp\n",
      "\n",
      "'SeuratObject' was built under R 4.3.1 but the current version is\n",
      "4.3.2; it is recomended that you reinstall 'SeuratObject' as the ABI\n",
      "for R may have changed\n",
      "\n",
      "'SeuratObject' was built with package 'Matrix' 1.6.3 but the current\n",
      "version is 1.6.4; it is recomended that you reinstall 'SeuratObject' as\n",
      "the ABI for 'Matrix' may have changed\n",
      "\n",
      "\n",
      "Attache Paket: 'SeuratObject'\n",
      "\n",
      "\n",
      "Das folgende Objekt ist maskiert 'package:base':\n",
      "\n",
      "    intersect\n",
      "\n",
      "\n"
     ]
    }
   ],
   "source": [
    "library(data.table)\n",
    "library(plyr)\n",
    "library(dplyr)\n",
    "library(Seurat)\n",
    "library(ggplot2)\n",
    "library(repr)\n",
    "library(stringr)\n"
   ]
  },
  {
   "cell_type": "code",
   "execution_count": 2,
   "id": "7091962e",
   "metadata": {
    "vscode": {
     "languageId": "r"
    }
   },
   "outputs": [
    {
     "name": "stderr",
     "output_type": "stream",
     "text": [
      "Registering fonts with R\n",
      "\n",
      "Scanning ttf files in /Library/Fonts ...\n",
      "\n",
      "Extracting .afm files from .ttf files...\n",
      "\n",
      "/System/Library/Fonts/Supplemental/Arial Unicode.ttf\n",
      " : ArialUnicodeMS already registered in fonts database. Skipping.\n",
      "\n",
      "/Library/Fonts/FontsFree-Net-MYRIADPRO-REGULAR.ttf\n",
      " : MyriadPro-Regular already registered in fonts database. Skipping.\n",
      "\n",
      "Found FontName for 0 fonts.\n",
      "\n",
      "Scanning afm files in /Library/Frameworks/R.framework/Versions/4.3-arm64/Resources/library/extrafontdb/metrics\n",
      "\n",
      "Arial Unicode MS already registered with pdfFont().\n",
      "\n",
      "Myriad Pro already registered with pdfFont().\n",
      "\n",
      "Arial Unicode MS already registered with postscriptFont().\n",
      "\n",
      "Myriad Pro already registered with postscriptFont().\n",
      "\n"
     ]
    },
    {
     "data": {
      "text/html": [
       "<style>\n",
       ".list-inline {list-style: none; margin:0; padding: 0}\n",
       ".list-inline>li {display: inline-block}\n",
       ".list-inline>li:not(:last-child)::after {content: \"\\00b7\"; padding: 0 .5ex}\n",
       "</style>\n",
       "<ol class=list-inline><li>'Arial Unicode MS'</li><li>'Myriad Pro'</li></ol>\n"
      ],
      "text/latex": [
       "\\begin{enumerate*}\n",
       "\\item 'Arial Unicode MS'\n",
       "\\item 'Myriad Pro'\n",
       "\\end{enumerate*}\n"
      ],
      "text/markdown": [
       "1. 'Arial Unicode MS'\n",
       "2. 'Myriad Pro'\n",
       "\n",
       "\n"
      ],
      "text/plain": [
       "[1] \"Arial Unicode MS\" \"Myriad Pro\"      "
      ]
     },
     "metadata": {},
     "output_type": "display_data"
    }
   ],
   "source": [
    "library(extrafont)\n",
    "font_import(paths = \"/Library/Fonts\", prompt = FALSE)\n",
    "loadfonts()\n",
    "fonts()\n"
   ]
  },
  {
   "cell_type": "code",
   "execution_count": 3,
   "id": "1a4a6971",
   "metadata": {
    "vscode": {
     "languageId": "r"
    }
   },
   "outputs": [],
   "source": [
    "plot_theme <- function() {\n",
    "    theme_bw() + theme(\n",
    "        panel.border = element_blank(),\n",
    "        panel.grid.major = element_blank(),\n",
    "        panel.grid.minor = element_blank(),\n",
    "        text = element_text(size = 24, family = \"Myriad Pro\"),\n",
    "        axis.text = element_text(size = 26),\n",
    "        axis.text.x = element_text(vjust = 0.5, angle = 45),\n",
    "        axis.title = element_text(size = 30),\n",
    "        legend.text = element_text(size = 24),\n",
    "        legend.title = element_text(size = 26),\n",
    "        legend.key.size = unit(0.8, \"cm\"),\n",
    "        plot.title = element_text(size = 30, hjust = 0.5),\n",
    "        axis.line = element_line(linewidth = 0.7, colour = \"black\"),\n",
    "        plot.margin = margin(\n",
    "            t = 1,\n",
    "            b = 0.1,\n",
    "            r = 0.3,\n",
    "            l = 0.6,\n",
    "            \"cm\"\n",
    "        )\n",
    "    )\n",
    "}\n",
    "options(repr.plot.width = 10, repr.plot.height = 9)\n"
   ]
  },
  {
   "cell_type": "code",
   "execution_count": 4,
   "metadata": {
    "vscode": {
     "languageId": "r"
    }
   },
   "outputs": [],
   "source": [
    "prepare_df_for_plot <- function(assignment) {\n",
    "    compare <- fread(assignment, na.strings = \"\")\n",
    "    summary_compare <- melt(\n",
    "        compare,\n",
    "        id.vars = \"Barcode\",\n",
    "        variable.name = \"Dataset\",\n",
    "        value.name = \"Assignment\"\n",
    "    )\n",
    "    summary_compare <- na.omit(summary_compare)\n",
    "    summary_compare <- as.data.frame(table(summary_compare[, -1]))\n",
    "    colnames(summary_compare)[3] <- \"Count\"\n",
    "    summary_compare <-\n",
    "        summary_compare[order(summary_compare$Assignment, decreasing = T), ]\n",
    "    summary_compare$Percentage <- 0\n",
    "    summary_compare$Dataset <-\n",
    "        gsub(\" Dataset\", \"\", summary_compare$Dataset)\n",
    "    summary_compare$Dataset <-\n",
    "        factor(summary_compare$Dataset, levels = c(\"Full\", paste0(\"Hash45\", 1:6, \" Downsampled\")))\n",
    "    summary_compare <- summary_compare %>%\n",
    "        group_by(Dataset) %>%\n",
    "        mutate(Percentage = round(Count / sum(Count) * 100, 2))\n",
    "    summary_compare_cumsum <-\n",
    "        ddply(summary_compare,\n",
    "            \"Dataset\",\n",
    "            transform,\n",
    "            label_ypos = cumsum(Percentage) - 0.5 * Percentage\n",
    "        )\n",
    "    summary_compare_cumsum <-\n",
    "        summary_compare_cumsum[summary_compare_cumsum$Count != 0, ]\n",
    "    summary_compare_cumsum\n",
    "}\n"
   ]
  },
  {
   "cell_type": "code",
   "execution_count": 5,
   "id": "0675be76",
   "metadata": {
    "vscode": {
     "languageId": "r"
    }
   },
   "outputs": [],
   "source": [
    "for (i in c(\"vireo\", \"souporcell\", \"freemuxlet\", \"scsplit\")) {\n",
    "    compare <-\n",
    "        prepare_df_for_plot(paste0(\"../data/downsampled/downsampled_compare_\", i, \"_all.csv\"))\n",
    "    gp <-\n",
    "        ggplot(compare, aes(x = Dataset, y = Percentage, fill = Assignment)) +\n",
    "        geom_bar(\n",
    "            stat = \"identity\",\n",
    "            width = 0.8,\n",
    "            colour = \"grey20\"\n",
    "        ) +\n",
    "        theme_bw() +\n",
    "        xlab(paste0(\"Dataset (\", i, \")\")) +\n",
    "        ylab(\"Percentage (%)\") +\n",
    "        plot_theme() +\n",
    "        geom_text(\n",
    "            aes(y = label_ypos, label = Percentage),\n",
    "            vjust = 0.5,\n",
    "            color = \"white\",\n",
    "            size = 5\n",
    "        )\n",
    "    if (i == \"scsplit\") {\n",
    "        gp + scale_fill_manual(\n",
    "            values = c(\n",
    "                \"#FFD92F\",\n",
    "                \"#9971ab\",\n",
    "                \"#6a6a6a\",\n",
    "                \"#A6D854\",\n",
    "                \"#FC8D62\",\n",
    "                \"#6BAED6\",\n",
    "                \"#E5C494\",\n",
    "                \"#E78AC3\",\n",
    "                \"#B3B3B3\"\n",
    "            ),\n",
    "            limits = c(\n",
    "                \"doublet\",\n",
    "                \"negative\",\n",
    "                \"Not matched\",\n",
    "                paste0(\"Hash45\", 1:6, \"_TotalSeqA\")\n",
    "            ),\n",
    "            labels = c(\"Doublet\", \"Negative\", \"Not matched\", paste0(\"Hash45\", 1:6))\n",
    "        )\n",
    "    } else {\n",
    "        gp + scale_fill_manual(\n",
    "            values = c(\n",
    "                \"#FFD92F\",\n",
    "                \"#9971ab\",\n",
    "                \"#A6D854\",\n",
    "                \"#FC8D62\",\n",
    "                \"#6BAED6\",\n",
    "                \"#E5C494\",\n",
    "                \"#E78AC3\",\n",
    "                \"#B3B3B3\"\n",
    "            ),\n",
    "            limits = c(\"doublet\", \"negative\", paste0(\"Hash45\", 1:6, \"_TotalSeqA\")),\n",
    "            labels = c(\"Doublet\", \"Negative\", paste0(\"Hash45\", 1:6))\n",
    "        )\n",
    "    }\n",
    "\n",
    "    # ggsave(\n",
    "    #     paste0(\n",
    "    #         \"fig5/downsample_\",\n",
    "    #         i,\n",
    "    #         \".pdf\"\n",
    "    #     ),\n",
    "    #     dpi = 300,\n",
    "    #     height = 9,\n",
    "    #     width = 10\n",
    "    # )\n",
    "}\n"
   ]
  },
  {
   "cell_type": "code",
   "execution_count": 6,
   "id": "a388d639",
   "metadata": {
    "vscode": {
     "languageId": "r"
    }
   },
   "outputs": [
    {
     "name": "stdout",
     "output_type": "stream",
     "text": [
      "[1] \"compare_hash451\"\n",
      "[1] \"compare_hash452\"\n",
      "[1] \"compare_hash453\"\n",
      "[1] \"compare_hash454\"\n",
      "[1] \"compare_hash455\"\n",
      "[1] \"compare_hash456\"\n"
     ]
    }
   ],
   "source": [
    "downsampled_assignment <- list.files(\n",
    "  path = \"../data/downsampled\",\n",
    "  pattern = \"downsampled_compare_*\",\n",
    "  all.files = TRUE\n",
    ")\n",
    "for (i in 1:6) {\n",
    "  downsampled_barcodes <-\n",
    "    fread(\n",
    "      paste0(\n",
    "        \"../data/downsampled/downsampled_Hash45\",\n",
    "        i,\n",
    "        \"_TotalSeqA_0.5.tsv\"\n",
    "      ),\n",
    "      header = FALSE\n",
    "    )$V1\n",
    "  df_list <- lapply(downsampled_assignment, function(f) {\n",
    "    x <-\n",
    "      read.csv(paste0(\"../data/downsampled/\", f), na.strings = \"\")[, c(1, 2, i + 2)]\n",
    "    colnames(x)[3] <- gsub(\"downsampled_compare_\", \"\", f)\n",
    "    colnames(x)[3] <- gsub(\"_all.csv\", \"\", colnames(x)[3])\n",
    "    return(x)\n",
    "  })\n",
    "  compare <- do.call(cbind, df_list)\n",
    "  compare <- compare[, !duplicated(colnames(compare))]\n",
    "  compare <- compare[compare$Barcode %in% downsampled_barcodes, ]\n",
    "  assign(paste0(\"compare_hash45\", i), compare)\n",
    "  print(paste0(\"compare_hash45\", i))\n",
    "}\n"
   ]
  },
  {
   "cell_type": "code",
   "execution_count": 7,
   "id": "4a88d38d",
   "metadata": {
    "vscode": {
     "languageId": "r"
    }
   },
   "outputs": [
    {
     "name": "stderr",
     "output_type": "stream",
     "text": [
      "Warning message in melt(comparison_results, id.vars = \"Barcode\", measure.vars = 3:6, :\n",
      "\"The melt generic in data.table has been passed a data.frame and will attempt to redirect to the relevant reshape2 method; please note that reshape2 is deprecated, and this redirection is now deprecated as well. To continue using melt methods from reshape2 while both libraries are attached, e.g. melt.list, you can prepend the namespace like reshape2::melt(comparison_results). In the next version, this warning will become an error.\"\n",
      "Warning message in melt(comparison_results, id.vars = \"Barcode\", measure.vars = 3:6, :\n",
      "\"The melt generic in data.table has been passed a data.frame and will attempt to redirect to the relevant reshape2 method; please note that reshape2 is deprecated, and this redirection is now deprecated as well. To continue using melt methods from reshape2 while both libraries are attached, e.g. melt.list, you can prepend the namespace like reshape2::melt(comparison_results). In the next version, this warning will become an error.\"\n",
      "Warning message in melt(comparison_results, id.vars = \"Barcode\", measure.vars = 3:6, :\n",
      "\"The melt generic in data.table has been passed a data.frame and will attempt to redirect to the relevant reshape2 method; please note that reshape2 is deprecated, and this redirection is now deprecated as well. To continue using melt methods from reshape2 while both libraries are attached, e.g. melt.list, you can prepend the namespace like reshape2::melt(comparison_results). In the next version, this warning will become an error.\"\n",
      "Warning message in melt(comparison_results, id.vars = \"Barcode\", measure.vars = 3:6, :\n",
      "\"The melt generic in data.table has been passed a data.frame and will attempt to redirect to the relevant reshape2 method; please note that reshape2 is deprecated, and this redirection is now deprecated as well. To continue using melt methods from reshape2 while both libraries are attached, e.g. melt.list, you can prepend the namespace like reshape2::melt(comparison_results). In the next version, this warning will become an error.\"\n",
      "Warning message in melt(comparison_results, id.vars = \"Barcode\", measure.vars = 3:6, :\n",
      "\"The melt generic in data.table has been passed a data.frame and will attempt to redirect to the relevant reshape2 method; please note that reshape2 is deprecated, and this redirection is now deprecated as well. To continue using melt methods from reshape2 while both libraries are attached, e.g. melt.list, you can prepend the namespace like reshape2::melt(comparison_results). In the next version, this warning will become an error.\"\n",
      "Warning message in melt(comparison_results, id.vars = \"Barcode\", measure.vars = 3:6, :\n",
      "\"The melt generic in data.table has been passed a data.frame and will attempt to redirect to the relevant reshape2 method; please note that reshape2 is deprecated, and this redirection is now deprecated as well. To continue using melt methods from reshape2 while both libraries are attached, e.g. melt.list, you can prepend the namespace like reshape2::melt(comparison_results). In the next version, this warning will become an error.\"\n"
     ]
    }
   ],
   "source": [
    "for (i in 1:6) {\n",
    "  compare <- get(paste0(\"compare_hash45\", i))\n",
    "  compare <-\n",
    "    compare[!compare$Full.Dataset %in% c(\"negative\", \"doublet\"), ]\n",
    "  selected_columns <- compare[, 3:6]\n",
    "  comparison_results <-\n",
    "    sapply(selected_columns, function(col) {\n",
    "      col == compare$Full.Dataset\n",
    "    })\n",
    "  comparison_results <-\n",
    "    cbind(compare[, c(\"Barcode\", \"Full.Dataset\")], comparison_results)\n",
    "  comparison_results[is.na(comparison_results)] <- FALSE\n",
    "  assign(paste0(\"compare_mismatch_hash45\", i), comparison_results)\n",
    "\n",
    "  long_df <- melt(\n",
    "    comparison_results,\n",
    "    id.vars = \"Barcode\",\n",
    "    measure.vars = 3:6,\n",
    "    variable.name = \"Method\",\n",
    "    value.name = \"Match\"\n",
    "  )\n",
    "  match_table <- as.data.frame(table(long_df$Method, long_df$Match))\n",
    "  colnames(match_table) <- c(\"Method\", \"Assignment\", \"Count\")\n",
    "  match_table$Assignment <- ifelse(match_table$Assignment == TRUE, \"Match\", \"Mismatch\")\n",
    "\n",
    "  total_counts <- aggregate(Count ~ Method, data = match_table, sum)\n",
    "  match_table <-\n",
    "    merge(match_table,\n",
    "      total_counts,\n",
    "      by = \"Method\",\n",
    "      suffixes = c(\"\", \"_Total\")\n",
    "    )\n",
    "\n",
    "  match_table$Method <- str_to_title(match_table$Method)\n",
    "\n",
    "  match_table$Percentage <-\n",
    "    round((match_table$Count / match_table$Count_Total) * 100, 2)\n",
    "  match_table <-\n",
    "    ddply(match_table,\n",
    "      \"Method\",\n",
    "      transform,\n",
    "      label_ypos = cumsum(Percentage) - 0.5 * Percentage\n",
    "    )\n",
    "  if (i %% 3 != 0) {\n",
    "    match_table$label_ypos <- match_table$label_ypos + 5\n",
    "  }\n",
    "  assign(paste0(\"match_table_hash45\", i), match_table)\n",
    "\n",
    "\n",
    "  ggplot(match_table, aes(x = Method, y = Percentage, fill = Assignment)) +\n",
    "    geom_bar(\n",
    "      stat = \"identity\",\n",
    "      width = 0.8,\n",
    "      colour = \"grey20\"\n",
    "    ) +\n",
    "    theme_bw() +\n",
    "    xlab(paste0(\"Method: Hash45\", i)) +\n",
    "    ylab(\"Percentage (%)\") +\n",
    "    plot_theme() +\n",
    "    scale_fill_manual(\n",
    "      values = c(\n",
    "        \"Mismatch\" = \"#e1eaf8\",\n",
    "        \"Match\" = \"#66a0da\"\n",
    "      )\n",
    "    ) +\n",
    "    theme(axis.text.x = element_text(vjust = 0.5, angle = 45)) +\n",
    "    geom_text(aes(y = label_ypos, label = Percentage), vjust = 0.5, color = \"white\", size = 10)\n",
    "\n",
    "  # ggsave(paste0(\"fig5/mismatch_hash45\", i, \".pdf\"), dpi = 300, height = 9, width = 10)\n",
    "}\n"
   ]
  }
 ],
 "metadata": {
  "kernelspec": {
   "display_name": "R",
   "language": "R",
   "name": "ir"
  },
  "language_info": {
   "codemirror_mode": "r",
   "file_extension": ".r",
   "mimetype": "text/x-r-source",
   "name": "R",
   "pygments_lexer": "r",
   "version": "4.3.2"
  }
 },
 "nbformat": 4,
 "nbformat_minor": 5
}
