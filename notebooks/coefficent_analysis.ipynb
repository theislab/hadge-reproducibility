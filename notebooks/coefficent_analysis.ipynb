{
 "cells": [
  {
   "cell_type": "code",
   "execution_count": null,
   "metadata": {
    "vscode": {
     "languageId": "r"
    }
   },
   "outputs": [],
   "source": [
    "#install.packages(\"psych\")\n",
    "library(psych)"
   ]
  },
  {
   "cell_type": "code",
   "execution_count": 2,
   "metadata": {
    "vscode": {
     "languageId": "r"
    }
   },
   "outputs": [],
   "source": [
    "method1_res <- read.csv(\"method1_res.csv\", row.names=\"X\")\n",
    "method2_res <- read.csv(\"method2_res.csv\", row.names=\"X\")"
   ]
  },
  {
   "cell_type": "code",
   "execution_count": 3,
   "metadata": {
    "vscode": {
     "languageId": "r"
    }
   },
   "outputs": [
    {
     "data": {
      "text/html": [
       "<table class=\"dataframe\">\n",
       "<caption>A data.frame: 6 × 6</caption>\n",
       "<thead>\n",
       "\t<tr><th></th><th scope=col>donor0</th><th scope=col>donor1</th><th scope=col>donor2</th><th scope=col>donor3</th><th scope=col>donor4</th><th scope=col>donor5</th></tr>\n",
       "\t<tr><th></th><th scope=col>&lt;int&gt;</th><th scope=col>&lt;int&gt;</th><th scope=col>&lt;int&gt;</th><th scope=col>&lt;int&gt;</th><th scope=col>&lt;int&gt;</th><th scope=col>&lt;int&gt;</th></tr>\n",
       "</thead>\n",
       "<tbody>\n",
       "\t<tr><th scope=row>AAACCCAAGGTGTGAC-1</th><td>0</td><td>1</td><td>0</td><td>0</td><td>0</td><td>0</td></tr>\n",
       "\t<tr><th scope=row>AAACGAACACGACTAT-1</th><td>0</td><td>0</td><td>0</td><td>0</td><td>0</td><td>1</td></tr>\n",
       "\t<tr><th scope=row>AAACGCTTCAACACCA-1</th><td>0</td><td>0</td><td>0</td><td>0</td><td>0</td><td>1</td></tr>\n",
       "\t<tr><th scope=row>AAACGCTTCTTCCTAA-1</th><td>0</td><td>0</td><td>1</td><td>0</td><td>0</td><td>0</td></tr>\n",
       "\t<tr><th scope=row>AAAGAACCAAAGCACG-1</th><td>1</td><td>0</td><td>0</td><td>0</td><td>0</td><td>0</td></tr>\n",
       "\t<tr><th scope=row>AAAGAACGTAGTCTTG-1</th><td>0</td><td>0</td><td>0</td><td>1</td><td>0</td><td>0</td></tr>\n",
       "</tbody>\n",
       "</table>\n"
      ],
      "text/latex": [
       "A data.frame: 6 × 6\n",
       "\\begin{tabular}{r|llllll}\n",
       "  & donor0 & donor1 & donor2 & donor3 & donor4 & donor5\\\\\n",
       "  & <int> & <int> & <int> & <int> & <int> & <int>\\\\\n",
       "\\hline\n",
       "\tAAACCCAAGGTGTGAC-1 & 0 & 1 & 0 & 0 & 0 & 0\\\\\n",
       "\tAAACGAACACGACTAT-1 & 0 & 0 & 0 & 0 & 0 & 1\\\\\n",
       "\tAAACGCTTCAACACCA-1 & 0 & 0 & 0 & 0 & 0 & 1\\\\\n",
       "\tAAACGCTTCTTCCTAA-1 & 0 & 0 & 1 & 0 & 0 & 0\\\\\n",
       "\tAAAGAACCAAAGCACG-1 & 1 & 0 & 0 & 0 & 0 & 0\\\\\n",
       "\tAAAGAACGTAGTCTTG-1 & 0 & 0 & 0 & 1 & 0 & 0\\\\\n",
       "\\end{tabular}\n"
      ],
      "text/markdown": [
       "\n",
       "A data.frame: 6 × 6\n",
       "\n",
       "| <!--/--> | donor0 &lt;int&gt; | donor1 &lt;int&gt; | donor2 &lt;int&gt; | donor3 &lt;int&gt; | donor4 &lt;int&gt; | donor5 &lt;int&gt; |\n",
       "|---|---|---|---|---|---|---|\n",
       "| AAACCCAAGGTGTGAC-1 | 0 | 1 | 0 | 0 | 0 | 0 |\n",
       "| AAACGAACACGACTAT-1 | 0 | 0 | 0 | 0 | 0 | 1 |\n",
       "| AAACGCTTCAACACCA-1 | 0 | 0 | 0 | 0 | 0 | 1 |\n",
       "| AAACGCTTCTTCCTAA-1 | 0 | 0 | 1 | 0 | 0 | 0 |\n",
       "| AAAGAACCAAAGCACG-1 | 1 | 0 | 0 | 0 | 0 | 0 |\n",
       "| AAAGAACGTAGTCTTG-1 | 0 | 0 | 0 | 1 | 0 | 0 |\n",
       "\n"
      ],
      "text/plain": [
       "                   donor0 donor1 donor2 donor3 donor4 donor5\n",
       "AAACCCAAGGTGTGAC-1 0      1      0      0      0      0     \n",
       "AAACGAACACGACTAT-1 0      0      0      0      0      1     \n",
       "AAACGCTTCAACACCA-1 0      0      0      0      0      1     \n",
       "AAACGCTTCTTCCTAA-1 0      0      1      0      0      0     \n",
       "AAAGAACCAAAGCACG-1 1      0      0      0      0      0     \n",
       "AAAGAACGTAGTCTTG-1 0      0      0      1      0      0     "
      ]
     },
     "metadata": {},
     "output_type": "display_data"
    }
   ],
   "source": [
    "head(method1_res)"
   ]
  },
  {
   "cell_type": "code",
   "execution_count": 4,
   "metadata": {
    "vscode": {
     "languageId": "r"
    }
   },
   "outputs": [
    {
     "data": {
      "text/html": [
       "<table class=\"dataframe\">\n",
       "<caption>A data.frame: 6 × 6</caption>\n",
       "<thead>\n",
       "\t<tr><th></th><th scope=col>Hash451.TotalSeqA</th><th scope=col>Hash452.TotalSeqA</th><th scope=col>Hash453.TotalSeqA</th><th scope=col>Hash454.TotalSeqA</th><th scope=col>Hash455.TotalSeqA</th><th scope=col>Hash456.TotalSeqA</th></tr>\n",
       "\t<tr><th></th><th scope=col>&lt;int&gt;</th><th scope=col>&lt;int&gt;</th><th scope=col>&lt;int&gt;</th><th scope=col>&lt;int&gt;</th><th scope=col>&lt;int&gt;</th><th scope=col>&lt;int&gt;</th></tr>\n",
       "</thead>\n",
       "<tbody>\n",
       "\t<tr><th scope=row>AAACCCAAGGTGTGAC-1</th><td>0</td><td>0</td><td>0</td><td>1</td><td>0</td><td>0</td></tr>\n",
       "\t<tr><th scope=row>AAACGAACACGACTAT-1</th><td>0</td><td>1</td><td>0</td><td>0</td><td>0</td><td>0</td></tr>\n",
       "\t<tr><th scope=row>AAACGCTTCAACACCA-1</th><td>0</td><td>0</td><td>0</td><td>0</td><td>1</td><td>0</td></tr>\n",
       "\t<tr><th scope=row>AAACGCTTCTTCCTAA-1</th><td>0</td><td>0</td><td>1</td><td>0</td><td>0</td><td>0</td></tr>\n",
       "\t<tr><th scope=row>AAAGAACCAAAGCACG-1</th><td>0</td><td>0</td><td>0</td><td>1</td><td>0</td><td>0</td></tr>\n",
       "\t<tr><th scope=row>AAAGAACGTAGTCTTG-1</th><td>0</td><td>0</td><td>0</td><td>0</td><td>0</td><td>1</td></tr>\n",
       "</tbody>\n",
       "</table>\n"
      ],
      "text/latex": [
       "A data.frame: 6 × 6\n",
       "\\begin{tabular}{r|llllll}\n",
       "  & Hash451.TotalSeqA & Hash452.TotalSeqA & Hash453.TotalSeqA & Hash454.TotalSeqA & Hash455.TotalSeqA & Hash456.TotalSeqA\\\\\n",
       "  & <int> & <int> & <int> & <int> & <int> & <int>\\\\\n",
       "\\hline\n",
       "\tAAACCCAAGGTGTGAC-1 & 0 & 0 & 0 & 1 & 0 & 0\\\\\n",
       "\tAAACGAACACGACTAT-1 & 0 & 1 & 0 & 0 & 0 & 0\\\\\n",
       "\tAAACGCTTCAACACCA-1 & 0 & 0 & 0 & 0 & 1 & 0\\\\\n",
       "\tAAACGCTTCTTCCTAA-1 & 0 & 0 & 1 & 0 & 0 & 0\\\\\n",
       "\tAAAGAACCAAAGCACG-1 & 0 & 0 & 0 & 1 & 0 & 0\\\\\n",
       "\tAAAGAACGTAGTCTTG-1 & 0 & 0 & 0 & 0 & 0 & 1\\\\\n",
       "\\end{tabular}\n"
      ],
      "text/markdown": [
       "\n",
       "A data.frame: 6 × 6\n",
       "\n",
       "| <!--/--> | Hash451.TotalSeqA &lt;int&gt; | Hash452.TotalSeqA &lt;int&gt; | Hash453.TotalSeqA &lt;int&gt; | Hash454.TotalSeqA &lt;int&gt; | Hash455.TotalSeqA &lt;int&gt; | Hash456.TotalSeqA &lt;int&gt; |\n",
       "|---|---|---|---|---|---|---|\n",
       "| AAACCCAAGGTGTGAC-1 | 0 | 0 | 0 | 1 | 0 | 0 |\n",
       "| AAACGAACACGACTAT-1 | 0 | 1 | 0 | 0 | 0 | 0 |\n",
       "| AAACGCTTCAACACCA-1 | 0 | 0 | 0 | 0 | 1 | 0 |\n",
       "| AAACGCTTCTTCCTAA-1 | 0 | 0 | 1 | 0 | 0 | 0 |\n",
       "| AAAGAACCAAAGCACG-1 | 0 | 0 | 0 | 1 | 0 | 0 |\n",
       "| AAAGAACGTAGTCTTG-1 | 0 | 0 | 0 | 0 | 0 | 1 |\n",
       "\n"
      ],
      "text/plain": [
       "                   Hash451.TotalSeqA Hash452.TotalSeqA Hash453.TotalSeqA\n",
       "AAACCCAAGGTGTGAC-1 0                 0                 0                \n",
       "AAACGAACACGACTAT-1 0                 1                 0                \n",
       "AAACGCTTCAACACCA-1 0                 0                 0                \n",
       "AAACGCTTCTTCCTAA-1 0                 0                 1                \n",
       "AAAGAACCAAAGCACG-1 0                 0                 0                \n",
       "AAAGAACGTAGTCTTG-1 0                 0                 0                \n",
       "                   Hash454.TotalSeqA Hash455.TotalSeqA Hash456.TotalSeqA\n",
       "AAACCCAAGGTGTGAC-1 1                 0                 0                \n",
       "AAACGAACACGACTAT-1 0                 0                 0                \n",
       "AAACGCTTCAACACCA-1 0                 1                 0                \n",
       "AAACGCTTCTTCCTAA-1 0                 0                 0                \n",
       "AAAGAACCAAAGCACG-1 1                 0                 0                \n",
       "AAAGAACGTAGTCTTG-1 0                 0                 1                "
      ]
     },
     "metadata": {},
     "output_type": "display_data"
    }
   ],
   "source": [
    "head(method2_res)"
   ]
  },
  {
   "cell_type": "code",
   "execution_count": 5,
   "metadata": {
    "vscode": {
     "languageId": "r"
    }
   },
   "outputs": [],
   "source": [
    "correlation_res <- apply(method1_res, 2, function(x){\n",
    "    apply(method2_res, 2, function(y){\n",
    "    return(cor.test(x, y)[[\"estimate\"]][[\"cor\"]])\n",
    "})\n",
    "})"
   ]
  },
  {
   "cell_type": "code",
   "execution_count": 6,
   "metadata": {
    "vscode": {
     "languageId": "r"
    }
   },
   "outputs": [
    {
     "name": "stderr",
     "output_type": "stream",
     "text": [
      "Warning message in cor.test.default(x, y, method = \"spearman\"):\n",
      "\"Kann exakten p-Wert bei Bindungen nicht berechnen\"\n",
      "Warning message in cor.test.default(x, y, method = \"spearman\"):\n",
      "\"Kann exakten p-Wert bei Bindungen nicht berechnen\"\n",
      "Warning message in cor.test.default(x, y, method = \"spearman\"):\n",
      "\"Kann exakten p-Wert bei Bindungen nicht berechnen\"\n",
      "Warning message in cor.test.default(x, y, method = \"spearman\"):\n",
      "\"Kann exakten p-Wert bei Bindungen nicht berechnen\"\n",
      "Warning message in cor.test.default(x, y, method = \"spearman\"):\n",
      "\"Kann exakten p-Wert bei Bindungen nicht berechnen\"\n",
      "Warning message in cor.test.default(x, y, method = \"spearman\"):\n",
      "\"Kann exakten p-Wert bei Bindungen nicht berechnen\"\n",
      "Warning message in cor.test.default(x, y, method = \"spearman\"):\n",
      "\"Kann exakten p-Wert bei Bindungen nicht berechnen\"\n",
      "Warning message in cor.test.default(x, y, method = \"spearman\"):\n",
      "\"Kann exakten p-Wert bei Bindungen nicht berechnen\"\n",
      "Warning message in cor.test.default(x, y, method = \"spearman\"):\n",
      "\"Kann exakten p-Wert bei Bindungen nicht berechnen\"\n",
      "Warning message in cor.test.default(x, y, method = \"spearman\"):\n",
      "\"Kann exakten p-Wert bei Bindungen nicht berechnen\"\n",
      "Warning message in cor.test.default(x, y, method = \"spearman\"):\n",
      "\"Kann exakten p-Wert bei Bindungen nicht berechnen\"\n",
      "Warning message in cor.test.default(x, y, method = \"spearman\"):\n",
      "\"Kann exakten p-Wert bei Bindungen nicht berechnen\"\n",
      "Warning message in cor.test.default(x, y, method = \"spearman\"):\n",
      "\"Kann exakten p-Wert bei Bindungen nicht berechnen\"\n",
      "Warning message in cor.test.default(x, y, method = \"spearman\"):\n",
      "\"Kann exakten p-Wert bei Bindungen nicht berechnen\"\n",
      "Warning message in cor.test.default(x, y, method = \"spearman\"):\n",
      "\"Kann exakten p-Wert bei Bindungen nicht berechnen\"\n",
      "Warning message in cor.test.default(x, y, method = \"spearman\"):\n",
      "\"Kann exakten p-Wert bei Bindungen nicht berechnen\"\n",
      "Warning message in cor.test.default(x, y, method = \"spearman\"):\n",
      "\"Kann exakten p-Wert bei Bindungen nicht berechnen\"\n",
      "Warning message in cor.test.default(x, y, method = \"spearman\"):\n",
      "\"Kann exakten p-Wert bei Bindungen nicht berechnen\"\n",
      "Warning message in cor.test.default(x, y, method = \"spearman\"):\n",
      "\"Kann exakten p-Wert bei Bindungen nicht berechnen\"\n",
      "Warning message in cor.test.default(x, y, method = \"spearman\"):\n",
      "\"Kann exakten p-Wert bei Bindungen nicht berechnen\"\n",
      "Warning message in cor.test.default(x, y, method = \"spearman\"):\n",
      "\"Kann exakten p-Wert bei Bindungen nicht berechnen\"\n",
      "Warning message in cor.test.default(x, y, method = \"spearman\"):\n",
      "\"Kann exakten p-Wert bei Bindungen nicht berechnen\"\n",
      "Warning message in cor.test.default(x, y, method = \"spearman\"):\n",
      "\"Kann exakten p-Wert bei Bindungen nicht berechnen\"\n",
      "Warning message in cor.test.default(x, y, method = \"spearman\"):\n",
      "\"Kann exakten p-Wert bei Bindungen nicht berechnen\"\n",
      "Warning message in cor.test.default(x, y, method = \"spearman\"):\n",
      "\"Kann exakten p-Wert bei Bindungen nicht berechnen\"\n",
      "Warning message in cor.test.default(x, y, method = \"spearman\"):\n",
      "\"Kann exakten p-Wert bei Bindungen nicht berechnen\"\n",
      "Warning message in cor.test.default(x, y, method = \"spearman\"):\n",
      "\"Kann exakten p-Wert bei Bindungen nicht berechnen\"\n",
      "Warning message in cor.test.default(x, y, method = \"spearman\"):\n",
      "\"Kann exakten p-Wert bei Bindungen nicht berechnen\"\n",
      "Warning message in cor.test.default(x, y, method = \"spearman\"):\n",
      "\"Kann exakten p-Wert bei Bindungen nicht berechnen\"\n",
      "Warning message in cor.test.default(x, y, method = \"spearman\"):\n",
      "\"Kann exakten p-Wert bei Bindungen nicht berechnen\"\n",
      "Warning message in cor.test.default(x, y, method = \"spearman\"):\n",
      "\"Kann exakten p-Wert bei Bindungen nicht berechnen\"\n",
      "Warning message in cor.test.default(x, y, method = \"spearman\"):\n",
      "\"Kann exakten p-Wert bei Bindungen nicht berechnen\"\n",
      "Warning message in cor.test.default(x, y, method = \"spearman\"):\n",
      "\"Kann exakten p-Wert bei Bindungen nicht berechnen\"\n",
      "Warning message in cor.test.default(x, y, method = \"spearman\"):\n",
      "\"Kann exakten p-Wert bei Bindungen nicht berechnen\"\n",
      "Warning message in cor.test.default(x, y, method = \"spearman\"):\n",
      "\"Kann exakten p-Wert bei Bindungen nicht berechnen\"\n",
      "Warning message in cor.test.default(x, y, method = \"spearman\"):\n",
      "\"Kann exakten p-Wert bei Bindungen nicht berechnen\"\n"
     ]
    }
   ],
   "source": [
    "spearman_res <- apply(method1_res, 2, function(x){\n",
    "    apply(method2_res, 2, function(y){\n",
    "        cor.test(x,y, method = \"spearman\")$estimate[[\"rho\"]]\n",
    "    })\n",
    "})"
   ]
  },
  {
   "cell_type": "code",
   "execution_count": 7,
   "metadata": {
    "vscode": {
     "languageId": "r"
    }
   },
   "outputs": [],
   "source": [
    "phi_res <- apply(method1_res, 2, function(x){\n",
    "    apply(method2_res, 2, function(y){\n",
    "        phi(table(x,y), digits=7)\n",
    "    })\n",
    "})"
   ]
  },
  {
   "cell_type": "code",
   "execution_count": 8,
   "metadata": {
    "vscode": {
     "languageId": "r"
    }
   },
   "outputs": [
    {
     "data": {
      "text/html": [
       "<table class=\"dataframe\">\n",
       "<caption>A matrix: 6 × 6 of type dbl</caption>\n",
       "<thead>\n",
       "\t<tr><th></th><th scope=col>donor0</th><th scope=col>donor1</th><th scope=col>donor2</th><th scope=col>donor3</th><th scope=col>donor4</th><th scope=col>donor5</th></tr>\n",
       "</thead>\n",
       "<tbody>\n",
       "\t<tr><th scope=row>Hash451.TotalSeqA</th><td>-0.2275197</td><td> 0.7493799</td><td>-0.1813271</td><td>-0.1854940</td><td>-0.0955660</td><td>-0.1980541</td></tr>\n",
       "\t<tr><th scope=row>Hash452.TotalSeqA</th><td>-0.2014033</td><td>-0.1828634</td><td>-0.1115272</td><td>-0.1617009</td><td>-0.0940712</td><td> 0.7500642</td></tr>\n",
       "\t<tr><th scope=row>Hash453.TotalSeqA</th><td>-0.1924779</td><td>-0.0663714</td><td> 0.5565160</td><td>-0.0925631</td><td>-0.0481002</td><td>-0.1498217</td></tr>\n",
       "\t<tr><th scope=row>Hash454.TotalSeqA</th><td> 0.8930860</td><td>-0.2519482</td><td>-0.1917114</td><td>-0.1877178</td><td>-0.1250017</td><td>-0.1958220</td></tr>\n",
       "\t<tr><th scope=row>Hash455.TotalSeqA</th><td>-0.1037505</td><td>-0.0883705</td><td>-0.0177206</td><td>-0.0636835</td><td> 0.5283553</td><td>-0.0669102</td></tr>\n",
       "\t<tr><th scope=row>Hash456.TotalSeqA</th><td>-0.1832036</td><td>-0.1943171</td><td>-0.1319994</td><td> 0.7869351</td><td>-0.0901388</td><td>-0.1499768</td></tr>\n",
       "</tbody>\n",
       "</table>\n"
      ],
      "text/latex": [
       "A matrix: 6 × 6 of type dbl\n",
       "\\begin{tabular}{r|llllll}\n",
       "  & donor0 & donor1 & donor2 & donor3 & donor4 & donor5\\\\\n",
       "\\hline\n",
       "\tHash451.TotalSeqA & -0.2275197 &  0.7493799 & -0.1813271 & -0.1854940 & -0.0955660 & -0.1980541\\\\\n",
       "\tHash452.TotalSeqA & -0.2014033 & -0.1828634 & -0.1115272 & -0.1617009 & -0.0940712 &  0.7500642\\\\\n",
       "\tHash453.TotalSeqA & -0.1924779 & -0.0663714 &  0.5565160 & -0.0925631 & -0.0481002 & -0.1498217\\\\\n",
       "\tHash454.TotalSeqA &  0.8930860 & -0.2519482 & -0.1917114 & -0.1877178 & -0.1250017 & -0.1958220\\\\\n",
       "\tHash455.TotalSeqA & -0.1037505 & -0.0883705 & -0.0177206 & -0.0636835 &  0.5283553 & -0.0669102\\\\\n",
       "\tHash456.TotalSeqA & -0.1832036 & -0.1943171 & -0.1319994 &  0.7869351 & -0.0901388 & -0.1499768\\\\\n",
       "\\end{tabular}\n"
      ],
      "text/markdown": [
       "\n",
       "A matrix: 6 × 6 of type dbl\n",
       "\n",
       "| <!--/--> | donor0 | donor1 | donor2 | donor3 | donor4 | donor5 |\n",
       "|---|---|---|---|---|---|---|\n",
       "| Hash451.TotalSeqA | -0.2275197 |  0.7493799 | -0.1813271 | -0.1854940 | -0.0955660 | -0.1980541 |\n",
       "| Hash452.TotalSeqA | -0.2014033 | -0.1828634 | -0.1115272 | -0.1617009 | -0.0940712 |  0.7500642 |\n",
       "| Hash453.TotalSeqA | -0.1924779 | -0.0663714 |  0.5565160 | -0.0925631 | -0.0481002 | -0.1498217 |\n",
       "| Hash454.TotalSeqA |  0.8930860 | -0.2519482 | -0.1917114 | -0.1877178 | -0.1250017 | -0.1958220 |\n",
       "| Hash455.TotalSeqA | -0.1037505 | -0.0883705 | -0.0177206 | -0.0636835 |  0.5283553 | -0.0669102 |\n",
       "| Hash456.TotalSeqA | -0.1832036 | -0.1943171 | -0.1319994 |  0.7869351 | -0.0901388 | -0.1499768 |\n",
       "\n"
      ],
      "text/plain": [
       "                  donor0     donor1     donor2     donor3     donor4    \n",
       "Hash451.TotalSeqA -0.2275197  0.7493799 -0.1813271 -0.1854940 -0.0955660\n",
       "Hash452.TotalSeqA -0.2014033 -0.1828634 -0.1115272 -0.1617009 -0.0940712\n",
       "Hash453.TotalSeqA -0.1924779 -0.0663714  0.5565160 -0.0925631 -0.0481002\n",
       "Hash454.TotalSeqA  0.8930860 -0.2519482 -0.1917114 -0.1877178 -0.1250017\n",
       "Hash455.TotalSeqA -0.1037505 -0.0883705 -0.0177206 -0.0636835  0.5283553\n",
       "Hash456.TotalSeqA -0.1832036 -0.1943171 -0.1319994  0.7869351 -0.0901388\n",
       "                  donor5    \n",
       "Hash451.TotalSeqA -0.1980541\n",
       "Hash452.TotalSeqA  0.7500642\n",
       "Hash453.TotalSeqA -0.1498217\n",
       "Hash454.TotalSeqA -0.1958220\n",
       "Hash455.TotalSeqA -0.0669102\n",
       "Hash456.TotalSeqA -0.1499768"
      ]
     },
     "metadata": {},
     "output_type": "display_data"
    }
   ],
   "source": [
    "phi_res"
   ]
  },
  {
   "cell_type": "code",
   "execution_count": 9,
   "metadata": {
    "vscode": {
     "languageId": "r"
    }
   },
   "outputs": [
    {
     "data": {
      "text/html": [
       "<table class=\"dataframe\">\n",
       "<caption>A matrix: 6 × 6 of type dbl</caption>\n",
       "<thead>\n",
       "\t<tr><th></th><th scope=col>donor0</th><th scope=col>donor1</th><th scope=col>donor2</th><th scope=col>donor3</th><th scope=col>donor4</th><th scope=col>donor5</th></tr>\n",
       "</thead>\n",
       "<tbody>\n",
       "\t<tr><th scope=row>Hash451.TotalSeqA</th><td>-0.2275197</td><td> 0.74937992</td><td>-0.18132714</td><td>-0.18549398</td><td>-0.09556602</td><td>-0.19805405</td></tr>\n",
       "\t<tr><th scope=row>Hash452.TotalSeqA</th><td>-0.2014033</td><td>-0.18286343</td><td>-0.11152722</td><td>-0.16170086</td><td>-0.09407122</td><td> 0.75006417</td></tr>\n",
       "\t<tr><th scope=row>Hash453.TotalSeqA</th><td>-0.1924779</td><td>-0.06637141</td><td> 0.55651595</td><td>-0.09256307</td><td>-0.04810021</td><td>-0.14982165</td></tr>\n",
       "\t<tr><th scope=row>Hash454.TotalSeqA</th><td> 0.8930860</td><td>-0.25194820</td><td>-0.19171140</td><td>-0.18771778</td><td>-0.12500167</td><td>-0.19582197</td></tr>\n",
       "\t<tr><th scope=row>Hash455.TotalSeqA</th><td>-0.1037505</td><td>-0.08837050</td><td>-0.01772064</td><td>-0.06368348</td><td> 0.52835531</td><td>-0.06691017</td></tr>\n",
       "\t<tr><th scope=row>Hash456.TotalSeqA</th><td>-0.1832036</td><td>-0.19431709</td><td>-0.13199943</td><td> 0.78693512</td><td>-0.09013880</td><td>-0.14997682</td></tr>\n",
       "</tbody>\n",
       "</table>\n"
      ],
      "text/latex": [
       "A matrix: 6 × 6 of type dbl\n",
       "\\begin{tabular}{r|llllll}\n",
       "  & donor0 & donor1 & donor2 & donor3 & donor4 & donor5\\\\\n",
       "\\hline\n",
       "\tHash451.TotalSeqA & -0.2275197 &  0.74937992 & -0.18132714 & -0.18549398 & -0.09556602 & -0.19805405\\\\\n",
       "\tHash452.TotalSeqA & -0.2014033 & -0.18286343 & -0.11152722 & -0.16170086 & -0.09407122 &  0.75006417\\\\\n",
       "\tHash453.TotalSeqA & -0.1924779 & -0.06637141 &  0.55651595 & -0.09256307 & -0.04810021 & -0.14982165\\\\\n",
       "\tHash454.TotalSeqA &  0.8930860 & -0.25194820 & -0.19171140 & -0.18771778 & -0.12500167 & -0.19582197\\\\\n",
       "\tHash455.TotalSeqA & -0.1037505 & -0.08837050 & -0.01772064 & -0.06368348 &  0.52835531 & -0.06691017\\\\\n",
       "\tHash456.TotalSeqA & -0.1832036 & -0.19431709 & -0.13199943 &  0.78693512 & -0.09013880 & -0.14997682\\\\\n",
       "\\end{tabular}\n"
      ],
      "text/markdown": [
       "\n",
       "A matrix: 6 × 6 of type dbl\n",
       "\n",
       "| <!--/--> | donor0 | donor1 | donor2 | donor3 | donor4 | donor5 |\n",
       "|---|---|---|---|---|---|---|\n",
       "| Hash451.TotalSeqA | -0.2275197 |  0.74937992 | -0.18132714 | -0.18549398 | -0.09556602 | -0.19805405 |\n",
       "| Hash452.TotalSeqA | -0.2014033 | -0.18286343 | -0.11152722 | -0.16170086 | -0.09407122 |  0.75006417 |\n",
       "| Hash453.TotalSeqA | -0.1924779 | -0.06637141 |  0.55651595 | -0.09256307 | -0.04810021 | -0.14982165 |\n",
       "| Hash454.TotalSeqA |  0.8930860 | -0.25194820 | -0.19171140 | -0.18771778 | -0.12500167 | -0.19582197 |\n",
       "| Hash455.TotalSeqA | -0.1037505 | -0.08837050 | -0.01772064 | -0.06368348 |  0.52835531 | -0.06691017 |\n",
       "| Hash456.TotalSeqA | -0.1832036 | -0.19431709 | -0.13199943 |  0.78693512 | -0.09013880 | -0.14997682 |\n",
       "\n"
      ],
      "text/plain": [
       "                  donor0     donor1      donor2      donor3      donor4     \n",
       "Hash451.TotalSeqA -0.2275197  0.74937992 -0.18132714 -0.18549398 -0.09556602\n",
       "Hash452.TotalSeqA -0.2014033 -0.18286343 -0.11152722 -0.16170086 -0.09407122\n",
       "Hash453.TotalSeqA -0.1924779 -0.06637141  0.55651595 -0.09256307 -0.04810021\n",
       "Hash454.TotalSeqA  0.8930860 -0.25194820 -0.19171140 -0.18771778 -0.12500167\n",
       "Hash455.TotalSeqA -0.1037505 -0.08837050 -0.01772064 -0.06368348  0.52835531\n",
       "Hash456.TotalSeqA -0.1832036 -0.19431709 -0.13199943  0.78693512 -0.09013880\n",
       "                  donor5     \n",
       "Hash451.TotalSeqA -0.19805405\n",
       "Hash452.TotalSeqA  0.75006417\n",
       "Hash453.TotalSeqA -0.14982165\n",
       "Hash454.TotalSeqA -0.19582197\n",
       "Hash455.TotalSeqA -0.06691017\n",
       "Hash456.TotalSeqA -0.14997682"
      ]
     },
     "metadata": {},
     "output_type": "display_data"
    }
   ],
   "source": [
    "correlation_res"
   ]
  },
  {
   "cell_type": "code",
   "execution_count": 10,
   "metadata": {
    "vscode": {
     "languageId": "r"
    }
   },
   "outputs": [
    {
     "data": {
      "text/html": [
       "<table class=\"dataframe\">\n",
       "<caption>A matrix: 6 × 6 of type dbl</caption>\n",
       "<thead>\n",
       "\t<tr><th></th><th scope=col>donor0</th><th scope=col>donor1</th><th scope=col>donor2</th><th scope=col>donor3</th><th scope=col>donor4</th><th scope=col>donor5</th></tr>\n",
       "</thead>\n",
       "<tbody>\n",
       "\t<tr><th scope=row>Hash451.TotalSeqA</th><td>-0.2275197</td><td> 0.74937992</td><td>-0.18132714</td><td>-0.18549398</td><td>-0.09556602</td><td>-0.19805405</td></tr>\n",
       "\t<tr><th scope=row>Hash452.TotalSeqA</th><td>-0.2014033</td><td>-0.18286343</td><td>-0.11152722</td><td>-0.16170086</td><td>-0.09407122</td><td> 0.75006417</td></tr>\n",
       "\t<tr><th scope=row>Hash453.TotalSeqA</th><td>-0.1924779</td><td>-0.06637141</td><td> 0.55651595</td><td>-0.09256307</td><td>-0.04810021</td><td>-0.14982165</td></tr>\n",
       "\t<tr><th scope=row>Hash454.TotalSeqA</th><td> 0.8930860</td><td>-0.25194820</td><td>-0.19171140</td><td>-0.18771778</td><td>-0.12500167</td><td>-0.19582197</td></tr>\n",
       "\t<tr><th scope=row>Hash455.TotalSeqA</th><td>-0.1037505</td><td>-0.08837050</td><td>-0.01772064</td><td>-0.06368348</td><td> 0.52835531</td><td>-0.06691017</td></tr>\n",
       "\t<tr><th scope=row>Hash456.TotalSeqA</th><td>-0.1832036</td><td>-0.19431709</td><td>-0.13199943</td><td> 0.78693512</td><td>-0.09013880</td><td>-0.14997682</td></tr>\n",
       "</tbody>\n",
       "</table>\n"
      ],
      "text/latex": [
       "A matrix: 6 × 6 of type dbl\n",
       "\\begin{tabular}{r|llllll}\n",
       "  & donor0 & donor1 & donor2 & donor3 & donor4 & donor5\\\\\n",
       "\\hline\n",
       "\tHash451.TotalSeqA & -0.2275197 &  0.74937992 & -0.18132714 & -0.18549398 & -0.09556602 & -0.19805405\\\\\n",
       "\tHash452.TotalSeqA & -0.2014033 & -0.18286343 & -0.11152722 & -0.16170086 & -0.09407122 &  0.75006417\\\\\n",
       "\tHash453.TotalSeqA & -0.1924779 & -0.06637141 &  0.55651595 & -0.09256307 & -0.04810021 & -0.14982165\\\\\n",
       "\tHash454.TotalSeqA &  0.8930860 & -0.25194820 & -0.19171140 & -0.18771778 & -0.12500167 & -0.19582197\\\\\n",
       "\tHash455.TotalSeqA & -0.1037505 & -0.08837050 & -0.01772064 & -0.06368348 &  0.52835531 & -0.06691017\\\\\n",
       "\tHash456.TotalSeqA & -0.1832036 & -0.19431709 & -0.13199943 &  0.78693512 & -0.09013880 & -0.14997682\\\\\n",
       "\\end{tabular}\n"
      ],
      "text/markdown": [
       "\n",
       "A matrix: 6 × 6 of type dbl\n",
       "\n",
       "| <!--/--> | donor0 | donor1 | donor2 | donor3 | donor4 | donor5 |\n",
       "|---|---|---|---|---|---|---|\n",
       "| Hash451.TotalSeqA | -0.2275197 |  0.74937992 | -0.18132714 | -0.18549398 | -0.09556602 | -0.19805405 |\n",
       "| Hash452.TotalSeqA | -0.2014033 | -0.18286343 | -0.11152722 | -0.16170086 | -0.09407122 |  0.75006417 |\n",
       "| Hash453.TotalSeqA | -0.1924779 | -0.06637141 |  0.55651595 | -0.09256307 | -0.04810021 | -0.14982165 |\n",
       "| Hash454.TotalSeqA |  0.8930860 | -0.25194820 | -0.19171140 | -0.18771778 | -0.12500167 | -0.19582197 |\n",
       "| Hash455.TotalSeqA | -0.1037505 | -0.08837050 | -0.01772064 | -0.06368348 |  0.52835531 | -0.06691017 |\n",
       "| Hash456.TotalSeqA | -0.1832036 | -0.19431709 | -0.13199943 |  0.78693512 | -0.09013880 | -0.14997682 |\n",
       "\n"
      ],
      "text/plain": [
       "                  donor0     donor1      donor2      donor3      donor4     \n",
       "Hash451.TotalSeqA -0.2275197  0.74937992 -0.18132714 -0.18549398 -0.09556602\n",
       "Hash452.TotalSeqA -0.2014033 -0.18286343 -0.11152722 -0.16170086 -0.09407122\n",
       "Hash453.TotalSeqA -0.1924779 -0.06637141  0.55651595 -0.09256307 -0.04810021\n",
       "Hash454.TotalSeqA  0.8930860 -0.25194820 -0.19171140 -0.18771778 -0.12500167\n",
       "Hash455.TotalSeqA -0.1037505 -0.08837050 -0.01772064 -0.06368348  0.52835531\n",
       "Hash456.TotalSeqA -0.1832036 -0.19431709 -0.13199943  0.78693512 -0.09013880\n",
       "                  donor5     \n",
       "Hash451.TotalSeqA -0.19805405\n",
       "Hash452.TotalSeqA  0.75006417\n",
       "Hash453.TotalSeqA -0.14982165\n",
       "Hash454.TotalSeqA -0.19582197\n",
       "Hash455.TotalSeqA -0.06691017\n",
       "Hash456.TotalSeqA -0.14997682"
      ]
     },
     "metadata": {},
     "output_type": "display_data"
    }
   ],
   "source": [
    "spearman_res"
   ]
  },
  {
   "cell_type": "code",
   "execution_count": 12,
   "metadata": {
    "vscode": {
     "languageId": "r"
    }
   },
   "outputs": [
    {
     "data": {
      "image/png": "[encoded data removed]",
      "text/plain": [
       "Plot with title \"Histogram of phi_res\""
      ]
     },
     "metadata": {
      "image/png": {
       "height": 420,
       "width": 420
      }
     },
     "output_type": "display_data"
    }
   ],
   "source": [
    "hist(phi_res)"
   ]
  },
  {
   "cell_type": "code",
   "execution_count": 11,
   "metadata": {
    "vscode": {
     "languageId": "r"
    }
   },
   "outputs": [
    {
     "data": {
      "image/png": "[encoded data removed]",
      "text/plain": [
       "Plot with title \"Histogram of spearman_res\""
      ]
     },
     "metadata": {
      "image/png": {
       "height": 420,
       "width": 420
      }
     },
     "output_type": "display_data"
    }
   ],
   "source": [
    "hist(spearman_res)"
   ]
  },
  {
   "cell_type": "code",
   "execution_count": 13,
   "metadata": {
    "vscode": {
     "languageId": "r"
    }
   },
   "outputs": [
    {
     "data": {
      "image/png": "[encoded data removed]",
      "text/plain": [
       "Plot with title \"Histogram of correlation_res\""
      ]
     },
     "metadata": {
      "image/png": {
       "height": 420,
       "width": 420
      }
     },
     "output_type": "display_data"
    }
   ],
   "source": [
    "hist(correlation_res)"
   ]
  },
  {
   "cell_type": "markdown",
   "metadata": {},
   "source": [
    "A Pearson correlation coefficient estimated for two binary variables will return the phi coefficient."
   ]
  }
 ],
 "metadata": {
  "kernelspec": {
   "display_name": "R",
   "language": "R",
   "name": "ir"
  },
  "language_info": {
   "codemirror_mode": "r",
   "file_extension": ".r",
   "mimetype": "text/x-r-source",
   "name": "R",
   "pygments_lexer": "r",
   "version": "4.2.2"
  },
  "orig_nbformat": 4
 },
 "nbformat": 4,
 "nbformat_minor": 2
}
