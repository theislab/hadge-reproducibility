{
 "cells": [
  {
   "cell_type": "code",
   "execution_count": 1,
   "metadata": {},
   "outputs": [],
   "source": [
    "import pandas as pd"
   ]
  },
  {
   "cell_type": "markdown",
   "metadata": {},
   "source": [
    "This notebook is used to :\n",
    "\n",
    "- Prepare the downsampled barcodes\n",
    "- De-anonymize the donors after deconvolution\n"
   ]
  },
  {
   "cell_type": "markdown",
   "metadata": {},
   "source": [
    "Create barcodes for downsampling.\n"
   ]
  },
  {
   "cell_type": "code",
   "execution_count": 2,
   "metadata": {},
   "outputs": [
    {
     "name": "stdout",
     "output_type": "stream",
     "text": [
      "1: 4044\n",
      "2: 4393\n",
      "3: 4325\n",
      "4: 4353\n",
      "5: 4718\n",
      "6: 4438\n"
     ]
    }
   ],
   "source": [
    "donor_barcodes = pd.read_csv(\n",
    "    \"../data/pipeline_output/gx12/donor_match/all_assignment_after_match.csv\"\n",
    ")\n",
    "for i in range(1, 7, 1):\n",
    "    hash = \"Hash45\" + str(i) + \"_TotalSeqA\"\n",
    "    downsampled = pd.concat(\n",
    "        [\n",
    "            donor_barcodes[~(donor_barcodes[\"vireo_1\"] == hash)],\n",
    "            donor_barcodes[donor_barcodes[\"vireo_1\"] == hash].sample(\n",
    "                frac=0.3, random_state=42\n",
    "            ),\n",
    "        ]\n",
    "    )\n",
    "    print(f\"{i}: {len(downsampled)}\")\n",
    "    pd.DataFrame(downsampled[\"Barcode\"]).to_csv(\n",
    "        \"../data/downsample_30_run1/hash45\"\n",
    "        + str(i)\n",
    "        + \"/downsampled_\"\n",
    "        + hash\n",
    "        + \"_0.3_seed1.tsv\",\n",
    "        sep=\"\\t\",\n",
    "        header=None,\n",
    "        index=None,\n",
    "    )"
   ]
  },
  {
   "cell_type": "code",
   "execution_count": 3,
   "metadata": {},
   "outputs": [
    {
     "name": "stdout",
     "output_type": "stream",
     "text": [
      "1: 4044\n",
      "2: 4393\n",
      "3: 4325\n",
      "4: 4353\n",
      "5: 4718\n",
      "6: 4438\n"
     ]
    }
   ],
   "source": [
    "donor_barcodes = pd.read_csv(\n",
    "    \"../data/pipeline_output/gx12/donor_match/all_assignment_after_match.csv\"\n",
    ")\n",
    "for i in range(1, 7, 1):\n",
    "    hash = \"Hash45\" + str(i) + \"_TotalSeqA\"\n",
    "    downsampled = pd.concat(\n",
    "        [\n",
    "            donor_barcodes[~(donor_barcodes[\"vireo_1\"] == hash)],\n",
    "            donor_barcodes[donor_barcodes[\"vireo_1\"] == hash].sample(\n",
    "                frac=0.3, random_state=20\n",
    "            ),\n",
    "        ]\n",
    "    )\n",
    "    print(f\"{i}: {len(downsampled)}\")\n",
    "    pd.DataFrame(downsampled[\"Barcode\"]).to_csv(\n",
    "        \"../data/downsample_30_run2/hash45\"\n",
    "        + str(i)\n",
    "        + \"/downsampled_\"\n",
    "        + hash\n",
    "        + \"_0.3_seed2.tsv\",\n",
    "        sep=\"\\t\",\n",
    "        header=None,\n",
    "        index=None,\n",
    "    )"
   ]
  },
  {
   "cell_type": "code",
   "execution_count": 4,
   "metadata": {},
   "outputs": [
    {
     "name": "stdout",
     "output_type": "stream",
     "text": [
      "1: 4044\n",
      "2: 4393\n",
      "3: 4325\n",
      "4: 4353\n",
      "5: 4718\n",
      "6: 4438\n"
     ]
    }
   ],
   "source": [
    "donor_barcodes = pd.read_csv(\n",
    "    \"../data/pipeline_output/gx12/donor_match/all_assignment_after_match.csv\"\n",
    ")\n",
    "for i in range(1, 7, 1):\n",
    "    hash = \"Hash45\" + str(i) + \"_TotalSeqA\"\n",
    "    downsampled = pd.concat(\n",
    "        [\n",
    "            donor_barcodes[~(donor_barcodes[\"vireo_1\"] == hash)],\n",
    "            donor_barcodes[donor_barcodes[\"vireo_1\"] == hash].sample(\n",
    "                frac=0.3, random_state=1\n",
    "            ),\n",
    "        ]\n",
    "    )\n",
    "    print(f\"{i}: {len(downsampled)}\")\n",
    "    pd.DataFrame(downsampled[\"Barcode\"]).to_csv(\n",
    "        \"../data/downsample_30_run3/hash45\"\n",
    "        + str(i)\n",
    "        + \"/downsampled_\"\n",
    "        + hash\n",
    "        + \"_0.3_seed3.tsv\",\n",
    "        sep=\"\\t\",\n",
    "        header=None,\n",
    "        index=None,\n",
    "    )"
   ]
  },
  {
   "cell_type": "code",
   "execution_count": 5,
   "metadata": {},
   "outputs": [
    {
     "name": "stdout",
     "output_type": "stream",
     "text": [
      "1: 4286\n",
      "2: 4534\n",
      "3: 4486\n",
      "4: 4506\n",
      "5: 4766\n",
      "6: 4567\n"
     ]
    }
   ],
   "source": [
    "donor_barcodes = pd.read_csv(\n",
    "    \"../data/pipeline_output/gx12/donor_match/all_assignment_after_match.csv\"\n",
    ")\n",
    "for i in range(1, 7, 1):\n",
    "    hash = \"Hash45\" + str(i) + \"_TotalSeqA\"\n",
    "    downsampled = pd.concat(\n",
    "        [\n",
    "            donor_barcodes[~(donor_barcodes[\"vireo_1\"] == hash)],\n",
    "            donor_barcodes[donor_barcodes[\"vireo_1\"] == hash].sample(\n",
    "                frac=0.5, random_state=42\n",
    "            ),\n",
    "        ]\n",
    "    )\n",
    "    print(f\"{i}: {len(downsampled)}\")\n",
    "    pd.DataFrame(downsampled[\"Barcode\"]).to_csv(\n",
    "        \"../data/downsample_50_run1/hash45\"\n",
    "        + str(i)\n",
    "        + \"/downsampled_\"\n",
    "        + hash\n",
    "        + \"_0.5_seed1.tsv\",\n",
    "        sep=\"\\t\",\n",
    "        header=None,\n",
    "        index=None,\n",
    "    )"
   ]
  },
  {
   "cell_type": "code",
   "execution_count": 6,
   "metadata": {},
   "outputs": [
    {
     "name": "stdout",
     "output_type": "stream",
     "text": [
      "1: 4286\n",
      "2: 4534\n",
      "3: 4486\n",
      "4: 4506\n",
      "5: 4766\n",
      "6: 4567\n"
     ]
    }
   ],
   "source": [
    "donor_barcodes = pd.read_csv(\n",
    "    \"/Users/xichenwu/hagen-reproducibility/data/pipeline_output/gx12/donor_match/all_assignment_after_match.csv\"\n",
    ")\n",
    "for i in range(1, 7, 1):\n",
    "    hash = \"Hash45\" + str(i) + \"_TotalSeqA\"\n",
    "    downsampled = pd.concat(\n",
    "        [\n",
    "            donor_barcodes[~(donor_barcodes[\"vireo_1\"] == hash)],\n",
    "            donor_barcodes[donor_barcodes[\"vireo_1\"] == hash].sample(\n",
    "                frac=0.5, random_state=20\n",
    "            ),\n",
    "        ]\n",
    "    )\n",
    "    print(f\"{i}: {len(downsampled)}\")\n",
    "    pd.DataFrame(downsampled[\"Barcode\"]).to_csv(\n",
    "        \"../data/downsample_50_run2/hash45\"\n",
    "        + str(i)\n",
    "        + \"/downsampled_\"\n",
    "        + hash\n",
    "        + \"_0.5_seed2.tsv\",\n",
    "        sep=\"\\t\",\n",
    "        header=None,\n",
    "        index=None,\n",
    "    )"
   ]
  },
  {
   "cell_type": "code",
   "execution_count": 7,
   "metadata": {},
   "outputs": [
    {
     "name": "stdout",
     "output_type": "stream",
     "text": [
      "1: 4286\n",
      "2: 4534\n",
      "3: 4486\n",
      "4: 4506\n",
      "5: 4766\n",
      "6: 4567\n"
     ]
    }
   ],
   "source": [
    "donor_barcodes = pd.read_csv(\n",
    "    \"../data/pipeline_output/gx12/donor_match/all_assignment_after_match.csv\"\n",
    ")\n",
    "for i in range(1, 7, 1):\n",
    "    hash = \"Hash45\" + str(i) + \"_TotalSeqA\"\n",
    "    downsampled = pd.concat(\n",
    "        [\n",
    "            donor_barcodes[~(donor_barcodes[\"vireo_1\"] == hash)],\n",
    "            donor_barcodes[donor_barcodes[\"vireo_1\"] == hash].sample(\n",
    "                frac=0.5, random_state=1\n",
    "            ),\n",
    "        ]\n",
    "    )\n",
    "    print(f\"{i}: {len(downsampled)}\")\n",
    "    pd.DataFrame(downsampled[\"Barcode\"]).to_csv(\n",
    "        \"../data/downsample_50_run3/hash45\"\n",
    "        + str(i)\n",
    "        + \"/downsampled_\"\n",
    "        + hash\n",
    "        + \"_0.5_seed3.tsv\",\n",
    "        sep=\"\\t\",\n",
    "        header=None,\n",
    "        index=None,\n",
    "    )"
   ]
  },
  {
   "cell_type": "markdown",
   "metadata": {},
   "source": [
    "Merge result with hashing tools.\n"
   ]
  },
  {
   "cell_type": "code",
   "execution_count": 8,
   "metadata": {},
   "outputs": [],
   "source": [
    "hashing = pd.read_csv(\n",
    "    \"../data/pipeline_output/gx12/hash_assignment_all.csv\", index_col=0\n",
    ")\n",
    "for run in range(1, 4, 1):\n",
    "    for downsample_pct in [30, 50]:\n",
    "        for i in range(1, 7, 1):\n",
    "            downsampled_res = pd.read_csv(\n",
    "                \"../data/downsample_\"\n",
    "                + str(downsample_pct)\n",
    "                + \"_run\"\n",
    "                + str(run)\n",
    "                + \"/hash45\"\n",
    "                + str(i)\n",
    "                + \"/genetic_assignment_all.csv\",\n",
    "                index_col=0,\n",
    "            )\n",
    "            downsampled_res_all = pd.merge(\n",
    "                hashing, downsampled_res, how=\"outer\", left_index=True, right_index=True\n",
    "            )\n",
    "            downsampled_res_all.to_csv(\n",
    "                \"../data/downsample_\"\n",
    "                + str(downsample_pct)\n",
    "                + \"_run\"\n",
    "                + str(run)\n",
    "                + \"/hash45\"\n",
    "                + str(i)\n",
    "                + \"/downsampled_res_all.csv\"\n",
    "            )"
   ]
  },
  {
   "cell_type": "markdown",
   "metadata": {},
   "source": [
    "Compare with the previous result.\n"
   ]
  },
  {
   "cell_type": "code",
   "execution_count": 9,
   "metadata": {},
   "outputs": [],
   "source": [
    "res = pd.read_csv(\n",
    "    \"../data/pipeline_output/gx12/donor_match/all_assignment_after_match.csv\",\n",
    "    usecols=[\"Barcode\", \"vireo_1\"],\n",
    "    index_col=0,\n",
    ")\n",
    "res.rename(columns={\"vireo_1\": \"Full\"}, inplace=True)"
   ]
  },
  {
   "cell_type": "code",
   "execution_count": 10,
   "metadata": {},
   "outputs": [],
   "source": [
    "for run in range(1, 4, 1):\n",
    "    for downsample_pct in [30, 50]:\n",
    "        compare_downsample_vireo = res.copy()\n",
    "        for i in range(1, 7, 1):\n",
    "            output_dir = (\n",
    "                \"../data/downsample_\"\n",
    "                + str(downsample_pct)\n",
    "                + \"_run\"\n",
    "                + str(run)\n",
    "                + \"/hash45\"\n",
    "                + str(i)\n",
    "            )\n",
    "            vireo_demuxem_match = pd.read_csv(\n",
    "                output_dir\n",
    "                + \"/donor_match/vireo_1_vs_demuxem_1/all_assignment_after_match.csv\",\n",
    "                usecols=[\"Barcode\", \"vireo_1\"],\n",
    "                index_col=0,\n",
    "            )\n",
    "            vireo_demuxem_match.rename(\n",
    "                columns={\"vireo_1\": \"Hash45\" + str(i) + \" Downsampled\"},\n",
    "                inplace=True,\n",
    "            )\n",
    "            compare_downsample_vireo = pd.merge(\n",
    "                compare_downsample_vireo,\n",
    "                vireo_demuxem_match,\n",
    "                left_index=True,\n",
    "                right_index=True,\n",
    "                how=\"outer\",\n",
    "            )\n",
    "        compare_downsample_vireo.to_csv(\n",
    "            \"../data/downsample_\"\n",
    "            + str(downsample_pct)\n",
    "            + \"_run\"\n",
    "            + str(run)\n",
    "            + \"/downsampled_compare_vireo_all.csv\"\n",
    "        )"
   ]
  },
  {
   "cell_type": "code",
   "execution_count": 11,
   "metadata": {},
   "outputs": [],
   "source": [
    "for run in range(1, 4, 1):\n",
    "    for downsample_pct in [30, 50]:\n",
    "        compare_downsample_souporcell = res.copy()\n",
    "        for i in range(1, 7, 1):\n",
    "            output_dir = (\n",
    "                \"../data/downsample_\"\n",
    "                + str(downsample_pct)\n",
    "                + \"_run\"\n",
    "                + str(run)\n",
    "                + \"/hash45\"\n",
    "                + str(i)\n",
    "            )\n",
    "            souporcell_demuxem_match = pd.read_csv(\n",
    "                output_dir\n",
    "                + \"/donor_match/souporcell_1_vs_demuxem_1/all_assignment_after_match.csv\",\n",
    "                usecols=[\"Barcode\", \"souporcell_1\"],\n",
    "                index_col=0,\n",
    "            )\n",
    "            souporcell_demuxem_match.rename(\n",
    "                columns={\"souporcell_1\": \"Hash45\" + str(i) + \" Downsampled\"},\n",
    "                inplace=True,\n",
    "            )\n",
    "            compare_downsample_souporcell = pd.merge(\n",
    "                compare_downsample_souporcell,\n",
    "                souporcell_demuxem_match,\n",
    "                left_index=True,\n",
    "                right_index=True,\n",
    "                how=\"outer\",\n",
    "            )\n",
    "        compare_downsample_souporcell.to_csv(\n",
    "            \"../data/downsample_\"\n",
    "            + str(downsample_pct)\n",
    "            + \"_run\"\n",
    "            + str(run)\n",
    "            + \"/downsampled_compare_souporcell_all.csv\"\n",
    "        )"
   ]
  },
  {
   "cell_type": "code",
   "execution_count": 12,
   "metadata": {},
   "outputs": [],
   "source": [
    "for run in range(1, 4, 1):\n",
    "    for downsample_pct in [30, 50]:\n",
    "        compare_downsample_freemuxlet = res.copy()\n",
    "        for i in range(1, 7, 1):\n",
    "            output_dir = (\n",
    "                \"../data/downsample_\"\n",
    "                + str(downsample_pct)\n",
    "                + \"_run\"\n",
    "                + str(run)\n",
    "                + \"/hash45\"\n",
    "                + str(i)\n",
    "            )\n",
    "            freemuxlet_demuxem_match = pd.read_csv(\n",
    "                output_dir\n",
    "                + \"/donor_match/freemuxlet_1_vs_demuxem_1/all_assignment_after_match.csv\",\n",
    "                usecols=[\"Barcode\", \"freemuxlet_1\"],\n",
    "                index_col=0,\n",
    "            )\n",
    "\n",
    "            freemuxlet_demuxem_match.rename(\n",
    "                columns={\"freemuxlet_1\": \"Hash45\" + str(i) + \" Downsampled\"},\n",
    "                inplace=True,\n",
    "            )\n",
    "            compare_downsample_freemuxlet = pd.merge(\n",
    "                compare_downsample_freemuxlet,\n",
    "                freemuxlet_demuxem_match,\n",
    "                left_index=True,\n",
    "                right_index=True,\n",
    "                how=\"outer\",\n",
    "            )\n",
    "        compare_downsample_freemuxlet.to_csv(\n",
    "            \"../data/downsample_\"\n",
    "            + str(downsample_pct)\n",
    "            + \"_run\"\n",
    "            + str(run)\n",
    "            + \"/downsampled_compare_freemuxlet_all.csv\"\n",
    "        )"
   ]
  },
  {
   "cell_type": "code",
   "execution_count": 13,
   "metadata": {},
   "outputs": [],
   "source": [
    "for run in range(1, 4, 1):\n",
    "    for downsample_pct in [30, 50]:\n",
    "        compare_downsample_scsplit = res.copy()\n",
    "        for i in range(1, 7, 1):\n",
    "            output_dir = (\n",
    "                \"../data/downsample_\"\n",
    "                + str(downsample_pct)\n",
    "                + \"_run\"\n",
    "                + str(run)\n",
    "                + \"/hash45\"\n",
    "                + str(i)\n",
    "            )\n",
    "            scsplit_demuxem_match = pd.read_csv(\n",
    "                output_dir\n",
    "                + \"/donor_match/scsplit_1_vs_demuxem_1/all_assignment_after_match.csv\",\n",
    "                usecols=[\"Barcode\", \"scsplit_1\"],\n",
    "                index_col=0,\n",
    "            )\n",
    "            scsplit_demuxem_match.rename(\n",
    "                columns={\"scsplit_1\": \"Hash45\" + str(i) + \" Downsampled Dataset\"},\n",
    "                inplace=True,\n",
    "            )\n",
    "            singlets = pd.read_csv(output_dir + \"/scsplit_assignment.csv\")\n",
    "            singlets = singlets[~singlets[\"scsplit_1\"].str.contains(\"doublet\")]\n",
    "            scsplit_demuxem_match = scsplit_demuxem_match.reset_index()\n",
    "            merged_df = scsplit_demuxem_match.merge(\n",
    "                singlets[[\"Barcode\"]], on=\"Barcode\", how=\"left\", indicator=True\n",
    "            )\n",
    "            merged_df.loc[\n",
    "                merged_df[\"_merge\"] == \"both\",\n",
    "                \"Hash45\" + str(i) + \" Downsampled Dataset\",\n",
    "            ] = merged_df.loc[\n",
    "                merged_df[\"_merge\"] == \"both\",\n",
    "                \"Hash45\" + str(i) + \" Downsampled Dataset\",\n",
    "            ].fillna(\n",
    "                \"Not matched\"\n",
    "            )\n",
    "            scsplit_demuxem_match = merged_df.drop(columns=[\"_merge\"]).set_index(\n",
    "                \"Barcode\"\n",
    "            )\n",
    "            compare_downsample_scsplit = pd.merge(\n",
    "                compare_downsample_scsplit,\n",
    "                scsplit_demuxem_match,\n",
    "                left_index=True,\n",
    "                right_index=True,\n",
    "                how=\"outer\",\n",
    "            )\n",
    "        compare_downsample_scsplit.to_csv(\n",
    "            \"../data/downsample_\"\n",
    "            + str(downsample_pct)\n",
    "            + \"_run\"\n",
    "            + str(run)\n",
    "            + \"/downsampled_compare_scsplit_all.csv\"\n",
    "        )"
   ]
  }
 ],
 "metadata": {
  "kernelspec": {
   "display_name": "hadge_analysis",
   "language": "python",
   "name": "python3"
  },
  "language_info": {
   "codemirror_mode": {
    "name": "ipython",
    "version": 3
   },
   "file_extension": ".py",
   "mimetype": "text/x-python",
   "name": "python",
   "nbconvert_exporter": "python",
   "pygments_lexer": "ipython3",
   "version": "3.11.7"
  }
 },
 "nbformat": 4,
 "nbformat_minor": 2
}
