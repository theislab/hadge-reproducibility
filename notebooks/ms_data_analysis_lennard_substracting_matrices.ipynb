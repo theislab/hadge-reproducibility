{
 "cells": [
  {
   "cell_type": "code",
   "execution_count": 161,
   "id": "2054c251",
   "metadata": {},
   "outputs": [],
   "source": [
    "import numpy as np\n",
    "import scanpy as sc\n",
    "import pandas as pd"
   ]
  },
  {
   "cell_type": "code",
   "execution_count": 162,
   "id": "05ac1bf0",
   "metadata": {},
   "outputs": [
    {
     "name": "stdout",
     "output_type": "stream",
     "text": [
      "scanpy==1.9.3 anndata==0.8.0 umap==0.5.3 numpy==1.23.5 scipy==1.9.1 pandas==1.5.3 scikit-learn==1.2.2 statsmodels==0.13.5 python-igraph==0.10.4 pynndescent==0.5.8\n"
     ]
    }
   ],
   "source": [
    "sc.settings.verbosity = 3             # verbosity: errors (0), warnings (1), info (2), hints (3)\n",
    "sc.logging.print_header()\n",
    "sc.settings.set_figure_params(dpi=80, facecolor='white')"
   ]
  },
  {
   "cell_type": "markdown",
   "id": "494dcfe9",
   "metadata": {},
   "source": [
    "Read in the AnnData file."
   ]
  },
  {
   "cell_type": "code",
   "execution_count": 163,
   "id": "332479d8",
   "metadata": {
    "scrolled": true
   },
   "outputs": [
    {
     "name": "stdout",
     "output_type": "stream",
     "text": [
      "AnnData object with n_obs × n_vars = 4889 × 33694\n",
      "    var: 'gene_ids', 'feature_types'\n"
     ]
    }
   ],
   "source": [
    "adata = sc.read_h5ad(\"/Volumes/NAME/deconvolution-project/filtered_MS_nuclei_hashing_gx12.h5ad\")\n",
    "print(adata)"
   ]
  },
  {
   "cell_type": "code",
   "execution_count": 164,
   "id": "b94ca01a",
   "metadata": {},
   "outputs": [
    {
     "data": {
      "text/html": [
       "<div>\n",
       "<style scoped>\n",
       "    .dataframe tbody tr th:only-of-type {\n",
       "        vertical-align: middle;\n",
       "    }\n",
       "\n",
       "    .dataframe tbody tr th {\n",
       "        vertical-align: top;\n",
       "    }\n",
       "\n",
       "    .dataframe thead th {\n",
       "        text-align: right;\n",
       "    }\n",
       "</style>\n",
       "<table border=\"1\" class=\"dataframe\">\n",
       "  <thead>\n",
       "    <tr style=\"text-align: right;\">\n",
       "      <th></th>\n",
       "      <th>gene_ids</th>\n",
       "      <th>feature_types</th>\n",
       "    </tr>\n",
       "  </thead>\n",
       "  <tbody>\n",
       "    <tr>\n",
       "      <th>RP11-34P13.3</th>\n",
       "      <td>ENSG00000243485</td>\n",
       "      <td>Gene Expression</td>\n",
       "    </tr>\n",
       "    <tr>\n",
       "      <th>FAM138A</th>\n",
       "      <td>ENSG00000237613</td>\n",
       "      <td>Gene Expression</td>\n",
       "    </tr>\n",
       "    <tr>\n",
       "      <th>OR4F5</th>\n",
       "      <td>ENSG00000186092</td>\n",
       "      <td>Gene Expression</td>\n",
       "    </tr>\n",
       "    <tr>\n",
       "      <th>RP11-34P13.7</th>\n",
       "      <td>ENSG00000238009</td>\n",
       "      <td>Gene Expression</td>\n",
       "    </tr>\n",
       "    <tr>\n",
       "      <th>RP11-34P13.8</th>\n",
       "      <td>ENSG00000239945</td>\n",
       "      <td>Gene Expression</td>\n",
       "    </tr>\n",
       "    <tr>\n",
       "      <th>...</th>\n",
       "      <td>...</td>\n",
       "      <td>...</td>\n",
       "    </tr>\n",
       "    <tr>\n",
       "      <th>AC233755.2</th>\n",
       "      <td>ENSG00000277856</td>\n",
       "      <td>Gene Expression</td>\n",
       "    </tr>\n",
       "    <tr>\n",
       "      <th>AC233755.1</th>\n",
       "      <td>ENSG00000275063</td>\n",
       "      <td>Gene Expression</td>\n",
       "    </tr>\n",
       "    <tr>\n",
       "      <th>AC240274.1</th>\n",
       "      <td>ENSG00000271254</td>\n",
       "      <td>Gene Expression</td>\n",
       "    </tr>\n",
       "    <tr>\n",
       "      <th>AC213203.1</th>\n",
       "      <td>ENSG00000277475</td>\n",
       "      <td>Gene Expression</td>\n",
       "    </tr>\n",
       "    <tr>\n",
       "      <th>FAM231B</th>\n",
       "      <td>ENSG00000268674</td>\n",
       "      <td>Gene Expression</td>\n",
       "    </tr>\n",
       "  </tbody>\n",
       "</table>\n",
       "<p>33694 rows × 2 columns</p>\n",
       "</div>"
      ],
      "text/plain": [
       "                     gene_ids    feature_types\n",
       "RP11-34P13.3  ENSG00000243485  Gene Expression\n",
       "FAM138A       ENSG00000237613  Gene Expression\n",
       "OR4F5         ENSG00000186092  Gene Expression\n",
       "RP11-34P13.7  ENSG00000238009  Gene Expression\n",
       "RP11-34P13.8  ENSG00000239945  Gene Expression\n",
       "...                       ...              ...\n",
       "AC233755.2    ENSG00000277856  Gene Expression\n",
       "AC233755.1    ENSG00000275063  Gene Expression\n",
       "AC240274.1    ENSG00000271254  Gene Expression\n",
       "AC213203.1    ENSG00000277475  Gene Expression\n",
       "FAM231B       ENSG00000268674  Gene Expression\n",
       "\n",
       "[33694 rows x 2 columns]"
      ]
     },
     "execution_count": 164,
     "metadata": {},
     "output_type": "execute_result"
    }
   ],
   "source": [
    "adata.var"
   ]
  },
  {
   "cell_type": "code",
   "execution_count": 165,
   "id": "dd1dfffe",
   "metadata": {},
   "outputs": [],
   "source": [
    "gene_expression_MBP = adata[:, \"MBP\"].X.toarray()"
   ]
  },
  {
   "cell_type": "code",
   "execution_count": 166,
   "id": "d361b414",
   "metadata": {},
   "outputs": [
    {
     "data": {
      "text/plain": [
       "array([[ 3.],\n",
       "       [59.],\n",
       "       [ 2.],\n",
       "       ...,\n",
       "       [51.],\n",
       "       [ 6.],\n",
       "       [23.]], dtype=float32)"
      ]
     },
     "execution_count": 166,
     "metadata": {},
     "output_type": "execute_result"
    }
   ],
   "source": [
    "gene_expression_MBP"
   ]
  },
  {
   "cell_type": "code",
   "execution_count": 167,
   "id": "f8b30160",
   "metadata": {},
   "outputs": [],
   "source": [
    "# Convert the numpy array to a pandas DataFrame\n",
    "new_df = pd.DataFrame(gene_expression_MBP, index=adata.obs_names, columns=[\"gene_expression_MBP\"])\n",
    "\n",
    "# Concatenate the new DataFrame with the existing adata.obs DataFrame\n",
    "adata.obs = pd.concat([adata.obs, new_df], axis=1)\n"
   ]
  },
  {
   "cell_type": "code",
   "execution_count": 168,
   "id": "19201e04",
   "metadata": {},
   "outputs": [],
   "source": [
    "import scipy.io\n",
    "\n",
    "# Load the sparse matrix from the Matrix Market file\n",
    "decontamination_matrix = scipy.io.mmread(\"/Volumes/NAME/deconvolution-project/gx12_decontaminated_matrix.mtx\")"
   ]
  },
  {
   "cell_type": "code",
   "execution_count": 169,
   "id": "2acc3792",
   "metadata": {},
   "outputs": [],
   "source": [
    "decontamination_matrix = decontamination_matrix.tocsr()\n",
    "before_decontamination_matrix = adata.X"
   ]
  },
  {
   "cell_type": "code",
   "execution_count": 170,
   "id": "ea7ed39b",
   "metadata": {},
   "outputs": [],
   "source": [
    "import numpy as np\n",
    "from scipy.sparse import csr_matrix\n",
    "\n",
    "# assume matrix_a and matrix_b are two sparse matrices in CSR format with the same shape\n",
    "# first convert them to arrays with the same shape and fill missing values with zeros\n",
    "a = before_decontamination_matrix.toarray()\n",
    "b = decontamination_matrix.T.toarray()\n",
    "a[np.isnan(a)] = 0\n",
    "b[np.isnan(b)] = 0\n",
    "\n",
    "# subtract matrix_a from matrix_b element-wise\n",
    "result = a - b\n",
    "\n",
    "# convert the result back to CSR format\n",
    "sub_decontamination_matrix = csr_matrix(result)\n"
   ]
  },
  {
   "cell_type": "code",
   "execution_count": 171,
   "id": "7ab138b6",
   "metadata": {},
   "outputs": [],
   "source": [
    "# somehow represent these as percentage points\n",
    "# maybe just do a separate obs column? Need to find the gene values though --> should be in the matrix of the original adata"
   ]
  },
  {
   "cell_type": "code",
   "execution_count": 172,
   "id": "46f256ee",
   "metadata": {},
   "outputs": [],
   "source": [
    "adata.layers[\"counts\"] = adata.X\n",
    "adata.layers[\"soupX_counts\"] = sub_decontamination_matrix\n",
    "adata.X = adata.layers[\"soupX_counts\"]"
   ]
  },
  {
   "cell_type": "code",
   "execution_count": 173,
   "id": "ab248fbf",
   "metadata": {
    "scrolled": false
   },
   "outputs": [
    {
     "data": {
      "text/plain": [
       "<4889x33694 sparse matrix of type '<class 'numpy.float64'>'\n",
       "\twith 13475030 stored elements in Compressed Sparse Row format>"
      ]
     },
     "execution_count": 173,
     "metadata": {},
     "output_type": "execute_result"
    }
   ],
   "source": [
    "adata.X"
   ]
  },
  {
   "cell_type": "code",
   "execution_count": 174,
   "id": "9529c346",
   "metadata": {},
   "outputs": [],
   "source": [
    "adata.layers[\"soupX_counts\"] = adata.layers[\"soupX_counts\"].tocsr()"
   ]
  },
  {
   "cell_type": "code",
   "execution_count": 175,
   "id": "a24863e2",
   "metadata": {
    "scrolled": false
   },
   "outputs": [
    {
     "data": {
      "text/plain": [
       "<4889x33694 sparse matrix of type '<class 'numpy.float64'>'\n",
       "\twith 13475030 stored elements in Compressed Sparse Row format>"
      ]
     },
     "execution_count": 175,
     "metadata": {},
     "output_type": "execute_result"
    }
   ],
   "source": [
    "adata.X"
   ]
  },
  {
   "cell_type": "code",
   "execution_count": 176,
   "id": "4543153b",
   "metadata": {},
   "outputs": [],
   "source": [
    "gene_expression_MBP_sub = adata[:, \"MBP\"].X.toarray()"
   ]
  },
  {
   "cell_type": "code",
   "execution_count": 177,
   "id": "3ee690b9",
   "metadata": {
    "scrolled": true
   },
   "outputs": [
    {
     "data": {
      "text/plain": [
       "array([[3.        ],\n",
       "       [1.03717443],\n",
       "       [0.26282582],\n",
       "       ...,\n",
       "       [5.5402204 ],\n",
       "       [6.        ],\n",
       "       [0.29361805]])"
      ]
     },
     "execution_count": 177,
     "metadata": {},
     "output_type": "execute_result"
    }
   ],
   "source": [
    "gene_expression_MBP_sub"
   ]
  },
  {
   "cell_type": "code",
   "execution_count": 178,
   "id": "7f59572a",
   "metadata": {},
   "outputs": [],
   "source": [
    "# Convert the numpy array to a pandas DataFrame\n",
    "new_df = pd.DataFrame(gene_expression_MBP_sub, index=adata.obs_names, columns=[\"gene_expression_MBP_sub\"])\n",
    "\n",
    "# Concatenate the new DataFrame with the existing adata.obs DataFrame\n",
    "adata.obs = pd.concat([adata.obs, new_df], axis=1)\n"
   ]
  },
  {
   "cell_type": "code",
   "execution_count": 179,
   "id": "881ca99c",
   "metadata": {},
   "outputs": [
    {
     "data": {
      "text/html": [
       "<div>\n",
       "<style scoped>\n",
       "    .dataframe tbody tr th:only-of-type {\n",
       "        vertical-align: middle;\n",
       "    }\n",
       "\n",
       "    .dataframe tbody tr th {\n",
       "        vertical-align: top;\n",
       "    }\n",
       "\n",
       "    .dataframe thead th {\n",
       "        text-align: right;\n",
       "    }\n",
       "</style>\n",
       "<table border=\"1\" class=\"dataframe\">\n",
       "  <thead>\n",
       "    <tr style=\"text-align: right;\">\n",
       "      <th></th>\n",
       "      <th>gene_expression_MBP</th>\n",
       "      <th>gene_expression_MBP_sub</th>\n",
       "    </tr>\n",
       "  </thead>\n",
       "  <tbody>\n",
       "    <tr>\n",
       "      <th>AAACCCAAGGTGTGAC-1</th>\n",
       "      <td>3.0</td>\n",
       "      <td>3.000000</td>\n",
       "    </tr>\n",
       "    <tr>\n",
       "      <th>AAACCCAGTGAGAGGG-1</th>\n",
       "      <td>59.0</td>\n",
       "      <td>1.037174</td>\n",
       "    </tr>\n",
       "    <tr>\n",
       "      <th>AAACGAAAGAATCTAG-1</th>\n",
       "      <td>2.0</td>\n",
       "      <td>0.262826</td>\n",
       "    </tr>\n",
       "    <tr>\n",
       "      <th>AAACGAACACATATGC-1</th>\n",
       "      <td>3.0</td>\n",
       "      <td>0.232459</td>\n",
       "    </tr>\n",
       "    <tr>\n",
       "      <th>AAACGAACACGACTAT-1</th>\n",
       "      <td>46.0</td>\n",
       "      <td>1.358648</td>\n",
       "    </tr>\n",
       "    <tr>\n",
       "      <th>...</th>\n",
       "      <td>...</td>\n",
       "      <td>...</td>\n",
       "    </tr>\n",
       "    <tr>\n",
       "      <th>TTTGTTGAGTCCCAGC-1</th>\n",
       "      <td>4.0</td>\n",
       "      <td>0.088132</td>\n",
       "    </tr>\n",
       "    <tr>\n",
       "      <th>TTTGTTGCAGCGCGTT-1</th>\n",
       "      <td>71.0</td>\n",
       "      <td>0.594395</td>\n",
       "    </tr>\n",
       "    <tr>\n",
       "      <th>TTTGTTGGTTATCTTC-1</th>\n",
       "      <td>51.0</td>\n",
       "      <td>5.540220</td>\n",
       "    </tr>\n",
       "    <tr>\n",
       "      <th>TTTGTTGTCCAGTGTA-1</th>\n",
       "      <td>6.0</td>\n",
       "      <td>6.000000</td>\n",
       "    </tr>\n",
       "    <tr>\n",
       "      <th>TTTGTTGTCGCTTAAG-1</th>\n",
       "      <td>23.0</td>\n",
       "      <td>0.293618</td>\n",
       "    </tr>\n",
       "  </tbody>\n",
       "</table>\n",
       "<p>4889 rows × 2 columns</p>\n",
       "</div>"
      ],
      "text/plain": [
       "                    gene_expression_MBP  gene_expression_MBP_sub\n",
       "AAACCCAAGGTGTGAC-1                  3.0                 3.000000\n",
       "AAACCCAGTGAGAGGG-1                 59.0                 1.037174\n",
       "AAACGAAAGAATCTAG-1                  2.0                 0.262826\n",
       "AAACGAACACATATGC-1                  3.0                 0.232459\n",
       "AAACGAACACGACTAT-1                 46.0                 1.358648\n",
       "...                                 ...                      ...\n",
       "TTTGTTGAGTCCCAGC-1                  4.0                 0.088132\n",
       "TTTGTTGCAGCGCGTT-1                 71.0                 0.594395\n",
       "TTTGTTGGTTATCTTC-1                 51.0                 5.540220\n",
       "TTTGTTGTCCAGTGTA-1                  6.0                 6.000000\n",
       "TTTGTTGTCGCTTAAG-1                 23.0                 0.293618\n",
       "\n",
       "[4889 rows x 2 columns]"
      ]
     },
     "execution_count": 179,
     "metadata": {},
     "output_type": "execute_result"
    }
   ],
   "source": [
    "adata.obs"
   ]
  },
  {
   "cell_type": "code",
   "execution_count": 180,
   "id": "44291564",
   "metadata": {},
   "outputs": [],
   "source": [
    "adata.obs[\"gene_expression_MBP_ratio_changed\"] = adata.obs[\"gene_expression_MBP_sub\"] / adata.obs[\"gene_expression_MBP\"]"
   ]
  },
  {
   "cell_type": "code",
   "execution_count": 181,
   "id": "1f803559",
   "metadata": {
    "scrolled": true
   },
   "outputs": [
    {
     "data": {
      "text/html": [
       "<div>\n",
       "<style scoped>\n",
       "    .dataframe tbody tr th:only-of-type {\n",
       "        vertical-align: middle;\n",
       "    }\n",
       "\n",
       "    .dataframe tbody tr th {\n",
       "        vertical-align: top;\n",
       "    }\n",
       "\n",
       "    .dataframe thead th {\n",
       "        text-align: right;\n",
       "    }\n",
       "</style>\n",
       "<table border=\"1\" class=\"dataframe\">\n",
       "  <thead>\n",
       "    <tr style=\"text-align: right;\">\n",
       "      <th></th>\n",
       "      <th>gene_expression_MBP</th>\n",
       "      <th>gene_expression_MBP_sub</th>\n",
       "      <th>gene_expression_MBP_ratio_changed</th>\n",
       "    </tr>\n",
       "  </thead>\n",
       "  <tbody>\n",
       "    <tr>\n",
       "      <th>AAACCCAAGGTGTGAC-1</th>\n",
       "      <td>3.0</td>\n",
       "      <td>3.000000</td>\n",
       "      <td>1.000000</td>\n",
       "    </tr>\n",
       "    <tr>\n",
       "      <th>AAACCCAGTGAGAGGG-1</th>\n",
       "      <td>59.0</td>\n",
       "      <td>1.037174</td>\n",
       "      <td>0.017579</td>\n",
       "    </tr>\n",
       "    <tr>\n",
       "      <th>AAACGAAAGAATCTAG-1</th>\n",
       "      <td>2.0</td>\n",
       "      <td>0.262826</td>\n",
       "      <td>0.131413</td>\n",
       "    </tr>\n",
       "    <tr>\n",
       "      <th>AAACGAACACATATGC-1</th>\n",
       "      <td>3.0</td>\n",
       "      <td>0.232459</td>\n",
       "      <td>0.077486</td>\n",
       "    </tr>\n",
       "    <tr>\n",
       "      <th>AAACGAACACGACTAT-1</th>\n",
       "      <td>46.0</td>\n",
       "      <td>1.358648</td>\n",
       "      <td>0.029536</td>\n",
       "    </tr>\n",
       "    <tr>\n",
       "      <th>...</th>\n",
       "      <td>...</td>\n",
       "      <td>...</td>\n",
       "      <td>...</td>\n",
       "    </tr>\n",
       "    <tr>\n",
       "      <th>TTTGTTGAGTCCCAGC-1</th>\n",
       "      <td>4.0</td>\n",
       "      <td>0.088132</td>\n",
       "      <td>0.022033</td>\n",
       "    </tr>\n",
       "    <tr>\n",
       "      <th>TTTGTTGCAGCGCGTT-1</th>\n",
       "      <td>71.0</td>\n",
       "      <td>0.594395</td>\n",
       "      <td>0.008372</td>\n",
       "    </tr>\n",
       "    <tr>\n",
       "      <th>TTTGTTGGTTATCTTC-1</th>\n",
       "      <td>51.0</td>\n",
       "      <td>5.540220</td>\n",
       "      <td>0.108632</td>\n",
       "    </tr>\n",
       "    <tr>\n",
       "      <th>TTTGTTGTCCAGTGTA-1</th>\n",
       "      <td>6.0</td>\n",
       "      <td>6.000000</td>\n",
       "      <td>1.000000</td>\n",
       "    </tr>\n",
       "    <tr>\n",
       "      <th>TTTGTTGTCGCTTAAG-1</th>\n",
       "      <td>23.0</td>\n",
       "      <td>0.293618</td>\n",
       "      <td>0.012766</td>\n",
       "    </tr>\n",
       "  </tbody>\n",
       "</table>\n",
       "<p>4889 rows × 3 columns</p>\n",
       "</div>"
      ],
      "text/plain": [
       "                    gene_expression_MBP  gene_expression_MBP_sub  \\\n",
       "AAACCCAAGGTGTGAC-1                  3.0                 3.000000   \n",
       "AAACCCAGTGAGAGGG-1                 59.0                 1.037174   \n",
       "AAACGAAAGAATCTAG-1                  2.0                 0.262826   \n",
       "AAACGAACACATATGC-1                  3.0                 0.232459   \n",
       "AAACGAACACGACTAT-1                 46.0                 1.358648   \n",
       "...                                 ...                      ...   \n",
       "TTTGTTGAGTCCCAGC-1                  4.0                 0.088132   \n",
       "TTTGTTGCAGCGCGTT-1                 71.0                 0.594395   \n",
       "TTTGTTGGTTATCTTC-1                 51.0                 5.540220   \n",
       "TTTGTTGTCCAGTGTA-1                  6.0                 6.000000   \n",
       "TTTGTTGTCGCTTAAG-1                 23.0                 0.293618   \n",
       "\n",
       "                    gene_expression_MBP_ratio_changed  \n",
       "AAACCCAAGGTGTGAC-1                           1.000000  \n",
       "AAACCCAGTGAGAGGG-1                           0.017579  \n",
       "AAACGAAAGAATCTAG-1                           0.131413  \n",
       "AAACGAACACATATGC-1                           0.077486  \n",
       "AAACGAACACGACTAT-1                           0.029536  \n",
       "...                                               ...  \n",
       "TTTGTTGAGTCCCAGC-1                           0.022033  \n",
       "TTTGTTGCAGCGCGTT-1                           0.008372  \n",
       "TTTGTTGGTTATCTTC-1                           0.108632  \n",
       "TTTGTTGTCCAGTGTA-1                           1.000000  \n",
       "TTTGTTGTCGCTTAAG-1                           0.012766  \n",
       "\n",
       "[4889 rows x 3 columns]"
      ]
     },
     "execution_count": 181,
     "metadata": {},
     "output_type": "execute_result"
    }
   ],
   "source": [
    "adata.obs"
   ]
  },
  {
   "cell_type": "code",
   "execution_count": 182,
   "id": "3f4d5883",
   "metadata": {},
   "outputs": [],
   "source": [
    "adata.obs.to_csv(\"/Volumes/NAME/deconvolution-project/adata_obs.csv\", index=True)"
   ]
  },
  {
   "cell_type": "markdown",
   "id": "d1508d00",
   "metadata": {},
   "source": [
    "Read in the metadata and the doublet and donor labels by Xichen."
   ]
  },
  {
   "cell_type": "code",
   "execution_count": 129,
   "id": "b5289324",
   "metadata": {
    "scrolled": false
   },
   "outputs": [
    {
     "data": {
      "text/html": [
       "<div>\n",
       "<style scoped>\n",
       "    .dataframe tbody tr th:only-of-type {\n",
       "        vertical-align: middle;\n",
       "    }\n",
       "\n",
       "    .dataframe tbody tr th {\n",
       "        vertical-align: top;\n",
       "    }\n",
       "\n",
       "    .dataframe thead th {\n",
       "        text-align: right;\n",
       "    }\n",
       "</style>\n",
       "<table border=\"1\" class=\"dataframe\">\n",
       "  <thead>\n",
       "    <tr style=\"text-align: right;\">\n",
       "      <th></th>\n",
       "      <th>Barcode</th>\n",
       "      <th>donor_identity</th>\n",
       "    </tr>\n",
       "  </thead>\n",
       "  <tbody>\n",
       "    <tr>\n",
       "      <th>0</th>\n",
       "      <td>ACTTATCTCATGCCAA-1</td>\n",
       "      <td>Hash453-TotalSeqA</td>\n",
       "    </tr>\n",
       "    <tr>\n",
       "      <th>1</th>\n",
       "      <td>GGGTCACAGCAGCAGT-1</td>\n",
       "      <td>Hash452-TotalSeqA</td>\n",
       "    </tr>\n",
       "    <tr>\n",
       "      <th>2</th>\n",
       "      <td>CAGAGCCGTTGGGATG-1</td>\n",
       "      <td>Hash451-TotalSeqA</td>\n",
       "    </tr>\n",
       "    <tr>\n",
       "      <th>3</th>\n",
       "      <td>GGTCACGTCGGTCTAA-1</td>\n",
       "      <td>Hash452-TotalSeqA</td>\n",
       "    </tr>\n",
       "    <tr>\n",
       "      <th>4</th>\n",
       "      <td>GACATCACATCAGCGC-1</td>\n",
       "      <td>Hash455-TotalSeqA</td>\n",
       "    </tr>\n",
       "    <tr>\n",
       "      <th>...</th>\n",
       "      <td>...</td>\n",
       "      <td>...</td>\n",
       "    </tr>\n",
       "    <tr>\n",
       "      <th>4884</th>\n",
       "      <td>ATGATCGTCATGCCAA-1</td>\n",
       "      <td>Hash453-TotalSeqA</td>\n",
       "    </tr>\n",
       "    <tr>\n",
       "      <th>4885</th>\n",
       "      <td>CCTCATGTCAAACGTC-1</td>\n",
       "      <td>Hash456-TotalSeqA</td>\n",
       "    </tr>\n",
       "    <tr>\n",
       "      <th>4886</th>\n",
       "      <td>TGTTACTCAAGACTGG-1</td>\n",
       "      <td>Hash455-TotalSeqA</td>\n",
       "    </tr>\n",
       "    <tr>\n",
       "      <th>4887</th>\n",
       "      <td>AACCACATCATGTCTT-1</td>\n",
       "      <td>Hash453-TotalSeqA</td>\n",
       "    </tr>\n",
       "    <tr>\n",
       "      <th>4888</th>\n",
       "      <td>AATGGCTAGCTCGAAG-1</td>\n",
       "      <td>Hash455-TotalSeqA</td>\n",
       "    </tr>\n",
       "  </tbody>\n",
       "</table>\n",
       "<p>4889 rows × 2 columns</p>\n",
       "</div>"
      ],
      "text/plain": [
       "                 Barcode     donor_identity\n",
       "0     ACTTATCTCATGCCAA-1  Hash453-TotalSeqA\n",
       "1     GGGTCACAGCAGCAGT-1  Hash452-TotalSeqA\n",
       "2     CAGAGCCGTTGGGATG-1  Hash451-TotalSeqA\n",
       "3     GGTCACGTCGGTCTAA-1  Hash452-TotalSeqA\n",
       "4     GACATCACATCAGCGC-1  Hash455-TotalSeqA\n",
       "...                  ...                ...\n",
       "4884  ATGATCGTCATGCCAA-1  Hash453-TotalSeqA\n",
       "4885  CCTCATGTCAAACGTC-1  Hash456-TotalSeqA\n",
       "4886  TGTTACTCAAGACTGG-1  Hash455-TotalSeqA\n",
       "4887  AACCACATCATGTCTT-1  Hash453-TotalSeqA\n",
       "4888  AATGGCTAGCTCGAAG-1  Hash455-TotalSeqA\n",
       "\n",
       "[4889 rows x 2 columns]"
      ]
     },
     "execution_count": 129,
     "metadata": {},
     "output_type": "execute_result"
    }
   ],
   "source": [
    "obs = pd.read_csv(\n",
    "    \"/Volumes/NAME/deconvolution-project/gx12_final_result_all.csv\")\n",
    "obs"
   ]
  },
  {
   "cell_type": "code",
   "execution_count": 130,
   "id": "016f8c89",
   "metadata": {},
   "outputs": [
    {
     "data": {
      "text/html": [
       "<div>\n",
       "<style scoped>\n",
       "    .dataframe tbody tr th:only-of-type {\n",
       "        vertical-align: middle;\n",
       "    }\n",
       "\n",
       "    .dataframe tbody tr th {\n",
       "        vertical-align: top;\n",
       "    }\n",
       "\n",
       "    .dataframe thead th {\n",
       "        text-align: right;\n",
       "    }\n",
       "</style>\n",
       "<table border=\"1\" class=\"dataframe\">\n",
       "  <thead>\n",
       "    <tr style=\"text-align: right;\">\n",
       "      <th></th>\n",
       "      <th>cell</th>\n",
       "      <th>donor_id</th>\n",
       "      <th>classification</th>\n",
       "    </tr>\n",
       "  </thead>\n",
       "  <tbody>\n",
       "    <tr>\n",
       "      <th>0</th>\n",
       "      <td>AAACCCAAGGTGTGAC-1</td>\n",
       "      <td>donor1</td>\n",
       "      <td>singlet</td>\n",
       "    </tr>\n",
       "    <tr>\n",
       "      <th>1</th>\n",
       "      <td>AAACCCAGTGAGAGGG-1</td>\n",
       "      <td>donor2</td>\n",
       "      <td>singlet</td>\n",
       "    </tr>\n",
       "    <tr>\n",
       "      <th>2</th>\n",
       "      <td>AAACGAAAGAATCTAG-1</td>\n",
       "      <td>donor5</td>\n",
       "      <td>singlet</td>\n",
       "    </tr>\n",
       "    <tr>\n",
       "      <th>3</th>\n",
       "      <td>AAACGAACACATATGC-1</td>\n",
       "      <td>donor5</td>\n",
       "      <td>singlet</td>\n",
       "    </tr>\n",
       "    <tr>\n",
       "      <th>4</th>\n",
       "      <td>AAACGAACACGACTAT-1</td>\n",
       "      <td>donor5</td>\n",
       "      <td>singlet</td>\n",
       "    </tr>\n",
       "    <tr>\n",
       "      <th>...</th>\n",
       "      <td>...</td>\n",
       "      <td>...</td>\n",
       "      <td>...</td>\n",
       "    </tr>\n",
       "    <tr>\n",
       "      <th>4884</th>\n",
       "      <td>TTTGTTGAGTCCCAGC-1</td>\n",
       "      <td>donor2</td>\n",
       "      <td>singlet</td>\n",
       "    </tr>\n",
       "    <tr>\n",
       "      <th>4885</th>\n",
       "      <td>TTTGTTGCAGCGCGTT-1</td>\n",
       "      <td>doublet</td>\n",
       "      <td>doublet</td>\n",
       "    </tr>\n",
       "    <tr>\n",
       "      <th>4886</th>\n",
       "      <td>TTTGTTGGTTATCTTC-1</td>\n",
       "      <td>doublet</td>\n",
       "      <td>doublet</td>\n",
       "    </tr>\n",
       "    <tr>\n",
       "      <th>4887</th>\n",
       "      <td>TTTGTTGTCCAGTGTA-1</td>\n",
       "      <td>donor0</td>\n",
       "      <td>singlet</td>\n",
       "    </tr>\n",
       "    <tr>\n",
       "      <th>4888</th>\n",
       "      <td>TTTGTTGTCGCTTAAG-1</td>\n",
       "      <td>donor1</td>\n",
       "      <td>singlet</td>\n",
       "    </tr>\n",
       "  </tbody>\n",
       "</table>\n",
       "<p>4889 rows × 3 columns</p>\n",
       "</div>"
      ],
      "text/plain": [
       "                    cell donor_id classification\n",
       "0     AAACCCAAGGTGTGAC-1   donor1        singlet\n",
       "1     AAACCCAGTGAGAGGG-1   donor2        singlet\n",
       "2     AAACGAAAGAATCTAG-1   donor5        singlet\n",
       "3     AAACGAACACATATGC-1   donor5        singlet\n",
       "4     AAACGAACACGACTAT-1   donor5        singlet\n",
       "...                  ...      ...            ...\n",
       "4884  TTTGTTGAGTCCCAGC-1   donor2        singlet\n",
       "4885  TTTGTTGCAGCGCGTT-1  doublet        doublet\n",
       "4886  TTTGTTGGTTATCTTC-1  doublet        doublet\n",
       "4887  TTTGTTGTCCAGTGTA-1   donor0        singlet\n",
       "4888  TTTGTTGTCGCTTAAG-1   donor1        singlet\n",
       "\n",
       "[4889 rows x 3 columns]"
      ]
     },
     "execution_count": 130,
     "metadata": {},
     "output_type": "execute_result"
    }
   ],
   "source": [
    "obs_vario = pd.read_csv(\n",
    "    \"/Volumes/NAME/deconvolution-project/gx12_vireo_assignment.csv\", \n",
    "    usecols=[\"cell\", \"donor_id\", \"classification\"])\n",
    "obs_vario"
   ]
  },
  {
   "cell_type": "code",
   "execution_count": 131,
   "id": "b4a926fc",
   "metadata": {},
   "outputs": [
    {
     "data": {
      "text/html": [
       "<div>\n",
       "<style scoped>\n",
       "    .dataframe tbody tr th:only-of-type {\n",
       "        vertical-align: middle;\n",
       "    }\n",
       "\n",
       "    .dataframe tbody tr th {\n",
       "        vertical-align: top;\n",
       "    }\n",
       "\n",
       "    .dataframe thead th {\n",
       "        text-align: right;\n",
       "    }\n",
       "</style>\n",
       "<table border=\"1\" class=\"dataframe\">\n",
       "  <thead>\n",
       "    <tr style=\"text-align: right;\">\n",
       "      <th></th>\n",
       "      <th>sample_id</th>\n",
       "      <th>batch</th>\n",
       "      <th>cluster_label</th>\n",
       "      <th>lowres_cluster_label</th>\n",
       "    </tr>\n",
       "  </thead>\n",
       "  <tbody>\n",
       "    <tr>\n",
       "      <th>0</th>\n",
       "      <td>704193_GX53</td>\n",
       "      <td>0</td>\n",
       "      <td>ProtoAstro_SLC1A2hi_NRXN1hi</td>\n",
       "      <td>ProtoAstro</td>\n",
       "    </tr>\n",
       "    <tr>\n",
       "      <th>1</th>\n",
       "      <td>704193_GX53</td>\n",
       "      <td>0</td>\n",
       "      <td>FibrousAstro-CD44hi_S100Bpos_FOShi_VIMpos</td>\n",
       "      <td>FibrousAstro</td>\n",
       "    </tr>\n",
       "    <tr>\n",
       "      <th>2</th>\n",
       "      <td>704193_GX53</td>\n",
       "      <td>0</td>\n",
       "      <td>FibrousAstro-CD44hi_S100Bpos_FOShi_VIMpos</td>\n",
       "      <td>FibrousAstro</td>\n",
       "    </tr>\n",
       "    <tr>\n",
       "      <th>3</th>\n",
       "      <td>704193_GX53</td>\n",
       "      <td>0</td>\n",
       "      <td>PhagoProtoAstro_MERTKhi_MEGF10hi</td>\n",
       "      <td>ProtoAstro</td>\n",
       "    </tr>\n",
       "    <tr>\n",
       "      <th>4</th>\n",
       "      <td>704193_GX53</td>\n",
       "      <td>0</td>\n",
       "      <td>PhagoProtoAstro_MERTKhi_MEGF10hi</td>\n",
       "      <td>ProtoAstro</td>\n",
       "    </tr>\n",
       "  </tbody>\n",
       "</table>\n",
       "</div>"
      ],
      "text/plain": [
       "     sample_id batch                              cluster_label  \\\n",
       "0  704193_GX53     0                ProtoAstro_SLC1A2hi_NRXN1hi   \n",
       "1  704193_GX53     0  FibrousAstro-CD44hi_S100Bpos_FOShi_VIMpos   \n",
       "2  704193_GX53     0  FibrousAstro-CD44hi_S100Bpos_FOShi_VIMpos   \n",
       "3  704193_GX53     0           PhagoProtoAstro_MERTKhi_MEGF10hi   \n",
       "4  704193_GX53     0           PhagoProtoAstro_MERTKhi_MEGF10hi   \n",
       "\n",
       "  lowres_cluster_label  \n",
       "0           ProtoAstro  \n",
       "1         FibrousAstro  \n",
       "2         FibrousAstro  \n",
       "3           ProtoAstro  \n",
       "4           ProtoAstro  "
      ]
     },
     "execution_count": 131,
     "metadata": {},
     "output_type": "execute_result"
    }
   ],
   "source": [
    "obs_meta_sel = pd.read_csv(\n",
    "    \"/Volumes/NAME/deconvolution-project/adataobs_MSmultiplex_DendrouSchirmerJakel_integrated.csv\", \n",
    "    usecols=[\"cluster_label\", \"lowres_cluster_label\", \"sample_id\", \"batch\"])\n",
    "obs_meta_sel.head()"
   ]
  },
  {
   "cell_type": "code",
   "execution_count": 132,
   "id": "ab7f2277",
   "metadata": {
    "scrolled": false
   },
   "outputs": [
    {
     "data": {
      "text/html": [
       "<div>\n",
       "<style scoped>\n",
       "    .dataframe tbody tr th:only-of-type {\n",
       "        vertical-align: middle;\n",
       "    }\n",
       "\n",
       "    .dataframe tbody tr th {\n",
       "        vertical-align: top;\n",
       "    }\n",
       "\n",
       "    .dataframe thead th {\n",
       "        text-align: right;\n",
       "    }\n",
       "</style>\n",
       "<table border=\"1\" class=\"dataframe\">\n",
       "  <thead>\n",
       "    <tr style=\"text-align: right;\">\n",
       "      <th></th>\n",
       "      <th>sample_id</th>\n",
       "      <th>batch</th>\n",
       "      <th>antibody</th>\n",
       "      <th>library_id</th>\n",
       "      <th>patient</th>\n",
       "      <th>block_position</th>\n",
       "      <th>demult_sample_id</th>\n",
       "      <th>disorder</th>\n",
       "      <th>disease_type</th>\n",
       "      <th>age</th>\n",
       "      <th>...</th>\n",
       "      <th>tissue</th>\n",
       "      <th>library</th>\n",
       "      <th>brain_region</th>\n",
       "      <th>leiden_res_0.1</th>\n",
       "      <th>leiden_res_0.3</th>\n",
       "      <th>leiden_res_0.5</th>\n",
       "      <th>leiden_res_1</th>\n",
       "      <th>cluster_label</th>\n",
       "      <th>lowres_cluster_label</th>\n",
       "      <th>bucket</th>\n",
       "    </tr>\n",
       "  </thead>\n",
       "  <tbody>\n",
       "    <tr>\n",
       "      <th>AAACGCTTCGTAGGAG-1-704193_GX53-dendrou</th>\n",
       "      <td>704193_GX53</td>\n",
       "      <td>0</td>\n",
       "      <td>NaN</td>\n",
       "      <td>704193_GX53</td>\n",
       "      <td>MS352</td>\n",
       "      <td>NaN</td>\n",
       "      <td>704193_GX53_0</td>\n",
       "      <td>ms</td>\n",
       "      <td>SP</td>\n",
       "      <td>43.0</td>\n",
       "      <td>...</td>\n",
       "      <td>NaN</td>\n",
       "      <td>NaN</td>\n",
       "      <td>NaN</td>\n",
       "      <td>2</td>\n",
       "      <td>2</td>\n",
       "      <td>2</td>\n",
       "      <td>1</td>\n",
       "      <td>ProtoAstro_SLC1A2hi_NRXN1hi</td>\n",
       "      <td>ProtoAstro</td>\n",
       "      <td>astrocytes</td>\n",
       "    </tr>\n",
       "    <tr>\n",
       "      <th>AAAGGATTCATGCGGC-1-704193_GX53-dendrou</th>\n",
       "      <td>704193_GX53</td>\n",
       "      <td>0</td>\n",
       "      <td>NaN</td>\n",
       "      <td>704193_GX53</td>\n",
       "      <td>MS352</td>\n",
       "      <td>NaN</td>\n",
       "      <td>704193_GX53_0</td>\n",
       "      <td>ms</td>\n",
       "      <td>SP</td>\n",
       "      <td>43.0</td>\n",
       "      <td>...</td>\n",
       "      <td>NaN</td>\n",
       "      <td>NaN</td>\n",
       "      <td>NaN</td>\n",
       "      <td>2</td>\n",
       "      <td>2</td>\n",
       "      <td>2</td>\n",
       "      <td>1</td>\n",
       "      <td>FibrousAstro-CD44hi_S100Bpos_FOShi_VIMpos</td>\n",
       "      <td>FibrousAstro</td>\n",
       "      <td>astrocytes</td>\n",
       "    </tr>\n",
       "    <tr>\n",
       "      <th>AAAGGATTCGCTTAAG-1-704193_GX53-dendrou</th>\n",
       "      <td>704193_GX53</td>\n",
       "      <td>0</td>\n",
       "      <td>NaN</td>\n",
       "      <td>704193_GX53</td>\n",
       "      <td>MS352</td>\n",
       "      <td>NaN</td>\n",
       "      <td>704193_GX53_0</td>\n",
       "      <td>ms</td>\n",
       "      <td>SP</td>\n",
       "      <td>43.0</td>\n",
       "      <td>...</td>\n",
       "      <td>NaN</td>\n",
       "      <td>NaN</td>\n",
       "      <td>NaN</td>\n",
       "      <td>2</td>\n",
       "      <td>2</td>\n",
       "      <td>2</td>\n",
       "      <td>1</td>\n",
       "      <td>FibrousAstro-CD44hi_S100Bpos_FOShi_VIMpos</td>\n",
       "      <td>FibrousAstro</td>\n",
       "      <td>astrocytes</td>\n",
       "    </tr>\n",
       "    <tr>\n",
       "      <th>AAAGGTAAGGCCTTCG-1-704193_GX53-dendrou</th>\n",
       "      <td>704193_GX53</td>\n",
       "      <td>0</td>\n",
       "      <td>NaN</td>\n",
       "      <td>704193_GX53</td>\n",
       "      <td>MS352</td>\n",
       "      <td>NaN</td>\n",
       "      <td>704193_GX53_0</td>\n",
       "      <td>ms</td>\n",
       "      <td>SP</td>\n",
       "      <td>43.0</td>\n",
       "      <td>...</td>\n",
       "      <td>NaN</td>\n",
       "      <td>NaN</td>\n",
       "      <td>NaN</td>\n",
       "      <td>2</td>\n",
       "      <td>2</td>\n",
       "      <td>2</td>\n",
       "      <td>1</td>\n",
       "      <td>PhagoProtoAstro_MERTKhi_MEGF10hi</td>\n",
       "      <td>ProtoAstro</td>\n",
       "      <td>astrocytes</td>\n",
       "    </tr>\n",
       "    <tr>\n",
       "      <th>AACAAAGTCCGATAAC-1-704193_GX53-dendrou</th>\n",
       "      <td>704193_GX53</td>\n",
       "      <td>0</td>\n",
       "      <td>NaN</td>\n",
       "      <td>704193_GX53</td>\n",
       "      <td>MS352</td>\n",
       "      <td>NaN</td>\n",
       "      <td>704193_GX53_0</td>\n",
       "      <td>ms</td>\n",
       "      <td>SP</td>\n",
       "      <td>43.0</td>\n",
       "      <td>...</td>\n",
       "      <td>NaN</td>\n",
       "      <td>NaN</td>\n",
       "      <td>NaN</td>\n",
       "      <td>2</td>\n",
       "      <td>2</td>\n",
       "      <td>2</td>\n",
       "      <td>1</td>\n",
       "      <td>PhagoProtoAstro_MERTKhi_MEGF10hi</td>\n",
       "      <td>ProtoAstro</td>\n",
       "      <td>astrocytes</td>\n",
       "    </tr>\n",
       "  </tbody>\n",
       "</table>\n",
       "<p>5 rows × 42 columns</p>\n",
       "</div>"
      ],
      "text/plain": [
       "                                          sample_id batch antibody  \\\n",
       "AAACGCTTCGTAGGAG-1-704193_GX53-dendrou  704193_GX53     0      NaN   \n",
       "AAAGGATTCATGCGGC-1-704193_GX53-dendrou  704193_GX53     0      NaN   \n",
       "AAAGGATTCGCTTAAG-1-704193_GX53-dendrou  704193_GX53     0      NaN   \n",
       "AAAGGTAAGGCCTTCG-1-704193_GX53-dendrou  704193_GX53     0      NaN   \n",
       "AACAAAGTCCGATAAC-1-704193_GX53-dendrou  704193_GX53     0      NaN   \n",
       "\n",
       "                                         library_id patient block_position  \\\n",
       "AAACGCTTCGTAGGAG-1-704193_GX53-dendrou  704193_GX53   MS352            NaN   \n",
       "AAAGGATTCATGCGGC-1-704193_GX53-dendrou  704193_GX53   MS352            NaN   \n",
       "AAAGGATTCGCTTAAG-1-704193_GX53-dendrou  704193_GX53   MS352            NaN   \n",
       "AAAGGTAAGGCCTTCG-1-704193_GX53-dendrou  704193_GX53   MS352            NaN   \n",
       "AACAAAGTCCGATAAC-1-704193_GX53-dendrou  704193_GX53   MS352            NaN   \n",
       "\n",
       "                                       demult_sample_id disorder disease_type  \\\n",
       "AAACGCTTCGTAGGAG-1-704193_GX53-dendrou    704193_GX53_0       ms           SP   \n",
       "AAAGGATTCATGCGGC-1-704193_GX53-dendrou    704193_GX53_0       ms           SP   \n",
       "AAAGGATTCGCTTAAG-1-704193_GX53-dendrou    704193_GX53_0       ms           SP   \n",
       "AAAGGTAAGGCCTTCG-1-704193_GX53-dendrou    704193_GX53_0       ms           SP   \n",
       "AACAAAGTCCGATAAC-1-704193_GX53-dendrou    704193_GX53_0       ms           SP   \n",
       "\n",
       "                                         age  ... tissue library brain_region  \\\n",
       "AAACGCTTCGTAGGAG-1-704193_GX53-dendrou  43.0  ...    NaN     NaN          NaN   \n",
       "AAAGGATTCATGCGGC-1-704193_GX53-dendrou  43.0  ...    NaN     NaN          NaN   \n",
       "AAAGGATTCGCTTAAG-1-704193_GX53-dendrou  43.0  ...    NaN     NaN          NaN   \n",
       "AAAGGTAAGGCCTTCG-1-704193_GX53-dendrou  43.0  ...    NaN     NaN          NaN   \n",
       "AACAAAGTCCGATAAC-1-704193_GX53-dendrou  43.0  ...    NaN     NaN          NaN   \n",
       "\n",
       "                                        leiden_res_0.1  leiden_res_0.3  \\\n",
       "AAACGCTTCGTAGGAG-1-704193_GX53-dendrou               2               2   \n",
       "AAAGGATTCATGCGGC-1-704193_GX53-dendrou               2               2   \n",
       "AAAGGATTCGCTTAAG-1-704193_GX53-dendrou               2               2   \n",
       "AAAGGTAAGGCCTTCG-1-704193_GX53-dendrou               2               2   \n",
       "AACAAAGTCCGATAAC-1-704193_GX53-dendrou               2               2   \n",
       "\n",
       "                                        leiden_res_0.5  leiden_res_1  \\\n",
       "AAACGCTTCGTAGGAG-1-704193_GX53-dendrou               2             1   \n",
       "AAAGGATTCATGCGGC-1-704193_GX53-dendrou               2             1   \n",
       "AAAGGATTCGCTTAAG-1-704193_GX53-dendrou               2             1   \n",
       "AAAGGTAAGGCCTTCG-1-704193_GX53-dendrou               2             1   \n",
       "AACAAAGTCCGATAAC-1-704193_GX53-dendrou               2             1   \n",
       "\n",
       "                                                                    cluster_label  \\\n",
       "AAACGCTTCGTAGGAG-1-704193_GX53-dendrou                ProtoAstro_SLC1A2hi_NRXN1hi   \n",
       "AAAGGATTCATGCGGC-1-704193_GX53-dendrou  FibrousAstro-CD44hi_S100Bpos_FOShi_VIMpos   \n",
       "AAAGGATTCGCTTAAG-1-704193_GX53-dendrou  FibrousAstro-CD44hi_S100Bpos_FOShi_VIMpos   \n",
       "AAAGGTAAGGCCTTCG-1-704193_GX53-dendrou           PhagoProtoAstro_MERTKhi_MEGF10hi   \n",
       "AACAAAGTCCGATAAC-1-704193_GX53-dendrou           PhagoProtoAstro_MERTKhi_MEGF10hi   \n",
       "\n",
       "                                        lowres_cluster_label      bucket  \n",
       "AAACGCTTCGTAGGAG-1-704193_GX53-dendrou            ProtoAstro  astrocytes  \n",
       "AAAGGATTCATGCGGC-1-704193_GX53-dendrou          FibrousAstro  astrocytes  \n",
       "AAAGGATTCGCTTAAG-1-704193_GX53-dendrou          FibrousAstro  astrocytes  \n",
       "AAAGGTAAGGCCTTCG-1-704193_GX53-dendrou            ProtoAstro  astrocytes  \n",
       "AACAAAGTCCGATAAC-1-704193_GX53-dendrou            ProtoAstro  astrocytes  \n",
       "\n",
       "[5 rows x 42 columns]"
      ]
     },
     "execution_count": 132,
     "metadata": {},
     "output_type": "execute_result"
    }
   ],
   "source": [
    "obs_meta_all = pd.read_csv(\"/Volumes/NAME/deconvolution-project/adataobs_MSmultiplex_DendrouSchirmerJakel_integrated.csv\", index_col=0, low_memory=False)\n",
    "obs_meta_all.head()"
   ]
  },
  {
   "cell_type": "markdown",
   "id": "416fc739",
   "metadata": {},
   "source": [
    "Set Index of metadata as a column. Cut all information after barcode."
   ]
  },
  {
   "cell_type": "code",
   "execution_count": 133,
   "id": "c4f61b37",
   "metadata": {},
   "outputs": [
    {
     "data": {
      "text/html": [
       "<div>\n",
       "<style scoped>\n",
       "    .dataframe tbody tr th:only-of-type {\n",
       "        vertical-align: middle;\n",
       "    }\n",
       "\n",
       "    .dataframe tbody tr th {\n",
       "        vertical-align: top;\n",
       "    }\n",
       "\n",
       "    .dataframe thead th {\n",
       "        text-align: right;\n",
       "    }\n",
       "</style>\n",
       "<table border=\"1\" class=\"dataframe\">\n",
       "  <thead>\n",
       "    <tr style=\"text-align: right;\">\n",
       "      <th></th>\n",
       "      <th>index</th>\n",
       "      <th>sample_id</th>\n",
       "      <th>batch</th>\n",
       "      <th>antibody</th>\n",
       "      <th>library_id</th>\n",
       "      <th>patient</th>\n",
       "      <th>block_position</th>\n",
       "      <th>demult_sample_id</th>\n",
       "      <th>disorder</th>\n",
       "      <th>disease_type</th>\n",
       "      <th>...</th>\n",
       "      <th>tissue</th>\n",
       "      <th>library</th>\n",
       "      <th>brain_region</th>\n",
       "      <th>leiden_res_0.1</th>\n",
       "      <th>leiden_res_0.3</th>\n",
       "      <th>leiden_res_0.5</th>\n",
       "      <th>leiden_res_1</th>\n",
       "      <th>cluster_label</th>\n",
       "      <th>lowres_cluster_label</th>\n",
       "      <th>bucket</th>\n",
       "    </tr>\n",
       "  </thead>\n",
       "  <tbody>\n",
       "    <tr>\n",
       "      <th>0</th>\n",
       "      <td>AAACGCTTCGTAGGAG-1</td>\n",
       "      <td>704193_GX53</td>\n",
       "      <td>0</td>\n",
       "      <td>NaN</td>\n",
       "      <td>704193_GX53</td>\n",
       "      <td>MS352</td>\n",
       "      <td>NaN</td>\n",
       "      <td>704193_GX53_0</td>\n",
       "      <td>ms</td>\n",
       "      <td>SP</td>\n",
       "      <td>...</td>\n",
       "      <td>NaN</td>\n",
       "      <td>NaN</td>\n",
       "      <td>NaN</td>\n",
       "      <td>2</td>\n",
       "      <td>2</td>\n",
       "      <td>2</td>\n",
       "      <td>1</td>\n",
       "      <td>ProtoAstro_SLC1A2hi_NRXN1hi</td>\n",
       "      <td>ProtoAstro</td>\n",
       "      <td>astrocytes</td>\n",
       "    </tr>\n",
       "    <tr>\n",
       "      <th>1</th>\n",
       "      <td>AAAGGATTCATGCGGC-1</td>\n",
       "      <td>704193_GX53</td>\n",
       "      <td>0</td>\n",
       "      <td>NaN</td>\n",
       "      <td>704193_GX53</td>\n",
       "      <td>MS352</td>\n",
       "      <td>NaN</td>\n",
       "      <td>704193_GX53_0</td>\n",
       "      <td>ms</td>\n",
       "      <td>SP</td>\n",
       "      <td>...</td>\n",
       "      <td>NaN</td>\n",
       "      <td>NaN</td>\n",
       "      <td>NaN</td>\n",
       "      <td>2</td>\n",
       "      <td>2</td>\n",
       "      <td>2</td>\n",
       "      <td>1</td>\n",
       "      <td>FibrousAstro-CD44hi_S100Bpos_FOShi_VIMpos</td>\n",
       "      <td>FibrousAstro</td>\n",
       "      <td>astrocytes</td>\n",
       "    </tr>\n",
       "    <tr>\n",
       "      <th>2</th>\n",
       "      <td>AAAGGATTCGCTTAAG-1</td>\n",
       "      <td>704193_GX53</td>\n",
       "      <td>0</td>\n",
       "      <td>NaN</td>\n",
       "      <td>704193_GX53</td>\n",
       "      <td>MS352</td>\n",
       "      <td>NaN</td>\n",
       "      <td>704193_GX53_0</td>\n",
       "      <td>ms</td>\n",
       "      <td>SP</td>\n",
       "      <td>...</td>\n",
       "      <td>NaN</td>\n",
       "      <td>NaN</td>\n",
       "      <td>NaN</td>\n",
       "      <td>2</td>\n",
       "      <td>2</td>\n",
       "      <td>2</td>\n",
       "      <td>1</td>\n",
       "      <td>FibrousAstro-CD44hi_S100Bpos_FOShi_VIMpos</td>\n",
       "      <td>FibrousAstro</td>\n",
       "      <td>astrocytes</td>\n",
       "    </tr>\n",
       "    <tr>\n",
       "      <th>3</th>\n",
       "      <td>AAAGGTAAGGCCTTCG-1</td>\n",
       "      <td>704193_GX53</td>\n",
       "      <td>0</td>\n",
       "      <td>NaN</td>\n",
       "      <td>704193_GX53</td>\n",
       "      <td>MS352</td>\n",
       "      <td>NaN</td>\n",
       "      <td>704193_GX53_0</td>\n",
       "      <td>ms</td>\n",
       "      <td>SP</td>\n",
       "      <td>...</td>\n",
       "      <td>NaN</td>\n",
       "      <td>NaN</td>\n",
       "      <td>NaN</td>\n",
       "      <td>2</td>\n",
       "      <td>2</td>\n",
       "      <td>2</td>\n",
       "      <td>1</td>\n",
       "      <td>PhagoProtoAstro_MERTKhi_MEGF10hi</td>\n",
       "      <td>ProtoAstro</td>\n",
       "      <td>astrocytes</td>\n",
       "    </tr>\n",
       "    <tr>\n",
       "      <th>4</th>\n",
       "      <td>AACAAAGTCCGATAAC-1</td>\n",
       "      <td>704193_GX53</td>\n",
       "      <td>0</td>\n",
       "      <td>NaN</td>\n",
       "      <td>704193_GX53</td>\n",
       "      <td>MS352</td>\n",
       "      <td>NaN</td>\n",
       "      <td>704193_GX53_0</td>\n",
       "      <td>ms</td>\n",
       "      <td>SP</td>\n",
       "      <td>...</td>\n",
       "      <td>NaN</td>\n",
       "      <td>NaN</td>\n",
       "      <td>NaN</td>\n",
       "      <td>2</td>\n",
       "      <td>2</td>\n",
       "      <td>2</td>\n",
       "      <td>1</td>\n",
       "      <td>PhagoProtoAstro_MERTKhi_MEGF10hi</td>\n",
       "      <td>ProtoAstro</td>\n",
       "      <td>astrocytes</td>\n",
       "    </tr>\n",
       "  </tbody>\n",
       "</table>\n",
       "<p>5 rows × 43 columns</p>\n",
       "</div>"
      ],
      "text/plain": [
       "                index    sample_id batch antibody   library_id patient  \\\n",
       "0  AAACGCTTCGTAGGAG-1  704193_GX53     0      NaN  704193_GX53   MS352   \n",
       "1  AAAGGATTCATGCGGC-1  704193_GX53     0      NaN  704193_GX53   MS352   \n",
       "2  AAAGGATTCGCTTAAG-1  704193_GX53     0      NaN  704193_GX53   MS352   \n",
       "3  AAAGGTAAGGCCTTCG-1  704193_GX53     0      NaN  704193_GX53   MS352   \n",
       "4  AACAAAGTCCGATAAC-1  704193_GX53     0      NaN  704193_GX53   MS352   \n",
       "\n",
       "  block_position demult_sample_id disorder disease_type  ...  tissue library  \\\n",
       "0            NaN    704193_GX53_0       ms           SP  ...     NaN     NaN   \n",
       "1            NaN    704193_GX53_0       ms           SP  ...     NaN     NaN   \n",
       "2            NaN    704193_GX53_0       ms           SP  ...     NaN     NaN   \n",
       "3            NaN    704193_GX53_0       ms           SP  ...     NaN     NaN   \n",
       "4            NaN    704193_GX53_0       ms           SP  ...     NaN     NaN   \n",
       "\n",
       "  brain_region leiden_res_0.1  leiden_res_0.3  leiden_res_0.5  leiden_res_1  \\\n",
       "0          NaN              2               2               2             1   \n",
       "1          NaN              2               2               2             1   \n",
       "2          NaN              2               2               2             1   \n",
       "3          NaN              2               2               2             1   \n",
       "4          NaN              2               2               2             1   \n",
       "\n",
       "                               cluster_label  lowres_cluster_label      bucket  \n",
       "0                ProtoAstro_SLC1A2hi_NRXN1hi            ProtoAstro  astrocytes  \n",
       "1  FibrousAstro-CD44hi_S100Bpos_FOShi_VIMpos          FibrousAstro  astrocytes  \n",
       "2  FibrousAstro-CD44hi_S100Bpos_FOShi_VIMpos          FibrousAstro  astrocytes  \n",
       "3           PhagoProtoAstro_MERTKhi_MEGF10hi            ProtoAstro  astrocytes  \n",
       "4           PhagoProtoAstro_MERTKhi_MEGF10hi            ProtoAstro  astrocytes  \n",
       "\n",
       "[5 rows x 43 columns]"
      ]
     },
     "execution_count": 133,
     "metadata": {},
     "output_type": "execute_result"
    }
   ],
   "source": [
    "obs_meta_all.reset_index(inplace=True)\n",
    "obs_meta_all['index'] = obs_meta_all['index'].str[:18]\n",
    "obs_meta_all.head()"
   ]
  },
  {
   "cell_type": "markdown",
   "id": "4b7936d4",
   "metadata": {},
   "source": [
    "Filter by gx12 in sample_id (not case-sensitive)."
   ]
  },
  {
   "cell_type": "code",
   "execution_count": 134,
   "id": "b3817ab4",
   "metadata": {
    "scrolled": false
   },
   "outputs": [
    {
     "data": {
      "text/html": [
       "<div>\n",
       "<style scoped>\n",
       "    .dataframe tbody tr th:only-of-type {\n",
       "        vertical-align: middle;\n",
       "    }\n",
       "\n",
       "    .dataframe tbody tr th {\n",
       "        vertical-align: top;\n",
       "    }\n",
       "\n",
       "    .dataframe thead th {\n",
       "        text-align: right;\n",
       "    }\n",
       "</style>\n",
       "<table border=\"1\" class=\"dataframe\">\n",
       "  <thead>\n",
       "    <tr style=\"text-align: right;\">\n",
       "      <th></th>\n",
       "      <th>index</th>\n",
       "      <th>sample_id</th>\n",
       "      <th>batch</th>\n",
       "      <th>antibody</th>\n",
       "      <th>library_id</th>\n",
       "      <th>patient</th>\n",
       "      <th>block_position</th>\n",
       "      <th>demult_sample_id</th>\n",
       "      <th>disorder</th>\n",
       "      <th>disease_type</th>\n",
       "      <th>...</th>\n",
       "      <th>tissue</th>\n",
       "      <th>library</th>\n",
       "      <th>brain_region</th>\n",
       "      <th>leiden_res_0.1</th>\n",
       "      <th>leiden_res_0.3</th>\n",
       "      <th>leiden_res_0.5</th>\n",
       "      <th>leiden_res_1</th>\n",
       "      <th>cluster_label</th>\n",
       "      <th>lowres_cluster_label</th>\n",
       "      <th>bucket</th>\n",
       "    </tr>\n",
       "  </thead>\n",
       "  <tbody>\n",
       "    <tr>\n",
       "      <th>411</th>\n",
       "      <td>AAAGGGCCAATTTCCT-1</td>\n",
       "      <td>747495_GX12</td>\n",
       "      <td>1</td>\n",
       "      <td>Hash453</td>\n",
       "      <td>747495_GX12</td>\n",
       "      <td>C005</td>\n",
       "      <td>P2D4</td>\n",
       "      <td>747495_GX12_3</td>\n",
       "      <td>control</td>\n",
       "      <td>none</td>\n",
       "      <td>...</td>\n",
       "      <td>NaN</td>\n",
       "      <td>NaN</td>\n",
       "      <td>NaN</td>\n",
       "      <td>2</td>\n",
       "      <td>2</td>\n",
       "      <td>2</td>\n",
       "      <td>1</td>\n",
       "      <td>ProtoAstro_SLC1A2hi_NRXN1hi</td>\n",
       "      <td>ProtoAstro</td>\n",
       "      <td>astrocytes</td>\n",
       "    </tr>\n",
       "    <tr>\n",
       "      <th>412</th>\n",
       "      <td>AACAAGACAACTGGTT-1</td>\n",
       "      <td>747495_GX12</td>\n",
       "      <td>1</td>\n",
       "      <td>Hash451</td>\n",
       "      <td>747495_GX12</td>\n",
       "      <td>C014_d</td>\n",
       "      <td>P5C3</td>\n",
       "      <td>747495_GX12_1</td>\n",
       "      <td>control</td>\n",
       "      <td>none</td>\n",
       "      <td>...</td>\n",
       "      <td>NaN</td>\n",
       "      <td>NaN</td>\n",
       "      <td>NaN</td>\n",
       "      <td>2</td>\n",
       "      <td>2</td>\n",
       "      <td>2</td>\n",
       "      <td>1</td>\n",
       "      <td>PhagoProtoAstro_MERTKhi_MEGF10hi</td>\n",
       "      <td>ProtoAstro</td>\n",
       "      <td>astrocytes</td>\n",
       "    </tr>\n",
       "    <tr>\n",
       "      <th>413</th>\n",
       "      <td>AACCACAGTTCCGGTG-1</td>\n",
       "      <td>747495_GX12</td>\n",
       "      <td>1</td>\n",
       "      <td>Hash451</td>\n",
       "      <td>747495_GX12</td>\n",
       "      <td>C014_d</td>\n",
       "      <td>P5C3</td>\n",
       "      <td>747495_GX12_1</td>\n",
       "      <td>control</td>\n",
       "      <td>none</td>\n",
       "      <td>...</td>\n",
       "      <td>NaN</td>\n",
       "      <td>NaN</td>\n",
       "      <td>NaN</td>\n",
       "      <td>2</td>\n",
       "      <td>2</td>\n",
       "      <td>2</td>\n",
       "      <td>1</td>\n",
       "      <td>ProtoAstro_SLC1A2hi_NRXN1hi</td>\n",
       "      <td>ProtoAstro</td>\n",
       "      <td>astrocytes</td>\n",
       "    </tr>\n",
       "    <tr>\n",
       "      <th>414</th>\n",
       "      <td>AACCCAACACTCTCGT-1</td>\n",
       "      <td>747495_GX12</td>\n",
       "      <td>1</td>\n",
       "      <td>Hash456</td>\n",
       "      <td>747495_GX12</td>\n",
       "      <td>MS425</td>\n",
       "      <td>A3A2</td>\n",
       "      <td>747495_GX12_6</td>\n",
       "      <td>ms</td>\n",
       "      <td>SP</td>\n",
       "      <td>...</td>\n",
       "      <td>NaN</td>\n",
       "      <td>NaN</td>\n",
       "      <td>NaN</td>\n",
       "      <td>2</td>\n",
       "      <td>2</td>\n",
       "      <td>2</td>\n",
       "      <td>1</td>\n",
       "      <td>ProtoAstro_SLC1A2hi_NRXN1hi</td>\n",
       "      <td>ProtoAstro</td>\n",
       "      <td>astrocytes</td>\n",
       "    </tr>\n",
       "    <tr>\n",
       "      <th>415</th>\n",
       "      <td>AAGCATCAGAGTCTTC-1</td>\n",
       "      <td>747495_GX12</td>\n",
       "      <td>1</td>\n",
       "      <td>Hash454</td>\n",
       "      <td>747495_GX12</td>\n",
       "      <td>MS438</td>\n",
       "      <td>P2D4</td>\n",
       "      <td>747495_GX12_4</td>\n",
       "      <td>ms</td>\n",
       "      <td>Undetermined</td>\n",
       "      <td>...</td>\n",
       "      <td>NaN</td>\n",
       "      <td>NaN</td>\n",
       "      <td>NaN</td>\n",
       "      <td>2</td>\n",
       "      <td>2</td>\n",
       "      <td>2</td>\n",
       "      <td>1</td>\n",
       "      <td>FibrousAstro-CD44hi_S100Bpos_FOShi_VIMpos</td>\n",
       "      <td>FibrousAstro</td>\n",
       "      <td>astrocytes</td>\n",
       "    </tr>\n",
       "    <tr>\n",
       "      <th>...</th>\n",
       "      <td>...</td>\n",
       "      <td>...</td>\n",
       "      <td>...</td>\n",
       "      <td>...</td>\n",
       "      <td>...</td>\n",
       "      <td>...</td>\n",
       "      <td>...</td>\n",
       "      <td>...</td>\n",
       "      <td>...</td>\n",
       "      <td>...</td>\n",
       "      <td>...</td>\n",
       "      <td>...</td>\n",
       "      <td>...</td>\n",
       "      <td>...</td>\n",
       "      <td>...</td>\n",
       "      <td>...</td>\n",
       "      <td>...</td>\n",
       "      <td>...</td>\n",
       "      <td>...</td>\n",
       "      <td>...</td>\n",
       "      <td>...</td>\n",
       "    </tr>\n",
       "    <tr>\n",
       "      <th>44550</th>\n",
       "      <td>TTTCGATCAGTTAGGG-1</td>\n",
       "      <td>747495_GX12</td>\n",
       "      <td>1</td>\n",
       "      <td>Hash454</td>\n",
       "      <td>747495_GX12</td>\n",
       "      <td>MS438</td>\n",
       "      <td>P2D4</td>\n",
       "      <td>747495_GX12_4</td>\n",
       "      <td>ms</td>\n",
       "      <td>Undetermined</td>\n",
       "      <td>...</td>\n",
       "      <td>NaN</td>\n",
       "      <td>NaN</td>\n",
       "      <td>NaN</td>\n",
       "      <td>1</td>\n",
       "      <td>1</td>\n",
       "      <td>1</td>\n",
       "      <td>2</td>\n",
       "      <td>CUX2_LAMP5_YWHAHhi</td>\n",
       "      <td>CUX2</td>\n",
       "      <td>neurons</td>\n",
       "    </tr>\n",
       "    <tr>\n",
       "      <th>44551</th>\n",
       "      <td>TTTCGATGTGTCGATT-1</td>\n",
       "      <td>747495_GX12</td>\n",
       "      <td>1</td>\n",
       "      <td>Hash451</td>\n",
       "      <td>747495_GX12</td>\n",
       "      <td>C014_d</td>\n",
       "      <td>P5C3</td>\n",
       "      <td>747495_GX12_1</td>\n",
       "      <td>control</td>\n",
       "      <td>none</td>\n",
       "      <td>...</td>\n",
       "      <td>NaN</td>\n",
       "      <td>NaN</td>\n",
       "      <td>NaN</td>\n",
       "      <td>9</td>\n",
       "      <td>10</td>\n",
       "      <td>9</td>\n",
       "      <td>8</td>\n",
       "      <td>FEZF2_SEMA3Ehi</td>\n",
       "      <td>FEZF2</td>\n",
       "      <td>neurons</td>\n",
       "    </tr>\n",
       "    <tr>\n",
       "      <th>44552</th>\n",
       "      <td>TTTGGAGTCGAGAATA-1</td>\n",
       "      <td>747495_GX12</td>\n",
       "      <td>1</td>\n",
       "      <td>Hash451</td>\n",
       "      <td>747495_GX12</td>\n",
       "      <td>C014_d</td>\n",
       "      <td>P5C3</td>\n",
       "      <td>747495_GX12_1</td>\n",
       "      <td>control</td>\n",
       "      <td>none</td>\n",
       "      <td>...</td>\n",
       "      <td>NaN</td>\n",
       "      <td>NaN</td>\n",
       "      <td>NaN</td>\n",
       "      <td>3</td>\n",
       "      <td>9</td>\n",
       "      <td>8</td>\n",
       "      <td>9</td>\n",
       "      <td>RORB_TOXhi_ARHGAP15hi</td>\n",
       "      <td>RORB</td>\n",
       "      <td>neurons</td>\n",
       "    </tr>\n",
       "    <tr>\n",
       "      <th>44553</th>\n",
       "      <td>TTTGGTTAGATAGGGA-1</td>\n",
       "      <td>747495_GX12</td>\n",
       "      <td>1</td>\n",
       "      <td>Hash455</td>\n",
       "      <td>747495_GX12</td>\n",
       "      <td>C064</td>\n",
       "      <td>A2D1</td>\n",
       "      <td>747495_GX12_5</td>\n",
       "      <td>control</td>\n",
       "      <td>none</td>\n",
       "      <td>...</td>\n",
       "      <td>NaN</td>\n",
       "      <td>NaN</td>\n",
       "      <td>NaN</td>\n",
       "      <td>5</td>\n",
       "      <td>7</td>\n",
       "      <td>6</td>\n",
       "      <td>6</td>\n",
       "      <td>VIP_HGFAC</td>\n",
       "      <td>VIP</td>\n",
       "      <td>neurons</td>\n",
       "    </tr>\n",
       "    <tr>\n",
       "      <th>44554</th>\n",
       "      <td>TTTGTTGTCCAGTGTA-1</td>\n",
       "      <td>747495_GX12</td>\n",
       "      <td>1</td>\n",
       "      <td>Hash454</td>\n",
       "      <td>747495_GX12</td>\n",
       "      <td>MS438</td>\n",
       "      <td>P2D4</td>\n",
       "      <td>747495_GX12_4</td>\n",
       "      <td>ms</td>\n",
       "      <td>Undetermined</td>\n",
       "      <td>...</td>\n",
       "      <td>NaN</td>\n",
       "      <td>NaN</td>\n",
       "      <td>NaN</td>\n",
       "      <td>1</td>\n",
       "      <td>1</td>\n",
       "      <td>1</td>\n",
       "      <td>2</td>\n",
       "      <td>CUX2_PALMDpos_FREM3pos</td>\n",
       "      <td>CUX2</td>\n",
       "      <td>neurons</td>\n",
       "    </tr>\n",
       "  </tbody>\n",
       "</table>\n",
       "<p>2256 rows × 43 columns</p>\n",
       "</div>"
      ],
      "text/plain": [
       "                    index    sample_id batch antibody   library_id patient  \\\n",
       "411    AAAGGGCCAATTTCCT-1  747495_GX12     1  Hash453  747495_GX12    C005   \n",
       "412    AACAAGACAACTGGTT-1  747495_GX12     1  Hash451  747495_GX12  C014_d   \n",
       "413    AACCACAGTTCCGGTG-1  747495_GX12     1  Hash451  747495_GX12  C014_d   \n",
       "414    AACCCAACACTCTCGT-1  747495_GX12     1  Hash456  747495_GX12   MS425   \n",
       "415    AAGCATCAGAGTCTTC-1  747495_GX12     1  Hash454  747495_GX12   MS438   \n",
       "...                   ...          ...   ...      ...          ...     ...   \n",
       "44550  TTTCGATCAGTTAGGG-1  747495_GX12     1  Hash454  747495_GX12   MS438   \n",
       "44551  TTTCGATGTGTCGATT-1  747495_GX12     1  Hash451  747495_GX12  C014_d   \n",
       "44552  TTTGGAGTCGAGAATA-1  747495_GX12     1  Hash451  747495_GX12  C014_d   \n",
       "44553  TTTGGTTAGATAGGGA-1  747495_GX12     1  Hash455  747495_GX12    C064   \n",
       "44554  TTTGTTGTCCAGTGTA-1  747495_GX12     1  Hash454  747495_GX12   MS438   \n",
       "\n",
       "      block_position demult_sample_id disorder  disease_type  ...  tissue  \\\n",
       "411             P2D4    747495_GX12_3  control          none  ...     NaN   \n",
       "412             P5C3    747495_GX12_1  control          none  ...     NaN   \n",
       "413             P5C3    747495_GX12_1  control          none  ...     NaN   \n",
       "414             A3A2    747495_GX12_6       ms            SP  ...     NaN   \n",
       "415             P2D4    747495_GX12_4       ms  Undetermined  ...     NaN   \n",
       "...              ...              ...      ...           ...  ...     ...   \n",
       "44550           P2D4    747495_GX12_4       ms  Undetermined  ...     NaN   \n",
       "44551           P5C3    747495_GX12_1  control          none  ...     NaN   \n",
       "44552           P5C3    747495_GX12_1  control          none  ...     NaN   \n",
       "44553           A2D1    747495_GX12_5  control          none  ...     NaN   \n",
       "44554           P2D4    747495_GX12_4       ms  Undetermined  ...     NaN   \n",
       "\n",
       "      library brain_region leiden_res_0.1  leiden_res_0.3  leiden_res_0.5  \\\n",
       "411       NaN          NaN              2               2               2   \n",
       "412       NaN          NaN              2               2               2   \n",
       "413       NaN          NaN              2               2               2   \n",
       "414       NaN          NaN              2               2               2   \n",
       "415       NaN          NaN              2               2               2   \n",
       "...       ...          ...            ...             ...             ...   \n",
       "44550     NaN          NaN              1               1               1   \n",
       "44551     NaN          NaN              9              10               9   \n",
       "44552     NaN          NaN              3               9               8   \n",
       "44553     NaN          NaN              5               7               6   \n",
       "44554     NaN          NaN              1               1               1   \n",
       "\n",
       "       leiden_res_1                              cluster_label  \\\n",
       "411               1                ProtoAstro_SLC1A2hi_NRXN1hi   \n",
       "412               1           PhagoProtoAstro_MERTKhi_MEGF10hi   \n",
       "413               1                ProtoAstro_SLC1A2hi_NRXN1hi   \n",
       "414               1                ProtoAstro_SLC1A2hi_NRXN1hi   \n",
       "415               1  FibrousAstro-CD44hi_S100Bpos_FOShi_VIMpos   \n",
       "...             ...                                        ...   \n",
       "44550             2                         CUX2_LAMP5_YWHAHhi   \n",
       "44551             8                             FEZF2_SEMA3Ehi   \n",
       "44552             9                      RORB_TOXhi_ARHGAP15hi   \n",
       "44553             6                                  VIP_HGFAC   \n",
       "44554             2                     CUX2_PALMDpos_FREM3pos   \n",
       "\n",
       "       lowres_cluster_label      bucket  \n",
       "411              ProtoAstro  astrocytes  \n",
       "412              ProtoAstro  astrocytes  \n",
       "413              ProtoAstro  astrocytes  \n",
       "414              ProtoAstro  astrocytes  \n",
       "415            FibrousAstro  astrocytes  \n",
       "...                     ...         ...  \n",
       "44550                  CUX2     neurons  \n",
       "44551                 FEZF2     neurons  \n",
       "44552                  RORB     neurons  \n",
       "44553                   VIP     neurons  \n",
       "44554                  CUX2     neurons  \n",
       "\n",
       "[2256 rows x 43 columns]"
      ]
     },
     "execution_count": 134,
     "metadata": {},
     "output_type": "execute_result"
    }
   ],
   "source": [
    "obs_meta_all_gx12 = obs_meta_all[obs_meta_all['sample_id'].str.contains('gx12', case=False)]\n",
    "obs_meta_all_gx12"
   ]
  },
  {
   "cell_type": "markdown",
   "id": "c3840f8b",
   "metadata": {},
   "source": [
    "Merge Xichen's vireo data with the new data to get the correct order."
   ]
  },
  {
   "cell_type": "code",
   "execution_count": 135,
   "id": "77e5bce2",
   "metadata": {},
   "outputs": [
    {
     "data": {
      "text/html": [
       "<div>\n",
       "<style scoped>\n",
       "    .dataframe tbody tr th:only-of-type {\n",
       "        vertical-align: middle;\n",
       "    }\n",
       "\n",
       "    .dataframe tbody tr th {\n",
       "        vertical-align: top;\n",
       "    }\n",
       "\n",
       "    .dataframe thead th {\n",
       "        text-align: right;\n",
       "    }\n",
       "</style>\n",
       "<table border=\"1\" class=\"dataframe\">\n",
       "  <thead>\n",
       "    <tr style=\"text-align: right;\">\n",
       "      <th></th>\n",
       "      <th>cell</th>\n",
       "      <th>donor_id</th>\n",
       "      <th>classification</th>\n",
       "      <th>Barcode</th>\n",
       "      <th>donor_identity</th>\n",
       "    </tr>\n",
       "  </thead>\n",
       "  <tbody>\n",
       "    <tr>\n",
       "      <th>0</th>\n",
       "      <td>AAACCCAAGGTGTGAC-1</td>\n",
       "      <td>donor1</td>\n",
       "      <td>singlet</td>\n",
       "      <td>AAACCCAAGGTGTGAC-1</td>\n",
       "      <td>Hash451-TotalSeqA</td>\n",
       "    </tr>\n",
       "    <tr>\n",
       "      <th>1</th>\n",
       "      <td>AAACCCAGTGAGAGGG-1</td>\n",
       "      <td>donor2</td>\n",
       "      <td>singlet</td>\n",
       "      <td>AAACCCAGTGAGAGGG-1</td>\n",
       "      <td>Hash453-TotalSeqA</td>\n",
       "    </tr>\n",
       "    <tr>\n",
       "      <th>2</th>\n",
       "      <td>AAACGAAAGAATCTAG-1</td>\n",
       "      <td>donor5</td>\n",
       "      <td>singlet</td>\n",
       "      <td>AAACGAAAGAATCTAG-1</td>\n",
       "      <td>Hash452-TotalSeqA</td>\n",
       "    </tr>\n",
       "    <tr>\n",
       "      <th>3</th>\n",
       "      <td>AAACGAACACATATGC-1</td>\n",
       "      <td>donor5</td>\n",
       "      <td>singlet</td>\n",
       "      <td>AAACGAACACATATGC-1</td>\n",
       "      <td>Hash452-TotalSeqA</td>\n",
       "    </tr>\n",
       "    <tr>\n",
       "      <th>4</th>\n",
       "      <td>AAACGAACACGACTAT-1</td>\n",
       "      <td>donor5</td>\n",
       "      <td>singlet</td>\n",
       "      <td>AAACGAACACGACTAT-1</td>\n",
       "      <td>Hash452-TotalSeqA</td>\n",
       "    </tr>\n",
       "    <tr>\n",
       "      <th>...</th>\n",
       "      <td>...</td>\n",
       "      <td>...</td>\n",
       "      <td>...</td>\n",
       "      <td>...</td>\n",
       "      <td>...</td>\n",
       "    </tr>\n",
       "    <tr>\n",
       "      <th>4884</th>\n",
       "      <td>TTTGTTGAGTCCCAGC-1</td>\n",
       "      <td>donor2</td>\n",
       "      <td>singlet</td>\n",
       "      <td>TTTGTTGAGTCCCAGC-1</td>\n",
       "      <td>Hash453-TotalSeqA</td>\n",
       "    </tr>\n",
       "    <tr>\n",
       "      <th>4885</th>\n",
       "      <td>TTTGTTGCAGCGCGTT-1</td>\n",
       "      <td>doublet</td>\n",
       "      <td>doublet</td>\n",
       "      <td>TTTGTTGCAGCGCGTT-1</td>\n",
       "      <td>doublet</td>\n",
       "    </tr>\n",
       "    <tr>\n",
       "      <th>4886</th>\n",
       "      <td>TTTGTTGGTTATCTTC-1</td>\n",
       "      <td>doublet</td>\n",
       "      <td>doublet</td>\n",
       "      <td>TTTGTTGGTTATCTTC-1</td>\n",
       "      <td>doublet</td>\n",
       "    </tr>\n",
       "    <tr>\n",
       "      <th>4887</th>\n",
       "      <td>TTTGTTGTCCAGTGTA-1</td>\n",
       "      <td>donor0</td>\n",
       "      <td>singlet</td>\n",
       "      <td>TTTGTTGTCCAGTGTA-1</td>\n",
       "      <td>Hash454-TotalSeqA</td>\n",
       "    </tr>\n",
       "    <tr>\n",
       "      <th>4888</th>\n",
       "      <td>TTTGTTGTCGCTTAAG-1</td>\n",
       "      <td>donor1</td>\n",
       "      <td>singlet</td>\n",
       "      <td>TTTGTTGTCGCTTAAG-1</td>\n",
       "      <td>Hash451-TotalSeqA</td>\n",
       "    </tr>\n",
       "  </tbody>\n",
       "</table>\n",
       "<p>4889 rows × 5 columns</p>\n",
       "</div>"
      ],
      "text/plain": [
       "                    cell donor_id classification             Barcode  \\\n",
       "0     AAACCCAAGGTGTGAC-1   donor1        singlet  AAACCCAAGGTGTGAC-1   \n",
       "1     AAACCCAGTGAGAGGG-1   donor2        singlet  AAACCCAGTGAGAGGG-1   \n",
       "2     AAACGAAAGAATCTAG-1   donor5        singlet  AAACGAAAGAATCTAG-1   \n",
       "3     AAACGAACACATATGC-1   donor5        singlet  AAACGAACACATATGC-1   \n",
       "4     AAACGAACACGACTAT-1   donor5        singlet  AAACGAACACGACTAT-1   \n",
       "...                  ...      ...            ...                 ...   \n",
       "4884  TTTGTTGAGTCCCAGC-1   donor2        singlet  TTTGTTGAGTCCCAGC-1   \n",
       "4885  TTTGTTGCAGCGCGTT-1  doublet        doublet  TTTGTTGCAGCGCGTT-1   \n",
       "4886  TTTGTTGGTTATCTTC-1  doublet        doublet  TTTGTTGGTTATCTTC-1   \n",
       "4887  TTTGTTGTCCAGTGTA-1   donor0        singlet  TTTGTTGTCCAGTGTA-1   \n",
       "4888  TTTGTTGTCGCTTAAG-1   donor1        singlet  TTTGTTGTCGCTTAAG-1   \n",
       "\n",
       "         donor_identity  \n",
       "0     Hash451-TotalSeqA  \n",
       "1     Hash453-TotalSeqA  \n",
       "2     Hash452-TotalSeqA  \n",
       "3     Hash452-TotalSeqA  \n",
       "4     Hash452-TotalSeqA  \n",
       "...                 ...  \n",
       "4884  Hash453-TotalSeqA  \n",
       "4885            doublet  \n",
       "4886            doublet  \n",
       "4887  Hash454-TotalSeqA  \n",
       "4888  Hash451-TotalSeqA  \n",
       "\n",
       "[4889 rows x 5 columns]"
      ]
     },
     "execution_count": 135,
     "metadata": {},
     "output_type": "execute_result"
    }
   ],
   "source": [
    "obs_ordered = pd.merge(obs_vario, obs, left_on='cell', right_on='Barcode', how='outer')\n",
    "obs_ordered"
   ]
  },
  {
   "cell_type": "markdown",
   "id": "f89bb324",
   "metadata": {},
   "source": [
    "Merge Xichens obs information and the metadata for gx12. Not all cells have a match in the gx12. Here NaN is put in for those columns."
   ]
  },
  {
   "cell_type": "code",
   "execution_count": 136,
   "id": "35c58a1c",
   "metadata": {
    "scrolled": true
   },
   "outputs": [
    {
     "data": {
      "text/html": [
       "<div>\n",
       "<style scoped>\n",
       "    .dataframe tbody tr th:only-of-type {\n",
       "        vertical-align: middle;\n",
       "    }\n",
       "\n",
       "    .dataframe tbody tr th {\n",
       "        vertical-align: top;\n",
       "    }\n",
       "\n",
       "    .dataframe thead th {\n",
       "        text-align: right;\n",
       "    }\n",
       "</style>\n",
       "<table border=\"1\" class=\"dataframe\">\n",
       "  <thead>\n",
       "    <tr style=\"text-align: right;\">\n",
       "      <th></th>\n",
       "      <th>cell</th>\n",
       "      <th>donor_id</th>\n",
       "      <th>classification</th>\n",
       "      <th>Barcode</th>\n",
       "      <th>donor_identity</th>\n",
       "      <th>index</th>\n",
       "      <th>sample_id</th>\n",
       "      <th>batch</th>\n",
       "      <th>antibody</th>\n",
       "      <th>library_id</th>\n",
       "      <th>...</th>\n",
       "      <th>tissue</th>\n",
       "      <th>library</th>\n",
       "      <th>brain_region</th>\n",
       "      <th>leiden_res_0.1</th>\n",
       "      <th>leiden_res_0.3</th>\n",
       "      <th>leiden_res_0.5</th>\n",
       "      <th>leiden_res_1</th>\n",
       "      <th>cluster_label</th>\n",
       "      <th>lowres_cluster_label</th>\n",
       "      <th>bucket</th>\n",
       "    </tr>\n",
       "  </thead>\n",
       "  <tbody>\n",
       "    <tr>\n",
       "      <th>0</th>\n",
       "      <td>AAACCCAAGGTGTGAC-1</td>\n",
       "      <td>donor1</td>\n",
       "      <td>singlet</td>\n",
       "      <td>AAACCCAAGGTGTGAC-1</td>\n",
       "      <td>Hash451-TotalSeqA</td>\n",
       "      <td>AAACCCAAGGTGTGAC-1</td>\n",
       "      <td>747495_GX12</td>\n",
       "      <td>1</td>\n",
       "      <td>Hash451</td>\n",
       "      <td>747495_GX12</td>\n",
       "      <td>...</td>\n",
       "      <td>NaN</td>\n",
       "      <td>NaN</td>\n",
       "      <td>NaN</td>\n",
       "      <td>1.0</td>\n",
       "      <td>1.0</td>\n",
       "      <td>1.0</td>\n",
       "      <td>2.0</td>\n",
       "      <td>CUX2_PALMDpos_FREM3pos</td>\n",
       "      <td>CUX2</td>\n",
       "      <td>neurons</td>\n",
       "    </tr>\n",
       "    <tr>\n",
       "      <th>1</th>\n",
       "      <td>AAACCCAGTGAGAGGG-1</td>\n",
       "      <td>donor2</td>\n",
       "      <td>singlet</td>\n",
       "      <td>AAACCCAGTGAGAGGG-1</td>\n",
       "      <td>Hash453-TotalSeqA</td>\n",
       "      <td>NaN</td>\n",
       "      <td>NaN</td>\n",
       "      <td>NaN</td>\n",
       "      <td>NaN</td>\n",
       "      <td>NaN</td>\n",
       "      <td>...</td>\n",
       "      <td>NaN</td>\n",
       "      <td>NaN</td>\n",
       "      <td>NaN</td>\n",
       "      <td>NaN</td>\n",
       "      <td>NaN</td>\n",
       "      <td>NaN</td>\n",
       "      <td>NaN</td>\n",
       "      <td>NaN</td>\n",
       "      <td>NaN</td>\n",
       "      <td>NaN</td>\n",
       "    </tr>\n",
       "    <tr>\n",
       "      <th>2</th>\n",
       "      <td>AAACGAAAGAATCTAG-1</td>\n",
       "      <td>donor5</td>\n",
       "      <td>singlet</td>\n",
       "      <td>AAACGAAAGAATCTAG-1</td>\n",
       "      <td>Hash452-TotalSeqA</td>\n",
       "      <td>AAACGAAAGAATCTAG-1</td>\n",
       "      <td>747495_GX12</td>\n",
       "      <td>1</td>\n",
       "      <td>Hash452</td>\n",
       "      <td>747495_GX12</td>\n",
       "      <td>...</td>\n",
       "      <td>NaN</td>\n",
       "      <td>NaN</td>\n",
       "      <td>NaN</td>\n",
       "      <td>0.0</td>\n",
       "      <td>0.0</td>\n",
       "      <td>0.0</td>\n",
       "      <td>0.0</td>\n",
       "      <td>OG - OPALINlow_SLC5A11hi_RBFOXhi</td>\n",
       "      <td>OG - OPALINlow_SLC5A11hi_RBFOXhi</td>\n",
       "      <td>oligodendrocytes</td>\n",
       "    </tr>\n",
       "    <tr>\n",
       "      <th>3</th>\n",
       "      <td>AAACGAACACATATGC-1</td>\n",
       "      <td>donor5</td>\n",
       "      <td>singlet</td>\n",
       "      <td>AAACGAACACATATGC-1</td>\n",
       "      <td>Hash452-TotalSeqA</td>\n",
       "      <td>NaN</td>\n",
       "      <td>NaN</td>\n",
       "      <td>NaN</td>\n",
       "      <td>NaN</td>\n",
       "      <td>NaN</td>\n",
       "      <td>...</td>\n",
       "      <td>NaN</td>\n",
       "      <td>NaN</td>\n",
       "      <td>NaN</td>\n",
       "      <td>NaN</td>\n",
       "      <td>NaN</td>\n",
       "      <td>NaN</td>\n",
       "      <td>NaN</td>\n",
       "      <td>NaN</td>\n",
       "      <td>NaN</td>\n",
       "      <td>NaN</td>\n",
       "    </tr>\n",
       "    <tr>\n",
       "      <th>4</th>\n",
       "      <td>AAACGAACACGACTAT-1</td>\n",
       "      <td>donor5</td>\n",
       "      <td>singlet</td>\n",
       "      <td>AAACGAACACGACTAT-1</td>\n",
       "      <td>Hash452-TotalSeqA</td>\n",
       "      <td>NaN</td>\n",
       "      <td>NaN</td>\n",
       "      <td>NaN</td>\n",
       "      <td>NaN</td>\n",
       "      <td>NaN</td>\n",
       "      <td>...</td>\n",
       "      <td>NaN</td>\n",
       "      <td>NaN</td>\n",
       "      <td>NaN</td>\n",
       "      <td>NaN</td>\n",
       "      <td>NaN</td>\n",
       "      <td>NaN</td>\n",
       "      <td>NaN</td>\n",
       "      <td>NaN</td>\n",
       "      <td>NaN</td>\n",
       "      <td>NaN</td>\n",
       "    </tr>\n",
       "    <tr>\n",
       "      <th>...</th>\n",
       "      <td>...</td>\n",
       "      <td>...</td>\n",
       "      <td>...</td>\n",
       "      <td>...</td>\n",
       "      <td>...</td>\n",
       "      <td>...</td>\n",
       "      <td>...</td>\n",
       "      <td>...</td>\n",
       "      <td>...</td>\n",
       "      <td>...</td>\n",
       "      <td>...</td>\n",
       "      <td>...</td>\n",
       "      <td>...</td>\n",
       "      <td>...</td>\n",
       "      <td>...</td>\n",
       "      <td>...</td>\n",
       "      <td>...</td>\n",
       "      <td>...</td>\n",
       "      <td>...</td>\n",
       "      <td>...</td>\n",
       "      <td>...</td>\n",
       "    </tr>\n",
       "    <tr>\n",
       "      <th>4884</th>\n",
       "      <td>TTTGTTGAGTCCCAGC-1</td>\n",
       "      <td>donor2</td>\n",
       "      <td>singlet</td>\n",
       "      <td>TTTGTTGAGTCCCAGC-1</td>\n",
       "      <td>Hash453-TotalSeqA</td>\n",
       "      <td>NaN</td>\n",
       "      <td>NaN</td>\n",
       "      <td>NaN</td>\n",
       "      <td>NaN</td>\n",
       "      <td>NaN</td>\n",
       "      <td>...</td>\n",
       "      <td>NaN</td>\n",
       "      <td>NaN</td>\n",
       "      <td>NaN</td>\n",
       "      <td>NaN</td>\n",
       "      <td>NaN</td>\n",
       "      <td>NaN</td>\n",
       "      <td>NaN</td>\n",
       "      <td>NaN</td>\n",
       "      <td>NaN</td>\n",
       "      <td>NaN</td>\n",
       "    </tr>\n",
       "    <tr>\n",
       "      <th>4885</th>\n",
       "      <td>TTTGTTGCAGCGCGTT-1</td>\n",
       "      <td>doublet</td>\n",
       "      <td>doublet</td>\n",
       "      <td>TTTGTTGCAGCGCGTT-1</td>\n",
       "      <td>doublet</td>\n",
       "      <td>NaN</td>\n",
       "      <td>NaN</td>\n",
       "      <td>NaN</td>\n",
       "      <td>NaN</td>\n",
       "      <td>NaN</td>\n",
       "      <td>...</td>\n",
       "      <td>NaN</td>\n",
       "      <td>NaN</td>\n",
       "      <td>NaN</td>\n",
       "      <td>NaN</td>\n",
       "      <td>NaN</td>\n",
       "      <td>NaN</td>\n",
       "      <td>NaN</td>\n",
       "      <td>NaN</td>\n",
       "      <td>NaN</td>\n",
       "      <td>NaN</td>\n",
       "    </tr>\n",
       "    <tr>\n",
       "      <th>4886</th>\n",
       "      <td>TTTGTTGGTTATCTTC-1</td>\n",
       "      <td>doublet</td>\n",
       "      <td>doublet</td>\n",
       "      <td>TTTGTTGGTTATCTTC-1</td>\n",
       "      <td>doublet</td>\n",
       "      <td>NaN</td>\n",
       "      <td>NaN</td>\n",
       "      <td>NaN</td>\n",
       "      <td>NaN</td>\n",
       "      <td>NaN</td>\n",
       "      <td>...</td>\n",
       "      <td>NaN</td>\n",
       "      <td>NaN</td>\n",
       "      <td>NaN</td>\n",
       "      <td>NaN</td>\n",
       "      <td>NaN</td>\n",
       "      <td>NaN</td>\n",
       "      <td>NaN</td>\n",
       "      <td>NaN</td>\n",
       "      <td>NaN</td>\n",
       "      <td>NaN</td>\n",
       "    </tr>\n",
       "    <tr>\n",
       "      <th>4887</th>\n",
       "      <td>TTTGTTGTCCAGTGTA-1</td>\n",
       "      <td>donor0</td>\n",
       "      <td>singlet</td>\n",
       "      <td>TTTGTTGTCCAGTGTA-1</td>\n",
       "      <td>Hash454-TotalSeqA</td>\n",
       "      <td>TTTGTTGTCCAGTGTA-1</td>\n",
       "      <td>747495_GX12</td>\n",
       "      <td>1</td>\n",
       "      <td>Hash454</td>\n",
       "      <td>747495_GX12</td>\n",
       "      <td>...</td>\n",
       "      <td>NaN</td>\n",
       "      <td>NaN</td>\n",
       "      <td>NaN</td>\n",
       "      <td>1.0</td>\n",
       "      <td>1.0</td>\n",
       "      <td>1.0</td>\n",
       "      <td>2.0</td>\n",
       "      <td>CUX2_PALMDpos_FREM3pos</td>\n",
       "      <td>CUX2</td>\n",
       "      <td>neurons</td>\n",
       "    </tr>\n",
       "    <tr>\n",
       "      <th>4888</th>\n",
       "      <td>TTTGTTGTCGCTTAAG-1</td>\n",
       "      <td>donor1</td>\n",
       "      <td>singlet</td>\n",
       "      <td>TTTGTTGTCGCTTAAG-1</td>\n",
       "      <td>Hash451-TotalSeqA</td>\n",
       "      <td>TTTGTTGTCGCTTAAG-1</td>\n",
       "      <td>747495_GX12</td>\n",
       "      <td>1</td>\n",
       "      <td>Hash451</td>\n",
       "      <td>747495_GX12</td>\n",
       "      <td>...</td>\n",
       "      <td>NaN</td>\n",
       "      <td>NaN</td>\n",
       "      <td>NaN</td>\n",
       "      <td>0.0</td>\n",
       "      <td>0.0</td>\n",
       "      <td>0.0</td>\n",
       "      <td>0.0</td>\n",
       "      <td>OG - OPALINhi_PLXDC2hi</td>\n",
       "      <td>OG - OPALINhi_PLXDC2hi</td>\n",
       "      <td>oligodendrocytes</td>\n",
       "    </tr>\n",
       "  </tbody>\n",
       "</table>\n",
       "<p>4889 rows × 48 columns</p>\n",
       "</div>"
      ],
      "text/plain": [
       "                    cell donor_id classification             Barcode  \\\n",
       "0     AAACCCAAGGTGTGAC-1   donor1        singlet  AAACCCAAGGTGTGAC-1   \n",
       "1     AAACCCAGTGAGAGGG-1   donor2        singlet  AAACCCAGTGAGAGGG-1   \n",
       "2     AAACGAAAGAATCTAG-1   donor5        singlet  AAACGAAAGAATCTAG-1   \n",
       "3     AAACGAACACATATGC-1   donor5        singlet  AAACGAACACATATGC-1   \n",
       "4     AAACGAACACGACTAT-1   donor5        singlet  AAACGAACACGACTAT-1   \n",
       "...                  ...      ...            ...                 ...   \n",
       "4884  TTTGTTGAGTCCCAGC-1   donor2        singlet  TTTGTTGAGTCCCAGC-1   \n",
       "4885  TTTGTTGCAGCGCGTT-1  doublet        doublet  TTTGTTGCAGCGCGTT-1   \n",
       "4886  TTTGTTGGTTATCTTC-1  doublet        doublet  TTTGTTGGTTATCTTC-1   \n",
       "4887  TTTGTTGTCCAGTGTA-1   donor0        singlet  TTTGTTGTCCAGTGTA-1   \n",
       "4888  TTTGTTGTCGCTTAAG-1   donor1        singlet  TTTGTTGTCGCTTAAG-1   \n",
       "\n",
       "         donor_identity               index    sample_id batch antibody  \\\n",
       "0     Hash451-TotalSeqA  AAACCCAAGGTGTGAC-1  747495_GX12     1  Hash451   \n",
       "1     Hash453-TotalSeqA                 NaN          NaN   NaN      NaN   \n",
       "2     Hash452-TotalSeqA  AAACGAAAGAATCTAG-1  747495_GX12     1  Hash452   \n",
       "3     Hash452-TotalSeqA                 NaN          NaN   NaN      NaN   \n",
       "4     Hash452-TotalSeqA                 NaN          NaN   NaN      NaN   \n",
       "...                 ...                 ...          ...   ...      ...   \n",
       "4884  Hash453-TotalSeqA                 NaN          NaN   NaN      NaN   \n",
       "4885            doublet                 NaN          NaN   NaN      NaN   \n",
       "4886            doublet                 NaN          NaN   NaN      NaN   \n",
       "4887  Hash454-TotalSeqA  TTTGTTGTCCAGTGTA-1  747495_GX12     1  Hash454   \n",
       "4888  Hash451-TotalSeqA  TTTGTTGTCGCTTAAG-1  747495_GX12     1  Hash451   \n",
       "\n",
       "       library_id  ... tissue library brain_region leiden_res_0.1  \\\n",
       "0     747495_GX12  ...    NaN     NaN          NaN            1.0   \n",
       "1             NaN  ...    NaN     NaN          NaN            NaN   \n",
       "2     747495_GX12  ...    NaN     NaN          NaN            0.0   \n",
       "3             NaN  ...    NaN     NaN          NaN            NaN   \n",
       "4             NaN  ...    NaN     NaN          NaN            NaN   \n",
       "...           ...  ...    ...     ...          ...            ...   \n",
       "4884          NaN  ...    NaN     NaN          NaN            NaN   \n",
       "4885          NaN  ...    NaN     NaN          NaN            NaN   \n",
       "4886          NaN  ...    NaN     NaN          NaN            NaN   \n",
       "4887  747495_GX12  ...    NaN     NaN          NaN            1.0   \n",
       "4888  747495_GX12  ...    NaN     NaN          NaN            0.0   \n",
       "\n",
       "     leiden_res_0.3  leiden_res_0.5 leiden_res_1  \\\n",
       "0               1.0             1.0          2.0   \n",
       "1               NaN             NaN          NaN   \n",
       "2               0.0             0.0          0.0   \n",
       "3               NaN             NaN          NaN   \n",
       "4               NaN             NaN          NaN   \n",
       "...             ...             ...          ...   \n",
       "4884            NaN             NaN          NaN   \n",
       "4885            NaN             NaN          NaN   \n",
       "4886            NaN             NaN          NaN   \n",
       "4887            1.0             1.0          2.0   \n",
       "4888            0.0             0.0          0.0   \n",
       "\n",
       "                         cluster_label              lowres_cluster_label  \\\n",
       "0               CUX2_PALMDpos_FREM3pos                              CUX2   \n",
       "1                                  NaN                               NaN   \n",
       "2     OG - OPALINlow_SLC5A11hi_RBFOXhi  OG - OPALINlow_SLC5A11hi_RBFOXhi   \n",
       "3                                  NaN                               NaN   \n",
       "4                                  NaN                               NaN   \n",
       "...                                ...                               ...   \n",
       "4884                               NaN                               NaN   \n",
       "4885                               NaN                               NaN   \n",
       "4886                               NaN                               NaN   \n",
       "4887            CUX2_PALMDpos_FREM3pos                              CUX2   \n",
       "4888            OG - OPALINhi_PLXDC2hi            OG - OPALINhi_PLXDC2hi   \n",
       "\n",
       "                bucket  \n",
       "0              neurons  \n",
       "1                  NaN  \n",
       "2     oligodendrocytes  \n",
       "3                  NaN  \n",
       "4                  NaN  \n",
       "...                ...  \n",
       "4884               NaN  \n",
       "4885               NaN  \n",
       "4886               NaN  \n",
       "4887           neurons  \n",
       "4888  oligodendrocytes  \n",
       "\n",
       "[4889 rows x 48 columns]"
      ]
     },
     "execution_count": 136,
     "metadata": {},
     "output_type": "execute_result"
    }
   ],
   "source": [
    "merged_obs = pd.merge(obs_ordered, obs_meta_all_gx12, left_on='cell', right_on='index', how='outer')\n",
    "merged_obs"
   ]
  },
  {
   "cell_type": "markdown",
   "id": "2cc77687",
   "metadata": {},
   "source": [
    "Changing names of some columns to paper_X to not interfere with later column generation."
   ]
  },
  {
   "cell_type": "code",
   "execution_count": 137,
   "id": "43dc493c",
   "metadata": {},
   "outputs": [],
   "source": [
    "merged_obs = merged_obs.rename(columns={'doublet_scores' : 'paper_doublet_scores', 'predicted_doublets': 'paper_predicted_doublets'})"
   ]
  },
  {
   "cell_type": "markdown",
   "id": "74d53086",
   "metadata": {},
   "source": [
    "Adding only a few selected columns to not interfere with later doubled column labeling by further analysis."
   ]
  },
  {
   "cell_type": "code",
   "execution_count": 138,
   "id": "35134585",
   "metadata": {
    "scrolled": false
   },
   "outputs": [
    {
     "data": {
      "text/html": [
       "<div>\n",
       "<style scoped>\n",
       "    .dataframe tbody tr th:only-of-type {\n",
       "        vertical-align: middle;\n",
       "    }\n",
       "\n",
       "    .dataframe tbody tr th {\n",
       "        vertical-align: top;\n",
       "    }\n",
       "\n",
       "    .dataframe thead th {\n",
       "        text-align: right;\n",
       "    }\n",
       "</style>\n",
       "<table border=\"1\" class=\"dataframe\">\n",
       "  <thead>\n",
       "    <tr style=\"text-align: right;\">\n",
       "      <th></th>\n",
       "      <th>donor_identity</th>\n",
       "      <th>donor_id</th>\n",
       "      <th>cluster_label</th>\n",
       "      <th>lowres_cluster_label</th>\n",
       "      <th>sample_id</th>\n",
       "      <th>bucket</th>\n",
       "      <th>disorder</th>\n",
       "      <th>paper_doublet_scores</th>\n",
       "      <th>paper_predicted_doublets</th>\n",
       "    </tr>\n",
       "    <tr>\n",
       "      <th>Barcode</th>\n",
       "      <th></th>\n",
       "      <th></th>\n",
       "      <th></th>\n",
       "      <th></th>\n",
       "      <th></th>\n",
       "      <th></th>\n",
       "      <th></th>\n",
       "      <th></th>\n",
       "      <th></th>\n",
       "    </tr>\n",
       "  </thead>\n",
       "  <tbody>\n",
       "    <tr>\n",
       "      <th>AAACCCAAGGTGTGAC-1</th>\n",
       "      <td>Hash451-TotalSeqA</td>\n",
       "      <td>donor1</td>\n",
       "      <td>CUX2_PALMDpos_FREM3pos</td>\n",
       "      <td>CUX2</td>\n",
       "      <td>747495_GX12</td>\n",
       "      <td>neurons</td>\n",
       "      <td>control</td>\n",
       "      <td>0.043699</td>\n",
       "      <td>False</td>\n",
       "    </tr>\n",
       "    <tr>\n",
       "      <th>AAACCCAGTGAGAGGG-1</th>\n",
       "      <td>Hash453-TotalSeqA</td>\n",
       "      <td>donor2</td>\n",
       "      <td>NaN</td>\n",
       "      <td>NaN</td>\n",
       "      <td>NaN</td>\n",
       "      <td>NaN</td>\n",
       "      <td>NaN</td>\n",
       "      <td>NaN</td>\n",
       "      <td>NaN</td>\n",
       "    </tr>\n",
       "    <tr>\n",
       "      <th>AAACGAAAGAATCTAG-1</th>\n",
       "      <td>Hash452-TotalSeqA</td>\n",
       "      <td>donor5</td>\n",
       "      <td>OG - OPALINlow_SLC5A11hi_RBFOXhi</td>\n",
       "      <td>OG - OPALINlow_SLC5A11hi_RBFOXhi</td>\n",
       "      <td>747495_GX12</td>\n",
       "      <td>oligodendrocytes</td>\n",
       "      <td>ms</td>\n",
       "      <td>0.031493</td>\n",
       "      <td>False</td>\n",
       "    </tr>\n",
       "    <tr>\n",
       "      <th>AAACGAACACATATGC-1</th>\n",
       "      <td>Hash452-TotalSeqA</td>\n",
       "      <td>donor5</td>\n",
       "      <td>NaN</td>\n",
       "      <td>NaN</td>\n",
       "      <td>NaN</td>\n",
       "      <td>NaN</td>\n",
       "      <td>NaN</td>\n",
       "      <td>NaN</td>\n",
       "      <td>NaN</td>\n",
       "    </tr>\n",
       "    <tr>\n",
       "      <th>AAACGAACACGACTAT-1</th>\n",
       "      <td>Hash452-TotalSeqA</td>\n",
       "      <td>donor5</td>\n",
       "      <td>NaN</td>\n",
       "      <td>NaN</td>\n",
       "      <td>NaN</td>\n",
       "      <td>NaN</td>\n",
       "      <td>NaN</td>\n",
       "      <td>NaN</td>\n",
       "      <td>NaN</td>\n",
       "    </tr>\n",
       "    <tr>\n",
       "      <th>...</th>\n",
       "      <td>...</td>\n",
       "      <td>...</td>\n",
       "      <td>...</td>\n",
       "      <td>...</td>\n",
       "      <td>...</td>\n",
       "      <td>...</td>\n",
       "      <td>...</td>\n",
       "      <td>...</td>\n",
       "      <td>...</td>\n",
       "    </tr>\n",
       "    <tr>\n",
       "      <th>TTTGTTGAGTCCCAGC-1</th>\n",
       "      <td>Hash453-TotalSeqA</td>\n",
       "      <td>donor2</td>\n",
       "      <td>NaN</td>\n",
       "      <td>NaN</td>\n",
       "      <td>NaN</td>\n",
       "      <td>NaN</td>\n",
       "      <td>NaN</td>\n",
       "      <td>NaN</td>\n",
       "      <td>NaN</td>\n",
       "    </tr>\n",
       "    <tr>\n",
       "      <th>TTTGTTGCAGCGCGTT-1</th>\n",
       "      <td>doublet</td>\n",
       "      <td>doublet</td>\n",
       "      <td>NaN</td>\n",
       "      <td>NaN</td>\n",
       "      <td>NaN</td>\n",
       "      <td>NaN</td>\n",
       "      <td>NaN</td>\n",
       "      <td>NaN</td>\n",
       "      <td>NaN</td>\n",
       "    </tr>\n",
       "    <tr>\n",
       "      <th>TTTGTTGGTTATCTTC-1</th>\n",
       "      <td>doublet</td>\n",
       "      <td>doublet</td>\n",
       "      <td>NaN</td>\n",
       "      <td>NaN</td>\n",
       "      <td>NaN</td>\n",
       "      <td>NaN</td>\n",
       "      <td>NaN</td>\n",
       "      <td>NaN</td>\n",
       "      <td>NaN</td>\n",
       "    </tr>\n",
       "    <tr>\n",
       "      <th>TTTGTTGTCCAGTGTA-1</th>\n",
       "      <td>Hash454-TotalSeqA</td>\n",
       "      <td>donor0</td>\n",
       "      <td>CUX2_PALMDpos_FREM3pos</td>\n",
       "      <td>CUX2</td>\n",
       "      <td>747495_GX12</td>\n",
       "      <td>neurons</td>\n",
       "      <td>ms</td>\n",
       "      <td>0.072565</td>\n",
       "      <td>False</td>\n",
       "    </tr>\n",
       "    <tr>\n",
       "      <th>TTTGTTGTCGCTTAAG-1</th>\n",
       "      <td>Hash451-TotalSeqA</td>\n",
       "      <td>donor1</td>\n",
       "      <td>OG - OPALINhi_PLXDC2hi</td>\n",
       "      <td>OG - OPALINhi_PLXDC2hi</td>\n",
       "      <td>747495_GX12</td>\n",
       "      <td>oligodendrocytes</td>\n",
       "      <td>control</td>\n",
       "      <td>0.022640</td>\n",
       "      <td>False</td>\n",
       "    </tr>\n",
       "  </tbody>\n",
       "</table>\n",
       "<p>4889 rows × 9 columns</p>\n",
       "</div>"
      ],
      "text/plain": [
       "                       donor_identity donor_id  \\\n",
       "Barcode                                          \n",
       "AAACCCAAGGTGTGAC-1  Hash451-TotalSeqA   donor1   \n",
       "AAACCCAGTGAGAGGG-1  Hash453-TotalSeqA   donor2   \n",
       "AAACGAAAGAATCTAG-1  Hash452-TotalSeqA   donor5   \n",
       "AAACGAACACATATGC-1  Hash452-TotalSeqA   donor5   \n",
       "AAACGAACACGACTAT-1  Hash452-TotalSeqA   donor5   \n",
       "...                               ...      ...   \n",
       "TTTGTTGAGTCCCAGC-1  Hash453-TotalSeqA   donor2   \n",
       "TTTGTTGCAGCGCGTT-1            doublet  doublet   \n",
       "TTTGTTGGTTATCTTC-1            doublet  doublet   \n",
       "TTTGTTGTCCAGTGTA-1  Hash454-TotalSeqA   donor0   \n",
       "TTTGTTGTCGCTTAAG-1  Hash451-TotalSeqA   donor1   \n",
       "\n",
       "                                       cluster_label  \\\n",
       "Barcode                                                \n",
       "AAACCCAAGGTGTGAC-1            CUX2_PALMDpos_FREM3pos   \n",
       "AAACCCAGTGAGAGGG-1                               NaN   \n",
       "AAACGAAAGAATCTAG-1  OG - OPALINlow_SLC5A11hi_RBFOXhi   \n",
       "AAACGAACACATATGC-1                               NaN   \n",
       "AAACGAACACGACTAT-1                               NaN   \n",
       "...                                              ...   \n",
       "TTTGTTGAGTCCCAGC-1                               NaN   \n",
       "TTTGTTGCAGCGCGTT-1                               NaN   \n",
       "TTTGTTGGTTATCTTC-1                               NaN   \n",
       "TTTGTTGTCCAGTGTA-1            CUX2_PALMDpos_FREM3pos   \n",
       "TTTGTTGTCGCTTAAG-1            OG - OPALINhi_PLXDC2hi   \n",
       "\n",
       "                                lowres_cluster_label    sample_id  \\\n",
       "Barcode                                                             \n",
       "AAACCCAAGGTGTGAC-1                              CUX2  747495_GX12   \n",
       "AAACCCAGTGAGAGGG-1                               NaN          NaN   \n",
       "AAACGAAAGAATCTAG-1  OG - OPALINlow_SLC5A11hi_RBFOXhi  747495_GX12   \n",
       "AAACGAACACATATGC-1                               NaN          NaN   \n",
       "AAACGAACACGACTAT-1                               NaN          NaN   \n",
       "...                                              ...          ...   \n",
       "TTTGTTGAGTCCCAGC-1                               NaN          NaN   \n",
       "TTTGTTGCAGCGCGTT-1                               NaN          NaN   \n",
       "TTTGTTGGTTATCTTC-1                               NaN          NaN   \n",
       "TTTGTTGTCCAGTGTA-1                              CUX2  747495_GX12   \n",
       "TTTGTTGTCGCTTAAG-1            OG - OPALINhi_PLXDC2hi  747495_GX12   \n",
       "\n",
       "                              bucket disorder  paper_doublet_scores  \\\n",
       "Barcode                                                               \n",
       "AAACCCAAGGTGTGAC-1           neurons  control              0.043699   \n",
       "AAACCCAGTGAGAGGG-1               NaN      NaN                   NaN   \n",
       "AAACGAAAGAATCTAG-1  oligodendrocytes       ms              0.031493   \n",
       "AAACGAACACATATGC-1               NaN      NaN                   NaN   \n",
       "AAACGAACACGACTAT-1               NaN      NaN                   NaN   \n",
       "...                              ...      ...                   ...   \n",
       "TTTGTTGAGTCCCAGC-1               NaN      NaN                   NaN   \n",
       "TTTGTTGCAGCGCGTT-1               NaN      NaN                   NaN   \n",
       "TTTGTTGGTTATCTTC-1               NaN      NaN                   NaN   \n",
       "TTTGTTGTCCAGTGTA-1           neurons       ms              0.072565   \n",
       "TTTGTTGTCGCTTAAG-1  oligodendrocytes  control              0.022640   \n",
       "\n",
       "                   paper_predicted_doublets  \n",
       "Barcode                                      \n",
       "AAACCCAAGGTGTGAC-1                    False  \n",
       "AAACCCAGTGAGAGGG-1                      NaN  \n",
       "AAACGAAAGAATCTAG-1                    False  \n",
       "AAACGAACACATATGC-1                      NaN  \n",
       "AAACGAACACGACTAT-1                      NaN  \n",
       "...                                     ...  \n",
       "TTTGTTGAGTCCCAGC-1                      NaN  \n",
       "TTTGTTGCAGCGCGTT-1                      NaN  \n",
       "TTTGTTGGTTATCTTC-1                      NaN  \n",
       "TTTGTTGTCCAGTGTA-1                    False  \n",
       "TTTGTTGTCGCTTAAG-1                    False  \n",
       "\n",
       "[4889 rows x 9 columns]"
      ]
     },
     "execution_count": 138,
     "metadata": {},
     "output_type": "execute_result"
    }
   ],
   "source": [
    "merged_obs_sel = merged_obs.loc[:, [\"Barcode\", \"donor_identity\", \"donor_id\", \"cluster_label\", \"lowres_cluster_label\", \"sample_id\", \"bucket\", \"disorder\", \"paper_doublet_scores\", \"paper_predicted_doublets\"]]\n",
    "merged_obs_sel.set_index('Barcode', inplace=True)\n",
    "merged_obs_sel"
   ]
  },
  {
   "cell_type": "code",
   "execution_count": 139,
   "id": "cf0e6e8a",
   "metadata": {},
   "outputs": [
    {
     "ename": "ValueError",
     "evalue": "Length of passed value for obs_names is 4889, but this AnnData has shape: (108, 21006)",
     "output_type": "error",
     "traceback": [
      "\u001b[0;31m---------------------------------------------------------------------------\u001b[0m",
      "\u001b[0;31mValueError\u001b[0m                                Traceback (most recent call last)",
      "Cell \u001b[0;32mIn[139], line 1\u001b[0m\n\u001b[0;32m----> 1\u001b[0m \u001b[43madata\u001b[49m\u001b[38;5;241;43m.\u001b[39;49m\u001b[43mobs\u001b[49m \u001b[38;5;241m=\u001b[39m merged_obs_sel\n\u001b[1;32m      2\u001b[0m adata\u001b[38;5;241m.\u001b[39mobs\u001b[38;5;241m.\u001b[39mhead()\n",
      "File \u001b[0;32m~/opt/anaconda3/envs/DE/lib/python3.9/site-packages/anndata/_core/anndata.py:859\u001b[0m, in \u001b[0;36mAnnData.obs\u001b[0;34m(self, value)\u001b[0m\n\u001b[1;32m    857\u001b[0m \u001b[38;5;129m@obs\u001b[39m\u001b[38;5;241m.\u001b[39msetter\n\u001b[1;32m    858\u001b[0m \u001b[38;5;28;01mdef\u001b[39;00m \u001b[38;5;21mobs\u001b[39m(\u001b[38;5;28mself\u001b[39m, value: pd\u001b[38;5;241m.\u001b[39mDataFrame):\n\u001b[0;32m--> 859\u001b[0m     \u001b[38;5;28;43mself\u001b[39;49m\u001b[38;5;241;43m.\u001b[39;49m\u001b[43m_set_dim_df\u001b[49m\u001b[43m(\u001b[49m\u001b[43mvalue\u001b[49m\u001b[43m,\u001b[49m\u001b[43m \u001b[49m\u001b[38;5;124;43m\"\u001b[39;49m\u001b[38;5;124;43mobs\u001b[39;49m\u001b[38;5;124;43m\"\u001b[39;49m\u001b[43m)\u001b[49m\n",
      "File \u001b[0;32m~/opt/anaconda3/envs/DE/lib/python3.9/site-packages/anndata/_core/anndata.py:798\u001b[0m, in \u001b[0;36mAnnData._set_dim_df\u001b[0;34m(self, value, attr)\u001b[0m\n\u001b[1;32m    796\u001b[0m \u001b[38;5;28;01mif\u001b[39;00m \u001b[38;5;129;01mnot\u001b[39;00m \u001b[38;5;28misinstance\u001b[39m(value, pd\u001b[38;5;241m.\u001b[39mDataFrame):\n\u001b[1;32m    797\u001b[0m     \u001b[38;5;28;01mraise\u001b[39;00m \u001b[38;5;167;01mValueError\u001b[39;00m(\u001b[38;5;124mf\u001b[39m\u001b[38;5;124m\"\u001b[39m\u001b[38;5;124mCan only assign pd.DataFrame to \u001b[39m\u001b[38;5;132;01m{\u001b[39;00mattr\u001b[38;5;132;01m}\u001b[39;00m\u001b[38;5;124m.\u001b[39m\u001b[38;5;124m\"\u001b[39m)\n\u001b[0;32m--> 798\u001b[0m value_idx \u001b[38;5;241m=\u001b[39m \u001b[38;5;28;43mself\u001b[39;49m\u001b[38;5;241;43m.\u001b[39;49m\u001b[43m_prep_dim_index\u001b[49m\u001b[43m(\u001b[49m\u001b[43mvalue\u001b[49m\u001b[38;5;241;43m.\u001b[39;49m\u001b[43mindex\u001b[49m\u001b[43m,\u001b[49m\u001b[43m \u001b[49m\u001b[43mattr\u001b[49m\u001b[43m)\u001b[49m\n\u001b[1;32m    799\u001b[0m \u001b[38;5;28;01mif\u001b[39;00m \u001b[38;5;28mself\u001b[39m\u001b[38;5;241m.\u001b[39mis_view:\n\u001b[1;32m    800\u001b[0m     \u001b[38;5;28mself\u001b[39m\u001b[38;5;241m.\u001b[39m_init_as_actual(\u001b[38;5;28mself\u001b[39m\u001b[38;5;241m.\u001b[39mcopy())\n",
      "File \u001b[0;32m~/opt/anaconda3/envs/DE/lib/python3.9/site-packages/anndata/_core/anndata.py:810\u001b[0m, in \u001b[0;36mAnnData._prep_dim_index\u001b[0;34m(self, value, attr)\u001b[0m\n\u001b[1;32m    805\u001b[0m \u001b[38;5;250m\u001b[39m\u001b[38;5;124;03m\"\"\"Prepares index to be uses as obs_names or var_names for AnnData object.AssertionError\u001b[39;00m\n\u001b[1;32m    806\u001b[0m \n\u001b[1;32m    807\u001b[0m \u001b[38;5;124;03mIf a pd.Index is passed, this will use a reference, otherwise a new index object is created.\u001b[39;00m\n\u001b[1;32m    808\u001b[0m \u001b[38;5;124;03m\"\"\"\u001b[39;00m\n\u001b[1;32m    809\u001b[0m \u001b[38;5;28;01mif\u001b[39;00m \u001b[38;5;28mself\u001b[39m\u001b[38;5;241m.\u001b[39mshape[attr \u001b[38;5;241m==\u001b[39m \u001b[38;5;124m\"\u001b[39m\u001b[38;5;124mvar\u001b[39m\u001b[38;5;124m\"\u001b[39m] \u001b[38;5;241m!=\u001b[39m \u001b[38;5;28mlen\u001b[39m(value):\n\u001b[0;32m--> 810\u001b[0m     \u001b[38;5;28;01mraise\u001b[39;00m \u001b[38;5;167;01mValueError\u001b[39;00m(\n\u001b[1;32m    811\u001b[0m         \u001b[38;5;124mf\u001b[39m\u001b[38;5;124m\"\u001b[39m\u001b[38;5;124mLength of passed value for \u001b[39m\u001b[38;5;132;01m{\u001b[39;00mattr\u001b[38;5;132;01m}\u001b[39;00m\u001b[38;5;124m_names is \u001b[39m\u001b[38;5;132;01m{\u001b[39;00m\u001b[38;5;28mlen\u001b[39m(value)\u001b[38;5;132;01m}\u001b[39;00m\u001b[38;5;124m, but this AnnData has shape: \u001b[39m\u001b[38;5;132;01m{\u001b[39;00m\u001b[38;5;28mself\u001b[39m\u001b[38;5;241m.\u001b[39mshape\u001b[38;5;132;01m}\u001b[39;00m\u001b[38;5;124m\"\u001b[39m\n\u001b[1;32m    812\u001b[0m     )\n\u001b[1;32m    813\u001b[0m \u001b[38;5;28;01mif\u001b[39;00m \u001b[38;5;28misinstance\u001b[39m(value, pd\u001b[38;5;241m.\u001b[39mIndex) \u001b[38;5;129;01mand\u001b[39;00m \u001b[38;5;129;01mnot\u001b[39;00m \u001b[38;5;28misinstance\u001b[39m(\n\u001b[1;32m    814\u001b[0m     value\u001b[38;5;241m.\u001b[39mname, (\u001b[38;5;28mstr\u001b[39m, \u001b[38;5;28mtype\u001b[39m(\u001b[38;5;28;01mNone\u001b[39;00m))\n\u001b[1;32m    815\u001b[0m ):\n\u001b[1;32m    816\u001b[0m     \u001b[38;5;28;01mraise\u001b[39;00m \u001b[38;5;167;01mValueError\u001b[39;00m(\n\u001b[1;32m    817\u001b[0m         \u001b[38;5;124mf\u001b[39m\u001b[38;5;124m\"\u001b[39m\u001b[38;5;124mAnnData expects .\u001b[39m\u001b[38;5;132;01m{\u001b[39;00mattr\u001b[38;5;132;01m}\u001b[39;00m\u001b[38;5;124m.index.name to be a string or None, \u001b[39m\u001b[38;5;124m\"\u001b[39m\n\u001b[1;32m    818\u001b[0m         \u001b[38;5;124mf\u001b[39m\u001b[38;5;124m\"\u001b[39m\u001b[38;5;124mbut you passed a name of type \u001b[39m\u001b[38;5;132;01m{\u001b[39;00m\u001b[38;5;28mtype\u001b[39m(value\u001b[38;5;241m.\u001b[39mname)\u001b[38;5;241m.\u001b[39m\u001b[38;5;18m__name__\u001b[39m\u001b[38;5;132;01m!r}\u001b[39;00m\u001b[38;5;124m\"\u001b[39m\n\u001b[1;32m    819\u001b[0m     )\n",
      "\u001b[0;31mValueError\u001b[0m: Length of passed value for obs_names is 4889, but this AnnData has shape: (108, 21006)"
     ]
    }
   ],
   "source": [
    "adata.obs = merged_obs_sel\n",
    "adata.obs.head()"
   ]
  },
  {
   "cell_type": "code",
   "execution_count": null,
   "id": "0abfcb67",
   "metadata": {
    "scrolled": true
   },
   "outputs": [],
   "source": [
    "adata"
   ]
  },
  {
   "cell_type": "code",
   "execution_count": null,
   "id": "af18553f",
   "metadata": {},
   "outputs": [],
   "source": [
    "adata.var"
   ]
  },
  {
   "cell_type": "code",
   "execution_count": null,
   "id": "424339cd",
   "metadata": {},
   "outputs": [],
   "source": [
    "adata.var_names_make_unique()"
   ]
  },
  {
   "cell_type": "code",
   "execution_count": null,
   "id": "b2a601a2",
   "metadata": {},
   "outputs": [],
   "source": [
    "adata.shape"
   ]
  },
  {
   "cell_type": "markdown",
   "id": "bcf99c9b",
   "metadata": {},
   "source": [
    "Doublet score generation via scrublet."
   ]
  },
  {
   "cell_type": "code",
   "execution_count": null,
   "id": "49c64dbd",
   "metadata": {},
   "outputs": [],
   "source": [
    "import scrublet as scr\n",
    "scrub = scr.Scrublet(adata.X)\n",
    "doublet_scores, predicted_doublets = scrub.scrub_doublets()"
   ]
  },
  {
   "cell_type": "code",
   "execution_count": null,
   "id": "e12867a1",
   "metadata": {},
   "outputs": [],
   "source": [
    "print(doublet_scores)"
   ]
  },
  {
   "cell_type": "code",
   "execution_count": null,
   "id": "31739f29",
   "metadata": {},
   "outputs": [],
   "source": [
    "adata.obs['doublet_score'] = doublet_scores"
   ]
  },
  {
   "cell_type": "markdown",
   "id": "b4f23f6b",
   "metadata": {},
   "source": [
    "Start of filtering and QC."
   ]
  },
  {
   "cell_type": "code",
   "execution_count": null,
   "id": "218b622d",
   "metadata": {
    "scrolled": true
   },
   "outputs": [],
   "source": [
    "sc.pl.highest_expr_genes(adata, n_top=20, )"
   ]
  },
  {
   "cell_type": "code",
   "execution_count": null,
   "id": "1b3795dc",
   "metadata": {
    "scrolled": true
   },
   "outputs": [],
   "source": [
    "print(type(adata.X))\n",
    "print(type(adata.layers[\"counts\"]))\n",
    "print(type(adata.layers[\"soupX_counts\"]))\n",
    "adata.layers[\"soupX_counts\"] = adata.layers[\"soupX_counts\"].tocsr()"
   ]
  },
  {
   "cell_type": "code",
   "execution_count": null,
   "id": "ee910c37",
   "metadata": {},
   "outputs": [],
   "source": [
    "print(type(adata.X))\n",
    "print(type(adata.layers[\"counts\"]))\n",
    "print(type(adata.layers[\"soupX_counts\"]))"
   ]
  },
  {
   "cell_type": "code",
   "execution_count": null,
   "id": "177ee51b",
   "metadata": {
    "scrolled": true
   },
   "outputs": [],
   "source": [
    "sc.pp.filter_cells(adata, min_genes=200)\n",
    "sc.pp.filter_genes(adata, min_cells=3)"
   ]
  },
  {
   "cell_type": "code",
   "execution_count": null,
   "id": "5c0af29f",
   "metadata": {},
   "outputs": [],
   "source": [
    "adata.var['mt'] = adata.var_names.str.startswith('MT-')  # annotate the group of mitochondrial genes as 'mt'\n",
    "sc.pp.calculate_qc_metrics(adata, qc_vars=['mt'], percent_top=None, log1p=False, inplace=True)"
   ]
  },
  {
   "cell_type": "code",
   "execution_count": null,
   "id": "2a1ff8e7",
   "metadata": {
    "scrolled": false
   },
   "outputs": [],
   "source": [
    "sc.pl.violin(adata, ['n_genes_by_counts', 'total_counts', 'pct_counts_mt'],\n",
    "             jitter=0.4, multi_panel=True)"
   ]
  },
  {
   "cell_type": "markdown",
   "id": "47a4fc60",
   "metadata": {},
   "source": [
    "Check for the probable cutoff used in the dataset by the previous MS analysis. (10%, supported by their methods section)"
   ]
  },
  {
   "cell_type": "code",
   "execution_count": null,
   "id": "2e529203",
   "metadata": {},
   "outputs": [],
   "source": [
    "print(obs_meta_all_gx12[\"pct_counts_mt\"].max())\n",
    "print(obs_meta_all_gx12[\"n_genes_by_counts\"].max())"
   ]
  },
  {
   "cell_type": "code",
   "execution_count": null,
   "id": "ddad3e30",
   "metadata": {
    "scrolled": false
   },
   "outputs": [],
   "source": [
    "sc.pl.scatter(adata, x='total_counts', y='pct_counts_mt')\n",
    "sc.pl.scatter(adata, x='total_counts', y='n_genes_by_counts')"
   ]
  },
  {
   "cell_type": "code",
   "execution_count": null,
   "id": "7170e8b9",
   "metadata": {},
   "outputs": [],
   "source": [
    "adata = adata[adata.obs.n_genes_by_counts < 10849, :] # adjusted 2500 to 10894 by previous analysis\n",
    "adata = adata[adata.obs.pct_counts_mt < 10, :] # under 10 percent as probable cutoff"
   ]
  },
  {
   "cell_type": "code",
   "execution_count": null,
   "id": "e14d1bf7",
   "metadata": {},
   "outputs": [],
   "source": [
    "import anndata2ri\n",
    "import logging\n",
    "\n",
    "import rpy2.rinterface_lib.callbacks as rcb\n",
    "import rpy2.robjects as ro\n",
    "\n",
    "rcb.logger.setLevel(logging.ERROR)\n",
    "ro.pandas2ri.activate()\n",
    "anndata2ri.activate()\n",
    "\n",
    "%load_ext rpy2.ipython"
   ]
  },
  {
   "cell_type": "code",
   "execution_count": null,
   "id": "02c4b215",
   "metadata": {},
   "outputs": [],
   "source": [
    "sc.pp.normalize_total(adata, target_sum=1e4)"
   ]
  },
  {
   "cell_type": "code",
   "execution_count": null,
   "id": "b00987cc",
   "metadata": {},
   "outputs": [],
   "source": [
    "sc.pp.log1p(adata)"
   ]
  },
  {
   "cell_type": "code",
   "execution_count": null,
   "id": "87a19b4a",
   "metadata": {},
   "outputs": [],
   "source": [
    "sc.pp.highly_variable_genes(adata, min_mean=0.0125, max_mean=3, min_disp=0.5)"
   ]
  },
  {
   "cell_type": "code",
   "execution_count": null,
   "id": "e90f7139",
   "metadata": {},
   "outputs": [],
   "source": [
    "sc.pl.highly_variable_genes(adata)"
   ]
  },
  {
   "cell_type": "code",
   "execution_count": null,
   "id": "8401cde8",
   "metadata": {},
   "outputs": [],
   "source": [
    "adata.raw = adata"
   ]
  },
  {
   "cell_type": "code",
   "execution_count": null,
   "id": "632f7521",
   "metadata": {},
   "outputs": [],
   "source": [
    "adata = adata[:, adata.var.highly_variable]"
   ]
  },
  {
   "cell_type": "code",
   "execution_count": null,
   "id": "af5c2790",
   "metadata": {
    "scrolled": true
   },
   "outputs": [],
   "source": [
    "sc.pp.regress_out(adata, ['total_counts', 'pct_counts_mt'])"
   ]
  },
  {
   "cell_type": "code",
   "execution_count": null,
   "id": "66abf670",
   "metadata": {},
   "outputs": [],
   "source": [
    "sc.pp.scale(adata, max_value=10)"
   ]
  },
  {
   "cell_type": "code",
   "execution_count": null,
   "id": "90285a43",
   "metadata": {},
   "outputs": [],
   "source": [
    "sc.tl.pca(adata, svd_solver='arpack')"
   ]
  },
  {
   "cell_type": "code",
   "execution_count": null,
   "id": "b51ee937",
   "metadata": {},
   "outputs": [],
   "source": [
    "sc.pl.pca(adata, color='CST3')"
   ]
  },
  {
   "cell_type": "code",
   "execution_count": null,
   "id": "eaccb3ba",
   "metadata": {
    "scrolled": false
   },
   "outputs": [],
   "source": [
    "sc.pl.pca_variance_ratio(adata, log=True)"
   ]
  },
  {
   "cell_type": "code",
   "execution_count": null,
   "id": "8e1f755f",
   "metadata": {},
   "outputs": [],
   "source": [
    "# adata.write(results_file)"
   ]
  },
  {
   "cell_type": "code",
   "execution_count": null,
   "id": "9bbe41e5",
   "metadata": {},
   "outputs": [],
   "source": [
    "adata"
   ]
  },
  {
   "cell_type": "code",
   "execution_count": null,
   "id": "7dc0fe13",
   "metadata": {},
   "outputs": [],
   "source": [
    "sc.pp.neighbors(adata)"
   ]
  },
  {
   "cell_type": "code",
   "execution_count": null,
   "id": "371eaeea",
   "metadata": {
    "scrolled": false
   },
   "outputs": [],
   "source": [
    "sc.tl.umap(adata)"
   ]
  },
  {
   "cell_type": "code",
   "execution_count": null,
   "id": "b798c834",
   "metadata": {
    "scrolled": true
   },
   "outputs": [],
   "source": [
    "print(adata.obs)"
   ]
  },
  {
   "cell_type": "code",
   "execution_count": null,
   "id": "ee9a2575",
   "metadata": {},
   "outputs": [],
   "source": [
    "sc.tl.leiden(adata)"
   ]
  },
  {
   "cell_type": "code",
   "execution_count": null,
   "id": "aa22fdef",
   "metadata": {},
   "outputs": [],
   "source": [
    "sc.tl.leiden(adata, key_added=\"leiden_res0_25\", resolution=0.25)\n",
    "sc.tl.leiden(adata, key_added=\"leiden_res0_5\", resolution=0.5)\n",
    "sc.tl.leiden(adata, key_added=\"leiden_res1\", resolution=1.0)\n",
    "sc.tl.leiden(adata, key_added=\"leiden_res2\", resolution=2.0)"
   ]
  },
  {
   "cell_type": "code",
   "execution_count": null,
   "id": "6ffc39cf",
   "metadata": {
    "scrolled": true
   },
   "outputs": [],
   "source": [
    "sc.pl.umap(adata, color=['doublet_score', 'n_genes_by_counts', 'n_genes', 'donor_identity'])"
   ]
  },
  {
   "cell_type": "markdown",
   "id": "6febf206",
   "metadata": {},
   "source": [
    "Add a column to adata.obs that only shows doublet vs. no doublet."
   ]
  },
  {
   "cell_type": "code",
   "execution_count": null,
   "id": "c14f84bd",
   "metadata": {},
   "outputs": [],
   "source": [
    "doublet_boolean = adata.obs['donor_identity'].str.contains(\"doublet\")\n",
    "adata.obs['doublet_classification_pipeline'] = ['doublet' if result else 'no doublet' for result in doublet_boolean]"
   ]
  },
  {
   "cell_type": "code",
   "execution_count": null,
   "id": "ef4bc5b7",
   "metadata": {
    "scrolled": false
   },
   "outputs": [],
   "source": [
    "adata.obs"
   ]
  },
  {
   "cell_type": "code",
   "execution_count": null,
   "id": "3e57cc56",
   "metadata": {
    "scrolled": false
   },
   "outputs": [],
   "source": [
    "sc.pl.umap(adata, color=['doublet_score', 'n_genes_by_counts', 'n_genes', 'doublet_classification_pipeline'])"
   ]
  },
  {
   "cell_type": "markdown",
   "id": "f3fcdd1b",
   "metadata": {},
   "source": [
    "Generating a column that labels all NaN cells in the bucket column as new. Then combine these with the leiden_clustering."
   ]
  },
  {
   "cell_type": "code",
   "execution_count": null,
   "id": "49d4a95b",
   "metadata": {},
   "outputs": [],
   "source": [
    "adata.obs['newold'] = np.where(pd.isna(adata.obs['bucket']), 'new', 'old')\n",
    "adata.obs[\"leiden_new_old\"]=adata.obs['leiden'].str.cat(adata.obs['newold'], sep='_')\n",
    "adata.obs[\"leiden_res0_25_new_old\"]=adata.obs['leiden_res0_25'].str.cat(adata.obs['newold'], sep='_')"
   ]
  },
  {
   "cell_type": "markdown",
   "id": "4d688ace",
   "metadata": {},
   "source": [
    "Plotting Violin plots to compare the new and paper given doublet scores."
   ]
  },
  {
   "cell_type": "code",
   "execution_count": null,
   "id": "246bc1af",
   "metadata": {},
   "outputs": [],
   "source": [
    "import matplotlib.pyplot as plt\n",
    "import seaborn as sns\n",
    "\n",
    "paper_doublet_scores = adata.obs[\"paper_doublet_scores\"]\n",
    "\n",
    "doublet_scores_df = pd.DataFrame({'paper_doublet_scores': paper_doublet_scores, 'total_new_doublet_scores': adata.obs[\"doublet_score\"]})\n",
    "\n",
    "plt.figure(figsize=(8, 6))\n",
    "sns.violinplot(data=doublet_scores_df, save=\"violet_doublets_all_cells.png\")\n",
    "plt.ylabel('Doublet Score')\n",
    "plt.title('Comparison of Doublet Scores between paper scores and newly generated scores with new cells included')"
   ]
  },
  {
   "cell_type": "code",
   "execution_count": null,
   "id": "07e2ae22",
   "metadata": {},
   "outputs": [],
   "source": [
    "adata_old = adata[adata.obs['newold'] == 'old']\n",
    "\n",
    "data_to_plot = adata_old.obs.loc[:, ['paper_doublet_scores', 'doublet_score']]\n",
    "\n",
    "plt.figure(figsize=(8, 6))\n",
    "sns.violinplot(data=data_to_plot, save=\"violet_doublets_old_cells.png\")\n",
    "plt.ylabel('Doublet Score')\n",
    "plt.title('Comparison of Doublet Scores between paper scores and newly generated scores without new cells included')"
   ]
  },
  {
   "cell_type": "code",
   "execution_count": null,
   "id": "21ca541f",
   "metadata": {
    "scrolled": false
   },
   "outputs": [],
   "source": [
    "paper_doublet_scores = adata.obs[\"paper_doublet_scores\"]\n",
    "\n",
    "doublet_scores_df_2 = pd.DataFrame({'paper_doublet_scores': paper_doublet_scores, 'total_new_doublet_scores': adata.obs[\"doublet_score\"]})\n",
    "\n",
    "plt.figure(figsize=(8, 6))\n",
    "sns.violinplot(data=doublet_scores_df, save=\".png\")\n",
    "plt.ylabel('Doublet Score')\n",
    "plt.title('Comparison of Doublet Scores between paper scores and newly generated scores with new cells included')"
   ]
  },
  {
   "cell_type": "markdown",
   "id": "092bc774",
   "metadata": {},
   "source": [
    "Plotting the cell type description the paper gave over all cells including the new ones to identify clusters."
   ]
  },
  {
   "cell_type": "code",
   "execution_count": null,
   "id": "5e94b9a6",
   "metadata": {
    "scrolled": false
   },
   "outputs": [],
   "source": [
    "import matplotlib.pyplot as plt\n",
    "fig, ax = plt.subplots(figsize=(10, 8))\n",
    "plt.show(sc.pl.umap(adata, color=[\"bucket\"], ax=ax))"
   ]
  },
  {
   "cell_type": "markdown",
   "id": "98011657",
   "metadata": {},
   "source": [
    "Plotting a donor_id colored umap."
   ]
  },
  {
   "cell_type": "code",
   "execution_count": null,
   "id": "d7825be5",
   "metadata": {
    "scrolled": false
   },
   "outputs": [],
   "source": [
    "sc.pl.umap(adata, save=\".png\", color=[\"donor_identity\", \"donor_id\"])"
   ]
  },
  {
   "cell_type": "markdown",
   "id": "09fb4550",
   "metadata": {},
   "source": [
    "Excluding cells that had no donor_id and plot them."
   ]
  },
  {
   "cell_type": "code",
   "execution_count": null,
   "id": "41d72b65",
   "metadata": {
    "scrolled": false
   },
   "outputs": [],
   "source": [
    "adata_donor_assigned = adata[~(adata.obs['donor_identity'] == 'negative'), :]\n",
    "print(adata_donor_assigned.obs)\n",
    "fig, ax = plt.subplots(figsize=(10, 8))\n",
    "plt.show(sc.pl.umap(adata_donor_assigned, color=[\"bucket\"], ax=ax))"
   ]
  },
  {
   "cell_type": "markdown",
   "id": "e7a9bb80",
   "metadata": {},
   "source": [
    "Used Xichens doublet prediction to filter out doublets."
   ]
  },
  {
   "cell_type": "code",
   "execution_count": null,
   "id": "a5530079",
   "metadata": {
    "scrolled": false
   },
   "outputs": [],
   "source": [
    "adata_donor_assigned_no_doublets = adata_donor_assigned[~(adata_donor_assigned.obs['donor_identity'] == 'doublet'), :]\n",
    "print(adata_donor_assigned_no_doublets)"
   ]
  },
  {
   "cell_type": "code",
   "execution_count": null,
   "id": "a966145d",
   "metadata": {
    "scrolled": true
   },
   "outputs": [],
   "source": [
    "fig, ax = plt.subplots(figsize=(10, 8))\n",
    "plt.show(sc.pl.umap(adata_donor_assigned_no_doublets, color=[\"bucket\"], ax=ax))"
   ]
  },
  {
   "cell_type": "code",
   "execution_count": null,
   "id": "f81eee97",
   "metadata": {},
   "outputs": [],
   "source": [
    "fig, ax = plt.subplots(figsize=(10, 8))\n",
    "plt.show(sc.pl.umap(adata_donor_assigned_no_doublets, color=[\"lowres_cluster_label\"], ax=ax))"
   ]
  },
  {
   "cell_type": "code",
   "execution_count": null,
   "id": "2704c23a",
   "metadata": {
    "scrolled": true
   },
   "outputs": [],
   "source": [
    "fig, ax = plt.subplots(figsize=(10, 8))\n",
    "plt.show(sc.pl.umap(adata_donor_assigned_no_doublets, color=[\"cluster_label\"], ax=ax))"
   ]
  },
  {
   "cell_type": "markdown",
   "id": "d320f4ce",
   "metadata": {},
   "source": [
    "Plotting doublet parameters after removal of Xichens doublets and unassigned."
   ]
  },
  {
   "cell_type": "code",
   "execution_count": null,
   "id": "8ffc896f",
   "metadata": {
    "scrolled": true
   },
   "outputs": [],
   "source": [
    "sc.pl.umap(adata_donor_assigned_no_doublets, color=['doublet_score', 'n_genes_by_counts', 'n_genes', 'doublet_classification_pipeline'])"
   ]
  },
  {
   "cell_type": "markdown",
   "id": "bfd5edbf",
   "metadata": {},
   "source": [
    "Plotting leiden clusters."
   ]
  },
  {
   "cell_type": "code",
   "execution_count": null,
   "id": "72d74ecc",
   "metadata": {
    "scrolled": false
   },
   "outputs": [],
   "source": [
    "sc.pl.umap(adata, color=['leiden'])"
   ]
  },
  {
   "cell_type": "markdown",
   "id": "2aba8de9",
   "metadata": {},
   "source": [
    "Showing ranked genes by t-test."
   ]
  },
  {
   "cell_type": "code",
   "execution_count": null,
   "id": "4dc02e57",
   "metadata": {
    "scrolled": false
   },
   "outputs": [],
   "source": [
    "sc.tl.rank_genes_groups(adata, 'leiden', method='t-test')\n",
    "sc.pl.rank_genes_groups(adata, n_genes=25, sharey=False)"
   ]
  },
  {
   "cell_type": "code",
   "execution_count": null,
   "id": "cb3f90d9",
   "metadata": {},
   "outputs": [],
   "source": [
    "sc.settings.verbosity = 2  # reduce the verbosity"
   ]
  },
  {
   "cell_type": "markdown",
   "id": "26878cfe",
   "metadata": {},
   "source": [
    "Showing ranked genes by wilcoxon."
   ]
  },
  {
   "cell_type": "code",
   "execution_count": null,
   "id": "4ddceaee",
   "metadata": {
    "scrolled": true
   },
   "outputs": [],
   "source": [
    "sc.tl.rank_genes_groups(adata, 'leiden', method='wilcoxon')\n",
    "sc.pl.rank_genes_groups(adata, n_genes=25, sharey=False)"
   ]
  },
  {
   "cell_type": "markdown",
   "id": "5a5137d9",
   "metadata": {},
   "source": [
    "Plotting different leiden resolutions."
   ]
  },
  {
   "cell_type": "code",
   "execution_count": null,
   "id": "ba4a97e7",
   "metadata": {
    "scrolled": true
   },
   "outputs": [],
   "source": [
    "sc.pl.umap(\n",
    "    adata,\n",
    "    color=[\"leiden_res0_25\", \"leiden_res0_5\", \"leiden_res1\", \"leiden_res2\"],\n",
    "    legend_loc=\"on data\",\n",
    ")"
   ]
  },
  {
   "cell_type": "markdown",
   "id": "5b4b610d",
   "metadata": {},
   "source": [
    "Looking more closely at the new leiden cluster 18 with QC parameters. "
   ]
  },
  {
   "cell_type": "code",
   "execution_count": null,
   "id": "3742e6bf",
   "metadata": {},
   "outputs": [],
   "source": [
    "cluster_18 = adata.obs[adata.obs['leiden'] == '18']"
   ]
  },
  {
   "cell_type": "code",
   "execution_count": null,
   "id": "f6cf3958",
   "metadata": {
    "scrolled": false
   },
   "outputs": [],
   "source": [
    "cluster_18['doublet_score'].describe()"
   ]
  },
  {
   "cell_type": "code",
   "execution_count": null,
   "id": "0761a083",
   "metadata": {},
   "outputs": [],
   "source": [
    "adata.obs['doublet_score'].describe()"
   ]
  },
  {
   "cell_type": "code",
   "execution_count": null,
   "id": "0191a610",
   "metadata": {
    "scrolled": false
   },
   "outputs": [],
   "source": [
    "cluster_18['n_genes_by_counts'].describe()"
   ]
  },
  {
   "cell_type": "code",
   "execution_count": null,
   "id": "6b44ada7",
   "metadata": {},
   "outputs": [],
   "source": [
    "adata.obs['n_genes_by_counts'].describe()"
   ]
  },
  {
   "cell_type": "code",
   "execution_count": null,
   "id": "90cc37e7",
   "metadata": {
    "scrolled": true
   },
   "outputs": [],
   "source": [
    "cluster_18['n_genes'].describe()"
   ]
  },
  {
   "cell_type": "code",
   "execution_count": null,
   "id": "7d99241b",
   "metadata": {
    "scrolled": false
   },
   "outputs": [],
   "source": [
    "adata.obs['n_genes'].describe()"
   ]
  },
  {
   "cell_type": "markdown",
   "id": "0dac8373",
   "metadata": {},
   "source": [
    "Showing that there are no NaN values or NA in the original metadata from the gx12-cells in the 'bucket' category. This means that all NaN values (all grey cells in the umap) are new cells."
   ]
  },
  {
   "cell_type": "code",
   "execution_count": null,
   "id": "3e8f3abf",
   "metadata": {
    "scrolled": false
   },
   "outputs": [],
   "source": [
    "number_nan_meta_all = obs_meta_all['bucket'].isna().sum()\n",
    "print('Number of NaN values:', number_nan_meta_all)"
   ]
  },
  {
   "cell_type": "code",
   "execution_count": null,
   "id": "5640cd5d",
   "metadata": {},
   "outputs": [],
   "source": [
    "unique_values_gx12_bucket = obs_meta_all_gx12['bucket'].unique()\n",
    "print(unique_values_gx12_bucket)"
   ]
  },
  {
   "cell_type": "code",
   "execution_count": null,
   "id": "b971f79c",
   "metadata": {},
   "outputs": [],
   "source": [
    "sc.tl.rank_genes_groups(adata, 'leiden_res0_25', method='t-test')\n",
    "sc.pl.rank_genes_groups(adata, n_genes=25, sharey=False)"
   ]
  },
  {
   "cell_type": "raw",
   "id": "3e79240d",
   "metadata": {},
   "source": [
    "Neurons are probably cluster 1 and 5 in leiden 0.25 (and maybe 2 and 9). Now trying to create a ratio of the NaN cells in this cluster."
   ]
  },
  {
   "cell_type": "code",
   "execution_count": null,
   "id": "fe71d638",
   "metadata": {
    "scrolled": true
   },
   "outputs": [],
   "source": [
    "neurons_old = adata_donor_assigned_no_doublets[(adata_donor_assigned_no_doublets.obs['bucket'] == 'neurons'), :]\n",
    "print(neurons_old)\n",
    "\n",
    "neurons_new_1 = adata_donor_assigned_no_doublets[(adata_donor_assigned_no_doublets.obs['leiden_res0_25'] == '1'), :]\n",
    "print(neurons_new_1)\n",
    "neurons_new_5 = adata_donor_assigned_no_doublets[(adata_donor_assigned_no_doublets.obs['leiden_res0_25'] == '5'), :]\n",
    "print(neurons_new_5)"
   ]
  },
  {
   "cell_type": "code",
   "execution_count": null,
   "id": "2bcd22c8",
   "metadata": {},
   "outputs": [],
   "source": [
    "ratio_new_old_neurons = (((len(neurons_new_1.obs) + len(neurons_new_5.obs)) / len(neurons_old.obs)) * 100) - 100\n",
    "print(\"We have found\", ratio_new_old_neurons, \"percent more neurons than in the original count.\")"
   ]
  },
  {
   "cell_type": "code",
   "execution_count": null,
   "id": "bd2fd5dc",
   "metadata": {},
   "outputs": [],
   "source": [
    "import anndata as ad\n",
    "neurons_new = ad.concat([neurons_new_1, neurons_new_5], axis=0)"
   ]
  },
  {
   "cell_type": "markdown",
   "id": "9f59125c",
   "metadata": {},
   "source": [
    "Comparing the old neuron clusters with the new cells in these clusters."
   ]
  },
  {
   "cell_type": "code",
   "execution_count": null,
   "id": "7ab79f77",
   "metadata": {
    "scrolled": false
   },
   "outputs": [],
   "source": [
    "sc.pl.umap(\n",
    "    neurons_new, save=\".png\",\n",
    "    color=[\"bucket\"]\n",
    ")"
   ]
  },
  {
   "cell_type": "code",
   "execution_count": null,
   "id": "c3c0ce38",
   "metadata": {},
   "outputs": [],
   "source": [
    "fig, ax = plt.subplots(figsize=(10, 8))\n",
    "plt.show(sc.pl.umap(adata_donor_assigned_no_doublets, color=[\"cluster_label\"], ax=ax))"
   ]
  },
  {
   "cell_type": "code",
   "execution_count": null,
   "id": "7e05edae",
   "metadata": {
    "scrolled": true
   },
   "outputs": [],
   "source": [
    "sc.pl.dotplot(adata_donor_assigned_no_doublets, [\"SNAP25\", \"GABRB2\", \"SYT1\", \"CUX2\", \"VIP\", \"RORB\", \"THY1\", \"TLE4\", \"NRGN\"], groupby='leiden_res0_25')"
   ]
  },
  {
   "cell_type": "markdown",
   "id": "fb35f2bb",
   "metadata": {},
   "source": [
    "Plotting a small overview of all leiden 0.25 clusters with 3 dotplots with different genes included."
   ]
  },
  {
   "cell_type": "code",
   "execution_count": null,
   "id": "65dce6ec",
   "metadata": {
    "scrolled": false
   },
   "outputs": [],
   "source": [
    "sc.pl.dotplot(adata_donor_assigned_no_doublets, [\"SNAP25\",\n",
    "                                                 \"GABRB2\",\n",
    "                                                 \"SYT1\",\n",
    "                                                 \"CUX2\",\n",
    "                                                 \"VIP\",\n",
    "                                                 \"RORB\",\n",
    "                                                 \"THY1\",\n",
    "                                                 \"TLE4\",\n",
    "                                                 \"NRGN\",\n",
    "                                                 \"SLC17A7\",\n",
    "                                                 \"GAD2\",\n",
    "                                                 \"AQP4\",\n",
    "                                                 \"GFAP\",\n",
    "                                                 \"GLUL\",\n",
    "                                                 \"PTPRC\",\n",
    "                                                 \"PDGFRA\",\n",
    "                                                 \"OPALIN\",\n",
    "                                                 \"PLP1\",\n",
    "                                                 \"FTL\",\n",
    "                                                 \"PDGFRB\",\n",
    "\"NOTCH3\",\n",
    "\"MZB1\",\n",
    "\"SDC1\",\n",
    "\"PRDM1\",\n",
    "\"LAMA2\",\n",
    "                                                ], color_map='Greens',groupby='leiden_res0_25')"
   ]
  },
  {
   "cell_type": "code",
   "execution_count": null,
   "id": "1c60151c",
   "metadata": {
    "scrolled": true
   },
   "outputs": [],
   "source": [
    "sc.pl.umap(\n",
    "    adata,\n",
    "    color=[\"leiden_res0_25\", \"bucket\"],\n",
    "    legend_loc=\"on data\", save=\"leiden025_bucket.png\"\n",
    ")"
   ]
  },
  {
   "cell_type": "code",
   "execution_count": null,
   "id": "1852b0f1",
   "metadata": {
    "scrolled": false
   },
   "outputs": [],
   "source": [
    "sc.pl.dotplot(adata_donor_assigned_no_doublets, [\n",
    "\"AQP4\",\n",
    "\"GFAP\",\n",
    "\"GLUL\",\n",
    "\"IGHG1\",\n",
    "\"ICAM2\",\n",
    "\"SLC17A7\",\n",
    "\"GAD2\",\n",
    "\"PTPRC\",\n",
    "\"MSR1\",\n",
    "\"FTL\",\n",
    "\"SNAP25\",\n",
    "\"GABRB2\",\n",
    "\"SYT1\",\n",
    "\"CUX2\",\n",
    "\"VIP\",\n",
    "\"RORB\",\n",
    "\"THY1\",\n",
    "\"TLE4\",\n",
    "\"VIP\",\n",
    "\"NRGN\",\n",
    "\"PDGFRA\",\n",
    "\"OPALIN\",\n",
    "\"PDGFRB\",\n",
    "\"NOTCH3\",\n",
    "\"MZB1\",\n",
    "\"SDC1\",\n",
    "\"PRDM1\",\n",
    "\"LAMA2\",\n",
    "\"PLP1\",\n",
    "\"MBP\"\n",
    "                                                ], color_map='Greens', groupby='leiden_res0_25')"
   ]
  },
  {
   "cell_type": "code",
   "execution_count": null,
   "id": "91695047",
   "metadata": {},
   "outputs": [],
   "source": [
    "sc.pl.dotplot(adata_donor_assigned_no_doublets, [\n",
    "\"AQP4\",\n",
    "\"GFAP\",\n",
    "\"GLUL\",\n",
    "\"IGHG1\",\n",
    "\"ICAM2\",\n",
    "\"SLC17A7\",\n",
    "\"GAD2\",\n",
    "\"PTPRC\",\n",
    "\"MSR1\",\n",
    "\"FTL\",\n",
    "\"SNAP25\",\n",
    "\"GABRB2\",\n",
    "\"SYT1\",\n",
    "\"CUX2\",\n",
    "\"VIP\",\n",
    "\"RORB\",\n",
    "\"THY1\",\n",
    "\"TLE4\",\n",
    "\"VIP\",\n",
    "\"NRGN\",\n",
    "\"PDGFRA\",\n",
    "\"OPALIN\",\n",
    "\"PDGFRB\",\n",
    "\"NOTCH3\",\n",
    "\"MZB1\",\n",
    "\"SDC1\",\n",
    "\"PRDM1\",\n",
    "\"LAMA2\",\n",
    "\"PLP1\",\n",
    "\"MBP\"\n",
    "                                                ], color_map='Greens', groupby='leiden_res0_25')"
   ]
  },
  {
   "cell_type": "code",
   "execution_count": null,
   "id": "7b35e002",
   "metadata": {
    "scrolled": true
   },
   "outputs": [],
   "source": [
    "adata_donor_assigned_no_doublets_nan_rows = adata_donor_assigned_no_doublets.obs['bucket'].isna()\n",
    "adata_donor_assigned_no_doublets_nan = adata_donor_assigned_no_doublets[adata_donor_assigned_no_doublets_nan_rows, :]\n",
    "adata_donor_assigned_no_doublets_nan"
   ]
  },
  {
   "cell_type": "code",
   "execution_count": null,
   "id": "aa0bdd34",
   "metadata": {},
   "outputs": [],
   "source": [
    "adata_donor_assigned_no_doublets_not_nan_rows = adata_donor_assigned_no_doublets.obs['bucket'].notna()\n",
    "adata_donor_assigned_no_doublets_not_nan = adata_donor_assigned_no_doublets[adata_donor_assigned_no_doublets_not_nan_rows, :]\n",
    "adata_donor_assigned_no_doublets_not_nan"
   ]
  },
  {
   "cell_type": "code",
   "execution_count": null,
   "id": "a89f545c",
   "metadata": {
    "scrolled": false
   },
   "outputs": [],
   "source": [
    "sc.pl.dotplot(adata_donor_assigned_no_doublets_not_nan, [\n",
    "\"AQP4\",\n",
    "\"GFAP\",\n",
    "\"GLUL\",\n",
    "\"IGHG1\",\n",
    "\"ICAM2\",\n",
    "\"SLC17A7\",\n",
    "\"GAD2\",\n",
    "\"PTPRC\",\n",
    "\"MSR1\",\n",
    "\"FTL\",\n",
    "\"SNAP25\",\n",
    "\"GABRB2\",\n",
    "\"SYT1\",\n",
    "\"CUX2\",\n",
    "\"VIP\",\n",
    "\"RORB\",\n",
    "\"THY1\",\n",
    "\"TLE4\",\n",
    "\"VIP\",\n",
    "\"NRGN\",\n",
    "\"PDGFRA\",\n",
    "\"OPALIN\",\n",
    "\"PDGFRB\",\n",
    "\"NOTCH3\",\n",
    "\"MZB1\",\n",
    "\"SDC1\",\n",
    "\"PRDM1\",\n",
    "\"LAMA2\",\n",
    "\"PLP1\",\n",
    "\"MBP\"\n",
    "                                                ], color_map='Reds', groupby='cluster_label')"
   ]
  },
  {
   "cell_type": "code",
   "execution_count": null,
   "id": "3af0d2c1",
   "metadata": {
    "scrolled": false
   },
   "outputs": [],
   "source": [
    "sc.pl.dotplot(adata_donor_assigned_no_doublets_nan, [\n",
    "\"AQP4\",\n",
    "\"GFAP\",\n",
    "\"GLUL\",\n",
    "\"IGHG1\",\n",
    "\"ICAM2\",\n",
    "\"SLC17A7\",\n",
    "\"GAD2\",\n",
    "\"PTPRC\",\n",
    "\"MSR1\",\n",
    "\"FTL\",\n",
    "\"SNAP25\",\n",
    "\"GABRB2\",\n",
    "\"SYT1\",\n",
    "\"CUX2\",\n",
    "\"VIP\",\n",
    "\"RORB\",\n",
    "\"THY1\",\n",
    "\"TLE4\",\n",
    "\"VIP\",\n",
    "\"NRGN\",\n",
    "\"PDGFRA\",\n",
    "\"OPALIN\",\n",
    "\"PDGFRB\",\n",
    "\"NOTCH3\",\n",
    "\"MZB1\",\n",
    "\"SDC1\",\n",
    "\"PRDM1\",\n",
    "\"LAMA2\",\n",
    "\"PLP1\",\n",
    "\"MBP\"\n",
    "                                                ], color_map='Blues', groupby='leiden')"
   ]
  },
  {
   "cell_type": "markdown",
   "id": "2a15a573",
   "metadata": {},
   "source": [
    "Big overview for cell Markers."
   ]
  },
  {
   "cell_type": "code",
   "execution_count": null,
   "id": "e2b62637",
   "metadata": {
    "scrolled": false
   },
   "outputs": [],
   "source": [
    "sc.pl.dotplot(adata_donor_assigned_no_doublets, ['GJA1', 'AQP4', 'SLC1A2', 'GPC5', 'GFAP',\n",
    "'CD44', 'GLUL', 'KCNJ10', 'BCL6', 'HSP90AA1',\n",
    "'FAIM2', 'ATF4', 'UBB', 'BCAS1', 'SGMS1',\n",
    "'KCNJ10', 'SEMA6A', 'GLDN', 'FOS', 'LINC01088',\n",
    "'SLC1A2', 'SLC1A3', 'RFX4', 'GPC5', 'CD44',\n",
    "'IGHG1', 'CLDN5', 'ICAM2', 'SLC17A7', 'GAD2',\n",
    "'PTPRC', 'MSR1', 'P2RY12', 'MBP', 'ASAH1',\n",
    "'ACSL1', 'DPYD', 'CD68', 'FTL', 'SPP1',\n",
    "'SYNDIG1', 'KCNQ3', 'AIF1', 'SNAP25', 'GABRB2',\n",
    "'SYT1', 'CUX2', 'VIP', 'RORB', 'THY1',\n",
    "'TLE4', 'VIP', 'PPIA', 'RBFOX3', 'SATB2',\n",
    "'GAD1', 'PVALB', 'SST', 'SV2C', 'NRGN',\n",
    "'PDGFRA', 'BCAN', 'SOX6', 'CDH20', 'RBFOX1',\n",
    "'LURAP1L-AS1', 'CDH19', 'KLK6', 'GJB1', 'OPALIN',\n",
    "'LINC00844', 'PLP1',\n",
    "'FTL', 'FTH1', 'B2M', 'HLA-C', 'CNP',\n",
    "'PDGFRB', 'NOTCH3', 'MZB1', 'SDC1', 'PRDM1',\n",
    "'LAMA2', 'SKAP1', 'PRF1', 'ITGA4', 'TRAC',\n",
    "'CXCR4', 'CCL5', 'PLP1', 'MBP', 'CLDN11',\n",
    "'ST18', 'MSR1', 'TFEC', 'RUNX2', 'SRGN',\n",
    "'CD14', 'FTL', 'C1QA', 'C1QB', 'C1QC',\n",
    "'P2RY12', 'PTPRJ', 'RUNX1', 'BACH1',\n",
    "'TGFBR2', 'IFI16', 'IL18', 'CSF1R', 'C3',\n",
    "'SYK', 'SRGAP2', 'FGD4', 'ALOX5',\n",
    "'CTSC', 'SPP1', 'CD74', 'HLA-DRB1',\n",
    "'HLA-DRA', 'MAFG', 'NFE2L2',\n",
    "'MAT2A', 'CSF2RB', 'CSF2RA', 'CTLA4',\n",
    "'TIGIT', 'CD69', 'IL23R', 'KLRB1',\n",
    "'CD19', 'MS4A1', 'HBG2', 'HBB', 'RPS6',\n",
    "'RPLP1', 'TFRC', 'HBA1', 'HBA2', 'IGHM',\n",
    "'MKI67', 'TUBA1B', 'STMN1', 'IGHA1', 'IGHG1',\n",
    "'IGHG2', 'IGHG3', 'IGHG4', 'TNFRSF13B', 'XBP1', 'SLAMF7']\n",
    "\n",
    "                                                , color_map='Greens', groupby='leiden')"
   ]
  },
  {
   "cell_type": "markdown",
   "id": "6854b418",
   "metadata": {},
   "source": [
    "Replotted leiden and bucket for reference."
   ]
  },
  {
   "cell_type": "code",
   "execution_count": null,
   "id": "873c7b17",
   "metadata": {
    "scrolled": true
   },
   "outputs": [],
   "source": [
    "sc.pl.umap(\n",
    "    adata_donor_assigned_no_doublets,\n",
    "    color=[\"leiden\", \"bucket\"],\n",
    "    legend_loc=\"on data\",\n",
    ")"
   ]
  },
  {
   "cell_type": "code",
   "execution_count": null,
   "id": "2cd6dc51",
   "metadata": {},
   "outputs": [],
   "source": [
    "adata.obs['newold'] = np.where(pd.isna(adata.obs['bucket']), 'new', 'old')\n",
    "adata.obs[\"leiden_new_old\"]=adata.obs['leiden'].str.cat(adata.obs['newold'], sep='_')\n",
    "adata.obs[\"leiden_res0_25_new_old\"]=adata.obs['leiden_res0_25'].str.cat(adata.obs['newold'], sep='_')\n",
    "adata_donor_assigned_no_doublets.obs['newold'] = np.where(pd.isna(adata_donor_assigned_no_doublets.obs['bucket']), 'new', 'old')\n",
    "adata_donor_assigned_no_doublets.obs[\"leiden_new_old\"]=adata_donor_assigned_no_doublets.obs['leiden'].str.cat(adata_donor_assigned_no_doublets.obs['newold'], sep='_')\n",
    "adata_donor_assigned_no_doublets.obs[\"leiden_res0_25_new_old\"]=adata_donor_assigned_no_doublets.obs['leiden_res0_25'].str.cat(adata_donor_assigned_no_doublets.obs['newold'], sep='_')"
   ]
  },
  {
   "cell_type": "code",
   "execution_count": null,
   "id": "15efbad7",
   "metadata": {
    "scrolled": true
   },
   "outputs": [],
   "source": [
    "adata.obs"
   ]
  },
  {
   "cell_type": "markdown",
   "id": "0c0c7383",
   "metadata": {},
   "source": [
    "Showing dotplots comparing new and old cells."
   ]
  },
  {
   "cell_type": "code",
   "execution_count": null,
   "id": "64a01337",
   "metadata": {
    "scrolled": false
   },
   "outputs": [],
   "source": [
    "marker_genes = [\"AQP4\",\n",
    "\"GFAP\",\n",
    "\"GLUL\",\n",
    "\"IGHG1\",\n",
    "\"ICAM2\",\n",
    "\"SLC17A7\",\n",
    "\"GAD2\",\n",
    "\"PTPRC\",\n",
    "\"MSR1\",\n",
    "\"FTL\",\n",
    "\"SNAP25\",\n",
    "\"GABRB2\",\n",
    "\"SYT1\",\n",
    "\"CUX2\",\n",
    "\"VIP\",\n",
    "\"RORB\",\n",
    "\"THY1\",\n",
    "\"TLE4\",\n",
    "\"VIP\",\n",
    "\"NRGN\",\n",
    "\"PDGFRA\",\n",
    "\"OPALIN\",\n",
    "\"PDGFRB\",\n",
    "\"NOTCH3\",\n",
    "\"MZB1\",\n",
    "\"SDC1\",\n",
    "\"PRDM1\",\n",
    "\"LAMA2\",\n",
    "\"PLP1\",\n",
    "\"MBP\"]\n",
    "sc.pl.dotplot(adata_donor_assigned_no_doublets, marker_genes, color_map='Greens', save=\"new_old_leiden025.png\", groupby='leiden_res0_25_new_old')"
   ]
  },
  {
   "cell_type": "code",
   "execution_count": null,
   "id": "ddac9566",
   "metadata": {
    "scrolled": false
   },
   "outputs": [],
   "source": [
    "sc.pl.dotplot(adata_donor_assigned_no_doublets, marker_genes, color_map='Greens', save=\"new_old.png\", groupby='leiden_new_old')"
   ]
  },
  {
   "cell_type": "code",
   "execution_count": null,
   "id": "b34076b8",
   "metadata": {},
   "outputs": [],
   "source": [
    "sc.pl.dotplot(adata_donor_assigned_no_doublets, ['GJA1', 'AQP4', 'SLC1A2', 'GPC5', 'GFAP',\n",
    "'CD44', 'GLUL', 'KCNJ10', 'BCL6', 'HSP90AA1',\n",
    "'FAIM2', 'ATF4', 'UBB', 'BCAS1', 'SGMS1',\n",
    "'KCNJ10', 'SEMA6A', 'GLDN', 'FOS', 'LINC01088',\n",
    "'SLC1A2', 'SLC1A3', 'RFX4', 'GPC5', 'CD44',\n",
    "'IGHG1', 'CLDN5', 'ICAM2', 'SLC17A7', 'GAD2',\n",
    "'PTPRC', 'MSR1', 'P2RY12', 'MBP', 'ASAH1',\n",
    "'ACSL1', 'DPYD', 'CD68', 'FTL', 'SPP1',\n",
    "'SYNDIG1', 'KCNQ3', 'AIF1', 'SNAP25', 'GABRB2',\n",
    "'SYT1', 'CUX2', 'VIP', 'RORB', 'THY1',\n",
    "'TLE4', 'VIP', 'PPIA', 'RBFOX3', 'SATB2',\n",
    "'GAD1', 'PVALB', 'SST', 'SV2C', 'NRGN',\n",
    "'PDGFRA', 'BCAN', 'SOX6', 'CDH20', 'RBFOX1',\n",
    "'LURAP1L-AS1', 'CDH19', 'KLK6', 'GJB1', 'OPALIN',\n",
    "'LINC00844', 'PLP1',\n",
    "'FTL', 'FTH1', 'B2M', 'HLA-C', 'CNP',\n",
    "'PDGFRB', 'NOTCH3', 'MZB1', 'SDC1', 'PRDM1',\n",
    "'LAMA2', 'SKAP1', 'PRF1', 'ITGA4', 'TRAC',\n",
    "'CXCR4', 'CCL5', 'PLP1', 'MBP', 'CLDN11',\n",
    "'ST18', 'MSR1', 'TFEC', 'RUNX2', 'SRGN',\n",
    "'CD14', 'FTL', 'C1QA', 'C1QB', 'C1QC',\n",
    "'P2RY12', 'PTPRJ', 'RUNX1', 'BACH1',\n",
    "'TGFBR2', 'IFI16', 'IL18', 'CSF1R', 'C3',\n",
    "'SYK', 'SRGAP2', 'FGD4', 'ALOX5',\n",
    "'CTSC', 'SPP1', 'CD74', 'HLA-DRB1',\n",
    "'HLA-DRA', 'MAFG', 'NFE2L2',\n",
    "'MAT2A', 'CSF2RB', 'CSF2RA', 'CTLA4',\n",
    "'TIGIT', 'CD69', 'IL23R', 'KLRB1',\n",
    "'CD19', 'MS4A1', 'HBG2', 'HBB', 'RPS6',\n",
    "'RPLP1', 'TFRC', 'HBA1', 'HBA2', 'IGHM',\n",
    "'MKI67', 'TUBA1B', 'STMN1', 'IGHA1', 'IGHG1',\n",
    "'IGHG2', 'IGHG3', 'IGHG4', 'TNFRSF13B', 'XBP1', 'SLAMF7']\n",
    "\n",
    "                                                , color_map='Greens', groupby='leiden_res0_25')"
   ]
  },
  {
   "cell_type": "code",
   "execution_count": null,
   "id": "3e7f64d5",
   "metadata": {},
   "outputs": [],
   "source": [
    "marker_genes_dict = {\n",
    "    'Neurons': [\"SNAP25\", \"GABRB2\", \"SYT1\", \"CUX2\", \"VIP\", \"RORB\", \"THY1\", \"TLE4\", \"VIP\", \"NRGN\"],\n",
    "    'Excitatory Neurons': ['SLC17A7'],\n",
    "    'Inhibitory Neurons': ['GAD2'],\n",
    "    'Astrocytes': [\"AQP4\", \"GFAP\", \"GLUL\"],\n",
    "    'Oligodendrocytes': [\"PDGFRA\", \"OPALIN\", \"PLP1\", \"MBP\"],\n",
    "    'Endothelial cells': \"ICAM2\",\n",
    "    'Leukocytes': \"PTPRC\"\n",
    "}\n",
    "sc.pl.dotplot(adata_donor_assigned_no_doublets, marker_genes_dict,groupby='leiden_res0_25_new_old')"
   ]
  },
  {
   "cell_type": "markdown",
   "id": "b0f78ab1",
   "metadata": {},
   "source": [
    "Looking at the different doublet scores and n_genes to figure out differences as seen in the violin plot above."
   ]
  },
  {
   "cell_type": "code",
   "execution_count": null,
   "id": "1484dcdd",
   "metadata": {
    "scrolled": false
   },
   "outputs": [],
   "source": [
    "sc.pl.scatter(adata, x='n_genes', y='doublet_score')"
   ]
  },
  {
   "cell_type": "code",
   "execution_count": null,
   "id": "eb1bd5c8",
   "metadata": {
    "scrolled": true
   },
   "outputs": [],
   "source": [
    "sc.pl.scatter(adata, x='n_genes', y='paper_doublet_scores')"
   ]
  },
  {
   "cell_type": "code",
   "execution_count": null,
   "id": "d6097154",
   "metadata": {
    "scrolled": true
   },
   "outputs": [],
   "source": [
    "adata.var"
   ]
  },
  {
   "cell_type": "code",
   "execution_count": null,
   "id": "528d034e",
   "metadata": {},
   "outputs": [],
   "source": [
    "adata.obs"
   ]
  },
  {
   "cell_type": "code",
   "execution_count": null,
   "id": "f4a82841",
   "metadata": {},
   "outputs": [],
   "source": [
    "print(adata.obs.keys())"
   ]
  },
  {
   "cell_type": "code",
   "execution_count": null,
   "id": "6124426e",
   "metadata": {
    "scrolled": true
   },
   "outputs": [],
   "source": [
    "sc.pl.scatter(adata, x='doublet_score', y='paper_doublet_scores', color='doublet_classification_pipeline')"
   ]
  },
  {
   "cell_type": "code",
   "execution_count": null,
   "id": "7f1c0ada",
   "metadata": {},
   "outputs": [],
   "source": [
    "sc.pl.scatter(adata_old, x='doublet_score', y='paper_doublet_scores', color='doublet_classification_pipeline')"
   ]
  },
  {
   "cell_type": "code",
   "execution_count": null,
   "id": "c3457a71",
   "metadata": {},
   "outputs": [],
   "source": [
    "sc.pl.scatter(adata, x='doublet_score', y='paper_doublet_scores', color='n_genes')"
   ]
  },
  {
   "cell_type": "code",
   "execution_count": null,
   "id": "6f0c360e",
   "metadata": {},
   "outputs": [],
   "source": [
    "adata.obs['paper_predicted_doublets'] = adata.obs['paper_predicted_doublets'].astype(str)\n",
    "adata.write_h5ad('anndata_post_QC_ms_data_analysis_lennard_24042023_streamlined_with_hashing_info.h5ad')"
   ]
  },
  {
   "cell_type": "code",
   "execution_count": null,
   "id": "07b2ff4c",
   "metadata": {},
   "outputs": [],
   "source": [
    "sc.tl.rank_genes_groups(adata, 'bucket', method='t-test')\n",
    "sc.pl.rank_genes_groups(adata, n_genes=25, sharey=False)"
   ]
  },
  {
   "cell_type": "code",
   "execution_count": null,
   "id": "a873ee36",
   "metadata": {
    "scrolled": false
   },
   "outputs": [],
   "source": [
    "print(decontamination_matrix.T)"
   ]
  },
  {
   "cell_type": "code",
   "execution_count": null,
   "id": "d77f8ba6",
   "metadata": {},
   "outputs": [],
   "source": []
  },
  {
   "cell_type": "code",
   "execution_count": null,
   "id": "48ef6e6f",
   "metadata": {},
   "outputs": [],
   "source": []
  },
  {
   "cell_type": "code",
   "execution_count": null,
   "id": "b3b4de09",
   "metadata": {},
   "outputs": [],
   "source": []
  }
 ],
 "metadata": {
  "kernelspec": {
   "display_name": "DE",
   "language": "python",
   "name": "de"
  },
  "language_info": {
   "codemirror_mode": {
    "name": "ipython",
    "version": 3
   },
   "file_extension": ".py",
   "mimetype": "text/x-python",
   "name": "python",
   "nbconvert_exporter": "python",
   "pygments_lexer": "ipython3",
   "version": "3.9.15"
  }
 },
 "nbformat": 4,
 "nbformat_minor": 5
}
